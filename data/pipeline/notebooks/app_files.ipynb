{
 "cells": [
  {
   "cell_type": "markdown",
   "metadata": {},
   "source": [
    "# **Compromise Merged Orgas File**\n",
    "\n",
    "- Git max. file size = 100gb \n",
    "- Therefore the big table is devided in multiple smaller ones"
   ]
  },
  {
   "cell_type": "code",
   "execution_count": 2,
   "metadata": {},
   "outputs": [],
   "source": [
    "import pandas as pd"
   ]
  },
  {
   "cell_type": "markdown",
   "metadata": {},
   "source": [
    "## **Load Merged Orgas DF**"
   ]
  },
  {
   "cell_type": "code",
   "execution_count": 3,
   "metadata": {},
   "outputs": [
    {
     "data": {
      "text/html": [
       "<div>\n",
       "<style scoped>\n",
       "    .dataframe tbody tr th:only-of-type {\n",
       "        vertical-align: middle;\n",
       "    }\n",
       "\n",
       "    .dataframe tbody tr th {\n",
       "        vertical-align: top;\n",
       "    }\n",
       "\n",
       "    .dataframe thead th {\n",
       "        text-align: right;\n",
       "    }\n",
       "</style>\n",
       "<table border=\"1\" class=\"dataframe\">\n",
       "  <thead>\n",
       "    <tr style=\"text-align: right;\">\n",
       "      <th></th>\n",
       "      <th>iati_id</th>\n",
       "      <th>iati_orga_id</th>\n",
       "      <th>orga_abbreviation</th>\n",
       "      <th>orga_full_name</th>\n",
       "      <th>client</th>\n",
       "      <th>title_en</th>\n",
       "      <th>title_other</th>\n",
       "      <th>title_main</th>\n",
       "      <th>organization</th>\n",
       "      <th>country_code</th>\n",
       "      <th>...</th>\n",
       "      <th>actual_end</th>\n",
       "      <th>last_update</th>\n",
       "      <th>crs_5_code</th>\n",
       "      <th>crs_5_name</th>\n",
       "      <th>crs_3_code</th>\n",
       "      <th>crs_3_name</th>\n",
       "      <th>docs</th>\n",
       "      <th>title_and_description</th>\n",
       "      <th>sgd_pred_code</th>\n",
       "      <th>sgd_pred_str</th>\n",
       "    </tr>\n",
       "  </thead>\n",
       "  <tbody>\n",
       "    <tr>\n",
       "      <th>0</th>\n",
       "      <td>DE-1-201420207</td>\n",
       "      <td>DE-1</td>\n",
       "      <td>giz</td>\n",
       "      <td>Deutsche Gesellschaft für Internationale Zusam...</td>\n",
       "      <td>BMZ</td>\n",
       "      <td>Environmental and climate governance</td>\n",
       "      <td>Umwelt- und Klimagovernance</td>\n",
       "      <td>Environmental and climate governance</td>\n",
       "      <td>Bundesministerium für wirtschaftliche Zusammen...</td>\n",
       "      <td>['MA']</td>\n",
       "      <td>...</td>\n",
       "      <td>2022-06-30T00:00:00Z</td>\n",
       "      <td>2024-02-29T00:00:00Z</td>\n",
       "      <td>41010;</td>\n",
       "      <td>Environmental policy and administrative manage...</td>\n",
       "      <td>410;</td>\n",
       "      <td>General Environment Protection;</td>\n",
       "      <td>['https://www.giz.de/projektdaten/projects.act...</td>\n",
       "      <td>Environmental and climate governance. Public, ...</td>\n",
       "      <td>9</td>\n",
       "      <td>8    Goal 9. Build resilient infrastructure, p...</td>\n",
       "    </tr>\n",
       "  </tbody>\n",
       "</table>\n",
       "<p>1 rows × 30 columns</p>\n",
       "</div>"
      ],
      "text/plain": [
       "          iati_id iati_orga_id orga_abbreviation  \\\n",
       "0  DE-1-201420207         DE-1               giz   \n",
       "\n",
       "                                      orga_full_name client  \\\n",
       "0  Deutsche Gesellschaft für Internationale Zusam...    BMZ   \n",
       "\n",
       "                               title_en                  title_other  \\\n",
       "0  Environmental and climate governance  Umwelt- und Klimagovernance   \n",
       "\n",
       "                             title_main  \\\n",
       "0  Environmental and climate governance   \n",
       "\n",
       "                                        organization country_code  ...  \\\n",
       "0  Bundesministerium für wirtschaftliche Zusammen...       ['MA']  ...   \n",
       "\n",
       "             actual_end           last_update crs_5_code  \\\n",
       "0  2022-06-30T00:00:00Z  2024-02-29T00:00:00Z    41010;    \n",
       "\n",
       "                                          crs_5_name crs_3_code  \\\n",
       "0  Environmental policy and administrative manage...      410;    \n",
       "\n",
       "                         crs_3_name  \\\n",
       "0  General Environment Protection;    \n",
       "\n",
       "                                                docs  \\\n",
       "0  ['https://www.giz.de/projektdaten/projects.act...   \n",
       "\n",
       "                               title_and_description sgd_pred_code  \\\n",
       "0  Environmental and climate governance. Public, ...             9   \n",
       "\n",
       "                                        sgd_pred_str  \n",
       "0  8    Goal 9. Build resilient infrastructure, p...  \n",
       "\n",
       "[1 rows x 30 columns]"
      ]
     },
     "execution_count": 3,
     "metadata": {},
     "output_type": "execute_result"
    }
   ],
   "source": [
    "df = pd.read_csv(\"..\\..\\..\\src\\merged_orgas.csv\")\n",
    "df.head(1)"
   ]
  },
  {
   "cell_type": "code",
   "execution_count": 4,
   "metadata": {},
   "outputs": [
    {
     "data": {
      "text/plain": [
       "Index(['iati_id', 'iati_orga_id', 'orga_abbreviation', 'orga_full_name',\n",
       "       'client', 'title_en', 'title_other', 'title_main', 'organization',\n",
       "       'country_code', 'country', 'region', 'location', 'description_en',\n",
       "       'description_other', 'description_main', 'status', 'planned_start',\n",
       "       'actual_start', 'planned_end', 'actual_end', 'last_update',\n",
       "       'crs_5_code', 'crs_5_name', 'crs_3_code', 'crs_3_name', 'docs',\n",
       "       'title_and_description', 'sgd_pred_code', 'sgd_pred_str'],\n",
       "      dtype='object')"
      ]
     },
     "execution_count": 4,
     "metadata": {},
     "output_type": "execute_result"
    }
   ],
   "source": [
    "df.columns"
   ]
  },
  {
   "cell_type": "markdown",
   "metadata": {},
   "source": [
    "## **Create CRS DF**"
   ]
  },
  {
   "cell_type": "code",
   "execution_count": 5,
   "metadata": {},
   "outputs": [
    {
     "data": {
      "text/html": [
       "<div>\n",
       "<style scoped>\n",
       "    .dataframe tbody tr th:only-of-type {\n",
       "        vertical-align: middle;\n",
       "    }\n",
       "\n",
       "    .dataframe tbody tr th {\n",
       "        vertical-align: top;\n",
       "    }\n",
       "\n",
       "    .dataframe thead th {\n",
       "        text-align: right;\n",
       "    }\n",
       "</style>\n",
       "<table border=\"1\" class=\"dataframe\">\n",
       "  <thead>\n",
       "    <tr style=\"text-align: right;\">\n",
       "      <th></th>\n",
       "      <th>iati_id</th>\n",
       "      <th>iati_orga_id</th>\n",
       "      <th>orga_abbreviation</th>\n",
       "      <th>client</th>\n",
       "      <th>orga_full_name</th>\n",
       "      <th>title_main</th>\n",
       "      <th>country</th>\n",
       "      <th>description_main</th>\n",
       "      <th>status</th>\n",
       "      <th>crs_5_code</th>\n",
       "      <th>crs_3_code</th>\n",
       "    </tr>\n",
       "  </thead>\n",
       "  <tbody>\n",
       "    <tr>\n",
       "      <th>0</th>\n",
       "      <td>DE-1-201420207</td>\n",
       "      <td>DE-1</td>\n",
       "      <td>giz</td>\n",
       "      <td>BMZ</td>\n",
       "      <td>Deutsche Gesellschaft für Internationale Zusam...</td>\n",
       "      <td>Environmental and climate governance</td>\n",
       "      <td>MA;</td>\n",
       "      <td>Public, private and civil actors implement ele...</td>\n",
       "      <td>Finalisation</td>\n",
       "      <td>41010;</td>\n",
       "      <td>410;</td>\n",
       "    </tr>\n",
       "  </tbody>\n",
       "</table>\n",
       "</div>"
      ],
      "text/plain": [
       "          iati_id iati_orga_id orga_abbreviation client  \\\n",
       "0  DE-1-201420207         DE-1               giz    BMZ   \n",
       "\n",
       "                                      orga_full_name  \\\n",
       "0  Deutsche Gesellschaft für Internationale Zusam...   \n",
       "\n",
       "                             title_main country  \\\n",
       "0  Environmental and climate governance    MA;    \n",
       "\n",
       "                                    description_main        status crs_5_code  \\\n",
       "0  Public, private and civil actors implement ele...  Finalisation    41010;    \n",
       "\n",
       "  crs_3_code  \n",
       "0      410;   "
      ]
     },
     "execution_count": 5,
     "metadata": {},
     "output_type": "execute_result"
    }
   ],
   "source": [
    "crs_df = df[[\"iati_id\", \"iati_orga_id\", \"orga_abbreviation\", \"client\", \"orga_full_name\", \"title_main\", \"country\", \"description_main\", \"status\", \"crs_5_code\", \"crs_3_code\"]]\n",
    "crs_df.head(1)"
   ]
  },
  {
   "cell_type": "code",
   "execution_count": 6,
   "metadata": {},
   "outputs": [],
   "source": [
    "crs_df.to_csv(\"../../../app/src/crs_data.csv\", index=False)"
   ]
  },
  {
   "cell_type": "markdown",
   "metadata": {},
   "source": [
    "## **Create SDG DF**"
   ]
  },
  {
   "cell_type": "code",
   "execution_count": 8,
   "metadata": {},
   "outputs": [
    {
     "name": "stderr",
     "output_type": "stream",
     "text": [
      "C:\\Users\\UserNA6153\\AppData\\Local\\Temp\\ipykernel_22880\\2892414795.py:2: SettingWithCopyWarning: \n",
      "A value is trying to be set on a copy of a slice from a DataFrame.\n",
      "Try using .loc[row_indexer,col_indexer] = value instead\n",
      "\n",
      "See the caveats in the documentation: https://pandas.pydata.org/pandas-docs/stable/user_guide/indexing.html#returning-a-view-versus-a-copy\n",
      "  sdg_df['sgd_pred_code'] = sdg_df['sgd_pred_code'].astype('Int64')\n"
     ]
    },
    {
     "data": {
      "text/html": [
       "<div>\n",
       "<style scoped>\n",
       "    .dataframe tbody tr th:only-of-type {\n",
       "        vertical-align: middle;\n",
       "    }\n",
       "\n",
       "    .dataframe tbody tr th {\n",
       "        vertical-align: top;\n",
       "    }\n",
       "\n",
       "    .dataframe thead th {\n",
       "        text-align: right;\n",
       "    }\n",
       "</style>\n",
       "<table border=\"1\" class=\"dataframe\">\n",
       "  <thead>\n",
       "    <tr style=\"text-align: right;\">\n",
       "      <th></th>\n",
       "      <th>iati_id</th>\n",
       "      <th>iati_orga_id</th>\n",
       "      <th>orga_abbreviation</th>\n",
       "      <th>client</th>\n",
       "      <th>orga_full_name</th>\n",
       "      <th>title_main</th>\n",
       "      <th>country</th>\n",
       "      <th>description_main</th>\n",
       "      <th>status</th>\n",
       "      <th>sgd_pred_code</th>\n",
       "    </tr>\n",
       "  </thead>\n",
       "  <tbody>\n",
       "    <tr>\n",
       "      <th>0</th>\n",
       "      <td>DE-1-201420207</td>\n",
       "      <td>DE-1</td>\n",
       "      <td>giz</td>\n",
       "      <td>BMZ</td>\n",
       "      <td>Deutsche Gesellschaft für Internationale Zusam...</td>\n",
       "      <td>Environmental and climate governance</td>\n",
       "      <td>MA;</td>\n",
       "      <td>Public, private and civil actors implement ele...</td>\n",
       "      <td>Finalisation</td>\n",
       "      <td>9</td>\n",
       "    </tr>\n",
       "  </tbody>\n",
       "</table>\n",
       "</div>"
      ],
      "text/plain": [
       "          iati_id iati_orga_id orga_abbreviation client  \\\n",
       "0  DE-1-201420207         DE-1               giz    BMZ   \n",
       "\n",
       "                                      orga_full_name  \\\n",
       "0  Deutsche Gesellschaft für Internationale Zusam...   \n",
       "\n",
       "                             title_main country  \\\n",
       "0  Environmental and climate governance    MA;    \n",
       "\n",
       "                                    description_main        status  \\\n",
       "0  Public, private and civil actors implement ele...  Finalisation   \n",
       "\n",
       "   sgd_pred_code  \n",
       "0              9  "
      ]
     },
     "execution_count": 8,
     "metadata": {},
     "output_type": "execute_result"
    }
   ],
   "source": [
    "sdg_df = df[[\"iati_id\", \"iati_orga_id\", \"orga_abbreviation\", \"client\",\"orga_full_name\", \"title_main\", \"country\", \"description_main\", \"status\", \"sgd_pred_code\"]]\n",
    "sdg_df['sgd_pred_code'] = sdg_df['sgd_pred_code'].astype('Int64')\n",
    "sdg_df.head(1)"
   ]
  },
  {
   "cell_type": "code",
   "execution_count": 9,
   "metadata": {},
   "outputs": [],
   "source": [
    "sdg_df.to_csv(\"../../../app/src/sdg_data.csv\", index=False)"
   ]
  }
 ],
 "metadata": {
  "kernelspec": {
   "display_name": "pamb",
   "language": "python",
   "name": "python3"
  },
  "language_info": {
   "codemirror_mode": {
    "name": "ipython",
    "version": 3
   },
   "file_extension": ".py",
   "mimetype": "text/x-python",
   "name": "python",
   "nbconvert_exporter": "python",
   "pygments_lexer": "ipython3",
   "version": "3.10.13"
  }
 },
 "nbformat": 4,
 "nbformat_minor": 2
}
