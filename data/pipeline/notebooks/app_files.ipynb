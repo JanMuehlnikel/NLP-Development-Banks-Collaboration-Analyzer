{
 "cells": [
  {
   "cell_type": "markdown",
   "metadata": {},
   "source": [
    "# **Compromise Merged Orgas File**\n",
    "\n",
    "- Git max. file size = 100gb \n",
    "- Therefore the big table is devided in multiple smaller ones"
   ]
  },
  {
   "cell_type": "code",
   "execution_count": 1,
   "metadata": {},
   "outputs": [],
   "source": [
    "import pandas as pd"
   ]
  },
  {
   "cell_type": "markdown",
   "metadata": {},
   "source": [
    "## **Load Merged Orgas DF**"
   ]
  },
  {
   "cell_type": "code",
   "execution_count": 2,
   "metadata": {},
   "outputs": [
    {
     "name": "stderr",
     "output_type": "stream",
     "text": [
      "C:\\Users\\UserNA6153\\AppData\\Local\\Temp\\ipykernel_21056\\2767675415.py:1: DtypeWarning: Columns (4) have mixed types. Specify dtype option on import or set low_memory=False.\n",
      "  df = pd.read_csv(\"..\\..\\..\\src\\merged_orgas_.csv\")\n"
     ]
    },
    {
     "data": {
      "text/html": [
       "<div>\n",
       "<style scoped>\n",
       "    .dataframe tbody tr th:only-of-type {\n",
       "        vertical-align: middle;\n",
       "    }\n",
       "\n",
       "    .dataframe tbody tr th {\n",
       "        vertical-align: top;\n",
       "    }\n",
       "\n",
       "    .dataframe thead th {\n",
       "        text-align: right;\n",
       "    }\n",
       "</style>\n",
       "<table border=\"1\" class=\"dataframe\">\n",
       "  <thead>\n",
       "    <tr style=\"text-align: right;\">\n",
       "      <th></th>\n",
       "      <th>iati_id</th>\n",
       "      <th>iati_orga_id</th>\n",
       "      <th>orga_abbreviation</th>\n",
       "      <th>orga_full_name</th>\n",
       "      <th>project_number</th>\n",
       "      <th>title_en</th>\n",
       "      <th>title_other</th>\n",
       "      <th>title_main</th>\n",
       "      <th>organization</th>\n",
       "      <th>country_code</th>\n",
       "      <th>...</th>\n",
       "      <th>planned_end</th>\n",
       "      <th>actual_end</th>\n",
       "      <th>last_update</th>\n",
       "      <th>crs_5_code</th>\n",
       "      <th>crs_5_name</th>\n",
       "      <th>crs_3_code</th>\n",
       "      <th>crs_3_name</th>\n",
       "      <th>docs</th>\n",
       "      <th>sgd_pred_code</th>\n",
       "      <th>sgd_pred_str</th>\n",
       "    </tr>\n",
       "  </thead>\n",
       "  <tbody>\n",
       "    <tr>\n",
       "      <th>0</th>\n",
       "      <td>DE-1-199535469</td>\n",
       "      <td>DE-1</td>\n",
       "      <td>bmz</td>\n",
       "      <td>Bundesministerium für wirtschaftliche Zusammen...</td>\n",
       "      <td>1</td>\n",
       "      <td>Studies and Experts Fund</td>\n",
       "      <td>Studien- und Fachkräftefonds</td>\n",
       "      <td>Studies and Experts Fund</td>\n",
       "      <td>Bundesministerium für wirtschaftliche Zusammen...</td>\n",
       "      <td>['NA']</td>\n",
       "      <td>...</td>\n",
       "      <td>2026-12-31T00:00:00Z</td>\n",
       "      <td>2024-01-31T00:00:00Z</td>\n",
       "      <td>2024-01-31T00:00:00Z</td>\n",
       "      <td>43010;</td>\n",
       "      <td>Multisector aid;</td>\n",
       "      <td>430;</td>\n",
       "      <td>Other Multisector;</td>\n",
       "      <td>['https://www.giz.de/projektdaten/projects.act...</td>\n",
       "      <td>15.0</td>\n",
       "      <td>Goal 15. Protect, restore and promote sustaina...</td>\n",
       "    </tr>\n",
       "  </tbody>\n",
       "</table>\n",
       "<p>1 rows × 29 columns</p>\n",
       "</div>"
      ],
      "text/plain": [
       "          iati_id iati_orga_id orga_abbreviation  \\\n",
       "0  DE-1-199535469         DE-1               bmz   \n",
       "\n",
       "                                      orga_full_name project_number  \\\n",
       "0  Bundesministerium für wirtschaftliche Zusammen...              1   \n",
       "\n",
       "                   title_en                   title_other  \\\n",
       "0  Studies and Experts Fund  Studien- und Fachkräftefonds   \n",
       "\n",
       "                 title_main  \\\n",
       "0  Studies and Experts Fund   \n",
       "\n",
       "                                        organization country_code  ...  \\\n",
       "0  Bundesministerium für wirtschaftliche Zusammen...       ['NA']  ...   \n",
       "\n",
       "            planned_end            actual_end           last_update  \\\n",
       "0  2026-12-31T00:00:00Z  2024-01-31T00:00:00Z  2024-01-31T00:00:00Z   \n",
       "\n",
       "  crs_5_code         crs_5_name crs_3_code           crs_3_name  \\\n",
       "0    43010;   Multisector aid;       430;   Other Multisector;    \n",
       "\n",
       "                                                docs sgd_pred_code  \\\n",
       "0  ['https://www.giz.de/projektdaten/projects.act...          15.0   \n",
       "\n",
       "                                        sgd_pred_str  \n",
       "0  Goal 15. Protect, restore and promote sustaina...  \n",
       "\n",
       "[1 rows x 29 columns]"
      ]
     },
     "execution_count": 2,
     "metadata": {},
     "output_type": "execute_result"
    }
   ],
   "source": [
    "df = pd.read_csv(\"..\\..\\..\\src\\merged_orgas_.csv\")\n",
    "df.head(1)"
   ]
  },
  {
   "cell_type": "code",
   "execution_count": 5,
   "metadata": {},
   "outputs": [
    {
     "data": {
      "text/plain": [
       "Index(['iati_id', 'iati_orga_id', 'orga_abbreviation', 'orga_full_name',\n",
       "       'project_number', 'title_en', 'title_other', 'title_main',\n",
       "       'organization', 'country_code', 'country', 'region', 'location',\n",
       "       'description_en', 'description_other', 'description_main', 'status',\n",
       "       'planned_start', 'actual_start', 'planned_end', 'actual_end',\n",
       "       'last_update', 'crs_5_code', 'crs_5_name', 'crs_3_code', 'crs_3_name',\n",
       "       'docs', 'sgd_pred_code', 'sgd_pred_str'],\n",
       "      dtype='object')"
      ]
     },
     "execution_count": 5,
     "metadata": {},
     "output_type": "execute_result"
    }
   ],
   "source": [
    "df.columns"
   ]
  },
  {
   "cell_type": "markdown",
   "metadata": {},
   "source": [
    "## **Create CRS DF**"
   ]
  },
  {
   "cell_type": "code",
   "execution_count": 10,
   "metadata": {},
   "outputs": [
    {
     "data": {
      "text/html": [
       "<div>\n",
       "<style scoped>\n",
       "    .dataframe tbody tr th:only-of-type {\n",
       "        vertical-align: middle;\n",
       "    }\n",
       "\n",
       "    .dataframe tbody tr th {\n",
       "        vertical-align: top;\n",
       "    }\n",
       "\n",
       "    .dataframe thead th {\n",
       "        text-align: right;\n",
       "    }\n",
       "</style>\n",
       "<table border=\"1\" class=\"dataframe\">\n",
       "  <thead>\n",
       "    <tr style=\"text-align: right;\">\n",
       "      <th></th>\n",
       "      <th>iati_id</th>\n",
       "      <th>iati_orga_id</th>\n",
       "      <th>orga_abbreviation</th>\n",
       "      <th>orga_full_name</th>\n",
       "      <th>title_main</th>\n",
       "      <th>country</th>\n",
       "      <th>description_main</th>\n",
       "      <th>status</th>\n",
       "      <th>crs_5_code</th>\n",
       "      <th>crs_3_code</th>\n",
       "    </tr>\n",
       "  </thead>\n",
       "  <tbody>\n",
       "    <tr>\n",
       "      <th>0</th>\n",
       "      <td>DE-1-199535469</td>\n",
       "      <td>DE-1</td>\n",
       "      <td>bmz</td>\n",
       "      <td>Bundesministerium für wirtschaftliche Zusammen...</td>\n",
       "      <td>Studies and Experts Fund</td>\n",
       "      <td>NA;</td>\n",
       "      <td>Preparation and appraisal of technical coopera...</td>\n",
       "      <td>Closed</td>\n",
       "      <td>43010;</td>\n",
       "      <td>430;</td>\n",
       "    </tr>\n",
       "  </tbody>\n",
       "</table>\n",
       "</div>"
      ],
      "text/plain": [
       "          iati_id iati_orga_id orga_abbreviation  \\\n",
       "0  DE-1-199535469         DE-1               bmz   \n",
       "\n",
       "                                      orga_full_name  \\\n",
       "0  Bundesministerium für wirtschaftliche Zusammen...   \n",
       "\n",
       "                 title_main country  \\\n",
       "0  Studies and Experts Fund    NA;    \n",
       "\n",
       "                                    description_main  status crs_5_code  \\\n",
       "0  Preparation and appraisal of technical coopera...  Closed    43010;    \n",
       "\n",
       "  crs_3_code  \n",
       "0      430;   "
      ]
     },
     "execution_count": 10,
     "metadata": {},
     "output_type": "execute_result"
    }
   ],
   "source": [
    "crs_df = df[[\"iati_id\", \"iati_orga_id\", \"orga_abbreviation\", \"orga_full_name\", \"title_main\", \"country\", \"description_main\", \"status\", \"crs_5_code\", \"crs_3_code\"]]\n",
    "crs_df.head(1)"
   ]
  },
  {
   "cell_type": "code",
   "execution_count": 11,
   "metadata": {},
   "outputs": [],
   "source": [
    "crs_df.to_csv(\"../../../app/src/crs_data.csv\", index=False)"
   ]
  }
 ],
 "metadata": {
  "kernelspec": {
   "display_name": "pamb",
   "language": "python",
   "name": "python3"
  },
  "language_info": {
   "codemirror_mode": {
    "name": "ipython",
    "version": 3
   },
   "file_extension": ".py",
   "mimetype": "text/x-python",
   "name": "python",
   "nbconvert_exporter": "python",
   "pygments_lexer": "ipython3",
   "version": "3.10.13"
  }
 },
 "nbformat": 4,
 "nbformat_minor": 2
}
