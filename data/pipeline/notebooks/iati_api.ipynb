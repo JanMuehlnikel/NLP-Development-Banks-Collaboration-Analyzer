{
 "cells": [
  {
   "cell_type": "markdown",
   "metadata": {},
   "source": [
    "# **IATI Datastore API data collection**"
   ]
  },
  {
   "cell_type": "markdown",
   "metadata": {},
   "source": [
    "## **Dependencies**"
   ]
  },
  {
   "cell_type": "code",
   "execution_count": 2,
   "metadata": {},
   "outputs": [],
   "source": [
    "import requests\n",
    "import json\n",
    "from tqdm.notebook import tqdm\n",
    "\n",
    "from importlib.machinery import SourceFileLoader\n",
    "CONSTANTS = SourceFileLoader(\"CONSTANTS\", \"../../config/CONSTANTS.py\").load_module()\n",
    "KEYS = SourceFileLoader(\"KEYS\", \"../../config/KEYS.py\").load_module()\n"
   ]
  },
  {
   "cell_type": "markdown",
   "metadata": {},
   "source": [
    "## **Define relevant features**\n",
    "\n",
    "List of all elements found here: https://developer.iatistandard.org/api-details#api=datastore&operation=query \n",
    "\n",
    "Description of all elements found here: https://iatistandard.org/en/iati-standard/203/activity-standard/summary-table/"
   ]
  },
  {
   "cell_type": "code",
   "execution_count": 1,
   "metadata": {},
   "outputs": [
    {
     "ename": "NameError",
     "evalue": "name 'CONSTANTS' is not defined",
     "output_type": "error",
     "traceback": [
      "\u001b[1;31m---------------------------------------------------------------------------\u001b[0m",
      "\u001b[1;31mNameError\u001b[0m                                 Traceback (most recent call last)",
      "\u001b[1;32mC:\\Users\\USERNA~1\\AppData\\Local\\Temp/ipykernel_11272/529728768.py\u001b[0m in \u001b[0;36m<module>\u001b[1;34m\u001b[0m\n\u001b[1;32m----> 1\u001b[1;33m \u001b[0mfl_list\u001b[0m \u001b[1;33m=\u001b[0m \u001b[0mCONSTANTS\u001b[0m\u001b[1;33m.\u001b[0m\u001b[0mIATI_ATTRIBUTES\u001b[0m\u001b[1;33m\u001b[0m\u001b[1;33m\u001b[0m\u001b[0m\n\u001b[0m\u001b[0;32m      2\u001b[0m \u001b[0mfl_str\u001b[0m \u001b[1;33m=\u001b[0m \u001b[1;34m\",\"\u001b[0m\u001b[1;33m.\u001b[0m\u001b[0mjoin\u001b[0m\u001b[1;33m(\u001b[0m\u001b[0mfl_list\u001b[0m\u001b[1;33m)\u001b[0m\u001b[1;33m\u001b[0m\u001b[1;33m\u001b[0m\u001b[0m\n",
      "\u001b[1;31mNameError\u001b[0m: name 'CONSTANTS' is not defined"
     ]
    }
   ],
   "source": [
    "fl_list = CONSTANTS.IATI_ATTRIBUTES\n",
    "fl_str = \",\".join(fl_list)"
   ]
  },
  {
   "cell_type": "markdown",
   "metadata": {},
   "source": [
    "## **Fetch data from IATI Datastore**"
   ]
  },
  {
   "cell_type": "markdown",
   "metadata": {},
   "source": [
    "### Fetch as JSON"
   ]
  },
  {
   "cell_type": "code",
   "execution_count": 5,
   "metadata": {},
   "outputs": [],
   "source": [
    "##########\n",
    "# PARAMS #\n",
    "##########\n",
    "# Fill in the abbreviation for the document name and the IATI code to access the right data\n",
    "# abbreviation and codes can be found in the ./CONSTANTS.py or you can print out CONSTANTS.ORGANIZATIONS\n",
    "\n",
    "abbreviation = \"giz-non-bmz\"\n",
    "code = \"XM-DAC-5-52\""
   ]
  },
  {
   "cell_type": "code",
   "execution_count": 6,
   "metadata": {},
   "outputs": [
    {
     "data": {
      "application/vnd.jupyter.widget-view+json": {
       "model_id": "058b55069fad4efb923afd49a5f1e769",
       "version_major": 2,
       "version_minor": 0
      },
      "text/plain": [
       "0it [00:00, ?it/s]"
      ]
     },
     "metadata": {},
     "output_type": "display_data"
    },
    {
     "name": "stdout",
     "output_type": "stream",
     "text": [
      "Page: 0\n",
      "Page: 1\n",
      "Data downloaded and stored in src!'\n"
     ]
    }
   ],
   "source": [
    "url = \"https://api.iatistandard.org/datastore/activity/select\"\n",
    "query = {\n",
    "    \"q\": f'reporting_org_ref:(\"{code}\")',\n",
    "    \"start\": 0, \n",
    "    \"rows\": 1000,  # max 1000 rows per page\n",
    "    \"fl\": fl_str\n",
    "}\n",
    "\n",
    "headers = {\n",
    "    \"Ocp-Apim-Subscription-Key\": KEYS.IATI_KEY\n",
    "}\n",
    "\n",
    "try:\n",
    "    all_docs = []\n",
    "    page = 0\n",
    "    pbar = tqdm()\n",
    "\n",
    "    max_pages = 1\n",
    "    max_pages_avl = False\n",
    "    cur_page = -1\n",
    "\n",
    "    while True:\n",
    "        if cur_page < max_pages or max_pages_avl == False:\n",
    "            cur_page += 1\n",
    "            print(f\"Page: {page}\")\n",
    "            response = requests.get(url, params=query, headers=headers)\n",
    "            \n",
    "            if response.status_code == 200:\n",
    "                data = response.json()\n",
    "                docs = data.get(\"response\", {}).get(\"docs\", [])\n",
    "                if docs:\n",
    "                    all_docs.extend(docs)\n",
    "                    query[\"start\"] += len(docs)\n",
    "                    page += 1\n",
    "                    pbar.update(1)\n",
    "                else:\n",
    "                    break\n",
    "            else:\n",
    "                print(\"Error:\", response.status_code)\n",
    "                break\n",
    "        else:\n",
    "            break\n",
    "\n",
    "    pbar.close()\n",
    "\n",
    "    with open(f\"../../src/responses/response_{abbreviation}.json\", mode='w', encoding='utf-8') as file:\n",
    "        json.dump(all_docs, file, ensure_ascii=False, indent=4)\n",
    "        \n",
    "    print(\"Data downloaded and stored in src/responses/!'\")\n",
    "\n",
    "except requests.exceptions.RequestException as e:\n",
    "    print(\"Error:\", e)"
   ]
  }
 ],
 "metadata": {
  "kernelspec": {
   "display_name": "Python 3",
   "language": "python",
   "name": "python3"
  },
  "language_info": {
   "codemirror_mode": {
    "name": "ipython",
    "version": 3
   },
   "file_extension": ".py",
   "mimetype": "text/x-python",
   "name": "python",
   "nbconvert_exporter": "python",
   "pygments_lexer": "ipython3",
   "version": "3.10.0"
  }
 },
 "nbformat": 4,
 "nbformat_minor": 2
}
