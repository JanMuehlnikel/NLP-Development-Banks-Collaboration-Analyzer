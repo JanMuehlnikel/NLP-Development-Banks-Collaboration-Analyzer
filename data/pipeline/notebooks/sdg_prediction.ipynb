{
 "cells": [
  {
   "cell_type": "markdown",
   "metadata": {},
   "source": [
    "# **SDG Prediction**"
   ]
  },
  {
   "cell_type": "markdown",
   "metadata": {},
   "source": [
    "## **Dependencies**"
   ]
  },
  {
   "cell_type": "code",
   "execution_count": 30,
   "metadata": {},
   "outputs": [],
   "source": [
    "from transformers import pipeline\n",
    "import pandas as pd\n",
    "from tqdm import tqdm"
   ]
  },
  {
   "cell_type": "markdown",
   "metadata": {},
   "source": [
    "## **SDG Classifier**"
   ]
  },
  {
   "cell_type": "markdown",
   "metadata": {},
   "source": [
    "### Load Model\n",
    "\n",
    "Model predicts first 15 sdg\n",
    "\n",
    "https://huggingface.co/jonas/sdg_classifier_osdg"
   ]
  },
  {
   "cell_type": "code",
   "execution_count": 31,
   "metadata": {},
   "outputs": [],
   "source": [
    "pipe = pipeline(\"text-classification\", model=\"jonas/roberta-base-finetuned-sdg\")"
   ]
  },
  {
   "cell_type": "markdown",
   "metadata": {},
   "source": [
    "### Load CSV"
   ]
  },
  {
   "cell_type": "code",
   "execution_count": 32,
   "metadata": {},
   "outputs": [
    {
     "data": {
      "text/html": [
       "<div>\n",
       "<style scoped>\n",
       "    .dataframe tbody tr th:only-of-type {\n",
       "        vertical-align: middle;\n",
       "    }\n",
       "\n",
       "    .dataframe tbody tr th {\n",
       "        vertical-align: top;\n",
       "    }\n",
       "\n",
       "    .dataframe thead th {\n",
       "        text-align: right;\n",
       "    }\n",
       "</style>\n",
       "<table border=\"1\" class=\"dataframe\">\n",
       "  <thead>\n",
       "    <tr style=\"text-align: right;\">\n",
       "      <th></th>\n",
       "      <th>iati_id</th>\n",
       "      <th>iati_orga_id</th>\n",
       "      <th>orga_abbreviation</th>\n",
       "      <th>orga_full_name</th>\n",
       "      <th>title_en</th>\n",
       "      <th>title_other</th>\n",
       "      <th>title_main</th>\n",
       "      <th>organization</th>\n",
       "      <th>country_code</th>\n",
       "      <th>country</th>\n",
       "      <th>...</th>\n",
       "      <th>planned_end</th>\n",
       "      <th>actual_end</th>\n",
       "      <th>last_update</th>\n",
       "      <th>crs_5_code</th>\n",
       "      <th>crs_5_name</th>\n",
       "      <th>crs_3_code</th>\n",
       "      <th>crs_3_name</th>\n",
       "      <th>docs</th>\n",
       "      <th>sgd_pred_code</th>\n",
       "      <th>sgd_pred_str</th>\n",
       "    </tr>\n",
       "  </thead>\n",
       "  <tbody>\n",
       "    <tr>\n",
       "      <th>0</th>\n",
       "      <td>DE-1-198670044</td>\n",
       "      <td>DE-1</td>\n",
       "      <td>bmz</td>\n",
       "      <td>Bundesministerium für wirtschaftliche Zusammen...</td>\n",
       "      <td>NaN</td>\n",
       "      <td>Studien- und Fachkräftefonds I; Fonds d&amp;apos;E...</td>\n",
       "      <td>Studien- und Fachkräftefonds I; Fonds d&amp;apos;E...</td>\n",
       "      <td>Bundesministerium für wirtschaftliche Zusammen...</td>\n",
       "      <td>['CD']</td>\n",
       "      <td>CD;</td>\n",
       "      <td>...</td>\n",
       "      <td>2026-12-31T00:00:00Z</td>\n",
       "      <td>2024-01-31T00:00:00Z</td>\n",
       "      <td>2024-01-31T00:00:00Z</td>\n",
       "      <td>43010;</td>\n",
       "      <td>Multisector aid;</td>\n",
       "      <td>430;</td>\n",
       "      <td>Other Multisector;</td>\n",
       "      <td>['https://www.kfw-entwicklungsbank.de/Internat...</td>\n",
       "      <td>9</td>\n",
       "      <td>8    Goal 9. Build resilient infrastructure, p...</td>\n",
       "    </tr>\n",
       "  </tbody>\n",
       "</table>\n",
       "<p>1 rows × 28 columns</p>\n",
       "</div>"
      ],
      "text/plain": [
       "          iati_id iati_orga_id orga_abbreviation  \\\n",
       "0  DE-1-198670044         DE-1               bmz   \n",
       "\n",
       "                                      orga_full_name title_en  \\\n",
       "0  Bundesministerium für wirtschaftliche Zusammen...      NaN   \n",
       "\n",
       "                                         title_other  \\\n",
       "0  Studien- und Fachkräftefonds I; Fonds d&apos;E...   \n",
       "\n",
       "                                          title_main  \\\n",
       "0  Studien- und Fachkräftefonds I; Fonds d&apos;E...   \n",
       "\n",
       "                                        organization country_code country  \\\n",
       "0  Bundesministerium für wirtschaftliche Zusammen...       ['CD']    CD;    \n",
       "\n",
       "   ...           planned_end            actual_end           last_update  \\\n",
       "0  ...  2026-12-31T00:00:00Z  2024-01-31T00:00:00Z  2024-01-31T00:00:00Z   \n",
       "\n",
       "  crs_5_code         crs_5_name crs_3_code           crs_3_name  \\\n",
       "0    43010;   Multisector aid;       430;   Other Multisector;    \n",
       "\n",
       "                                                docs sgd_pred_code  \\\n",
       "0  ['https://www.kfw-entwicklungsbank.de/Internat...             9   \n",
       "\n",
       "                                        sgd_pred_str  \n",
       "0  8    Goal 9. Build resilient infrastructure, p...  \n",
       "\n",
       "[1 rows x 28 columns]"
      ]
     },
     "execution_count": 32,
     "metadata": {},
     "output_type": "execute_result"
    }
   ],
   "source": [
    "df = pd.read_csv(\"../../../src/transformed/transformed_bmz.csv\")\n",
    "df.head(1)"
   ]
  },
  {
   "cell_type": "markdown",
   "metadata": {},
   "source": [
    "### Load SDG CSV"
   ]
  },
  {
   "cell_type": "code",
   "execution_count": 33,
   "metadata": {},
   "outputs": [
    {
     "data": {
      "text/html": [
       "<div>\n",
       "<style scoped>\n",
       "    .dataframe tbody tr th:only-of-type {\n",
       "        vertical-align: middle;\n",
       "    }\n",
       "\n",
       "    .dataframe tbody tr th {\n",
       "        vertical-align: top;\n",
       "    }\n",
       "\n",
       "    .dataframe thead th {\n",
       "        text-align: right;\n",
       "    }\n",
       "</style>\n",
       "<table border=\"1\" class=\"dataframe\">\n",
       "  <thead>\n",
       "    <tr style=\"text-align: right;\">\n",
       "      <th></th>\n",
       "      <th>code</th>\n",
       "      <th>name</th>\n",
       "      <th>description</th>\n",
       "      <th>language</th>\n",
       "      <th>category</th>\n",
       "      <th>category-name</th>\n",
       "      <th>category-description</th>\n",
       "    </tr>\n",
       "  </thead>\n",
       "  <tbody>\n",
       "    <tr>\n",
       "      <th>0</th>\n",
       "      <td>1</td>\n",
       "      <td>Goal 1. End poverty in all its forms everywhere</td>\n",
       "      <td>NaN</td>\n",
       "      <td>en</td>\n",
       "      <td>NaN</td>\n",
       "      <td>NaN</td>\n",
       "      <td>NaN</td>\n",
       "    </tr>\n",
       "  </tbody>\n",
       "</table>\n",
       "</div>"
      ],
      "text/plain": [
       "   code                                             name  description  \\\n",
       "0     1  Goal 1. End poverty in all its forms everywhere          NaN   \n",
       "\n",
       "  language  category  category-name  category-description  \n",
       "0       en       NaN            NaN                   NaN  "
      ]
     },
     "execution_count": 33,
     "metadata": {},
     "output_type": "execute_result"
    }
   ],
   "source": [
    "sdg_df = pd.read_csv(\"../../../src/codelists/sdg_goals.csv\")\n",
    "sdg_df.head(1)"
   ]
  },
  {
   "cell_type": "markdown",
   "metadata": {},
   "source": [
    "### Apply Model"
   ]
  },
  {
   "cell_type": "code",
   "execution_count": null,
   "metadata": {},
   "outputs": [],
   "source": [
    "df[\"sgd_pred_code\"] = \"NaN\"\n",
    "df[\"sgd_pred_str\"] = \"NaN\"\n",
    "\n",
    "len_df = len(df)\n",
    "\n",
    "for index, row in tqdm(df.iterrows(), total=len_df, desc=\"Processing\"):\n",
    "    if index % 500 == 0:\n",
    "        print(f\"Debugger: {index} / {len_df}\")\n",
    "    descr_row = row['description_main']\n",
    "    try:\n",
    "        # nan in pandas is type float\n",
    "        # check if nan \n",
    "            if isinstance(descr_row, float):\n",
    "                df[\"sgd_pred_code\"][index] = \"NaN\"\n",
    "                df[\"sgd_pred_str\"][index] = \"NaN\"\n",
    "            else:\n",
    "                if len(descr_row) > 512:\n",
    "                    descr_row = descr_row[:512]\n",
    "                # use clf with description and predict sgd \n",
    "                pred = pipe(descr_row)\n",
    "                pred_str = pred[0][\"label\"]\n",
    "                pred_int = int(pred_str)\n",
    "\n",
    "                # Map sgd codes to names\n",
    "                sdg_translation = sdg_df.loc[sdg_df['code'] == pred_int, 'name']\n",
    "\n",
    "                df[\"sgd_pred_code\"][index] = pred_int\n",
    "                df[\"sgd_pred_str\"][index] = sdg_translation\n",
    "    except Exception as e:\n",
    "        print(f\"{e}: {descr_row}\")\n",
    "\n",
    "df.head()"
   ]
  },
  {
   "cell_type": "markdown",
   "metadata": {},
   "source": [
    "### With Batch processing\n",
    "\n",
    ">> Not faster!"
   ]
  },
  {
   "cell_type": "code",
   "execution_count": null,
   "metadata": {},
   "outputs": [],
   "source": [
    "df[\"sgd_pred_code\"] = \"NaN\"\n",
    "df[\"sgd_pred_str\"] = \"NaN\"\n",
    "\n",
    "batch_size = 8\n",
    "n_batches = len(df) // batch_size + (len(df) % batch_size > 0)\n",
    "\n",
    "for batch_n in tqdm(range(n_batches), desc=\"Processing batches\"):\n",
    "    batch_start = batch_n * batch_size\n",
    "    batch_end = (batch_n + 1) * batch_size\n",
    "    df_batch = df.iloc[batch_start:batch_end]\n",
    "\n",
    "    for index, row in df_batch.iterrows():\n",
    "        descr_row = row['description_main']\n",
    "        try:\n",
    "            if isinstance(descr_row, float):  \n",
    "                continue  \n",
    "            else:\n",
    "                if len(descr_row) > 512:\n",
    "                    descr_row = descr_row[:512]\n",
    "                pred = pipe(descr_row)  \n",
    "                pred_str = pred[0][\"label\"]\n",
    "                pred_int = int(pred_str)\n",
    "                \n",
    "                sdg_translation = sdg_df.loc[sdg_df['code'] == pred_int, 'name'].values[0] if not sdg_df.loc[sdg_df['code'] == pred_int, 'name'].empty else \"NaN\"\n",
    "\n",
    "                df.loc[index, \"sgd_pred_code\"] = pred_int\n",
    "                df.loc[index, \"sgd_pred_str\"] = sdg_translation\n",
    "        except Exception as e:\n",
    "            print(f\"Error at index {index}: {e}\")\n",
    "\n",
    "    if (batch_n + 1) % 1 == 0 or batch_n == n_batches - 1:\n",
    "        tqdm.write(f\"Processed batch {batch_n + 1}/{n_batches}\")"
   ]
  }
 ],
 "metadata": {
  "kernelspec": {
   "display_name": "Python 3",
   "language": "python",
   "name": "python3"
  },
  "language_info": {
   "codemirror_mode": {
    "name": "ipython",
    "version": 3
   },
   "file_extension": ".py",
   "mimetype": "text/x-python",
   "name": "python",
   "nbconvert_exporter": "python",
   "pygments_lexer": "ipython3",
   "version": "3.10.13"
  }
 },
 "nbformat": 4,
 "nbformat_minor": 2
}
