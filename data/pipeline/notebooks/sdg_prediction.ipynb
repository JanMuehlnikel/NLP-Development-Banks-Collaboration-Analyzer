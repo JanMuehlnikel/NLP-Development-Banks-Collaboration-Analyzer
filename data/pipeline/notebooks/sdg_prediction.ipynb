{
 "cells": [
  {
   "cell_type": "markdown",
   "metadata": {},
   "source": [
    "# **SDG Prediction**"
   ]
  },
  {
   "cell_type": "markdown",
   "metadata": {},
   "source": [
    "## **Dependencies**"
   ]
  },
  {
   "cell_type": "code",
   "execution_count": 1,
   "metadata": {},
   "outputs": [],
   "source": [
    "from transformers import pipeline\n",
    "import pandas as pd\n",
    "from tqdm import tqdm"
   ]
  },
  {
   "cell_type": "markdown",
   "metadata": {},
   "source": [
    "## **SDG Classifier**"
   ]
  },
  {
   "cell_type": "markdown",
   "metadata": {},
   "source": [
    "### Load Model\n",
    "\n",
    "Model predicts first 15 sdg\n",
    "\n",
    "https://huggingface.co/jonas/sdg_classifier_osdg"
   ]
  },
  {
   "cell_type": "code",
   "execution_count": 2,
   "metadata": {},
   "outputs": [
    {
     "data": {
      "application/vnd.jupyter.widget-view+json": {
       "model_id": "078505bd2df1421f851352d634ff5649",
       "version_major": 2,
       "version_minor": 0
      },
      "text/plain": [
       "config.json:   0%|          | 0.00/1.21k [00:00<?, ?B/s]"
      ]
     },
     "metadata": {},
     "output_type": "display_data"
    },
    {
     "name": "stderr",
     "output_type": "stream",
     "text": [
      "c:\\Users\\UserNA6153\\anaconda3\\envs\\pamb2\\lib\\site-packages\\huggingface_hub\\file_download.py:149: UserWarning: `huggingface_hub` cache-system uses symlinks by default to efficiently store duplicated files but your machine does not support them in C:\\Users\\UserNA6153\\.cache\\huggingface\\hub\\models--jonas--bert-base-uncased-finetuned-sdg. Caching files will still work but in a degraded version that might require more space on your disk. This warning can be disabled by setting the `HF_HUB_DISABLE_SYMLINKS_WARNING` environment variable. For more details, see https://huggingface.co/docs/huggingface_hub/how-to-cache#limitations.\n",
      "To support symlinks on Windows, you either need to activate Developer Mode or to run Python as an administrator. In order to see activate developer mode, see this article: https://docs.microsoft.com/en-us/windows/apps/get-started/enable-your-device-for-development\n",
      "  warnings.warn(message)\n"
     ]
    },
    {
     "data": {
      "application/vnd.jupyter.widget-view+json": {
       "model_id": "6437966a23414b6d88168050375fb9f7",
       "version_major": 2,
       "version_minor": 0
      },
      "text/plain": [
       "pytorch_model.bin:   0%|          | 0.00/438M [00:00<?, ?B/s]"
      ]
     },
     "metadata": {},
     "output_type": "display_data"
    },
    {
     "data": {
      "application/vnd.jupyter.widget-view+json": {
       "model_id": "b67b051643d145b690964cb3a486b9b7",
       "version_major": 2,
       "version_minor": 0
      },
      "text/plain": [
       "tokenizer_config.json:   0%|          | 0.00/348 [00:00<?, ?B/s]"
      ]
     },
     "metadata": {},
     "output_type": "display_data"
    },
    {
     "data": {
      "application/vnd.jupyter.widget-view+json": {
       "model_id": "a03256c7a043403091bca38a7e528731",
       "version_major": 2,
       "version_minor": 0
      },
      "text/plain": [
       "vocab.txt:   0%|          | 0.00/232k [00:00<?, ?B/s]"
      ]
     },
     "metadata": {},
     "output_type": "display_data"
    },
    {
     "data": {
      "application/vnd.jupyter.widget-view+json": {
       "model_id": "70662ea065624dc4bcd3738020dacfbd",
       "version_major": 2,
       "version_minor": 0
      },
      "text/plain": [
       "tokenizer.json:   0%|          | 0.00/711k [00:00<?, ?B/s]"
      ]
     },
     "metadata": {},
     "output_type": "display_data"
    },
    {
     "data": {
      "application/vnd.jupyter.widget-view+json": {
       "model_id": "bf5e03a5a1e048319e5737ae3b626673",
       "version_major": 2,
       "version_minor": 0
      },
      "text/plain": [
       "special_tokens_map.json:   0%|          | 0.00/125 [00:00<?, ?B/s]"
      ]
     },
     "metadata": {},
     "output_type": "display_data"
    }
   ],
   "source": [
    "pipe = pipeline(\"text-classification\", model=\"jonas/bert-base-uncased-finetuned-sdg\")"
   ]
  },
  {
   "cell_type": "markdown",
   "metadata": {},
   "source": [
    "### Load CSV"
   ]
  },
  {
   "cell_type": "code",
   "execution_count": 3,
   "metadata": {},
   "outputs": [
    {
     "data": {
      "text/html": [
       "<div>\n",
       "<style scoped>\n",
       "    .dataframe tbody tr th:only-of-type {\n",
       "        vertical-align: middle;\n",
       "    }\n",
       "\n",
       "    .dataframe tbody tr th {\n",
       "        vertical-align: top;\n",
       "    }\n",
       "\n",
       "    .dataframe thead th {\n",
       "        text-align: right;\n",
       "    }\n",
       "</style>\n",
       "<table border=\"1\" class=\"dataframe\">\n",
       "  <thead>\n",
       "    <tr style=\"text-align: right;\">\n",
       "      <th></th>\n",
       "      <th>iati_id</th>\n",
       "      <th>iati_orga_id</th>\n",
       "      <th>orga_abbreviation</th>\n",
       "      <th>orga_full_name</th>\n",
       "      <th>client</th>\n",
       "      <th>title_en</th>\n",
       "      <th>title_other</th>\n",
       "      <th>title_main</th>\n",
       "      <th>organization</th>\n",
       "      <th>country_code_list</th>\n",
       "      <th>...</th>\n",
       "      <th>actual_end</th>\n",
       "      <th>last_update</th>\n",
       "      <th>crs_5_code</th>\n",
       "      <th>crs_5_name</th>\n",
       "      <th>crs_3_code</th>\n",
       "      <th>crs_3_name</th>\n",
       "      <th>docs</th>\n",
       "      <th>title_and_description</th>\n",
       "      <th>sgd_pred_code</th>\n",
       "      <th>sgd_pred_str</th>\n",
       "    </tr>\n",
       "  </thead>\n",
       "  <tbody>\n",
       "    <tr>\n",
       "      <th>0</th>\n",
       "      <td>DE-1-201822287-0</td>\n",
       "      <td>DE-1</td>\n",
       "      <td>bmz</td>\n",
       "      <td>Bundesministerium für wirtschaftliche Zusammen...</td>\n",
       "      <td>BMZ</td>\n",
       "      <td>Strengthening quality infrastructure for trade...</td>\n",
       "      <td>Stärkung der Qualitätsinfrastruktur für den Ha...</td>\n",
       "      <td>Strengthening quality infrastructure for trade...</td>\n",
       "      <td>Bundesministerium für wirtschaftliche Zusammen...</td>\n",
       "      <td>NaN</td>\n",
       "      <td>...</td>\n",
       "      <td>2016-03-14T00:00:00Z</td>\n",
       "      <td>2024-02-29T00:00:00Z</td>\n",
       "      <td>33130;</td>\n",
       "      <td>Regional trade agreements (RTAs);</td>\n",
       "      <td>331;</td>\n",
       "      <td>Trade Policies &amp; Regulations;</td>\n",
       "      <td>NaN</td>\n",
       "      <td>Strengthening quality infrastructure for trade...</td>\n",
       "      <td>9</td>\n",
       "      <td>8    9. Build resilient infrastructure, promot...</td>\n",
       "    </tr>\n",
       "  </tbody>\n",
       "</table>\n",
       "<p>1 rows × 32 columns</p>\n",
       "</div>"
      ],
      "text/plain": [
       "            iati_id iati_orga_id orga_abbreviation  \\\n",
       "0  DE-1-201822287-0         DE-1               bmz   \n",
       "\n",
       "                                      orga_full_name client  \\\n",
       "0  Bundesministerium für wirtschaftliche Zusammen...    BMZ   \n",
       "\n",
       "                                            title_en  \\\n",
       "0  Strengthening quality infrastructure for trade...   \n",
       "\n",
       "                                         title_other  \\\n",
       "0  Stärkung der Qualitätsinfrastruktur für den Ha...   \n",
       "\n",
       "                                          title_main  \\\n",
       "0  Strengthening quality infrastructure for trade...   \n",
       "\n",
       "                                        organization country_code_list  ...  \\\n",
       "0  Bundesministerium für wirtschaftliche Zusammen...               NaN  ...   \n",
       "\n",
       "             actual_end           last_update crs_5_code  \\\n",
       "0  2016-03-14T00:00:00Z  2024-02-29T00:00:00Z    33130;    \n",
       "\n",
       "                           crs_5_name crs_3_code  \\\n",
       "0  Regional trade agreements (RTAs);       331;    \n",
       "\n",
       "                       crs_3_name docs  \\\n",
       "0  Trade Policies & Regulations;   NaN   \n",
       "\n",
       "                               title_and_description sgd_pred_code  \\\n",
       "0  Strengthening quality infrastructure for trade...             9   \n",
       "\n",
       "                                        sgd_pred_str  \n",
       "0  8    9. Build resilient infrastructure, promot...  \n",
       "\n",
       "[1 rows x 32 columns]"
      ]
     },
     "execution_count": 3,
     "metadata": {},
     "output_type": "execute_result"
    }
   ],
   "source": [
    "df = pd.read_csv(\"../../../src/merged_orgas.csv\")\n",
    "df.head(1)"
   ]
  },
  {
   "cell_type": "code",
   "execution_count": 4,
   "metadata": {},
   "outputs": [
    {
     "data": {
      "text/plain": [
       "Index(['iati_id', 'iati_orga_id', 'orga_abbreviation', 'orga_full_name',\n",
       "       'client', 'title_en', 'title_other', 'title_main', 'organization',\n",
       "       'country_code_list', 'country', 'country_name', 'country_flag',\n",
       "       'region', 'location', 'description_en', 'description_other',\n",
       "       'description_main', 'status', 'planned_start', 'actual_start',\n",
       "       'planned_end', 'actual_end', 'last_update', 'crs_5_code', 'crs_5_name',\n",
       "       'crs_3_code', 'crs_3_name', 'docs', 'title_and_description',\n",
       "       'sgd_pred_code', 'sgd_pred_str'],\n",
       "      dtype='object')"
      ]
     },
     "execution_count": 4,
     "metadata": {},
     "output_type": "execute_result"
    }
   ],
   "source": [
    "df.columns"
   ]
  },
  {
   "cell_type": "markdown",
   "metadata": {},
   "source": [
    "### Load SDG CSV"
   ]
  },
  {
   "cell_type": "code",
   "execution_count": 6,
   "metadata": {},
   "outputs": [
    {
     "data": {
      "text/html": [
       "<div>\n",
       "<style scoped>\n",
       "    .dataframe tbody tr th:only-of-type {\n",
       "        vertical-align: middle;\n",
       "    }\n",
       "\n",
       "    .dataframe tbody tr th {\n",
       "        vertical-align: top;\n",
       "    }\n",
       "\n",
       "    .dataframe thead th {\n",
       "        text-align: right;\n",
       "    }\n",
       "</style>\n",
       "<table border=\"1\" class=\"dataframe\">\n",
       "  <thead>\n",
       "    <tr style=\"text-align: right;\">\n",
       "      <th></th>\n",
       "      <th>code</th>\n",
       "      <th>name</th>\n",
       "      <th>description</th>\n",
       "      <th>language</th>\n",
       "      <th>category</th>\n",
       "      <th>category-name</th>\n",
       "      <th>category-description</th>\n",
       "    </tr>\n",
       "  </thead>\n",
       "  <tbody>\n",
       "    <tr>\n",
       "      <th>0</th>\n",
       "      <td>1</td>\n",
       "      <td>1. End poverty in all its forms everywhere</td>\n",
       "      <td>NaN</td>\n",
       "      <td>en</td>\n",
       "      <td>NaN</td>\n",
       "      <td>NaN</td>\n",
       "      <td>NaN</td>\n",
       "    </tr>\n",
       "    <tr>\n",
       "      <th>1</th>\n",
       "      <td>2</td>\n",
       "      <td>2. End hunger, achieve food security and impro...</td>\n",
       "      <td>NaN</td>\n",
       "      <td>en</td>\n",
       "      <td>NaN</td>\n",
       "      <td>NaN</td>\n",
       "      <td>NaN</td>\n",
       "    </tr>\n",
       "    <tr>\n",
       "      <th>2</th>\n",
       "      <td>3</td>\n",
       "      <td>3. Ensure healthy lives and promote well-being...</td>\n",
       "      <td>NaN</td>\n",
       "      <td>en</td>\n",
       "      <td>NaN</td>\n",
       "      <td>NaN</td>\n",
       "      <td>NaN</td>\n",
       "    </tr>\n",
       "    <tr>\n",
       "      <th>3</th>\n",
       "      <td>4</td>\n",
       "      <td>4. Ensure inclusive and equitable quality educ...</td>\n",
       "      <td>NaN</td>\n",
       "      <td>en</td>\n",
       "      <td>NaN</td>\n",
       "      <td>NaN</td>\n",
       "      <td>NaN</td>\n",
       "    </tr>\n",
       "    <tr>\n",
       "      <th>4</th>\n",
       "      <td>5</td>\n",
       "      <td>5. Achieve gender equality and empower all wom...</td>\n",
       "      <td>NaN</td>\n",
       "      <td>en</td>\n",
       "      <td>NaN</td>\n",
       "      <td>NaN</td>\n",
       "      <td>NaN</td>\n",
       "    </tr>\n",
       "    <tr>\n",
       "      <th>5</th>\n",
       "      <td>6</td>\n",
       "      <td>6. Ensure availability and sustainable managem...</td>\n",
       "      <td>NaN</td>\n",
       "      <td>en</td>\n",
       "      <td>NaN</td>\n",
       "      <td>NaN</td>\n",
       "      <td>NaN</td>\n",
       "    </tr>\n",
       "    <tr>\n",
       "      <th>6</th>\n",
       "      <td>7</td>\n",
       "      <td>7. Ensure access to affordable, reliable, sust...</td>\n",
       "      <td>NaN</td>\n",
       "      <td>en</td>\n",
       "      <td>NaN</td>\n",
       "      <td>NaN</td>\n",
       "      <td>NaN</td>\n",
       "    </tr>\n",
       "    <tr>\n",
       "      <th>7</th>\n",
       "      <td>8</td>\n",
       "      <td>8. Promote sustained, inclusive and sustainabl...</td>\n",
       "      <td>NaN</td>\n",
       "      <td>en</td>\n",
       "      <td>NaN</td>\n",
       "      <td>NaN</td>\n",
       "      <td>NaN</td>\n",
       "    </tr>\n",
       "    <tr>\n",
       "      <th>8</th>\n",
       "      <td>9</td>\n",
       "      <td>9. Build resilient infrastructure, promote inc...</td>\n",
       "      <td>NaN</td>\n",
       "      <td>en</td>\n",
       "      <td>NaN</td>\n",
       "      <td>NaN</td>\n",
       "      <td>NaN</td>\n",
       "    </tr>\n",
       "    <tr>\n",
       "      <th>9</th>\n",
       "      <td>10</td>\n",
       "      <td>10. Reduce inequality within and among countries</td>\n",
       "      <td>NaN</td>\n",
       "      <td>en</td>\n",
       "      <td>NaN</td>\n",
       "      <td>NaN</td>\n",
       "      <td>NaN</td>\n",
       "    </tr>\n",
       "    <tr>\n",
       "      <th>10</th>\n",
       "      <td>11</td>\n",
       "      <td>11. Make cities and human settlements inclusiv...</td>\n",
       "      <td>NaN</td>\n",
       "      <td>en</td>\n",
       "      <td>NaN</td>\n",
       "      <td>NaN</td>\n",
       "      <td>NaN</td>\n",
       "    </tr>\n",
       "    <tr>\n",
       "      <th>11</th>\n",
       "      <td>12</td>\n",
       "      <td>12. Ensure sustainable consumption and product...</td>\n",
       "      <td>NaN</td>\n",
       "      <td>en</td>\n",
       "      <td>NaN</td>\n",
       "      <td>NaN</td>\n",
       "      <td>NaN</td>\n",
       "    </tr>\n",
       "    <tr>\n",
       "      <th>12</th>\n",
       "      <td>13</td>\n",
       "      <td>13. Take urgent action to combat climate chang...</td>\n",
       "      <td>NaN</td>\n",
       "      <td>en</td>\n",
       "      <td>NaN</td>\n",
       "      <td>NaN</td>\n",
       "      <td>NaN</td>\n",
       "    </tr>\n",
       "    <tr>\n",
       "      <th>13</th>\n",
       "      <td>14</td>\n",
       "      <td>14. Conserve and sustainably use the oceans, s...</td>\n",
       "      <td>NaN</td>\n",
       "      <td>en</td>\n",
       "      <td>NaN</td>\n",
       "      <td>NaN</td>\n",
       "      <td>NaN</td>\n",
       "    </tr>\n",
       "    <tr>\n",
       "      <th>14</th>\n",
       "      <td>15</td>\n",
       "      <td>15. Protect, restore and promote sustainable u...</td>\n",
       "      <td>NaN</td>\n",
       "      <td>en</td>\n",
       "      <td>NaN</td>\n",
       "      <td>NaN</td>\n",
       "      <td>NaN</td>\n",
       "    </tr>\n",
       "    <tr>\n",
       "      <th>15</th>\n",
       "      <td>16</td>\n",
       "      <td>16. Promote peaceful and inclusive societies f...</td>\n",
       "      <td>NaN</td>\n",
       "      <td>en</td>\n",
       "      <td>NaN</td>\n",
       "      <td>NaN</td>\n",
       "      <td>NaN</td>\n",
       "    </tr>\n",
       "  </tbody>\n",
       "</table>\n",
       "</div>"
      ],
      "text/plain": [
       "    code                                               name  description  \\\n",
       "0      1         1. End poverty in all its forms everywhere          NaN   \n",
       "1      2  2. End hunger, achieve food security and impro...          NaN   \n",
       "2      3  3. Ensure healthy lives and promote well-being...          NaN   \n",
       "3      4  4. Ensure inclusive and equitable quality educ...          NaN   \n",
       "4      5  5. Achieve gender equality and empower all wom...          NaN   \n",
       "5      6  6. Ensure availability and sustainable managem...          NaN   \n",
       "6      7  7. Ensure access to affordable, reliable, sust...          NaN   \n",
       "7      8  8. Promote sustained, inclusive and sustainabl...          NaN   \n",
       "8      9  9. Build resilient infrastructure, promote inc...          NaN   \n",
       "9     10   10. Reduce inequality within and among countries          NaN   \n",
       "10    11  11. Make cities and human settlements inclusiv...          NaN   \n",
       "11    12  12. Ensure sustainable consumption and product...          NaN   \n",
       "12    13  13. Take urgent action to combat climate chang...          NaN   \n",
       "13    14  14. Conserve and sustainably use the oceans, s...          NaN   \n",
       "14    15  15. Protect, restore and promote sustainable u...          NaN   \n",
       "15    16  16. Promote peaceful and inclusive societies f...          NaN   \n",
       "\n",
       "   language  category  category-name  category-description  \n",
       "0        en       NaN            NaN                   NaN  \n",
       "1        en       NaN            NaN                   NaN  \n",
       "2        en       NaN            NaN                   NaN  \n",
       "3        en       NaN            NaN                   NaN  \n",
       "4        en       NaN            NaN                   NaN  \n",
       "5        en       NaN            NaN                   NaN  \n",
       "6        en       NaN            NaN                   NaN  \n",
       "7        en       NaN            NaN                   NaN  \n",
       "8        en       NaN            NaN                   NaN  \n",
       "9        en       NaN            NaN                   NaN  \n",
       "10       en       NaN            NaN                   NaN  \n",
       "11       en       NaN            NaN                   NaN  \n",
       "12       en       NaN            NaN                   NaN  \n",
       "13       en       NaN            NaN                   NaN  \n",
       "14       en       NaN            NaN                   NaN  \n",
       "15       en       NaN            NaN                   NaN  "
      ]
     },
     "execution_count": 6,
     "metadata": {},
     "output_type": "execute_result"
    }
   ],
   "source": [
    "sdg_df = pd.read_csv(\"../../../src/codelists/sdg_goals.csv\")\n",
    "sdg_df.head(16)"
   ]
  },
  {
   "cell_type": "markdown",
   "metadata": {},
   "source": [
    "### Apply Model"
   ]
  },
  {
   "cell_type": "code",
   "execution_count": 8,
   "metadata": {},
   "outputs": [
    {
     "name": "stderr",
     "output_type": "stream",
     "text": [
      "Processing:   0%|          | 1/27397 [00:00<1:20:00,  5.71it/s]"
     ]
    },
    {
     "name": "stdout",
     "output_type": "stream",
     "text": [
      " Debugger: 0 / 27397\n"
     ]
    },
    {
     "name": "stderr",
     "output_type": "stream",
     "text": [
      "Processing:   2%|▏         | 499/27397 [01:04<43:24, 10.33it/s]  "
     ]
    },
    {
     "name": "stdout",
     "output_type": "stream",
     "text": [
      " Debugger: 500 / 27397\n"
     ]
    },
    {
     "name": "stderr",
     "output_type": "stream",
     "text": [
      "Processing:   4%|▎         | 1002/27397 [02:16<44:11,  9.95it/s] "
     ]
    },
    {
     "name": "stdout",
     "output_type": "stream",
     "text": [
      " Debugger: 1000 / 27397\n"
     ]
    },
    {
     "name": "stderr",
     "output_type": "stream",
     "text": [
      "Processing:   5%|▌         | 1500/27397 [03:44<1:14:52,  5.76it/s]"
     ]
    },
    {
     "name": "stdout",
     "output_type": "stream",
     "text": [
      " Debugger: 1500 / 27397\n"
     ]
    },
    {
     "name": "stderr",
     "output_type": "stream",
     "text": [
      "Processing:   7%|▋         | 2001/27397 [04:56<36:23, 11.63it/s]  "
     ]
    },
    {
     "name": "stdout",
     "output_type": "stream",
     "text": [
      " Debugger: 2000 / 27397\n"
     ]
    },
    {
     "name": "stderr",
     "output_type": "stream",
     "text": [
      "Processing:   9%|▉         | 2500/27397 [06:10<1:03:05,  6.58it/s]"
     ]
    },
    {
     "name": "stdout",
     "output_type": "stream",
     "text": [
      " Debugger: 2500 / 27397\n"
     ]
    },
    {
     "name": "stderr",
     "output_type": "stream",
     "text": [
      "Processing:  11%|█         | 3001/27397 [07:38<50:31,  8.05it/s]  "
     ]
    },
    {
     "name": "stdout",
     "output_type": "stream",
     "text": [
      " Debugger: 3000 / 27397\n"
     ]
    },
    {
     "name": "stderr",
     "output_type": "stream",
     "text": [
      "Processing:  13%|█▎        | 3502/27397 [09:12<52:10,  7.63it/s]  "
     ]
    },
    {
     "name": "stdout",
     "output_type": "stream",
     "text": [
      " Debugger: 3500 / 27397\n"
     ]
    },
    {
     "name": "stderr",
     "output_type": "stream",
     "text": [
      "Processing:  15%|█▍        | 4001/27397 [10:38<56:30,  6.90it/s]  "
     ]
    },
    {
     "name": "stdout",
     "output_type": "stream",
     "text": [
      " Debugger: 4000 / 27397\n"
     ]
    },
    {
     "name": "stderr",
     "output_type": "stream",
     "text": [
      "Processing:  16%|█▋        | 4501/27397 [12:01<1:04:13,  5.94it/s]"
     ]
    },
    {
     "name": "stdout",
     "output_type": "stream",
     "text": [
      " Debugger: 4500 / 27397\n"
     ]
    },
    {
     "name": "stderr",
     "output_type": "stream",
     "text": [
      "Processing:  18%|█▊        | 5001/27397 [13:22<1:00:23,  6.18it/s]"
     ]
    },
    {
     "name": "stdout",
     "output_type": "stream",
     "text": [
      " Debugger: 5000 / 27397\n"
     ]
    },
    {
     "name": "stderr",
     "output_type": "stream",
     "text": [
      "Processing:  20%|██        | 5502/27397 [14:40<30:24, 12.00it/s]  "
     ]
    },
    {
     "name": "stdout",
     "output_type": "stream",
     "text": [
      " Debugger: 5500 / 27397\n"
     ]
    },
    {
     "name": "stderr",
     "output_type": "stream",
     "text": [
      "Processing:  22%|██▏       | 6001/27397 [15:37<38:04,  9.37it/s]  "
     ]
    },
    {
     "name": "stdout",
     "output_type": "stream",
     "text": [
      " Debugger: 6000 / 27397\n"
     ]
    },
    {
     "name": "stderr",
     "output_type": "stream",
     "text": [
      "Processing:  24%|██▎       | 6501/27397 [16:40<40:01,  8.70it/s]  "
     ]
    },
    {
     "name": "stdout",
     "output_type": "stream",
     "text": [
      " Debugger: 6500 / 27397\n"
     ]
    },
    {
     "name": "stderr",
     "output_type": "stream",
     "text": [
      "Processing:  26%|██▌       | 7001/27397 [17:54<41:32,  8.18it/s]  "
     ]
    },
    {
     "name": "stdout",
     "output_type": "stream",
     "text": [
      " Debugger: 7000 / 27397\n"
     ]
    },
    {
     "name": "stderr",
     "output_type": "stream",
     "text": [
      "Processing:  27%|██▋       | 7501/27397 [19:16<42:49,  7.74it/s]  "
     ]
    },
    {
     "name": "stdout",
     "output_type": "stream",
     "text": [
      " Debugger: 7500 / 27397\n"
     ]
    },
    {
     "name": "stderr",
     "output_type": "stream",
     "text": [
      "Processing:  29%|██▉       | 8000/27397 [20:41<59:33,  5.43it/s]  "
     ]
    },
    {
     "name": "stdout",
     "output_type": "stream",
     "text": [
      " Debugger: 8000 / 27397\n"
     ]
    },
    {
     "name": "stderr",
     "output_type": "stream",
     "text": [
      "Processing:  31%|███       | 8501/27397 [21:56<40:07,  7.85it/s]  "
     ]
    },
    {
     "name": "stdout",
     "output_type": "stream",
     "text": [
      " Debugger: 8500 / 27397\n"
     ]
    },
    {
     "name": "stderr",
     "output_type": "stream",
     "text": [
      "Processing:  33%|███▎      | 9000/27397 [23:10<35:40,  8.60it/s]  "
     ]
    },
    {
     "name": "stdout",
     "output_type": "stream",
     "text": [
      " Debugger: 9000 / 27397\n"
     ]
    },
    {
     "name": "stderr",
     "output_type": "stream",
     "text": [
      "Processing:  35%|███▍      | 9502/27397 [24:09<32:24,  9.20it/s]  "
     ]
    },
    {
     "name": "stdout",
     "output_type": "stream",
     "text": [
      " Debugger: 9500 / 27397\n"
     ]
    },
    {
     "name": "stderr",
     "output_type": "stream",
     "text": [
      "Processing:  37%|███▋      | 10001/27397 [25:13<41:38,  6.96it/s] "
     ]
    },
    {
     "name": "stdout",
     "output_type": "stream",
     "text": [
      " Debugger: 10000 / 27397\n"
     ]
    },
    {
     "name": "stderr",
     "output_type": "stream",
     "text": [
      "Processing:  38%|███▊      | 10501/27397 [26:06<29:32,  9.53it/s]  "
     ]
    },
    {
     "name": "stdout",
     "output_type": "stream",
     "text": [
      " Debugger: 10500 / 27397\n"
     ]
    },
    {
     "name": "stderr",
     "output_type": "stream",
     "text": [
      "Processing:  40%|████      | 11002/27397 [27:06<31:10,  8.76it/s]  "
     ]
    },
    {
     "name": "stdout",
     "output_type": "stream",
     "text": [
      " Debugger: 11000 / 27397\n"
     ]
    },
    {
     "name": "stderr",
     "output_type": "stream",
     "text": [
      "Processing:  42%|████▏     | 11500/27397 [28:05<46:44,  5.67it/s]  "
     ]
    },
    {
     "name": "stdout",
     "output_type": "stream",
     "text": [
      " Debugger: 11500 / 27397\n"
     ]
    },
    {
     "name": "stderr",
     "output_type": "stream",
     "text": [
      "Processing:  44%|████▍     | 12002/27397 [29:02<24:18, 10.56it/s]"
     ]
    },
    {
     "name": "stdout",
     "output_type": "stream",
     "text": [
      " Debugger: 12000 / 27397\n"
     ]
    },
    {
     "name": "stderr",
     "output_type": "stream",
     "text": [
      "Processing:  46%|████▌     | 12503/27397 [30:08<23:52, 10.40it/s]  "
     ]
    },
    {
     "name": "stdout",
     "output_type": "stream",
     "text": [
      " Debugger: 12500 / 27397\n"
     ]
    },
    {
     "name": "stderr",
     "output_type": "stream",
     "text": [
      "Processing:  47%|████▋     | 13001/27397 [31:02<47:42,  5.03it/s]"
     ]
    },
    {
     "name": "stdout",
     "output_type": "stream",
     "text": [
      " Debugger: 13000 / 27397\n"
     ]
    },
    {
     "name": "stderr",
     "output_type": "stream",
     "text": [
      "Processing:  49%|████▉     | 13501/27397 [32:10<18:44, 12.36it/s]  "
     ]
    },
    {
     "name": "stdout",
     "output_type": "stream",
     "text": [
      " Debugger: 13500 / 27397\n"
     ]
    },
    {
     "name": "stderr",
     "output_type": "stream",
     "text": [
      "Processing:  51%|█████     | 14001/27397 [33:15<38:51,  5.75it/s]"
     ]
    },
    {
     "name": "stdout",
     "output_type": "stream",
     "text": [
      " Debugger: 14000 / 27397\n"
     ]
    },
    {
     "name": "stderr",
     "output_type": "stream",
     "text": [
      "Processing:  53%|█████▎    | 14500/27397 [34:45<54:26,  3.95it/s]  "
     ]
    },
    {
     "name": "stdout",
     "output_type": "stream",
     "text": [
      " Debugger: 14500 / 27397\n"
     ]
    },
    {
     "name": "stderr",
     "output_type": "stream",
     "text": [
      "Processing:  55%|█████▍    | 15000/27397 [36:25<38:54,  5.31it/s]  "
     ]
    },
    {
     "name": "stdout",
     "output_type": "stream",
     "text": [
      " Debugger: 15000 / 27397\n"
     ]
    },
    {
     "name": "stderr",
     "output_type": "stream",
     "text": [
      "Processing:  57%|█████▋    | 15500/27397 [38:04<52:02,  3.81it/s]  "
     ]
    },
    {
     "name": "stdout",
     "output_type": "stream",
     "text": [
      " Debugger: 15500 / 27397\n"
     ]
    },
    {
     "name": "stderr",
     "output_type": "stream",
     "text": [
      "Processing:  58%|█████▊    | 16000/27397 [40:03<46:21,  4.10it/s]"
     ]
    },
    {
     "name": "stdout",
     "output_type": "stream",
     "text": [
      " Debugger: 16000 / 27397\n"
     ]
    },
    {
     "name": "stderr",
     "output_type": "stream",
     "text": [
      "Processing:  60%|██████    | 16500/27397 [42:09<42:28,  4.28it/s]  "
     ]
    },
    {
     "name": "stdout",
     "output_type": "stream",
     "text": [
      " Debugger: 16500 / 27397\n"
     ]
    },
    {
     "name": "stderr",
     "output_type": "stream",
     "text": [
      "Processing:  62%|██████▏   | 17000/27397 [44:14<37:20,  4.64it/s]  "
     ]
    },
    {
     "name": "stdout",
     "output_type": "stream",
     "text": [
      " Debugger: 17000 / 27397\n"
     ]
    },
    {
     "name": "stderr",
     "output_type": "stream",
     "text": [
      "Processing:  64%|██████▍   | 17501/27397 [46:15<30:05,  5.48it/s]  "
     ]
    },
    {
     "name": "stdout",
     "output_type": "stream",
     "text": [
      " Debugger: 17500 / 27397\n"
     ]
    },
    {
     "name": "stderr",
     "output_type": "stream",
     "text": [
      "Processing:  66%|██████▌   | 18000/27397 [48:20<40:58,  3.82it/s]"
     ]
    },
    {
     "name": "stdout",
     "output_type": "stream",
     "text": [
      " Debugger: 18000 / 27397\n"
     ]
    },
    {
     "name": "stderr",
     "output_type": "stream",
     "text": [
      "Processing:  68%|██████▊   | 18500/27397 [51:02<1:16:33,  1.94it/s]"
     ]
    },
    {
     "name": "stdout",
     "output_type": "stream",
     "text": [
      " Debugger: 18500 / 27397\n"
     ]
    },
    {
     "name": "stderr",
     "output_type": "stream",
     "text": [
      "Processing:  69%|██████▉   | 19000/27397 [55:35<39:49,  3.51it/s]  "
     ]
    },
    {
     "name": "stdout",
     "output_type": "stream",
     "text": [
      " Debugger: 19000 / 27397\n"
     ]
    },
    {
     "name": "stderr",
     "output_type": "stream",
     "text": [
      "Processing:  71%|███████   | 19501/27397 [57:38<24:29,  5.37it/s]  "
     ]
    },
    {
     "name": "stdout",
     "output_type": "stream",
     "text": [
      " Debugger: 19500 / 27397\n"
     ]
    },
    {
     "name": "stderr",
     "output_type": "stream",
     "text": [
      "Processing:  73%|███████▎  | 20000/27397 [59:19<26:56,  4.58it/s]"
     ]
    },
    {
     "name": "stdout",
     "output_type": "stream",
     "text": [
      " Debugger: 20000 / 27397\n"
     ]
    },
    {
     "name": "stderr",
     "output_type": "stream",
     "text": [
      "Processing:  75%|███████▍  | 20502/27397 [1:01:19<12:36,  9.12it/s]"
     ]
    },
    {
     "name": "stdout",
     "output_type": "stream",
     "text": [
      " Debugger: 20500 / 27397\n"
     ]
    },
    {
     "name": "stderr",
     "output_type": "stream",
     "text": [
      "Processing:  77%|███████▋  | 21001/27397 [1:02:40<20:01,  5.32it/s]"
     ]
    },
    {
     "name": "stdout",
     "output_type": "stream",
     "text": [
      " Debugger: 21000 / 27397\n"
     ]
    },
    {
     "name": "stderr",
     "output_type": "stream",
     "text": [
      "Processing:  78%|███████▊  | 21500/27397 [1:04:16<20:14,  4.85it/s]  "
     ]
    },
    {
     "name": "stdout",
     "output_type": "stream",
     "text": [
      " Debugger: 21500 / 27397\n"
     ]
    },
    {
     "name": "stderr",
     "output_type": "stream",
     "text": [
      "Processing:  80%|████████  | 22001/27397 [1:05:47<25:33,  3.52it/s]"
     ]
    },
    {
     "name": "stdout",
     "output_type": "stream",
     "text": [
      " Debugger: 22000 / 27397\n"
     ]
    },
    {
     "name": "stderr",
     "output_type": "stream",
     "text": [
      "Processing:  82%|████████▏ | 22500/27397 [1:07:36<24:42,  3.30it/s]"
     ]
    },
    {
     "name": "stdout",
     "output_type": "stream",
     "text": [
      " Debugger: 22500 / 27397\n"
     ]
    },
    {
     "name": "stderr",
     "output_type": "stream",
     "text": [
      "Processing:  84%|████████▍ | 23000/27397 [1:08:56<08:58,  8.17it/s]"
     ]
    },
    {
     "name": "stdout",
     "output_type": "stream",
     "text": [
      " Debugger: 23000 / 27397\n"
     ]
    },
    {
     "name": "stderr",
     "output_type": "stream",
     "text": [
      "Processing:  86%|████████▌ | 23501/27397 [1:10:22<11:51,  5.48it/s]"
     ]
    },
    {
     "name": "stdout",
     "output_type": "stream",
     "text": [
      " Debugger: 23500 / 27397\n"
     ]
    },
    {
     "name": "stderr",
     "output_type": "stream",
     "text": [
      "Processing:  88%|████████▊ | 24000/27397 [1:11:59<10:34,  5.36it/s]"
     ]
    },
    {
     "name": "stdout",
     "output_type": "stream",
     "text": [
      " Debugger: 24000 / 27397\n"
     ]
    },
    {
     "name": "stderr",
     "output_type": "stream",
     "text": [
      "Processing:  89%|████████▉ | 24501/27397 [1:13:39<08:31,  5.66it/s]"
     ]
    },
    {
     "name": "stdout",
     "output_type": "stream",
     "text": [
      " Debugger: 24500 / 27397\n"
     ]
    },
    {
     "name": "stderr",
     "output_type": "stream",
     "text": [
      "Processing:  91%|█████████▏| 25001/27397 [1:15:32<07:23,  5.41it/s]"
     ]
    },
    {
     "name": "stdout",
     "output_type": "stream",
     "text": [
      " Debugger: 25000 / 27397\n"
     ]
    },
    {
     "name": "stderr",
     "output_type": "stream",
     "text": [
      "Processing:  93%|█████████▎| 25500/27397 [1:16:54<04:54,  6.44it/s]"
     ]
    },
    {
     "name": "stdout",
     "output_type": "stream",
     "text": [
      " Debugger: 25500 / 27397\n"
     ]
    },
    {
     "name": "stderr",
     "output_type": "stream",
     "text": [
      "Processing:  95%|█████████▍| 26001/27397 [1:18:30<03:33,  6.52it/s]"
     ]
    },
    {
     "name": "stdout",
     "output_type": "stream",
     "text": [
      " Debugger: 26000 / 27397\n"
     ]
    },
    {
     "name": "stderr",
     "output_type": "stream",
     "text": [
      "Processing:  97%|█████████▋| 26500/27397 [1:19:43<01:54,  7.85it/s]"
     ]
    },
    {
     "name": "stdout",
     "output_type": "stream",
     "text": [
      " Debugger: 26500 / 27397\n"
     ]
    },
    {
     "name": "stderr",
     "output_type": "stream",
     "text": [
      "Processing:  99%|█████████▊| 27000/27397 [1:21:01<01:15,  5.26it/s]"
     ]
    },
    {
     "name": "stdout",
     "output_type": "stream",
     "text": [
      " Debugger: 27000 / 27397\n"
     ]
    },
    {
     "name": "stderr",
     "output_type": "stream",
     "text": [
      "Processing: 100%|██████████| 27397/27397 [1:22:03<00:00,  5.56it/s]\n"
     ]
    },
    {
     "data": {
      "text/html": [
       "<div>\n",
       "<style scoped>\n",
       "    .dataframe tbody tr th:only-of-type {\n",
       "        vertical-align: middle;\n",
       "    }\n",
       "\n",
       "    .dataframe tbody tr th {\n",
       "        vertical-align: top;\n",
       "    }\n",
       "\n",
       "    .dataframe thead th {\n",
       "        text-align: right;\n",
       "    }\n",
       "</style>\n",
       "<table border=\"1\" class=\"dataframe\">\n",
       "  <thead>\n",
       "    <tr style=\"text-align: right;\">\n",
       "      <th></th>\n",
       "      <th>iati_id</th>\n",
       "      <th>iati_orga_id</th>\n",
       "      <th>orga_abbreviation</th>\n",
       "      <th>orga_full_name</th>\n",
       "      <th>client</th>\n",
       "      <th>title_en</th>\n",
       "      <th>title_other</th>\n",
       "      <th>title_main</th>\n",
       "      <th>organization</th>\n",
       "      <th>country_code_list</th>\n",
       "      <th>...</th>\n",
       "      <th>actual_end</th>\n",
       "      <th>last_update</th>\n",
       "      <th>crs_5_code</th>\n",
       "      <th>crs_5_name</th>\n",
       "      <th>crs_3_code</th>\n",
       "      <th>crs_3_name</th>\n",
       "      <th>docs</th>\n",
       "      <th>title_and_description</th>\n",
       "      <th>sgd_pred_code</th>\n",
       "      <th>sgd_pred_str</th>\n",
       "    </tr>\n",
       "  </thead>\n",
       "  <tbody>\n",
       "    <tr>\n",
       "      <th>0</th>\n",
       "      <td>DE-1-201822287-0</td>\n",
       "      <td>DE-1</td>\n",
       "      <td>bmz</td>\n",
       "      <td>Bundesministerium für wirtschaftliche Zusammen...</td>\n",
       "      <td>BMZ</td>\n",
       "      <td>Strengthening quality infrastructure for trade...</td>\n",
       "      <td>Stärkung der Qualitätsinfrastruktur für den Ha...</td>\n",
       "      <td>Strengthening quality infrastructure for trade...</td>\n",
       "      <td>Bundesministerium für wirtschaftliche Zusammen...</td>\n",
       "      <td>NaN</td>\n",
       "      <td>...</td>\n",
       "      <td>2016-03-14T00:00:00Z</td>\n",
       "      <td>2024-02-29T00:00:00Z</td>\n",
       "      <td>33130;</td>\n",
       "      <td>Regional trade agreements (RTAs);</td>\n",
       "      <td>331;</td>\n",
       "      <td>Trade Policies &amp; Regulations;</td>\n",
       "      <td>NaN</td>\n",
       "      <td>Strengthening quality infrastructure for trade...</td>\n",
       "      <td>9</td>\n",
       "      <td>8    9. Build resilient infrastructure, promot...</td>\n",
       "    </tr>\n",
       "    <tr>\n",
       "      <th>1</th>\n",
       "      <td>DE-1-201920016-0</td>\n",
       "      <td>DE-1</td>\n",
       "      <td>bmz</td>\n",
       "      <td>Bundesministerium für wirtschaftliche Zusammen...</td>\n",
       "      <td>BMZ</td>\n",
       "      <td>Strengthening of Metrology for the Improvement...</td>\n",
       "      <td>Stärkung des Messwesens in Ägypten zur Verbess...</td>\n",
       "      <td>Strengthening of Metrology for the Improvement...</td>\n",
       "      <td>Bundesministerium für wirtschaftliche Zusammen...</td>\n",
       "      <td>['AG']</td>\n",
       "      <td>...</td>\n",
       "      <td>2016-03-14T00:00:00Z</td>\n",
       "      <td>2024-02-29T00:00:00Z</td>\n",
       "      <td>14010;</td>\n",
       "      <td>Water sector policy and administrative managem...</td>\n",
       "      <td>140;</td>\n",
       "      <td>Water Supply &amp; Sanitation;</td>\n",
       "      <td>NaN</td>\n",
       "      <td>Strengthening of Metrology for the Improvement...</td>\n",
       "      <td>9</td>\n",
       "      <td>8    9. Build resilient infrastructure, promot...</td>\n",
       "    </tr>\n",
       "    <tr>\n",
       "      <th>2</th>\n",
       "      <td>DE-1-201721877-0</td>\n",
       "      <td>DE-1</td>\n",
       "      <td>bmz</td>\n",
       "      <td>Bundesministerium für wirtschaftliche Zusammen...</td>\n",
       "      <td>BMZ</td>\n",
       "      <td>Strengthening regional integration and coopera...</td>\n",
       "      <td>Stärkung der regionalen Integration und Zusamm...</td>\n",
       "      <td>Strengthening regional integration and coopera...</td>\n",
       "      <td>Bundesministerium für wirtschaftliche Zusammen...</td>\n",
       "      <td>NaN</td>\n",
       "      <td>...</td>\n",
       "      <td>2016-03-14T00:00:00Z</td>\n",
       "      <td>2024-02-29T00:00:00Z</td>\n",
       "      <td>33130;</td>\n",
       "      <td>Regional trade agreements (RTAs);</td>\n",
       "      <td>331;</td>\n",
       "      <td>Trade Policies &amp; Regulations;</td>\n",
       "      <td>NaN</td>\n",
       "      <td>Strengthening regional integration and coopera...</td>\n",
       "      <td>9</td>\n",
       "      <td>8    9. Build resilient infrastructure, promot...</td>\n",
       "    </tr>\n",
       "    <tr>\n",
       "      <th>3</th>\n",
       "      <td>DE-1-201276351-0</td>\n",
       "      <td>DE-1</td>\n",
       "      <td>bmz</td>\n",
       "      <td>Bundesministerium für wirtschaftliche Zusammen...</td>\n",
       "      <td>BMZ</td>\n",
       "      <td>Strengthening Non-Violent Popular Movements in...</td>\n",
       "      <td>Kapazitätsentwicklung für gewaltfreie Basisbew...</td>\n",
       "      <td>Strengthening Non-Violent Popular Movements in...</td>\n",
       "      <td>Bundesministerium für wirtschaftliche Zusammen...</td>\n",
       "      <td>['VU']</td>\n",
       "      <td>...</td>\n",
       "      <td>2016-03-14T00:00:00Z</td>\n",
       "      <td>2024-03-20T00:00:00Z</td>\n",
       "      <td>15160;</td>\n",
       "      <td>Human rights;</td>\n",
       "      <td>151;</td>\n",
       "      <td>Government &amp; Civil Society-general;</td>\n",
       "      <td>NaN</td>\n",
       "      <td>Strengthening Non-Violent Popular Movements in...</td>\n",
       "      <td>16</td>\n",
       "      <td>15    16. Promote peaceful and inclusive socie...</td>\n",
       "    </tr>\n",
       "    <tr>\n",
       "      <th>4</th>\n",
       "      <td>DE-1-201676584-0</td>\n",
       "      <td>DE-1</td>\n",
       "      <td>bmz</td>\n",
       "      <td>Bundesministerium für wirtschaftliche Zusammen...</td>\n",
       "      <td>BMZ</td>\n",
       "      <td>Rebuilding Further Arts after cyclone</td>\n",
       "      <td>Wiederaufbau von Further Arts nach Wirbelsturm</td>\n",
       "      <td>Rebuilding Further Arts after cyclone</td>\n",
       "      <td>Bundesministerium für wirtschaftliche Zusammen...</td>\n",
       "      <td>['VU']</td>\n",
       "      <td>...</td>\n",
       "      <td>2016-03-14T00:00:00Z</td>\n",
       "      <td>2024-03-20T00:00:00Z</td>\n",
       "      <td>73010;</td>\n",
       "      <td>Immediate post-emergency reconstruction and re...</td>\n",
       "      <td>730;</td>\n",
       "      <td>Reconstruction Relief &amp; Rehabilitation;</td>\n",
       "      <td>NaN</td>\n",
       "      <td>Rebuilding Further Arts after cyclone. Rebuild...</td>\n",
       "      <td>11</td>\n",
       "      <td>10    11. Make cities and human settlements in...</td>\n",
       "    </tr>\n",
       "  </tbody>\n",
       "</table>\n",
       "<p>5 rows × 32 columns</p>\n",
       "</div>"
      ],
      "text/plain": [
       "            iati_id iati_orga_id orga_abbreviation  \\\n",
       "0  DE-1-201822287-0         DE-1               bmz   \n",
       "1  DE-1-201920016-0         DE-1               bmz   \n",
       "2  DE-1-201721877-0         DE-1               bmz   \n",
       "3  DE-1-201276351-0         DE-1               bmz   \n",
       "4  DE-1-201676584-0         DE-1               bmz   \n",
       "\n",
       "                                      orga_full_name client  \\\n",
       "0  Bundesministerium für wirtschaftliche Zusammen...    BMZ   \n",
       "1  Bundesministerium für wirtschaftliche Zusammen...    BMZ   \n",
       "2  Bundesministerium für wirtschaftliche Zusammen...    BMZ   \n",
       "3  Bundesministerium für wirtschaftliche Zusammen...    BMZ   \n",
       "4  Bundesministerium für wirtschaftliche Zusammen...    BMZ   \n",
       "\n",
       "                                            title_en  \\\n",
       "0  Strengthening quality infrastructure for trade...   \n",
       "1  Strengthening of Metrology for the Improvement...   \n",
       "2  Strengthening regional integration and coopera...   \n",
       "3  Strengthening Non-Violent Popular Movements in...   \n",
       "4              Rebuilding Further Arts after cyclone   \n",
       "\n",
       "                                         title_other  \\\n",
       "0  Stärkung der Qualitätsinfrastruktur für den Ha...   \n",
       "1  Stärkung des Messwesens in Ägypten zur Verbess...   \n",
       "2  Stärkung der regionalen Integration und Zusamm...   \n",
       "3  Kapazitätsentwicklung für gewaltfreie Basisbew...   \n",
       "4     Wiederaufbau von Further Arts nach Wirbelsturm   \n",
       "\n",
       "                                          title_main  \\\n",
       "0  Strengthening quality infrastructure for trade...   \n",
       "1  Strengthening of Metrology for the Improvement...   \n",
       "2  Strengthening regional integration and coopera...   \n",
       "3  Strengthening Non-Violent Popular Movements in...   \n",
       "4              Rebuilding Further Arts after cyclone   \n",
       "\n",
       "                                        organization country_code_list  ...  \\\n",
       "0  Bundesministerium für wirtschaftliche Zusammen...               NaN  ...   \n",
       "1  Bundesministerium für wirtschaftliche Zusammen...            ['AG']  ...   \n",
       "2  Bundesministerium für wirtschaftliche Zusammen...               NaN  ...   \n",
       "3  Bundesministerium für wirtschaftliche Zusammen...            ['VU']  ...   \n",
       "4  Bundesministerium für wirtschaftliche Zusammen...            ['VU']  ...   \n",
       "\n",
       "             actual_end           last_update crs_5_code  \\\n",
       "0  2016-03-14T00:00:00Z  2024-02-29T00:00:00Z    33130;    \n",
       "1  2016-03-14T00:00:00Z  2024-02-29T00:00:00Z    14010;    \n",
       "2  2016-03-14T00:00:00Z  2024-02-29T00:00:00Z    33130;    \n",
       "3  2016-03-14T00:00:00Z  2024-03-20T00:00:00Z    15160;    \n",
       "4  2016-03-14T00:00:00Z  2024-03-20T00:00:00Z    73010;    \n",
       "\n",
       "                                          crs_5_name crs_3_code  \\\n",
       "0                 Regional trade agreements (RTAs);       331;    \n",
       "1  Water sector policy and administrative managem...      140;    \n",
       "2                 Regional trade agreements (RTAs);       331;    \n",
       "3                                     Human rights;       151;    \n",
       "4  Immediate post-emergency reconstruction and re...      730;    \n",
       "\n",
       "                                 crs_3_name docs  \\\n",
       "0            Trade Policies & Regulations;   NaN   \n",
       "1               Water Supply & Sanitation;   NaN   \n",
       "2            Trade Policies & Regulations;   NaN   \n",
       "3      Government & Civil Society-general;   NaN   \n",
       "4  Reconstruction Relief & Rehabilitation;   NaN   \n",
       "\n",
       "                               title_and_description sgd_pred_code  \\\n",
       "0  Strengthening quality infrastructure for trade...             9   \n",
       "1  Strengthening of Metrology for the Improvement...             9   \n",
       "2  Strengthening regional integration and coopera...             9   \n",
       "3  Strengthening Non-Violent Popular Movements in...            16   \n",
       "4  Rebuilding Further Arts after cyclone. Rebuild...            11   \n",
       "\n",
       "                                        sgd_pred_str  \n",
       "0  8    9. Build resilient infrastructure, promot...  \n",
       "1  8    9. Build resilient infrastructure, promot...  \n",
       "2  8    9. Build resilient infrastructure, promot...  \n",
       "3  15    16. Promote peaceful and inclusive socie...  \n",
       "4  10    11. Make cities and human settlements in...  \n",
       "\n",
       "[5 rows x 32 columns]"
      ]
     },
     "execution_count": 8,
     "metadata": {},
     "output_type": "execute_result"
    }
   ],
   "source": [
    "# Define sdg columns \n",
    "df[\"sgd_pred_code\"] = \"NaN\"\n",
    "df[\"sgd_pred_str\"] = \"NaN\"\n",
    "\n",
    "len_df = len(df)\n",
    "\n",
    "for index, row in tqdm(df.iterrows(), total=len_df, desc=\"Processing\"):\n",
    "    if index % 500 == 0:\n",
    "        print(f\" Debugger: {index} / {len_df}\")\n",
    "    descr_row = row['description_main']\n",
    "    try:\n",
    "        # nan in pandas is type float\n",
    "        # check if nan \n",
    "            if isinstance(descr_row, float):\n",
    "                df[\"sgd_pred_code\"][index] = \"NaN\"\n",
    "                df[\"sgd_pred_str\"][index] = \"NaN\"\n",
    "            else:\n",
    "                if len(descr_row) > 512:\n",
    "                    descr_row = descr_row[:512]\n",
    "                # use clf with description and predict sgd \n",
    "                pred = pipe(descr_row)\n",
    "                pred_str = pred[0][\"label\"]\n",
    "                pred_int = int(pred_str)\n",
    "\n",
    "                # Map sgd codes to names\n",
    "                sdg_translation = sdg_df.loc[sdg_df['code'] == pred_int, 'name']\n",
    "\n",
    "                df[\"sgd_pred_code\"][index] = pred_int\n",
    "                df[\"sgd_pred_str\"][index] = sdg_translation\n",
    "    except Exception as e:\n",
    "        print(f\"Error {e}: {descr_row}\")\n",
    "\n",
    "df.head()"
   ]
  },
  {
   "cell_type": "markdown",
   "metadata": {},
   "source": [
    "### With Batch processing\n",
    "\n",
    ">> Not faster!"
   ]
  },
  {
   "cell_type": "code",
   "execution_count": null,
   "metadata": {},
   "outputs": [],
   "source": [
    "df[\"sgd_pred_code\"] = \"NaN\"\n",
    "df[\"sgd_pred_str\"] = \"NaN\"\n",
    "\n",
    "batch_size = 8\n",
    "n_batches = len(df) // batch_size + (len(df) % batch_size > 0)\n",
    "\n",
    "for batch_n in tqdm(range(n_batches), desc=\"Processing batches\"):\n",
    "    batch_start = batch_n * batch_size\n",
    "    batch_end = (batch_n + 1) * batch_size\n",
    "    df_batch = df.iloc[batch_start:batch_end]\n",
    "\n",
    "    for index, row in df_batch.iterrows():\n",
    "        descr_row = row['description_main']\n",
    "        try:\n",
    "            if isinstance(descr_row, float):  \n",
    "                continue  \n",
    "            else:\n",
    "                if len(descr_row) > 512:\n",
    "                    descr_row = descr_row[:512]\n",
    "                pred = pipe(descr_row)  \n",
    "                pred_str = pred[0][\"label\"]\n",
    "                pred_int = int(pred_str)\n",
    "                \n",
    "                sdg_translation = sdg_df.loc[sdg_df['code'] == pred_int, 'name'].values[0] if not sdg_df.loc[sdg_df['code'] == pred_int, 'name'].empty else \"NaN\"\n",
    "\n",
    "                df.loc[index, \"sgd_pred_code\"] = pred_int\n",
    "                df.loc[index, \"sgd_pred_str\"] = sdg_translation\n",
    "        except Exception as e:\n",
    "            print(f\"Error at index {index}: {e}\")\n",
    "\n",
    "    if (batch_n + 1) % 1 == 0 or batch_n == n_batches - 1:\n",
    "        tqdm.write(f\"Processed batch {batch_n + 1}/{n_batches}\")"
   ]
  },
  {
   "cell_type": "code",
   "execution_count": 11,
   "metadata": {},
   "outputs": [
    {
     "data": {
      "text/plain": [
       "sgd_pred_code\n",
       "8      3638\n",
       "2      3071\n",
       "11     2981\n",
       "9      2313\n",
       "16     2163\n",
       "3      2134\n",
       "4      2126\n",
       "7      1588\n",
       "1      1547\n",
       "6      1542\n",
       "13     1398\n",
       "5      1344\n",
       "15      822\n",
       "12      287\n",
       "14      214\n",
       "10      144\n",
       "NaN      85\n",
       "Name: count, dtype: int64"
      ]
     },
     "execution_count": 11,
     "metadata": {},
     "output_type": "execute_result"
    }
   ],
   "source": [
    "df[\"sgd_pred_code\"].value_counts()"
   ]
  }
 ],
 "metadata": {
  "kernelspec": {
   "display_name": "Python 3",
   "language": "python",
   "name": "python3"
  },
  "language_info": {
   "codemirror_mode": {
    "name": "ipython",
    "version": 3
   },
   "file_extension": ".py",
   "mimetype": "text/x-python",
   "name": "python",
   "nbconvert_exporter": "python",
   "pygments_lexer": "ipython3",
   "version": "3.10.13"
  }
 },
 "nbformat": 4,
 "nbformat_minor": 2
}
