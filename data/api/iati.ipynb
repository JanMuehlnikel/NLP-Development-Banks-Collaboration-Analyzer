{
 "cells": [
  {
   "cell_type": "markdown",
   "metadata": {},
   "source": [
    "# **IATI Datastore API data collection**"
   ]
  },
  {
   "cell_type": "markdown",
   "metadata": {},
   "source": [
    "## **Dependencies**"
   ]
  },
  {
   "cell_type": "code",
   "execution_count": 64,
   "metadata": {},
   "outputs": [],
   "source": [
    "import requests\n",
    "import csv\n",
    "import KEYS\n",
    "import json\n",
    "from tqdm.notebook import tqdm"
   ]
  },
  {
   "cell_type": "markdown",
   "metadata": {},
   "source": [
    "## **Define relevant features**\n",
    "\n",
    "List of all elements found here: https://developer.iatistandard.org/api-details#api=datastore&operation=query \n",
    "\n",
    "Description of all elements found here: https://iatistandard.org/en/iati-standard/203/activity-standard/summary-table/"
   ]
  },
  {
   "cell_type": "code",
   "execution_count": 65,
   "metadata": {},
   "outputs": [],
   "source": [
    "fl_list = [\n",
    "    \"iati_identifier\",\n",
    "    \"title_narrative\",\n",
    "    \"title_narrative_xml_lang\",\n",
    "    \"reporting_org_narrative\",\n",
    "    \"reporting_org_ref\",\n",
    "    \"contact_info_organisation_narrative\",\n",
    "    \"contact_info_department_narrative\",\n",
    "    \"description_narrative_xml_lang\",\n",
    "    \"description_narrative\",\n",
    "    \"recipient_country_code\",\n",
    "    \"recipient_region_code\",\n",
    "    \"location_name_narrative\",\n",
    "    \"activity_status_code\",\n",
    "    \"document_link_url\",\n",
    "    \"last_updated_datetime\",\n",
    "    \"activity_date_type\",\n",
    "    \"activity_date_iso_date\",\n",
    "    \"sector_code\",\n",
    "    \"sector_vocabulary\",\n",
    "]\n",
    "\n",
    "fl_str = \",\".join(fl_list)"
   ]
  },
  {
   "cell_type": "markdown",
   "metadata": {},
   "source": [
    "## **Fetch data from IATI Datastore**"
   ]
  },
  {
   "cell_type": "code",
   "execution_count": 66,
   "metadata": {},
   "outputs": [],
   "source": [
    "# REF CODES\n",
    "\n",
    "# Name | Code\n",
    "# BMZ | DE-1\n",
    "# Inter-American Development Bank (IAD) | XI-IATI-IADB\n",
    "# Asian Development Bank (ADB) | XM-DAC-46004\n",
    "# African Development Bank (AfDB) | XM-DAC-46002\n",
    "# European Investment Bank (EIB) | XM-DAC-918-3\n",
    "# The World Bank (WB) | 44000\n",
    "# World Bank Trust Funds (WBTF) |  XI-IATI-WBTF\n",
    "# ---\n",
    "# Non BMZ Activity (giz-non-bmz) | XM-DAC-5-52\n",
    "# Auswärtiges Amt (AA) | XM-DAC-5-7\n",
    "# Kreditanstalt für Wiederaufbau (KfW) | XI-IATI-EC_INTPA-2023-PC-35363 -> not working"
   ]
  },
  {
   "cell_type": "markdown",
   "metadata": {},
   "source": [
    "### Fetch as JSON"
   ]
  },
  {
   "cell_type": "code",
   "execution_count": 67,
   "metadata": {},
   "outputs": [],
   "source": [
    "##########\n",
    "# PARAMS #\n",
    "##########\n",
    "\n",
    "abbreviation = \"aa\"\n",
    "code = \"XM-DAC-5-7\""
   ]
  },
  {
   "cell_type": "code",
   "execution_count": 68,
   "metadata": {},
   "outputs": [
    {
     "data": {
      "application/vnd.jupyter.widget-view+json": {
       "model_id": "4122a51b47714d35ab83718f9567ea37",
       "version_major": 2,
       "version_minor": 0
      },
      "text/plain": [
       "0it [00:00, ?it/s]"
      ]
     },
     "metadata": {},
     "output_type": "display_data"
    },
    {
     "name": "stdout",
     "output_type": "stream",
     "text": [
      "Page: 0\n",
      "Page: 1\n",
      "Page: 2\n",
      "Page: 3\n",
      "Page: 4\n",
      "Page: 5\n",
      "Page: 6\n",
      "Page: 7\n",
      "Page: 8\n",
      "Data downloaded and stored in src!'\n"
     ]
    }
   ],
   "source": [
    "url = \"https://api.iatistandard.org/datastore/activity/select\"\n",
    "query = {\n",
    "    \"q\": f'reporting_org_ref:(\"{code}\")',\n",
    "    \"start\": 0, \n",
    "    \"rows\": 1000,  # max 1000 rows per page\n",
    "    \"fl\": fl_str\n",
    "}\n",
    "\n",
    "headers = {\n",
    "    \"Ocp-Apim-Subscription-Key\": KEYS.IATI_KEY\n",
    "}\n",
    "\n",
    "try:\n",
    "    all_docs = []\n",
    "    page = 0\n",
    "    pbar = tqdm()\n",
    "\n",
    "    max_pages = 1\n",
    "    max_pages_avl = False\n",
    "    cur_page = -1\n",
    "\n",
    "    while True:\n",
    "        if cur_page < max_pages or max_pages_avl == False:\n",
    "            cur_page += 1\n",
    "            print(f\"Page: {page}\")\n",
    "            response = requests.get(url, params=query, headers=headers)\n",
    "            \n",
    "            if response.status_code == 200:\n",
    "                data = response.json()\n",
    "                docs = data.get(\"response\", {}).get(\"docs\", [])\n",
    "                if docs:\n",
    "                    all_docs.extend(docs)\n",
    "                    query[\"start\"] += len(docs)\n",
    "                    page += 1\n",
    "                    pbar.update(1)\n",
    "                else:\n",
    "                    break\n",
    "            else:\n",
    "                print(\"Error:\", response.status_code)\n",
    "                break\n",
    "        else:\n",
    "            break\n",
    "\n",
    "    pbar.close()\n",
    "\n",
    "    with open(f\"../../src/response_{abbreviation}.json\", mode='w', encoding='utf-8') as file:\n",
    "        json.dump(all_docs, file, ensure_ascii=False, indent=4)\n",
    "        \n",
    "    print(\"Data downloaded and stored in src!'\")\n",
    "\n",
    "except requests.exceptions.RequestException as e:\n",
    "    print(\"Error:\", e)"
   ]
  },
  {
   "cell_type": "markdown",
   "metadata": {},
   "source": [
    "### Fetch as CSV"
   ]
  },
  {
   "cell_type": "code",
   "execution_count": 69,
   "metadata": {},
   "outputs": [
    {
     "ename": "FileNotFoundError",
     "evalue": "[Errno 2] No such file or directory: '../data/response_iati.csv'",
     "output_type": "error",
     "traceback": [
      "\u001b[1;31m---------------------------------------------------------------------------\u001b[0m",
      "\u001b[1;31mFileNotFoundError\u001b[0m                         Traceback (most recent call last)",
      "\u001b[1;32mC:\\Users\\USERNA~1\\AppData\\Local\\Temp/ipykernel_9820/2626096671.py\u001b[0m in \u001b[0;36m<module>\u001b[1;34m\u001b[0m\n\u001b[0;32m     17\u001b[0m         \u001b[0mdocs\u001b[0m \u001b[1;33m=\u001b[0m \u001b[0mdata\u001b[0m\u001b[1;33m.\u001b[0m\u001b[0mget\u001b[0m\u001b[1;33m(\u001b[0m\u001b[1;34m\"response\"\u001b[0m\u001b[1;33m,\u001b[0m \u001b[1;33m{\u001b[0m\u001b[1;33m}\u001b[0m\u001b[1;33m)\u001b[0m\u001b[1;33m.\u001b[0m\u001b[0mget\u001b[0m\u001b[1;33m(\u001b[0m\u001b[1;34m\"docs\"\u001b[0m\u001b[1;33m,\u001b[0m \u001b[1;33m[\u001b[0m\u001b[1;33m]\u001b[0m\u001b[1;33m)\u001b[0m\u001b[1;33m\u001b[0m\u001b[1;33m\u001b[0m\u001b[0m\n\u001b[0;32m     18\u001b[0m         \u001b[1;32mif\u001b[0m \u001b[0mdocs\u001b[0m\u001b[1;33m:\u001b[0m\u001b[1;33m\u001b[0m\u001b[1;33m\u001b[0m\u001b[0m\n\u001b[1;32m---> 19\u001b[1;33m             \u001b[1;32mwith\u001b[0m \u001b[0mopen\u001b[0m\u001b[1;33m(\u001b[0m\u001b[1;34m\"../data/response_iati.csv\"\u001b[0m\u001b[1;33m,\u001b[0m \u001b[0mmode\u001b[0m\u001b[1;33m=\u001b[0m\u001b[1;34m'w'\u001b[0m\u001b[1;33m,\u001b[0m \u001b[0mnewline\u001b[0m\u001b[1;33m=\u001b[0m\u001b[1;34m''\u001b[0m\u001b[1;33m,\u001b[0m \u001b[0mencoding\u001b[0m\u001b[1;33m=\u001b[0m\u001b[1;34m'utf-8'\u001b[0m\u001b[1;33m)\u001b[0m \u001b[1;32mas\u001b[0m \u001b[0mfile\u001b[0m\u001b[1;33m:\u001b[0m\u001b[1;33m\u001b[0m\u001b[1;33m\u001b[0m\u001b[0m\n\u001b[0m\u001b[0;32m     20\u001b[0m                 \u001b[0mwriter\u001b[0m \u001b[1;33m=\u001b[0m \u001b[0mcsv\u001b[0m\u001b[1;33m.\u001b[0m\u001b[0mDictWriter\u001b[0m\u001b[1;33m(\u001b[0m\u001b[0mfile\u001b[0m\u001b[1;33m,\u001b[0m \u001b[0mfieldnames\u001b[0m\u001b[1;33m=\u001b[0m\u001b[0mfl_list\u001b[0m\u001b[1;33m)\u001b[0m\u001b[1;33m\u001b[0m\u001b[1;33m\u001b[0m\u001b[0m\n\u001b[0;32m     21\u001b[0m                 \u001b[0mwriter\u001b[0m\u001b[1;33m.\u001b[0m\u001b[0mwriteheader\u001b[0m\u001b[1;33m(\u001b[0m\u001b[1;33m)\u001b[0m\u001b[1;33m\u001b[0m\u001b[1;33m\u001b[0m\u001b[0m\n",
      "\u001b[1;31mFileNotFoundError\u001b[0m: [Errno 2] No such file or directory: '../data/response_iati.csv'"
     ]
    }
   ],
   "source": [
    "url = \"https://api.iatistandard.org/datastore/activity/select\"\n",
    "query = {\n",
    "    \"q\": \"*:*\",\n",
    "    \"start\": 500000,\n",
    "    \"rows\": 1000,\n",
    "    \"fl\": fl_str\n",
    "}\n",
    "\n",
    "headers = {\n",
    "    \"Ocp-Apim-Subscription-Key\": KEYS.IATI_KEY2\n",
    "}\n",
    "\n",
    "try:\n",
    "    response = requests.get(url, params=query, headers=headers)\n",
    "    if response.status_code == 200:\n",
    "        data = response.json()\n",
    "        docs = data.get(\"response\", {}).get(\"docs\", [])\n",
    "        if docs:\n",
    "            with open(\"../data/response_iati.csv\", mode='w', newline='', encoding='utf-8') as file:\n",
    "                writer = csv.DictWriter(file, fieldnames=fl_list)\n",
    "                writer.writeheader()\n",
    "                for doc in docs:\n",
    "                    row = {key: doc.get(key, '') for key in fl_list}\n",
    "                    writer.writerow(row)\n",
    "            print(\"Data downlaoded and stored as 'response_iati.csv'\")\n",
    "        else:\n",
    "            print(\"No data in response!\")\n",
    "    else:\n",
    "        print(\"Error:\", response.status_code)\n",
    "except requests.exceptions.RequestException as e:\n",
    "    print(\"Error:\", e)"
   ]
  }
 ],
 "metadata": {
  "kernelspec": {
   "display_name": "Python 3",
   "language": "python",
   "name": "python3"
  },
  "language_info": {
   "codemirror_mode": {
    "name": "ipython",
    "version": 3
   },
   "file_extension": ".py",
   "mimetype": "text/x-python",
   "name": "python",
   "nbconvert_exporter": "python",
   "pygments_lexer": "ipython3",
   "version": "3.10.0"
  }
 },
 "nbformat": 4,
 "nbformat_minor": 2
}
