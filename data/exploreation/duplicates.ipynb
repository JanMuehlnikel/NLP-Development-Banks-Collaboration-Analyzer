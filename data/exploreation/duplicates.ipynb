{
 "cells": [
  {
   "cell_type": "markdown",
   "metadata": {},
   "source": [
    "## **Dependencies**"
   ]
  },
  {
   "cell_type": "code",
   "execution_count": 30,
   "metadata": {},
   "outputs": [],
   "source": [
    "import pandas as pd"
   ]
  },
  {
   "cell_type": "markdown",
   "metadata": {},
   "source": [
    "## **Read Data**"
   ]
  },
  {
   "cell_type": "code",
   "execution_count": 31,
   "metadata": {},
   "outputs": [
    {
     "data": {
      "text/html": [
       "<div>\n",
       "<style scoped>\n",
       "    .dataframe tbody tr th:only-of-type {\n",
       "        vertical-align: middle;\n",
       "    }\n",
       "\n",
       "    .dataframe tbody tr th {\n",
       "        vertical-align: top;\n",
       "    }\n",
       "\n",
       "    .dataframe thead th {\n",
       "        text-align: right;\n",
       "    }\n",
       "</style>\n",
       "<table border=\"1\" class=\"dataframe\">\n",
       "  <thead>\n",
       "    <tr style=\"text-align: right;\">\n",
       "      <th></th>\n",
       "      <th>iati_id</th>\n",
       "      <th>iati_orga_id</th>\n",
       "      <th>orga_abbreviation</th>\n",
       "      <th>orga_full_name</th>\n",
       "      <th>client</th>\n",
       "      <th>title_en</th>\n",
       "      <th>title_other</th>\n",
       "      <th>title_main</th>\n",
       "      <th>organization</th>\n",
       "      <th>country_code</th>\n",
       "      <th>...</th>\n",
       "      <th>actual_end</th>\n",
       "      <th>last_update</th>\n",
       "      <th>crs_5_code</th>\n",
       "      <th>crs_5_name</th>\n",
       "      <th>crs_3_code</th>\n",
       "      <th>crs_3_name</th>\n",
       "      <th>docs</th>\n",
       "      <th>title_and_description</th>\n",
       "      <th>sgd_pred_code</th>\n",
       "      <th>sgd_pred_str</th>\n",
       "    </tr>\n",
       "  </thead>\n",
       "  <tbody>\n",
       "    <tr>\n",
       "      <th>0</th>\n",
       "      <td>DE-1-201401124-0</td>\n",
       "      <td>DE-1</td>\n",
       "      <td>bmz</td>\n",
       "      <td>Bundesministerium für wirtschaftliche Zusammen...</td>\n",
       "      <td>BMZ</td>\n",
       "      <td>Kenia Protected Relief and Recovery Programme ...</td>\n",
       "      <td>Kenia Protected Relief and Recovery Programme ...</td>\n",
       "      <td>Kenia Protected Relief and Recovery Programme ...</td>\n",
       "      <td>Bundesministerium für wirtschaftliche Zusammen...</td>\n",
       "      <td>['KE']</td>\n",
       "      <td>...</td>\n",
       "      <td>2019-02-15T00:00:00Z</td>\n",
       "      <td>2024-03-06T00:00:00Z</td>\n",
       "      <td>52010;</td>\n",
       "      <td>Food assistance;</td>\n",
       "      <td>520;</td>\n",
       "      <td>Development Food Assistance;</td>\n",
       "      <td>['https://www.bmz.de/de/laender/kenia', 'https...</td>\n",
       "      <td>Kenia Protected Relief and Recovery Programme ...</td>\n",
       "      <td>2</td>\n",
       "      <td>1    2. End hunger, achieve food security and ...</td>\n",
       "    </tr>\n",
       "    <tr>\n",
       "      <th>1</th>\n",
       "      <td>DE-1-201732015-0</td>\n",
       "      <td>DE-1</td>\n",
       "      <td>bmz</td>\n",
       "      <td>Bundesministerium für wirtschaftliche Zusammen...</td>\n",
       "      <td>BMZ</td>\n",
       "      <td>Education and support of peace promoters and i...</td>\n",
       "      <td>Ausbildung und Begleitung von Friedenspromotor...</td>\n",
       "      <td>Education and support of peace promoters and i...</td>\n",
       "      <td>Bundesministerium für wirtschaftliche Zusammen...</td>\n",
       "      <td>['CO']</td>\n",
       "      <td>...</td>\n",
       "      <td>2019-02-15T00:00:00Z</td>\n",
       "      <td>2024-03-06T00:00:00Z</td>\n",
       "      <td>15220;</td>\n",
       "      <td>Civilian peace-building, conflict prevention a...</td>\n",
       "      <td>152;</td>\n",
       "      <td>Conflict, Peace &amp; Security;</td>\n",
       "      <td>['https://www.bmz.de/de/laender/kolumbien', 'h...</td>\n",
       "      <td>Education and support of peace promoters and i...</td>\n",
       "      <td>4</td>\n",
       "      <td>3    4. Ensure inclusive and equitable quality...</td>\n",
       "    </tr>\n",
       "  </tbody>\n",
       "</table>\n",
       "<p>2 rows × 30 columns</p>\n",
       "</div>"
      ],
      "text/plain": [
       "            iati_id iati_orga_id orga_abbreviation  \\\n",
       "0  DE-1-201401124-0         DE-1               bmz   \n",
       "1  DE-1-201732015-0         DE-1               bmz   \n",
       "\n",
       "                                      orga_full_name client  \\\n",
       "0  Bundesministerium für wirtschaftliche Zusammen...    BMZ   \n",
       "1  Bundesministerium für wirtschaftliche Zusammen...    BMZ   \n",
       "\n",
       "                                            title_en  \\\n",
       "0  Kenia Protected Relief and Recovery Programme ...   \n",
       "1  Education and support of peace promoters and i...   \n",
       "\n",
       "                                         title_other  \\\n",
       "0  Kenia Protected Relief and Recovery Programme ...   \n",
       "1  Ausbildung und Begleitung von Friedenspromotor...   \n",
       "\n",
       "                                          title_main  \\\n",
       "0  Kenia Protected Relief and Recovery Programme ...   \n",
       "1  Education and support of peace promoters and i...   \n",
       "\n",
       "                                        organization country_code  ...  \\\n",
       "0  Bundesministerium für wirtschaftliche Zusammen...       ['KE']  ...   \n",
       "1  Bundesministerium für wirtschaftliche Zusammen...       ['CO']  ...   \n",
       "\n",
       "             actual_end           last_update crs_5_code  \\\n",
       "0  2019-02-15T00:00:00Z  2024-03-06T00:00:00Z    52010;    \n",
       "1  2019-02-15T00:00:00Z  2024-03-06T00:00:00Z    15220;    \n",
       "\n",
       "                                          crs_5_name crs_3_code  \\\n",
       "0                                  Food assistance;       520;    \n",
       "1  Civilian peace-building, conflict prevention a...      152;    \n",
       "\n",
       "                      crs_3_name  \\\n",
       "0  Development Food Assistance;    \n",
       "1   Conflict, Peace & Security;    \n",
       "\n",
       "                                                docs  \\\n",
       "0  ['https://www.bmz.de/de/laender/kenia', 'https...   \n",
       "1  ['https://www.bmz.de/de/laender/kolumbien', 'h...   \n",
       "\n",
       "                               title_and_description sgd_pred_code  \\\n",
       "0  Kenia Protected Relief and Recovery Programme ...             2   \n",
       "1  Education and support of peace promoters and i...             4   \n",
       "\n",
       "                                        sgd_pred_str  \n",
       "0  1    2. End hunger, achieve food security and ...  \n",
       "1  3    4. Ensure inclusive and equitable quality...  \n",
       "\n",
       "[2 rows x 30 columns]"
      ]
     },
     "execution_count": 31,
     "metadata": {},
     "output_type": "execute_result"
    }
   ],
   "source": [
    "df = pd.read_csv(\"../../src/merged_orgas.csv\")\n",
    "df.head(2)"
   ]
  },
  {
   "cell_type": "code",
   "execution_count": 32,
   "metadata": {},
   "outputs": [
    {
     "data": {
      "text/plain": [
       "Index(['iati_id', 'iati_orga_id', 'orga_abbreviation', 'orga_full_name',\n",
       "       'client', 'title_en', 'title_other', 'title_main', 'organization',\n",
       "       'country_code', 'country', 'region', 'location', 'description_en',\n",
       "       'description_other', 'description_main', 'status', 'planned_start',\n",
       "       'actual_start', 'planned_end', 'actual_end', 'last_update',\n",
       "       'crs_5_code', 'crs_5_name', 'crs_3_code', 'crs_3_name', 'docs',\n",
       "       'title_and_description', 'sgd_pred_code', 'sgd_pred_str'],\n",
       "      dtype='object')"
      ]
     },
     "execution_count": 32,
     "metadata": {},
     "output_type": "execute_result"
    }
   ],
   "source": [
    "df.columns"
   ]
  },
  {
   "cell_type": "markdown",
   "metadata": {},
   "source": [
    "## **Duplicates**"
   ]
  },
  {
   "cell_type": "markdown",
   "metadata": {},
   "source": [
    "### **BMZ**\n",
    "\n",
    "Many duplicates with the same description and title. Also, many projects do not display any information other than the default text."
   ]
  },
  {
   "cell_type": "code",
   "execution_count": 33,
   "metadata": {},
   "outputs": [
    {
     "data": {
      "text/html": [
       "<div>\n",
       "<style scoped>\n",
       "    .dataframe tbody tr th:only-of-type {\n",
       "        vertical-align: middle;\n",
       "    }\n",
       "\n",
       "    .dataframe tbody tr th {\n",
       "        vertical-align: top;\n",
       "    }\n",
       "\n",
       "    .dataframe thead th {\n",
       "        text-align: right;\n",
       "    }\n",
       "</style>\n",
       "<table border=\"1\" class=\"dataframe\">\n",
       "  <thead>\n",
       "    <tr style=\"text-align: right;\">\n",
       "      <th></th>\n",
       "      <th>iati_id</th>\n",
       "      <th>iati_orga_id</th>\n",
       "      <th>orga_abbreviation</th>\n",
       "      <th>orga_full_name</th>\n",
       "      <th>client</th>\n",
       "      <th>title_en</th>\n",
       "      <th>title_other</th>\n",
       "      <th>title_main</th>\n",
       "      <th>organization</th>\n",
       "      <th>country_code</th>\n",
       "      <th>...</th>\n",
       "      <th>actual_end</th>\n",
       "      <th>last_update</th>\n",
       "      <th>crs_5_code</th>\n",
       "      <th>crs_5_name</th>\n",
       "      <th>crs_3_code</th>\n",
       "      <th>crs_3_name</th>\n",
       "      <th>docs</th>\n",
       "      <th>title_and_description</th>\n",
       "      <th>sgd_pred_code</th>\n",
       "      <th>sgd_pred_str</th>\n",
       "    </tr>\n",
       "  </thead>\n",
       "  <tbody>\n",
       "    <tr>\n",
       "      <th>0</th>\n",
       "      <td>DE-1-201401124-0</td>\n",
       "      <td>DE-1</td>\n",
       "      <td>bmz</td>\n",
       "      <td>Bundesministerium für wirtschaftliche Zusammen...</td>\n",
       "      <td>BMZ</td>\n",
       "      <td>Kenia Protected Relief and Recovery Programme ...</td>\n",
       "      <td>Kenia Protected Relief and Recovery Programme ...</td>\n",
       "      <td>Kenia Protected Relief and Recovery Programme ...</td>\n",
       "      <td>Bundesministerium für wirtschaftliche Zusammen...</td>\n",
       "      <td>['KE']</td>\n",
       "      <td>...</td>\n",
       "      <td>2019-02-15T00:00:00Z</td>\n",
       "      <td>2024-03-06T00:00:00Z</td>\n",
       "      <td>52010;</td>\n",
       "      <td>Food assistance;</td>\n",
       "      <td>520;</td>\n",
       "      <td>Development Food Assistance;</td>\n",
       "      <td>['https://www.bmz.de/de/laender/kenia', 'https...</td>\n",
       "      <td>Kenia Protected Relief and Recovery Programme ...</td>\n",
       "      <td>2</td>\n",
       "      <td>1    2. End hunger, achieve food security and ...</td>\n",
       "    </tr>\n",
       "    <tr>\n",
       "      <th>1</th>\n",
       "      <td>DE-1-201732015-0</td>\n",
       "      <td>DE-1</td>\n",
       "      <td>bmz</td>\n",
       "      <td>Bundesministerium für wirtschaftliche Zusammen...</td>\n",
       "      <td>BMZ</td>\n",
       "      <td>Education and support of peace promoters and i...</td>\n",
       "      <td>Ausbildung und Begleitung von Friedenspromotor...</td>\n",
       "      <td>Education and support of peace promoters and i...</td>\n",
       "      <td>Bundesministerium für wirtschaftliche Zusammen...</td>\n",
       "      <td>['CO']</td>\n",
       "      <td>...</td>\n",
       "      <td>2019-02-15T00:00:00Z</td>\n",
       "      <td>2024-03-06T00:00:00Z</td>\n",
       "      <td>15220;</td>\n",
       "      <td>Civilian peace-building, conflict prevention a...</td>\n",
       "      <td>152;</td>\n",
       "      <td>Conflict, Peace &amp; Security;</td>\n",
       "      <td>['https://www.bmz.de/de/laender/kolumbien', 'h...</td>\n",
       "      <td>Education and support of peace promoters and i...</td>\n",
       "      <td>4</td>\n",
       "      <td>3    4. Ensure inclusive and equitable quality...</td>\n",
       "    </tr>\n",
       "  </tbody>\n",
       "</table>\n",
       "<p>2 rows × 30 columns</p>\n",
       "</div>"
      ],
      "text/plain": [
       "            iati_id iati_orga_id orga_abbreviation  \\\n",
       "0  DE-1-201401124-0         DE-1               bmz   \n",
       "1  DE-1-201732015-0         DE-1               bmz   \n",
       "\n",
       "                                      orga_full_name client  \\\n",
       "0  Bundesministerium für wirtschaftliche Zusammen...    BMZ   \n",
       "1  Bundesministerium für wirtschaftliche Zusammen...    BMZ   \n",
       "\n",
       "                                            title_en  \\\n",
       "0  Kenia Protected Relief and Recovery Programme ...   \n",
       "1  Education and support of peace promoters and i...   \n",
       "\n",
       "                                         title_other  \\\n",
       "0  Kenia Protected Relief and Recovery Programme ...   \n",
       "1  Ausbildung und Begleitung von Friedenspromotor...   \n",
       "\n",
       "                                          title_main  \\\n",
       "0  Kenia Protected Relief and Recovery Programme ...   \n",
       "1  Education and support of peace promoters and i...   \n",
       "\n",
       "                                        organization country_code  ...  \\\n",
       "0  Bundesministerium für wirtschaftliche Zusammen...       ['KE']  ...   \n",
       "1  Bundesministerium für wirtschaftliche Zusammen...       ['CO']  ...   \n",
       "\n",
       "             actual_end           last_update crs_5_code  \\\n",
       "0  2019-02-15T00:00:00Z  2024-03-06T00:00:00Z    52010;    \n",
       "1  2019-02-15T00:00:00Z  2024-03-06T00:00:00Z    15220;    \n",
       "\n",
       "                                          crs_5_name crs_3_code  \\\n",
       "0                                  Food assistance;       520;    \n",
       "1  Civilian peace-building, conflict prevention a...      152;    \n",
       "\n",
       "                      crs_3_name  \\\n",
       "0  Development Food Assistance;    \n",
       "1   Conflict, Peace & Security;    \n",
       "\n",
       "                                                docs  \\\n",
       "0  ['https://www.bmz.de/de/laender/kenia', 'https...   \n",
       "1  ['https://www.bmz.de/de/laender/kolumbien', 'h...   \n",
       "\n",
       "                               title_and_description sgd_pred_code  \\\n",
       "0  Kenia Protected Relief and Recovery Programme ...             2   \n",
       "1  Education and support of peace promoters and i...             4   \n",
       "\n",
       "                                        sgd_pred_str  \n",
       "0  1    2. End hunger, achieve food security and ...  \n",
       "1  3    4. Ensure inclusive and equitable quality...  \n",
       "\n",
       "[2 rows x 30 columns]"
      ]
     },
     "execution_count": 33,
     "metadata": {},
     "output_type": "execute_result"
    }
   ],
   "source": [
    "bmz_df = df[df[\"orga_abbreviation\"] == \"bmz\"]\n",
    "bmz_df.head(2)"
   ]
  },
  {
   "cell_type": "code",
   "execution_count": 34,
   "metadata": {},
   "outputs": [
    {
     "data": {
      "text/plain": [
       "description_main\n",
       "This information is not available for this project.; This information is not available for this project.                                                                                                                                                                                                                                                                                                                                                                                                                                                                                                                                                                                                                                                                                                                                                                                                                                                                                                                                                                                                                                                                                                                                                                                                                                                                                                                                                                                                                                                                                                                                                                                                                                                                                                                                                    573\n",
       "Project supported by the Funding Programme for Development Education in Germany; The project is aimed at target groups in Germany. Based on the BMZ's concept of \"Development Information and Education\", educational events are held to draw attention to issues relevant to development policy and to impart applicable knowledge. Participants are encouraged to critically examine development policy issues and are enabled to recognise the actions of third parties as well as the consequences of their own actions and to evaluate them in relation to development policy issues. They are encouraged to engage sustainably for a globally just world. The project works with children, adolescents, young adults, teachers or other multipliers.                                                                                                                                                                                                                                                                                                                                                                                                                                                                                                                                                                                                                                                                                                                                                                                                                                                                                                                                                                                                                                                                                                  508\n",
       "weltwärts volunteer service outgoing (North-South component); weltwärts is an international development learning and education programme funded by the German Federal Ministry for Economic Cooperation and Development (BMZ). It offers participants in voluntary services comprehensive opportunities for global learning in line with the Agenda 2030. The voluntary service motivates and strengthens their commitment to social justice and ecological sustainability in the context of international development beyond the period of service or project time abroad. The weltwärts development volunteer service North-South component is aimed at young people from Germany between the ages of 18 and 28 who are interested in volunteering for several months (usually a year) in a country in Asia, Africa, Latin America, Oceania or Eastern Europe. weltwärts is all about mutual learning and strengthening international partnerships. The volunteer service weltwärts has three main aims in the areas of education, partnerships and commitment. In the field of education, the volunteer service programme contributes to the acquisition of essential knowledge and competences for the promotion of sustainable development according to SDG 4.7. This happens not only among the volunteers but also indirectly in their personal networks and among others involved with the programme. Concerning partnerships, weltwärts contributes to the development and strengthening of partnerships between the actors involved in the programme which supports global sustainable development, in line with SDG 17.17. In the area of commitment, the volunteer service programme strengthens the personal, social and professional commitment of (former) volunteers to a social-ecological transformation in line with the 2030 Agenda.     84\n",
       "weltwärts volunteer service incoming (South-North component); weltwärts is an international development learning and education programme funded by the German Federal Ministry for Economic Cooperation and Development (BMZ). It offers participants comprehensive opportunities for global learning in the sense of the Agenda 2030 and motivates and strengthens their commitment to social justice and ecological sustainability in the context of international development beyond the period of service or project time abroad. The weltwärts development volunteer service South-North component is aimed at young people from Asia, Africa, Latin America, Oceania or Easter Europe between the ages of 18 and 29 who would like to volunteer for several months (usually a year) in Germany. weltwärts is all about mutual learning and strengthening international partnerships. The volunteer service weltwärts has three main aims in the areas of education, partnerships and commitment. In the field of education, the volunteer service programme contributes to the acquisition of essential knowledge and competences for the promotion of sustainable development according to SDG 4.7. This happens not only among the volunteers but also indirectly in their personal networks and among others involved with the programme. Concerning partnerships, weltwärts contributes to the development and strengthening of partnerships between the actors involved in the programme which supports global sustainable development, in line with SDG 17.17. In the area of commitment, the volunteer service programme strengthens the personal, social and professional commitment of (former) volunteers to a social-ecological transformation in line with the 2030 Agenda.                                                                50\n",
       "Civil Peace Service (CPS); The Civil Peace Service (CPS) is a joint programme of governmental and non-governmental agencies. It supports projects aimed at non-violent conflict resolutions in various countries worldwide. By seconding experts, local partner organisations are assisted in the prevention of violent conflicts and crisis, reduction of violence and by securing long-term peace.                                                                                                                                                                                                                                                                                                                                                                                                                                                                                                                                                                                                                                                                                                                                                                                                                                                                                                                                                                                                                                                                                                                                                                                                                                                                                                                                                                                                                                                         10\n",
       "                                                                                                                                                                                                                                                                                                                                                                                                                                                                                                                                                                                                                                                                                                                                                                                                                                                                                                                                                                                                                                                                                                                                                                                                                                                                                                                                                                                                                                                                                                                                                                                                                                                                                                                                                                                                                                                           ... \n",
       "Strengthening self reliance and local development by women cooperatives in poor areas of Cochabamba; Strengthening self reliance and local development by women cooperatives in poor areas of Cochabamba                                                                                                                                                                                                                                                                                                                                                                                                                                                                                                                                                                                                                                                                                                                                                                                                                                                                                                                                                                                                                                                                                                                                                                                                                                                                                                                                                                                                                                                                                                                                                                                                                                                      1\n",
       "Strengthening of resilience against climate change effects cultural autonomy of indigenous people organisation; Strengthening of resilience against climate change effects cultural autonomy of indigenous people organisation                                                                                                                                                                                                                                                                                                                                                                                                                                                                                                                                                                                                                                                                                                                                                                                                                                                                                                                                                                                                                                                                                                                                                                                                                                                                                                                                                                                                                                                                                                                                                                                                                                1\n",
       "Strengthening civic participation against abuse of extractive industries and for environmental protection; Strengthening civic participation against abuse of extractive industries and for environmental protection                                                                                                                                                                                                                                                                                                                                                                                                                                                                                                                                                                                                                                                                                                                                                                                                                                                                                                                                                                                                                                                                                                                                                                                                                                                                                                                                                                                                                                                                                                                                                                                                                                          1\n",
       "Sustainable Land Development and Peoples Participation, Colquechaca / Bolivia; Sustainable Land Development and Peoples Participation, Colquechaca / Bolivia                                                                                                                                                                                                                                                                                                                                                                                                                                                                                                                                                                                                                                                                                                                                                                                                                                                                                                                                                                                                                                                                                                                                                                                                                                                                                                                                                                                                                                                                                                                                                                                                                                                                                                  1\n",
       "Strengthening local capacities for rehabilitation of flood victims in villages in Chirang and Kokrajhar districts, Assam; Strengthening local capacities for rehabilitation of flood victims in villages in Chirang and Kokrajhar districts, Assam                                                                                                                                                                                                                                                                                                                                                                                                                                                                                                                                                                                                                                                                                                                                                                                                                                                                                                                                                                                                                                                                                                                                                                                                                                                                                                                                                                                                                                                                                                                                                                                                            1\n",
       "Name: count, Length: 12397, dtype: int64"
      ]
     },
     "execution_count": 34,
     "metadata": {},
     "output_type": "execute_result"
    }
   ],
   "source": [
    "bmz_df[\"description_main\"].value_counts()"
   ]
  },
  {
   "cell_type": "code",
   "execution_count": 35,
   "metadata": {},
   "outputs": [
    {
     "data": {
      "text/plain": [
       "title_main\n",
       "This information is not available for this project.                                                                                              573\n",
       "Project supported by the Funding Programme for Development Education in Germany                                                                  508\n",
       "weltwärts volunteer service outgoing (North-South component)                                                                                      84\n",
       "weltwärts volunteer service incoming (South-North component)                                                                                      50\n",
       "Civil Peace Service (CPS)                                                                                                                         10\n",
       "                                                                                                                                                ... \n",
       "Sustainable basic crop production and self reliance of small farmer groups in 10 hamlets of Pojo, Bolivia                                          1\n",
       "Integrated rural and sustainable development for small farmer groups at El Puente /Tarija                                                          1\n",
       "Sustainable rural development in ten villages of sure district with emphasis on women empowerment and civic participation                          1\n",
       "Securing land-rights and self-reliance of indigenous weenhayek people in Yacuiba and Villa Montes municipalities of the Bolivian Chaco Region      1\n",
       "Strengthening local capacities for rehabilitation of flood victims in villages in Chirang and Kokrajhar districts, Assam                           1\n",
       "Name: count, Length: 12168, dtype: int64"
      ]
     },
     "execution_count": 35,
     "metadata": {},
     "output_type": "execute_result"
    }
   ],
   "source": [
    "bmz_df[\"title_main\"].value_counts()"
   ]
  },
  {
   "cell_type": "code",
   "execution_count": 36,
   "metadata": {},
   "outputs": [
    {
     "data": {
      "text/plain": [
       "title_and_description\n",
       "This information is not available for this project. This information is not available for this project.  This information is not available for this project.                                                                                                                                                                                                                                                                                                                                                                                                                                                                                                                                                                                                                                                                                                                                                                                                                                                                                                                                                                                                                                                                                                                                                                                                                                                                                                                                                                                                                                                                                                                                                                                                                                                                                                                                                              573\n",
       "Project supported by the Funding Programme for Development Education in Germany. Project supported by the Funding Programme for Development Education in Germany  The project is aimed at target groups in Germany. Based on the BMZ's concept of \"Development Information and Education\", educational events are held to draw attention to issues relevant to development policy and to impart applicable knowledge. Participants are encouraged to critically examine development policy issues and are enabled to recognise the actions of third parties as well as the consequences of their own actions and to evaluate them in relation to development policy issues. They are encouraged to engage sustainably for a globally just world. The project works with children, adolescents, young adults, teachers or other multipliers.                                                                                                                                                                                                                                                                                                                                                                                                                                                                                                                                                                                                                                                                                                                                                                                                                                                                                                                                                                                                                                                                               508\n",
       "weltwärts volunteer service outgoing (North-South component). weltwärts volunteer service outgoing (North-South component)  weltwärts is an international development learning and education programme funded by the German Federal Ministry for Economic Cooperation and Development (BMZ). It offers participants in voluntary services comprehensive opportunities for global learning in line with the Agenda 2030. The voluntary service motivates and strengthens their commitment to social justice and ecological sustainability in the context of international development beyond the period of service or project time abroad. The weltwärts development volunteer service North-South component is aimed at young people from Germany between the ages of 18 and 28 who are interested in volunteering for several months (usually a year) in a country in Asia, Africa, Latin America, Oceania or Eastern Europe. weltwärts is all about mutual learning and strengthening international partnerships. The volunteer service weltwärts has three main aims in the areas of education, partnerships and commitment. In the field of education, the volunteer service programme contributes to the acquisition of essential knowledge and competences for the promotion of sustainable development according to SDG 4.7. This happens not only among the volunteers but also indirectly in their personal networks and among others involved with the programme. Concerning partnerships, weltwärts contributes to the development and strengthening of partnerships between the actors involved in the programme which supports global sustainable development, in line with SDG 17.17. In the area of commitment, the volunteer service programme strengthens the personal, social and professional commitment of (former) volunteers to a social-ecological transformation in line with the 2030 Agenda.     84\n",
       "weltwärts volunteer service incoming (South-North component). weltwärts volunteer service incoming (South-North component)  weltwärts is an international development learning and education programme funded by the German Federal Ministry for Economic Cooperation and Development (BMZ). It offers participants comprehensive opportunities for global learning in the sense of the Agenda 2030 and motivates and strengthens their commitment to social justice and ecological sustainability in the context of international development beyond the period of service or project time abroad. The weltwärts development volunteer service South-North component is aimed at young people from Asia, Africa, Latin America, Oceania or Easter Europe between the ages of 18 and 29 who would like to volunteer for several months (usually a year) in Germany. weltwärts is all about mutual learning and strengthening international partnerships. The volunteer service weltwärts has three main aims in the areas of education, partnerships and commitment. In the field of education, the volunteer service programme contributes to the acquisition of essential knowledge and competences for the promotion of sustainable development according to SDG 4.7. This happens not only among the volunteers but also indirectly in their personal networks and among others involved with the programme. Concerning partnerships, weltwärts contributes to the development and strengthening of partnerships between the actors involved in the programme which supports global sustainable development, in line with SDG 17.17. In the area of commitment, the volunteer service programme strengthens the personal, social and professional commitment of (former) volunteers to a social-ecological transformation in line with the 2030 Agenda.                                                                50\n",
       "Civil Peace Service (CPS). Civil Peace Service (CPS)  The Civil Peace Service (CPS) is a joint programme of governmental and non-governmental agencies. It supports projects aimed at non-violent conflict resolutions in various countries worldwide. By seconding experts, local partner organisations are assisted in the prevention of violent conflicts and crisis, reduction of violence and by securing long-term peace.                                                                                                                                                                                                                                                                                                                                                                                                                                                                                                                                                                                                                                                                                                                                                                                                                                                                                                                                                                                                                                                                                                                                                                                                                                                                                                                                                                                                                                                                                            10\n",
       "                                                                                                                                                                                                                                                                                                                                                                                                                                                                                                                                                                                                                                                                                                                                                                                                                                                                                                                                                                                                                                                                                                                                                                                                                                                                                                                                                                                                                                                                                                                                                                                                                                                                                                                                                                                                                                                                                                                         ... \n",
       "Strengthening self reliance and local development by women cooperatives in poor areas of Cochabamba. Strengthening self reliance and local development by women cooperatives in poor areas of Cochabamba  Strengthening self reliance and local development by women cooperatives in poor areas of Cochabamba                                                                                                                                                                                                                                                                                                                                                                                                                                                                                                                                                                                                                                                                                                                                                                                                                                                                                                                                                                                                                                                                                                                                                                                                                                                                                                                                                                                                                                                                                                                                                                                                               1\n",
       "Strengthening of resilience against climate change effects cultural autonomy of indigenous people organisation. Strengthening of resilience against climate change effects cultural autonomy of indigenous people organisation  Strengthening of resilience against climate change effects cultural autonomy of indigenous people organisation                                                                                                                                                                                                                                                                                                                                                                                                                                                                                                                                                                                                                                                                                                                                                                                                                                                                                                                                                                                                                                                                                                                                                                                                                                                                                                                                                                                                                                                                                                                                                                              1\n",
       "Strengthening civic participation against abuse of extractive industries and for environmental protection. Strengthening civic participation against abuse of extractive industries and for environmental protection  Strengthening civic participation against abuse of extractive industries and for environmental protection                                                                                                                                                                                                                                                                                                                                                                                                                                                                                                                                                                                                                                                                                                                                                                                                                                                                                                                                                                                                                                                                                                                                                                                                                                                                                                                                                                                                                                                                                                                                                                                             1\n",
       "Sustainable Land Development and Peoples Participation, Colquechaca / Bolivia. Sustainable Land Development and Peoples Participation, Colquechaca / Bolivia  Sustainable Land Development and Peoples Participation, Colquechaca / Bolivia                                                                                                                                                                                                                                                                                                                                                                                                                                                                                                                                                                                                                                                                                                                                                                                                                                                                                                                                                                                                                                                                                                                                                                                                                                                                                                                                                                                                                                                                                                                                                                                                                                                                                 1\n",
       "Strengthening local capacities for rehabilitation of flood victims in villages in Chirang and Kokrajhar districts, Assam. Strengthening local capacities for rehabilitation of flood victims in villages in Chirang and Kokrajhar districts, Assam  Strengthening local capacities for rehabilitation of flood victims in villages in Chirang and Kokrajhar districts, Assam                                                                                                                                                                                                                                                                                                                                                                                                                                                                                                                                                                                                                                                                                                                                                                                                                                                                                                                                                                                                                                                                                                                                                                                                                                                                                                                                                                                                                                                                                                                                                1\n",
       "Name: count, Length: 12397, dtype: int64"
      ]
     },
     "execution_count": 36,
     "metadata": {},
     "output_type": "execute_result"
    }
   ],
   "source": [
    "bmz_df[\"title_and_description\"].value_counts()"
   ]
  },
  {
   "cell_type": "code",
   "execution_count": 41,
   "metadata": {},
   "outputs": [
    {
     "data": {
      "text/plain": [
       "1773"
      ]
     },
     "execution_count": 41,
     "metadata": {},
     "output_type": "execute_result"
    }
   ],
   "source": [
    "columns_to_check = ['title_main', 'description_main', \"country\"]\n",
    "\n",
    "duplicates = bmz_df.duplicated(subset=columns_to_check, keep=False)\n",
    "\n",
    "number_of_duplicates = duplicates.sum()\n",
    "\n",
    "number_of_duplicates"
   ]
  },
  {
   "cell_type": "markdown",
   "metadata": {},
   "source": [
    "### **World Bank and WBTF**\n",
    "\n",
    "102 overlaps between wb and wbtf"
   ]
  },
  {
   "cell_type": "code",
   "execution_count": 38,
   "metadata": {},
   "outputs": [
    {
     "data": {
      "text/html": [
       "<div>\n",
       "<style scoped>\n",
       "    .dataframe tbody tr th:only-of-type {\n",
       "        vertical-align: middle;\n",
       "    }\n",
       "\n",
       "    .dataframe tbody tr th {\n",
       "        vertical-align: top;\n",
       "    }\n",
       "\n",
       "    .dataframe thead th {\n",
       "        text-align: right;\n",
       "    }\n",
       "</style>\n",
       "<table border=\"1\" class=\"dataframe\">\n",
       "  <thead>\n",
       "    <tr style=\"text-align: right;\">\n",
       "      <th></th>\n",
       "      <th>iati_id</th>\n",
       "      <th>iati_orga_id</th>\n",
       "      <th>orga_abbreviation</th>\n",
       "      <th>orga_full_name</th>\n",
       "      <th>client</th>\n",
       "      <th>title_en</th>\n",
       "      <th>title_other</th>\n",
       "      <th>title_main</th>\n",
       "      <th>organization</th>\n",
       "      <th>country_code</th>\n",
       "      <th>...</th>\n",
       "      <th>actual_end</th>\n",
       "      <th>last_update</th>\n",
       "      <th>crs_5_code</th>\n",
       "      <th>crs_5_name</th>\n",
       "      <th>crs_3_code</th>\n",
       "      <th>crs_3_name</th>\n",
       "      <th>docs</th>\n",
       "      <th>title_and_description</th>\n",
       "      <th>sgd_pred_code</th>\n",
       "      <th>sgd_pred_str</th>\n",
       "    </tr>\n",
       "  </thead>\n",
       "  <tbody>\n",
       "    <tr>\n",
       "      <th>24247</th>\n",
       "      <td>44000-P180117</td>\n",
       "      <td>44000</td>\n",
       "      <td>wb</td>\n",
       "      <td>The World Bank</td>\n",
       "      <td>WB</td>\n",
       "      <td>Building Institutions And Systems to Harness A...</td>\n",
       "      <td>NaN</td>\n",
       "      <td>Building Institutions And Systems to Harness A...</td>\n",
       "      <td>World Bank</td>\n",
       "      <td>NaN</td>\n",
       "      <td>...</td>\n",
       "      <td>2013-12-31T00:00:00Z</td>\n",
       "      <td>2024-02-27T19:34:22Z</td>\n",
       "      <td>NaN</td>\n",
       "      <td>NaN</td>\n",
       "      <td>NaN</td>\n",
       "      <td>NaN</td>\n",
       "      <td>['http://documents.worldbank.org/curated/en/09...</td>\n",
       "      <td>Building Institutions And Systems to Harness A...</td>\n",
       "      <td>11</td>\n",
       "      <td>10    11. Make cities and human settlements in...</td>\n",
       "    </tr>\n",
       "    <tr>\n",
       "      <th>24248</th>\n",
       "      <td>44000-P096572</td>\n",
       "      <td>44000</td>\n",
       "      <td>wb</td>\n",
       "      <td>The World Bank</td>\n",
       "      <td>WB</td>\n",
       "      <td>THIRD NATIONAL  FADAMA  DEVELOPMENT  PROJECT  ...</td>\n",
       "      <td>NaN</td>\n",
       "      <td>THIRD NATIONAL  FADAMA  DEVELOPMENT  PROJECT  ...</td>\n",
       "      <td>World Bank</td>\n",
       "      <td>['NG']</td>\n",
       "      <td>...</td>\n",
       "      <td>2013-12-31T00:00:00Z</td>\n",
       "      <td>2024-02-27T23:45:01Z</td>\n",
       "      <td>16011; 31110; 31150; 31181; 31193; 43042;</td>\n",
       "      <td>Social protection and welfare services policy,...</td>\n",
       "      <td>160; 311; 311; 311; 311; 430;</td>\n",
       "      <td>Other Social Infrastructure &amp; Services; Agricu...</td>\n",
       "      <td>['http://documents.worldbank.org/curated/en/89...</td>\n",
       "      <td>THIRD NATIONAL  FADAMA  DEVELOPMENT  PROJECT  ...</td>\n",
       "      <td>6</td>\n",
       "      <td>5    6. Ensure availability and sustainable ma...</td>\n",
       "    </tr>\n",
       "  </tbody>\n",
       "</table>\n",
       "<p>2 rows × 30 columns</p>\n",
       "</div>"
      ],
      "text/plain": [
       "             iati_id iati_orga_id orga_abbreviation  orga_full_name client  \\\n",
       "24247  44000-P180117        44000                wb  The World Bank     WB   \n",
       "24248  44000-P096572        44000                wb  The World Bank     WB   \n",
       "\n",
       "                                                title_en title_other  \\\n",
       "24247  Building Institutions And Systems to Harness A...         NaN   \n",
       "24248  THIRD NATIONAL  FADAMA  DEVELOPMENT  PROJECT  ...         NaN   \n",
       "\n",
       "                                              title_main organization  \\\n",
       "24247  Building Institutions And Systems to Harness A...   World Bank   \n",
       "24248  THIRD NATIONAL  FADAMA  DEVELOPMENT  PROJECT  ...   World Bank   \n",
       "\n",
       "      country_code  ...            actual_end           last_update  \\\n",
       "24247          NaN  ...  2013-12-31T00:00:00Z  2024-02-27T19:34:22Z   \n",
       "24248       ['NG']  ...  2013-12-31T00:00:00Z  2024-02-27T23:45:01Z   \n",
       "\n",
       "                                       crs_5_code  \\\n",
       "24247                                         NaN   \n",
       "24248  16011; 31110; 31150; 31181; 31193; 43042;    \n",
       "\n",
       "                                              crs_5_name  \\\n",
       "24247                                                NaN   \n",
       "24248  Social protection and welfare services policy,...   \n",
       "\n",
       "                           crs_3_code  \\\n",
       "24247                             NaN   \n",
       "24248  160; 311; 311; 311; 311; 430;    \n",
       "\n",
       "                                              crs_3_name  \\\n",
       "24247                                                NaN   \n",
       "24248  Other Social Infrastructure & Services; Agricu...   \n",
       "\n",
       "                                                    docs  \\\n",
       "24247  ['http://documents.worldbank.org/curated/en/09...   \n",
       "24248  ['http://documents.worldbank.org/curated/en/89...   \n",
       "\n",
       "                                   title_and_description sgd_pred_code  \\\n",
       "24247  Building Institutions And Systems to Harness A...            11   \n",
       "24248  THIRD NATIONAL  FADAMA  DEVELOPMENT  PROJECT  ...             6   \n",
       "\n",
       "                                            sgd_pred_str  \n",
       "24247  10    11. Make cities and human settlements in...  \n",
       "24248  5    6. Ensure availability and sustainable ma...  \n",
       "\n",
       "[2 rows x 30 columns]"
      ]
     },
     "execution_count": 38,
     "metadata": {},
     "output_type": "execute_result"
    }
   ],
   "source": [
    "wb_df = df[df[\"orga_abbreviation\"] == \"wb\"]\n",
    "\n",
    "wb_df.head(2)"
   ]
  },
  {
   "cell_type": "code",
   "execution_count": 40,
   "metadata": {},
   "outputs": [
    {
     "data": {
      "text/plain": [
       "title_and_description\n",
       "Building Institutions And Systems to Harness And Realize Agenda 2063 Project. To improve the capacity of the African Union Commission and the African Continental Free Trade Area Secretariat in supporting member states to negotiate and implement selected commitments to enhance regional integration and intracontinental trade in Africa.                                                                                                               1\n",
       "Sichuan Wudu Irrigated Agriculture Development Project. The objectives of the Project are to: (a) increase the command area for irrigation in the project area  (b) increase bulk water supply capacity for small rural communities and industries in the project area  (c) introduce community-based participatory approach in the management of water facilities and infrastructure in the demonstration areas.                                             1\n",
       "Piau  Health and Social Protection Development Project. NaN                                                                                                                                                                                                                                                                                                                                                                                                   1\n",
       "Progest o Piau : Public Sector Management Efficiency. NaN                                                                                                                                                                                                                                                                                                                                                                                                     1\n",
       "Rio de Janeiro Adjustment and Sustainable Development Policy Loan. The Program Development Objective of this programmatic series is to support the Municipality of Rio de Janeiro in: (i) strengthening fiscal management to improve medium-term fiscal sustainability  and (ii) accelerating the transition towards a low-carbon, resilient and inclusive urban development .                                                                                1\n",
       "                                                                                                                                                                                                                                                                                                                                                                                                                                                             ..\n",
       "West Africa Regional Communications Infrastructure Program. WARCIP seeks to increase the geographical reach of broadband networks and reducing the costs of communications services in West Africa. Under APL1-A, the objectives of the Projects,thus, are to increase the geographical reach of broadband networks and to reduce costs of communications services in the territory of Liberia and Sierra Leone.                                              1\n",
       "Senegal Municipal Solid Waste Management Project. The Project Development Objective (PDO) is to strengthen the governance of solid waste management in Senegal and improve solid waste management services in selected municipalities.                                                                                                                                                                                                                        1\n",
       "Senegal: Natural Resources Management Project. The objective of the Project is to improve the management of fish and forest resources and access to related economic opportunities in target areas.                                                                                                                                                                                                                                                           1\n",
       "Nigeria: State Action on Business Enabling Reforms (SABER) Program. The Program Development Objective (PDO) is to improve (1) the efficiency of land administration, (2) the regulatory framework for private investment in fiber optic infrastructure, (3) services provided by investment promotion agencies and public-private partnership units, and (4) the efficiency and transparency of government-to-business services in participating states.      1\n",
       "Fisheries Resource Management and Conservation. The project development objective is to strengthen fisheries sector governance and improve the quality of marine fish that are marketed and sold.                                                                                                                                                                                                                                                             1\n",
       "Name: count, Length: 3283, dtype: int64"
      ]
     },
     "execution_count": 40,
     "metadata": {},
     "output_type": "execute_result"
    }
   ],
   "source": [
    "wb_df[\"title_and_description\"].value_counts()\n",
    "\n",
    "# no duplicates on description and title"
   ]
  },
  {
   "cell_type": "code",
   "execution_count": 42,
   "metadata": {},
   "outputs": [
    {
     "data": {
      "text/plain": [
       "0"
      ]
     },
     "execution_count": 42,
     "metadata": {},
     "output_type": "execute_result"
    }
   ],
   "source": [
    "columns_to_check = ['title_main', 'description_main', \"country\"]\n",
    "\n",
    "duplicates = wb_df.duplicated(subset=columns_to_check, keep=False)\n",
    "\n",
    "number_of_duplicates = duplicates.sum()\n",
    "\n",
    "number_of_duplicates"
   ]
  },
  {
   "cell_type": "markdown",
   "metadata": {},
   "source": [
    "#### wbtf"
   ]
  },
  {
   "cell_type": "code",
   "execution_count": 43,
   "metadata": {},
   "outputs": [
    {
     "data": {
      "text/html": [
       "<div>\n",
       "<style scoped>\n",
       "    .dataframe tbody tr th:only-of-type {\n",
       "        vertical-align: middle;\n",
       "    }\n",
       "\n",
       "    .dataframe tbody tr th {\n",
       "        vertical-align: top;\n",
       "    }\n",
       "\n",
       "    .dataframe thead th {\n",
       "        text-align: right;\n",
       "    }\n",
       "</style>\n",
       "<table border=\"1\" class=\"dataframe\">\n",
       "  <thead>\n",
       "    <tr style=\"text-align: right;\">\n",
       "      <th></th>\n",
       "      <th>iati_id</th>\n",
       "      <th>iati_orga_id</th>\n",
       "      <th>orga_abbreviation</th>\n",
       "      <th>orga_full_name</th>\n",
       "      <th>client</th>\n",
       "      <th>title_en</th>\n",
       "      <th>title_other</th>\n",
       "      <th>title_main</th>\n",
       "      <th>organization</th>\n",
       "      <th>country_code</th>\n",
       "      <th>...</th>\n",
       "      <th>actual_end</th>\n",
       "      <th>last_update</th>\n",
       "      <th>crs_5_code</th>\n",
       "      <th>crs_5_name</th>\n",
       "      <th>crs_3_code</th>\n",
       "      <th>crs_3_name</th>\n",
       "      <th>docs</th>\n",
       "      <th>title_and_description</th>\n",
       "      <th>sgd_pred_code</th>\n",
       "      <th>sgd_pred_str</th>\n",
       "    </tr>\n",
       "  </thead>\n",
       "  <tbody>\n",
       "    <tr>\n",
       "      <th>27530</th>\n",
       "      <td>XI-IATI-WBTF-TF071153</td>\n",
       "      <td>XI-IATI-WBTF</td>\n",
       "      <td>wbtf</td>\n",
       "      <td>World Bank Trust Funds</td>\n",
       "      <td>WBTF</td>\n",
       "      <td>PublicPrivate Infrastructure Advisory Facility...</td>\n",
       "      <td>NaN</td>\n",
       "      <td>PublicPrivate Infrastructure Advisory Facility...</td>\n",
       "      <td>World Bank Trust Funds</td>\n",
       "      <td>NaN</td>\n",
       "      <td>...</td>\n",
       "      <td>2017-04-21T00:00:00Z</td>\n",
       "      <td>2024-01-16T14:32:20Z</td>\n",
       "      <td>14010; 14020; 14050; 15112; 15117; 15126; 1512...</td>\n",
       "      <td>Water sector policy and administrative managem...</td>\n",
       "      <td>140; 140; 140; 151; 151; 151; 151; 210; 210; 2...</td>\n",
       "      <td>Water Supply &amp; Sanitation; Water Supply &amp; Sani...</td>\n",
       "      <td>NaN</td>\n",
       "      <td>PublicPrivate Infrastructure Advisory Facility...</td>\n",
       "      <td>13</td>\n",
       "      <td>12    13. Take urgent action to combat climate...</td>\n",
       "    </tr>\n",
       "    <tr>\n",
       "      <th>27531</th>\n",
       "      <td>XI-IATI-WBTF-P119455</td>\n",
       "      <td>XI-IATI-WBTF</td>\n",
       "      <td>wbtf</td>\n",
       "      <td>World Bank Trust Funds</td>\n",
       "      <td>WBTF</td>\n",
       "      <td>South African Cities Energy Efficiency and Ren...</td>\n",
       "      <td>NaN</td>\n",
       "      <td>South African Cities Energy Efficiency and Ren...</td>\n",
       "      <td>World Bank Trust Funds</td>\n",
       "      <td>['ZA']</td>\n",
       "      <td>...</td>\n",
       "      <td>2017-04-21T00:00:00Z</td>\n",
       "      <td>2024-01-16T14:32:22Z</td>\n",
       "      <td>23210;</td>\n",
       "      <td>Energy generation, renewable sources - multipl...</td>\n",
       "      <td>232;</td>\n",
       "      <td>Energy generation, renewable sources;</td>\n",
       "      <td>NaN</td>\n",
       "      <td>South African Cities Energy Efficiency and Ren...</td>\n",
       "      <td>7</td>\n",
       "      <td>6    7. Ensure access to affordable, reliable,...</td>\n",
       "    </tr>\n",
       "  </tbody>\n",
       "</table>\n",
       "<p>2 rows × 30 columns</p>\n",
       "</div>"
      ],
      "text/plain": [
       "                     iati_id  iati_orga_id orga_abbreviation  \\\n",
       "27530  XI-IATI-WBTF-TF071153  XI-IATI-WBTF              wbtf   \n",
       "27531   XI-IATI-WBTF-P119455  XI-IATI-WBTF              wbtf   \n",
       "\n",
       "               orga_full_name client  \\\n",
       "27530  World Bank Trust Funds   WBTF   \n",
       "27531  World Bank Trust Funds   WBTF   \n",
       "\n",
       "                                                title_en title_other  \\\n",
       "27530  PublicPrivate Infrastructure Advisory Facility...         NaN   \n",
       "27531  South African Cities Energy Efficiency and Ren...         NaN   \n",
       "\n",
       "                                              title_main  \\\n",
       "27530  PublicPrivate Infrastructure Advisory Facility...   \n",
       "27531  South African Cities Energy Efficiency and Ren...   \n",
       "\n",
       "                 organization country_code  ...            actual_end  \\\n",
       "27530  World Bank Trust Funds          NaN  ...  2017-04-21T00:00:00Z   \n",
       "27531  World Bank Trust Funds       ['ZA']  ...  2017-04-21T00:00:00Z   \n",
       "\n",
       "                last_update  \\\n",
       "27530  2024-01-16T14:32:20Z   \n",
       "27531  2024-01-16T14:32:22Z   \n",
       "\n",
       "                                              crs_5_code  \\\n",
       "27530  14010; 14020; 14050; 15112; 15117; 15126; 1512...   \n",
       "27531                                            23210;    \n",
       "\n",
       "                                              crs_5_name  \\\n",
       "27530  Water sector policy and administrative managem...   \n",
       "27531  Energy generation, renewable sources - multipl...   \n",
       "\n",
       "                                              crs_3_code  \\\n",
       "27530  140; 140; 140; 151; 151; 151; 151; 210; 210; 2...   \n",
       "27531                                              232;    \n",
       "\n",
       "                                              crs_3_name docs  \\\n",
       "27530  Water Supply & Sanitation; Water Supply & Sani...  NaN   \n",
       "27531             Energy generation, renewable sources;   NaN   \n",
       "\n",
       "                                   title_and_description sgd_pred_code  \\\n",
       "27530  PublicPrivate Infrastructure Advisory Facility...            13   \n",
       "27531  South African Cities Energy Efficiency and Ren...             7   \n",
       "\n",
       "                                            sgd_pred_str  \n",
       "27530  12    13. Take urgent action to combat climate...  \n",
       "27531  6    7. Ensure access to affordable, reliable,...  \n",
       "\n",
       "[2 rows x 30 columns]"
      ]
     },
     "execution_count": 43,
     "metadata": {},
     "output_type": "execute_result"
    }
   ],
   "source": [
    "wbtf_df = df[df[\"orga_abbreviation\"] == \"wbtf\"]\n",
    "\n",
    "wbtf_df.head(2)"
   ]
  },
  {
   "cell_type": "code",
   "execution_count": 44,
   "metadata": {},
   "outputs": [
    {
     "data": {
      "text/plain": [
       "title_and_description\n",
       "MDTF KP Emergency Roads Recovery Project. The Project Development Objective (PDO) is to enable the population along the Project corridor to benefit from year round improved access and mobility through reconstruction of priority damaged roads and bridges in the conflict hit areas.                                                                                                                                                                                                                                                                                                                                                                                              2\n",
       "PublicPrivate Infrastructure Advisory Facility (PPIAF) Integrating Climate Change Agenda with Public Private Partnerships Program. The objective of the trust fund is to mainstream consideration of climate change  externalities and opportunities with existing Country-specific and multi-country sectoral work in  improving energy, transport, water, sanitation and telecommunications services.                                                                                                                                                                                                                                                                               1\n",
       "Real Estate Registration Project. The project development objective is to enhance tenure security and improve real estate registration services.                                                                                                                                                                                                                                                                                                                                                                                                                                                                                                                                      1\n",
       "Modernization of Ukraine's Gas Transit System. The overall objective of this Trust Fund is to provide advisory services and technical assistance to Naftogaz and the Government of Ukraine(i) to meet its obligations it entered into with respect to the EU acquis in the gas sector for membership of the European Community and (ii) to assist Naftogaz in preparing and  carrying out investment projects with International Finance Institutions.                                                                                                                                                                                                                                1\n",
       "Advisory services and technical assistance to Naftogaz and the Government of Ukraine on the reform of the natural gas sector. The objective of the Trust Fund is to provide advisory services and technical assistance to Naftogaz and the Government of Ukraine on the reform and restructuring of the natural gas sector.                                                                                                                                                                                                                                                                                                                                                           1\n",
       "                                                                                                                                                                                                                                                                                                                                                                                                                                                                                                                                                                                                                                                                                     ..\n",
       "Mozambique Integrated Landscape and Forests Management MultiDonor Trust Fund. The proposed Development Objective of the Mozambique ILFM MDTF is to support the GoMâ€™s strategic efforts to reduce deforestation and environmental degradation, strengthen resilience to climate change, and improve rural livelihoods through an integrated landscape management approach. The ILFM MDTF will provide a vehicle to mobilize and channel additional partner resources to support and extend the Governmentâ€™s efforts.                                                                                                                                                               1\n",
       "Reducing Health Risk Factors in Bosnia and Herzegovina. The objective of the Trust Fund is to reduce selected non-communicable disease (NCD) risk factors by promoting tobacco and alcohol control, and improved diet and physical activity in Bosnia and Herzegovina.                                                                                                                                                                                                                                                                                                                                                                                                                1\n",
       "Central African Forest Initiative Implementation SingleDonor Trust Fund. The objective of the Trust Fund is to assist the development of sound land and forest management policies, programs and projects in African countries as part of their low-emission development strategies. The main focus of this Trust Fund includes supporting African countries to define their REDD+ investment strategies and financing policy development, investment programs and projects related to REDD+ in Africa.                                                                                                                                                                               1\n",
       "European Union Trust Fund for the PNG Productive Partnerships in Agriculture Project Cocoa Component. The Project Development Objective (PDO) is to improve the livelihoods of smallholder cocoa and coffee producers supported by the Project. This would be achieved through strengthening industry coordination and institutions, facilitating linkages between smallholder farmers and agribusiness for the provision of market access, technologies and services, and through the provision of critical market access infrastructure.\\n \\n The TF would contribute to the overall objective through specific support to smallholder cocoa farmers supported by the Project.      1\n",
       "Trust Fund to Support the Financial Sector Modernization Project in Azerbaijan. To support the modernization of the Azeri financial sector through technical assistance and capacity building. .                                                                                                                                                                                                                                                                                                                                                                                                                                                                                      1\n",
       "Name: count, Length: 982, dtype: int64"
      ]
     },
     "execution_count": 44,
     "metadata": {},
     "output_type": "execute_result"
    }
   ],
   "source": [
    "wbtf_df[\"title_and_description\"].value_counts()\n",
    "\n",
    "# no duplicates on description and title"
   ]
  },
  {
   "cell_type": "code",
   "execution_count": 45,
   "metadata": {},
   "outputs": [
    {
     "data": {
      "text/plain": [
       "2"
      ]
     },
     "execution_count": 45,
     "metadata": {},
     "output_type": "execute_result"
    }
   ],
   "source": [
    "columns_to_check = ['title_main', 'description_main', \"country\"]\n",
    "\n",
    "duplicates = wbtf_df.duplicated(subset=columns_to_check, keep=False)\n",
    "\n",
    "number_of_duplicates = duplicates.sum()\n",
    "\n",
    "number_of_duplicates"
   ]
  },
  {
   "cell_type": "markdown",
   "metadata": {},
   "source": [
    "#### overlap between world bank and world bank trust funds"
   ]
  },
  {
   "cell_type": "code",
   "execution_count": 46,
   "metadata": {},
   "outputs": [
    {
     "data": {
      "text/plain": [
       "3283"
      ]
     },
     "execution_count": 46,
     "metadata": {},
     "output_type": "execute_result"
    }
   ],
   "source": [
    "len(wb_df)"
   ]
  },
  {
   "cell_type": "code",
   "execution_count": 47,
   "metadata": {},
   "outputs": [
    {
     "data": {
      "text/plain": [
       "983"
      ]
     },
     "execution_count": 47,
     "metadata": {},
     "output_type": "execute_result"
    }
   ],
   "source": [
    "len(wbtf_df)"
   ]
  },
  {
   "cell_type": "code",
   "execution_count": 51,
   "metadata": {},
   "outputs": [
    {
     "name": "stdout",
     "output_type": "stream",
     "text": [
      "Number of same rows in both DataFrames based on ['title_main', 'description_main', 'country']: 102\n"
     ]
    }
   ],
   "source": [
    "columns_to_compare = ['title_main', 'description_main', \"country\"]\n",
    "\n",
    "merged_df = pd.merge(wb_df[columns_to_compare], wbtf_df[columns_to_compare], on=columns_to_compare, how='inner')\n",
    "\n",
    "number_of_same_rows = len(merged_df)\n",
    "\n",
    "print(f\"Number of same rows in both DataFrames based on {columns_to_compare}: {number_of_same_rows}\")"
   ]
  },
  {
   "cell_type": "code",
   "execution_count": 49,
   "metadata": {},
   "outputs": [
    {
     "data": {
      "text/html": [
       "<div>\n",
       "<style scoped>\n",
       "    .dataframe tbody tr th:only-of-type {\n",
       "        vertical-align: middle;\n",
       "    }\n",
       "\n",
       "    .dataframe tbody tr th {\n",
       "        vertical-align: top;\n",
       "    }\n",
       "\n",
       "    .dataframe thead th {\n",
       "        text-align: right;\n",
       "    }\n",
       "</style>\n",
       "<table border=\"1\" class=\"dataframe\">\n",
       "  <thead>\n",
       "    <tr style=\"text-align: right;\">\n",
       "      <th></th>\n",
       "      <th>title_main</th>\n",
       "      <th>description_main</th>\n",
       "      <th>country</th>\n",
       "    </tr>\n",
       "  </thead>\n",
       "  <tbody>\n",
       "    <tr>\n",
       "      <th>0</th>\n",
       "      <td>Agricultural Markets and Agribusiness Developm...</td>\n",
       "      <td>The project development objective is to improv...</td>\n",
       "      <td>SN;</td>\n",
       "    </tr>\n",
       "    <tr>\n",
       "      <th>1</th>\n",
       "      <td>Jordan Emergency Cash Transfer COVID-19 Respon...</td>\n",
       "      <td>The project development objective is to provid...</td>\n",
       "      <td>JO;</td>\n",
       "    </tr>\n",
       "    <tr>\n",
       "      <th>2</th>\n",
       "      <td>Reproductive and Child Health Project - Phase 2</td>\n",
       "      <td>To increase utilization of a package of essent...</td>\n",
       "      <td>SL;</td>\n",
       "    </tr>\n",
       "    <tr>\n",
       "      <th>3</th>\n",
       "      <td>Sierra Leone Mineral Sector Technical Assistance</td>\n",
       "      <td>The objective of the Project is to build the R...</td>\n",
       "      <td>SL;</td>\n",
       "    </tr>\n",
       "    <tr>\n",
       "      <th>4</th>\n",
       "      <td>Rural Electrification and Renewable Energy Dev...</td>\n",
       "      <td>Increase access to clean energy through renewa...</td>\n",
       "      <td>BD;</td>\n",
       "    </tr>\n",
       "    <tr>\n",
       "      <th>...</th>\n",
       "      <td>...</td>\n",
       "      <td>...</td>\n",
       "      <td>...</td>\n",
       "    </tr>\n",
       "    <tr>\n",
       "      <th>97</th>\n",
       "      <td>Mozambique Mining and Gas Technical Assistance...</td>\n",
       "      <td>The proposed project development objective is ...</td>\n",
       "      <td>MZ;</td>\n",
       "    </tr>\n",
       "    <tr>\n",
       "      <th>98</th>\n",
       "      <td>Water Resources Development</td>\n",
       "      <td>The Project Development Objective is to streng...</td>\n",
       "      <td>MZ;</td>\n",
       "    </tr>\n",
       "    <tr>\n",
       "      <th>99</th>\n",
       "      <td>Greater Cairo Air Pollution Management and Cli...</td>\n",
       "      <td>To reduce air and climate emissions from criti...</td>\n",
       "      <td>EG;</td>\n",
       "    </tr>\n",
       "    <tr>\n",
       "      <th>100</th>\n",
       "      <td>NATURAL RESOURCES MANAGEMENT IN A CHANGING CLI...</td>\n",
       "      <td>The Project Development Objective is to expand...</td>\n",
       "      <td>ML;</td>\n",
       "    </tr>\n",
       "    <tr>\n",
       "      <th>101</th>\n",
       "      <td>Secondary Education Development and Girls Acce...</td>\n",
       "      <td>To improve gender equity, quality, and efficie...</td>\n",
       "      <td>YE;</td>\n",
       "    </tr>\n",
       "  </tbody>\n",
       "</table>\n",
       "<p>102 rows × 3 columns</p>\n",
       "</div>"
      ],
      "text/plain": [
       "                                            title_main  \\\n",
       "0    Agricultural Markets and Agribusiness Developm...   \n",
       "1    Jordan Emergency Cash Transfer COVID-19 Respon...   \n",
       "2      Reproductive and Child Health Project - Phase 2   \n",
       "3     Sierra Leone Mineral Sector Technical Assistance   \n",
       "4    Rural Electrification and Renewable Energy Dev...   \n",
       "..                                                 ...   \n",
       "97   Mozambique Mining and Gas Technical Assistance...   \n",
       "98                         Water Resources Development   \n",
       "99   Greater Cairo Air Pollution Management and Cli...   \n",
       "100  NATURAL RESOURCES MANAGEMENT IN A CHANGING CLI...   \n",
       "101  Secondary Education Development and Girls Acce...   \n",
       "\n",
       "                                      description_main country  \n",
       "0    The project development objective is to improv...    SN;   \n",
       "1    The project development objective is to provid...    JO;   \n",
       "2    To increase utilization of a package of essent...    SL;   \n",
       "3    The objective of the Project is to build the R...    SL;   \n",
       "4    Increase access to clean energy through renewa...    BD;   \n",
       "..                                                 ...     ...  \n",
       "97   The proposed project development objective is ...    MZ;   \n",
       "98   The Project Development Objective is to streng...    MZ;   \n",
       "99   To reduce air and climate emissions from criti...    EG;   \n",
       "100  The Project Development Objective is to expand...    ML;   \n",
       "101  To improve gender equity, quality, and efficie...    YE;   \n",
       "\n",
       "[102 rows x 3 columns]"
      ]
     },
     "execution_count": 49,
     "metadata": {},
     "output_type": "execute_result"
    }
   ],
   "source": [
    "merged_df"
   ]
  },
  {
   "cell_type": "markdown",
   "metadata": {},
   "source": [
    "### **GIZ**\n",
    "\n",
    "57 duplicates with giz"
   ]
  },
  {
   "cell_type": "code",
   "execution_count": 53,
   "metadata": {},
   "outputs": [
    {
     "data": {
      "text/html": [
       "<div>\n",
       "<style scoped>\n",
       "    .dataframe tbody tr th:only-of-type {\n",
       "        vertical-align: middle;\n",
       "    }\n",
       "\n",
       "    .dataframe tbody tr th {\n",
       "        vertical-align: top;\n",
       "    }\n",
       "\n",
       "    .dataframe thead th {\n",
       "        text-align: right;\n",
       "    }\n",
       "</style>\n",
       "<table border=\"1\" class=\"dataframe\">\n",
       "  <thead>\n",
       "    <tr style=\"text-align: right;\">\n",
       "      <th></th>\n",
       "      <th>iati_id</th>\n",
       "      <th>iati_orga_id</th>\n",
       "      <th>orga_abbreviation</th>\n",
       "      <th>orga_full_name</th>\n",
       "      <th>client</th>\n",
       "      <th>title_en</th>\n",
       "      <th>title_other</th>\n",
       "      <th>title_main</th>\n",
       "      <th>organization</th>\n",
       "      <th>country_code</th>\n",
       "      <th>...</th>\n",
       "      <th>actual_end</th>\n",
       "      <th>last_update</th>\n",
       "      <th>crs_5_code</th>\n",
       "      <th>crs_5_name</th>\n",
       "      <th>crs_3_code</th>\n",
       "      <th>crs_3_name</th>\n",
       "      <th>docs</th>\n",
       "      <th>title_and_description</th>\n",
       "      <th>sgd_pred_code</th>\n",
       "      <th>sgd_pred_str</th>\n",
       "    </tr>\n",
       "  </thead>\n",
       "  <tbody>\n",
       "    <tr>\n",
       "      <th>30</th>\n",
       "      <td>DE-1-201440692</td>\n",
       "      <td>DE-1</td>\n",
       "      <td>giz</td>\n",
       "      <td>Deutsche Gesellschaft für Internationale Zusam...</td>\n",
       "      <td>BMZ</td>\n",
       "      <td>Support to refugees and host communities in Kenya</td>\n",
       "      <td>Unterstützung für Flüchtlinge und aufnehmende ...</td>\n",
       "      <td>Support to refugees and host communities in Kenya</td>\n",
       "      <td>Bundesministerium für wirtschaftliche Zusammen...</td>\n",
       "      <td>['KE']</td>\n",
       "      <td>...</td>\n",
       "      <td>2019-02-15T00:00:00Z</td>\n",
       "      <td>2024-02-29T00:00:00Z</td>\n",
       "      <td>73010;</td>\n",
       "      <td>Immediate post-emergency reconstruction and re...</td>\n",
       "      <td>730;</td>\n",
       "      <td>Reconstruction Relief &amp; Rehabilitation;</td>\n",
       "      <td>['https://www.giz.de/projektdaten/projects.act...</td>\n",
       "      <td>Support to refugees and host communities in Ke...</td>\n",
       "      <td>5</td>\n",
       "      <td>4    5. Achieve gender equality and empower al...</td>\n",
       "    </tr>\n",
       "    <tr>\n",
       "      <th>38</th>\n",
       "      <td>DE-1-201821396</td>\n",
       "      <td>DE-1</td>\n",
       "      <td>giz</td>\n",
       "      <td>Deutsche Gesellschaft für Internationale Zusam...</td>\n",
       "      <td>BMZ</td>\n",
       "      <td>Green Jobs – Increase of the waste recycling r...</td>\n",
       "      <td>Green Jobs</td>\n",
       "      <td>Green Jobs – Increase of the waste recycling r...</td>\n",
       "      <td>Bundesministerium für wirtschaftliche Zusammen...</td>\n",
       "      <td>['CO']</td>\n",
       "      <td>...</td>\n",
       "      <td>2019-02-15T00:00:00Z</td>\n",
       "      <td>2024-02-29T00:00:00Z</td>\n",
       "      <td>14050; 11330; 41010; 11430;</td>\n",
       "      <td>Waste management/disposal; Vocational training...</td>\n",
       "      <td>140; 113; 410; 114;</td>\n",
       "      <td>Water Supply &amp; Sanitation; Secondary Education...</td>\n",
       "      <td>['https://www.giz.de/projektdaten/projects.act...</td>\n",
       "      <td>Green Jobs – Increase of the waste recycling r...</td>\n",
       "      <td>11</td>\n",
       "      <td>10    11. Make cities and human settlements in...</td>\n",
       "    </tr>\n",
       "  </tbody>\n",
       "</table>\n",
       "<p>2 rows × 30 columns</p>\n",
       "</div>"
      ],
      "text/plain": [
       "           iati_id iati_orga_id orga_abbreviation  \\\n",
       "30  DE-1-201440692         DE-1               giz   \n",
       "38  DE-1-201821396         DE-1               giz   \n",
       "\n",
       "                                       orga_full_name client  \\\n",
       "30  Deutsche Gesellschaft für Internationale Zusam...    BMZ   \n",
       "38  Deutsche Gesellschaft für Internationale Zusam...    BMZ   \n",
       "\n",
       "                                             title_en  \\\n",
       "30  Support to refugees and host communities in Kenya   \n",
       "38  Green Jobs – Increase of the waste recycling r...   \n",
       "\n",
       "                                          title_other  \\\n",
       "30  Unterstützung für Flüchtlinge und aufnehmende ...   \n",
       "38                                         Green Jobs   \n",
       "\n",
       "                                           title_main  \\\n",
       "30  Support to refugees and host communities in Kenya   \n",
       "38  Green Jobs – Increase of the waste recycling r...   \n",
       "\n",
       "                                         organization country_code  ...  \\\n",
       "30  Bundesministerium für wirtschaftliche Zusammen...       ['KE']  ...   \n",
       "38  Bundesministerium für wirtschaftliche Zusammen...       ['CO']  ...   \n",
       "\n",
       "              actual_end           last_update                    crs_5_code  \\\n",
       "30  2019-02-15T00:00:00Z  2024-02-29T00:00:00Z                       73010;    \n",
       "38  2019-02-15T00:00:00Z  2024-02-29T00:00:00Z  14050; 11330; 41010; 11430;    \n",
       "\n",
       "                                           crs_5_name            crs_3_code  \\\n",
       "30  Immediate post-emergency reconstruction and re...                 730;    \n",
       "38  Waste management/disposal; Vocational training...  140; 113; 410; 114;    \n",
       "\n",
       "                                           crs_3_name  \\\n",
       "30           Reconstruction Relief & Rehabilitation;    \n",
       "38  Water Supply & Sanitation; Secondary Education...   \n",
       "\n",
       "                                                 docs  \\\n",
       "30  ['https://www.giz.de/projektdaten/projects.act...   \n",
       "38  ['https://www.giz.de/projektdaten/projects.act...   \n",
       "\n",
       "                                title_and_description sgd_pred_code  \\\n",
       "30  Support to refugees and host communities in Ke...             5   \n",
       "38  Green Jobs – Increase of the waste recycling r...            11   \n",
       "\n",
       "                                         sgd_pred_str  \n",
       "30  4    5. Achieve gender equality and empower al...  \n",
       "38  10    11. Make cities and human settlements in...  \n",
       "\n",
       "[2 rows x 30 columns]"
      ]
     },
     "execution_count": 53,
     "metadata": {},
     "output_type": "execute_result"
    }
   ],
   "source": [
    "giz_df = df[df[\"orga_abbreviation\"] == \"giz\"]\n",
    "\n",
    "giz_df.head(2)"
   ]
  },
  {
   "cell_type": "code",
   "execution_count": 55,
   "metadata": {},
   "outputs": [
    {
     "data": {
      "text/plain": [
       "1309"
      ]
     },
     "execution_count": 55,
     "metadata": {},
     "output_type": "execute_result"
    }
   ],
   "source": [
    "len(giz_df)"
   ]
  },
  {
   "cell_type": "code",
   "execution_count": 56,
   "metadata": {},
   "outputs": [
    {
     "data": {
      "text/plain": [
       "title_and_description\n",
       "Studies and Experts Fund. Preparation and appraisal of technical cooperation (TC) measures, financing of studies, expert reports and implementation of small scale TC measures.  Preparation and appraisal of technical cooperation (TC) measures, financing of studies, expert reports and implementation of small scale TC measures.                                                                             24\n",
       "Keine englische Projektbezeichnung!. Kein englisches Projektziel!  Kein englisches Projektziel!                                                                                                                                                                                                                                                                                                                     8\n",
       "Studies and Experts Fund. Preparation and appraisal of technical cooperation (TC)  measures, financing of studies, expert reports and implementation of small scale TC measures.  Preparation and appraisal of technical cooperation (TC)  measures, financing of studies, expert reports and implementation of small scale TC measures.                                                                            4\n",
       "Internship Programme of the German Business for the countries of the Western Balkan. The employability of students and young graduates from the countries of the Western Balkans, who have participated in the internship programme, is improved.  The employability of students and young graduates from the countries of the Western Balkans, who have participated in the internship programme, is improved.     2\n",
       "Skills Development for Youth Employment (SKYE) II in Nigeria. Access to the labour market by current and future trainees and job seekers is improved in selected states.  Access to the labour market by current and future trainees and job seekers is improved in selected states.                                                                                                                                2\n",
       "                                                                                                                                                                                                                                                                                                                                                                                                                   ..\n",
       "Fund Policy Coherence for Sustainable Development. Policy Coherence for Sustainable Development  Policy Coherence for Sustainable Development                                                                                                                                                                                                                                                                       1\n",
       "International Agricultural Research. Products of development-oriented agricultural research are increasingly used by our target groups, female and male small-scale farmers.  Products of development-oriented agricultural research are increasingly used by our target groups, female and male small-scale farmers.                                                                                               1\n",
       "Global Business Network. The cooperation between local and German a. Europian enterprises and institutions in selected countries are improved.  The cooperation between local and German a. Europian enterprises and institutions in selected countries are improved.                                                                                                                                               1\n",
       "Sustainable Fisheries and Aquaculture. Fish products from sustainable and resource conserving wild catch and aquaculture through artisanal enterprises contribute to reducing food insecurity and malnutrition.  Fish products from sustainable and resource conserving wild catch and aquaculture through artisanal enterprises contribute to reducing food insecurity and malnutrition.                           1\n",
       "Preventing extremism by promoting the cultural sector. Crisis prevention and strengthening social cohesion by supporting the cultural sector in Mali                                                                                                                                                                                                                                                                1\n",
       "Name: count, Length: 1252, dtype: int64"
      ]
     },
     "execution_count": 56,
     "metadata": {},
     "output_type": "execute_result"
    }
   ],
   "source": [
    "giz_df[\"title_and_description\"].value_counts()\n"
   ]
  },
  {
   "cell_type": "code",
   "execution_count": 57,
   "metadata": {},
   "outputs": [
    {
     "data": {
      "text/plain": [
       "57"
      ]
     },
     "execution_count": 57,
     "metadata": {},
     "output_type": "execute_result"
    }
   ],
   "source": [
    "columns_to_check = ['title_main', 'description_main', \"country\"]\n",
    "\n",
    "duplicates = giz_df.duplicated(subset=columns_to_check, keep=False)\n",
    "\n",
    "number_of_duplicates = duplicates.sum()\n",
    "\n",
    "number_of_duplicates"
   ]
  },
  {
   "cell_type": "markdown",
   "metadata": {},
   "source": [
    "### **Auswärtiges Amt**\n",
    "\n",
    "70 duplicates with aa"
   ]
  },
  {
   "cell_type": "code",
   "execution_count": 64,
   "metadata": {},
   "outputs": [
    {
     "data": {
      "text/html": [
       "<div>\n",
       "<style scoped>\n",
       "    .dataframe tbody tr th:only-of-type {\n",
       "        vertical-align: middle;\n",
       "    }\n",
       "\n",
       "    .dataframe tbody tr th {\n",
       "        vertical-align: top;\n",
       "    }\n",
       "\n",
       "    .dataframe thead th {\n",
       "        text-align: right;\n",
       "    }\n",
       "</style>\n",
       "<table border=\"1\" class=\"dataframe\">\n",
       "  <thead>\n",
       "    <tr style=\"text-align: right;\">\n",
       "      <th></th>\n",
       "      <th>iati_id</th>\n",
       "      <th>iati_orga_id</th>\n",
       "      <th>orga_abbreviation</th>\n",
       "      <th>orga_full_name</th>\n",
       "      <th>client</th>\n",
       "      <th>title_en</th>\n",
       "      <th>title_other</th>\n",
       "      <th>title_main</th>\n",
       "      <th>organization</th>\n",
       "      <th>country_code</th>\n",
       "      <th>...</th>\n",
       "      <th>actual_end</th>\n",
       "      <th>last_update</th>\n",
       "      <th>crs_5_code</th>\n",
       "      <th>crs_5_name</th>\n",
       "      <th>crs_3_code</th>\n",
       "      <th>crs_3_name</th>\n",
       "      <th>docs</th>\n",
       "      <th>title_and_description</th>\n",
       "      <th>sgd_pred_code</th>\n",
       "      <th>sgd_pred_str</th>\n",
       "    </tr>\n",
       "  </thead>\n",
       "  <tbody>\n",
       "    <tr>\n",
       "      <th>28557</th>\n",
       "      <td>XM-DAC-5-7-6611296</td>\n",
       "      <td>XM-DAC-5-7</td>\n",
       "      <td>aa-other</td>\n",
       "      <td>Auswärtiges Amt - Other</td>\n",
       "      <td>AA</td>\n",
       "      <td>Support of Rule of Law El Salvador</td>\n",
       "      <td>Rechtsstaatsförderung El Salvador</td>\n",
       "      <td>Support of Rule of Law El Salvador</td>\n",
       "      <td>Germany - Federal Foreign Office</td>\n",
       "      <td>['SV']</td>\n",
       "      <td>...</td>\n",
       "      <td>NaN</td>\n",
       "      <td>2019-07-02T09:12:04Z</td>\n",
       "      <td>15130;</td>\n",
       "      <td>Legal and judicial development;</td>\n",
       "      <td>151;</td>\n",
       "      <td>Government &amp; Civil Society-general;</td>\n",
       "      <td>NaN</td>\n",
       "      <td>Support of Rule of Law El Salvador. Strengthen...</td>\n",
       "      <td>1</td>\n",
       "      <td>0    1. End poverty in all its forms everywher...</td>\n",
       "    </tr>\n",
       "    <tr>\n",
       "      <th>28558</th>\n",
       "      <td>XM-DAC-5-7-6611393</td>\n",
       "      <td>XM-DAC-5-7</td>\n",
       "      <td>aa-other</td>\n",
       "      <td>Auswärtiges Amt - Other</td>\n",
       "      <td>AA</td>\n",
       "      <td>UN Peacekeeping Mission MINUJUSTH</td>\n",
       "      <td>VN-Friendensmission MINUJUSTH in Haiti</td>\n",
       "      <td>UN Peacekeeping Mission MINUJUSTH</td>\n",
       "      <td>Germany - Federal Foreign Office</td>\n",
       "      <td>['HT']</td>\n",
       "      <td>...</td>\n",
       "      <td>NaN</td>\n",
       "      <td>2019-07-02T09:15:09Z</td>\n",
       "      <td>15230;</td>\n",
       "      <td>Participation in international peacekeeping op...</td>\n",
       "      <td>152;</td>\n",
       "      <td>Conflict, Peace &amp; Security;</td>\n",
       "      <td>NaN</td>\n",
       "      <td>UN Peacekeeping Mission MINUJUSTH. ​German ass...</td>\n",
       "      <td>13</td>\n",
       "      <td>12    13. Take urgent action to combat climate...</td>\n",
       "    </tr>\n",
       "  </tbody>\n",
       "</table>\n",
       "<p>2 rows × 30 columns</p>\n",
       "</div>"
      ],
      "text/plain": [
       "                  iati_id iati_orga_id orga_abbreviation  \\\n",
       "28557  XM-DAC-5-7-6611296   XM-DAC-5-7          aa-other   \n",
       "28558  XM-DAC-5-7-6611393   XM-DAC-5-7          aa-other   \n",
       "\n",
       "                orga_full_name client                            title_en  \\\n",
       "28557  Auswärtiges Amt - Other     AA  Support of Rule of Law El Salvador   \n",
       "28558  Auswärtiges Amt - Other     AA   UN Peacekeeping Mission MINUJUSTH   \n",
       "\n",
       "                                  title_other  \\\n",
       "28557       Rechtsstaatsförderung El Salvador   \n",
       "28558  VN-Friendensmission MINUJUSTH in Haiti   \n",
       "\n",
       "                               title_main                      organization  \\\n",
       "28557  Support of Rule of Law El Salvador  Germany - Federal Foreign Office   \n",
       "28558   UN Peacekeeping Mission MINUJUSTH  Germany - Federal Foreign Office   \n",
       "\n",
       "      country_code  ... actual_end           last_update crs_5_code  \\\n",
       "28557       ['SV']  ...        NaN  2019-07-02T09:12:04Z    15130;    \n",
       "28558       ['HT']  ...        NaN  2019-07-02T09:15:09Z    15230;    \n",
       "\n",
       "                                              crs_5_name crs_3_code  \\\n",
       "28557                   Legal and judicial development;       151;    \n",
       "28558  Participation in international peacekeeping op...      152;    \n",
       "\n",
       "                                 crs_3_name docs  \\\n",
       "28557  Government & Civil Society-general;   NaN   \n",
       "28558          Conflict, Peace & Security;   NaN   \n",
       "\n",
       "                                   title_and_description sgd_pred_code  \\\n",
       "28557  Support of Rule of Law El Salvador. Strengthen...             1   \n",
       "28558  UN Peacekeeping Mission MINUJUSTH. ​German ass...            13   \n",
       "\n",
       "                                            sgd_pred_str  \n",
       "28557  0    1. End poverty in all its forms everywher...  \n",
       "28558  12    13. Take urgent action to combat climate...  \n",
       "\n",
       "[2 rows x 30 columns]"
      ]
     },
     "execution_count": 64,
     "metadata": {},
     "output_type": "execute_result"
    }
   ],
   "source": [
    "aa_df = df[df[\"client\"] == \"AA\"]\n",
    "\n",
    "aa_df.head(2)"
   ]
  },
  {
   "cell_type": "code",
   "execution_count": 65,
   "metadata": {},
   "outputs": [
    {
     "data": {
      "text/plain": [
       "3143"
      ]
     },
     "execution_count": 65,
     "metadata": {},
     "output_type": "execute_result"
    }
   ],
   "source": [
    "len(aa_df)"
   ]
  },
  {
   "cell_type": "code",
   "execution_count": 66,
   "metadata": {},
   "outputs": [
    {
     "data": {
      "text/plain": [
       "title_and_description\n",
       "Contribution to the Migration Multi-Partner Trust Fund. This fund is a core element of the capacity building mechanism called for in the Global Compact on Migration (GCM). Building on existing initiatives, the project is intended to foster multi-partner cooperation in pursuit of GCM implementation, on a voluntary basis. As a tangible means of supporting Members States' implementation of the GCM and reflecting their commitment to that end, the aim of the Fund is to encourage innovation and the design of projects which can either be scaled up and/or replicated, while also complementing existing bilateral and multilateral funding instruments.    5\n",
       "Scholarships for foreign students. Development of educated classes in society, promotion of international exchange and networking                                                                                                                                                                                                                                                                                                                                                                                                                                                                                                                                          5\n",
       "Strengthening responses to security risks from climate change in South-Eastern Europe, Eastern Europe, Southern Caucasus and Central Asia. Effective implementation of cooperative measures in selected cross-border hotspot areas in the South Caucasus region. Improved ability of various stakeholders at local, national and regional levels to understand, prevent and mitigate potential security risks posed by climate change in the South Caucasus. Raising awareness of relevant actors on climate change and disaster risk reduction at regional level.                                                                                                         2\n",
       "Special scholarship program North Africa/Middle East - Konrad-Adenauer-Foundation (KAS). Promotion of particularly qualified applicants and doctoral students. Future elites will be familiarized with the German system of higher education and European values and, through their positive relationship with Germany, will later act as multipliers and contribute to stability and reforms in their home countries.                                                                                                                                                                                                                                                     2\n",
       "Voluntary Contribution to the Democratic Republic of Congo SCF. Support to MONUSCO activities and measures by contributing to the SCF                                                                                                                                                                                                                                                                                                                                                                                                                                                                                                                                      2\n",
       "                                                                                                                                                                                                                                                                                                                                                                                                                                                                                                                                                                                                                                                                          ..\n",
       "Pause/ Play Culture under Pressure. Implementation of projects through online seminars ans workshops in person, to bring together cultural workers an IT specialists from Belarus, Russia, Georgia, Ukraine an Germany to develop new strategies and digital tools for civil society and cultural activities.                                                                                                                                                                                                                                                                                                                                                              1\n",
       "Hospital Gulrez in Vahdat - Construction of new toilet facilities. Construction of new toilet and hand-washing facilities behind the main building of the hospital for outpatients and visitors. Improvement of sanitary conditions, risk reduction of spread of diseases, amelioration of living/treatment conditions during medical stay                                                                                                                                                                                                                                                                                                                                 1\n",
       "School No. 2 Vakhsh - Expansion of school building for deaf and hearing-speech impaired children. Since 2009, the school No. 2 in Vakhsh district has been offering basic literacy and primary education in special classes to 40-50 deaf and hearing-impaired children. The aim of the project is to improve the spatial conditions of the school through an extension (structural expansion) that is to serve as an anteroom, storage room and additional classroom.                                                                                                                                                                                                     1\n",
       "Greenhouse Bonskor, Qinghai Province,PR China. Construction of two greenhouses to improve the nutritional situation and to generate income                                                                                                                                                                                                                                                                                                                                                                                                                                                                                                                                 1\n",
       "Integrated humanitarian aid - in tangible and cash - and disaster risk reduction for those affected by climate-related crises in the Awdal region. Integrated humanitarian aid - in tangible and cash - and disaster risk reduction for those affected by climate-related crises in the Awdal region                                                                                                                                                                                                                                                                                                                                                                       1\n",
       "Name: count, Length: 3098, dtype: int64"
      ]
     },
     "execution_count": 66,
     "metadata": {},
     "output_type": "execute_result"
    }
   ],
   "source": [
    "aa_df[\"title_and_description\"].value_counts()"
   ]
  },
  {
   "cell_type": "code",
   "execution_count": 67,
   "metadata": {},
   "outputs": [
    {
     "data": {
      "text/plain": [
       "70"
      ]
     },
     "execution_count": 67,
     "metadata": {},
     "output_type": "execute_result"
    }
   ],
   "source": [
    "columns_to_check = ['title_main', 'description_main', \"country\"]\n",
    "\n",
    "duplicates = aa_df.duplicated(subset=columns_to_check, keep=False)\n",
    "\n",
    "number_of_duplicates = duplicates.sum()\n",
    "\n",
    "number_of_duplicates"
   ]
  }
 ],
 "metadata": {
  "kernelspec": {
   "display_name": "pamb2",
   "language": "python",
   "name": "python3"
  },
  "language_info": {
   "codemirror_mode": {
    "name": "ipython",
    "version": 3
   },
   "file_extension": ".py",
   "mimetype": "text/x-python",
   "name": "python",
   "nbconvert_exporter": "python",
   "pygments_lexer": "ipython3",
   "version": "3.10.8"
  }
 },
 "nbformat": 4,
 "nbformat_minor": 2
}
