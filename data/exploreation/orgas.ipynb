{
 "cells": [
  {
   "cell_type": "markdown",
   "metadata": {},
   "source": [
    "## **Dependencies**"
   ]
  },
  {
   "cell_type": "code",
   "execution_count": 39,
   "metadata": {},
   "outputs": [],
   "source": [
    "import pandas as pd\n",
    "import seaborn as sns\n",
    "import matplotlib.pyplot as plt"
   ]
  },
  {
   "cell_type": "markdown",
   "metadata": {},
   "source": [
    "## **Load Data**"
   ]
  },
  {
   "cell_type": "code",
   "execution_count": 40,
   "metadata": {},
   "outputs": [
    {
     "name": "stderr",
     "output_type": "stream",
     "text": [
      "C:\\Users\\UserNA6153\\AppData\\Local\\Temp\\ipykernel_5440\\3015842484.py:1: DtypeWarning: Columns (11,18,20,26) have mixed types. Specify dtype option on import or set low_memory=False.\n",
      "  df = pd.read_csv(\"../../src/merged_orgas.csv\")\n"
     ]
    },
    {
     "data": {
      "text/html": [
       "<div>\n",
       "<style scoped>\n",
       "    .dataframe tbody tr th:only-of-type {\n",
       "        vertical-align: middle;\n",
       "    }\n",
       "\n",
       "    .dataframe tbody tr th {\n",
       "        vertical-align: top;\n",
       "    }\n",
       "\n",
       "    .dataframe thead th {\n",
       "        text-align: right;\n",
       "    }\n",
       "</style>\n",
       "<table border=\"1\" class=\"dataframe\">\n",
       "  <thead>\n",
       "    <tr style=\"text-align: right;\">\n",
       "      <th></th>\n",
       "      <th>iati_id</th>\n",
       "      <th>iati_orga_id</th>\n",
       "      <th>orga_abbreviation</th>\n",
       "      <th>orga_full_name</th>\n",
       "      <th>client</th>\n",
       "      <th>title_en</th>\n",
       "      <th>title_other</th>\n",
       "      <th>title_main</th>\n",
       "      <th>organization</th>\n",
       "      <th>country_code</th>\n",
       "      <th>...</th>\n",
       "      <th>actual_end</th>\n",
       "      <th>last_update</th>\n",
       "      <th>crs_5_code</th>\n",
       "      <th>crs_5_name</th>\n",
       "      <th>crs_3_code</th>\n",
       "      <th>crs_3_name</th>\n",
       "      <th>docs</th>\n",
       "      <th>title_and_description</th>\n",
       "      <th>sgd_pred_code</th>\n",
       "      <th>sgd_pred_str</th>\n",
       "    </tr>\n",
       "  </thead>\n",
       "  <tbody>\n",
       "    <tr>\n",
       "      <th>0</th>\n",
       "      <td>DE-1-201401124-0</td>\n",
       "      <td>DE-1</td>\n",
       "      <td>bmz</td>\n",
       "      <td>Bundesministerium für wirtschaftliche Zusammen...</td>\n",
       "      <td>BMZ</td>\n",
       "      <td>Kenia Protected Relief and Recovery Programme ...</td>\n",
       "      <td>Kenia Protected Relief and Recovery Programme ...</td>\n",
       "      <td>Kenia Protected Relief and Recovery Programme ...</td>\n",
       "      <td>Bundesministerium für wirtschaftliche Zusammen...</td>\n",
       "      <td>['KE']</td>\n",
       "      <td>...</td>\n",
       "      <td>2019-12-31T00:00:00Z</td>\n",
       "      <td>2024-03-06T00:00:00Z</td>\n",
       "      <td>52010;</td>\n",
       "      <td>Food assistance;</td>\n",
       "      <td>520;</td>\n",
       "      <td>Development Food Assistance;</td>\n",
       "      <td>['https://www.bmz.de/de/laender/kenia', 'https...</td>\n",
       "      <td>Kenia Protected Relief and Recovery Programme ...</td>\n",
       "      <td>2</td>\n",
       "      <td>1    2. End hunger, achieve food security and ...</td>\n",
       "    </tr>\n",
       "    <tr>\n",
       "      <th>1</th>\n",
       "      <td>DE-1-201732015-0</td>\n",
       "      <td>DE-1</td>\n",
       "      <td>bmz</td>\n",
       "      <td>Bundesministerium für wirtschaftliche Zusammen...</td>\n",
       "      <td>BMZ</td>\n",
       "      <td>Education and support of peace promoters and i...</td>\n",
       "      <td>Ausbildung und Begleitung von Friedenspromotor...</td>\n",
       "      <td>Education and support of peace promoters and i...</td>\n",
       "      <td>Bundesministerium für wirtschaftliche Zusammen...</td>\n",
       "      <td>['CO']</td>\n",
       "      <td>...</td>\n",
       "      <td>2019-12-31T00:00:00Z</td>\n",
       "      <td>2024-03-06T00:00:00Z</td>\n",
       "      <td>15220;</td>\n",
       "      <td>Civilian peace-building, conflict prevention a...</td>\n",
       "      <td>152;</td>\n",
       "      <td>Conflict, Peace &amp; Security;</td>\n",
       "      <td>['https://www.bmz.de/de/laender/kolumbien', 'h...</td>\n",
       "      <td>Education and support of peace promoters and i...</td>\n",
       "      <td>4</td>\n",
       "      <td>3    4. Ensure inclusive and equitable quality...</td>\n",
       "    </tr>\n",
       "    <tr>\n",
       "      <th>2</th>\n",
       "      <td>DE-1-201401181-0</td>\n",
       "      <td>DE-1</td>\n",
       "      <td>bmz</td>\n",
       "      <td>Bundesministerium für wirtschaftliche Zusammen...</td>\n",
       "      <td>BMZ</td>\n",
       "      <td>Kenya Protected Relief and Recovery Programme ...</td>\n",
       "      <td>Kenia Protected Relief and Recovery Programme ...</td>\n",
       "      <td>Kenya Protected Relief and Recovery Programme ...</td>\n",
       "      <td>Bundesministerium für wirtschaftliche Zusammen...</td>\n",
       "      <td>['KE']</td>\n",
       "      <td>...</td>\n",
       "      <td>2019-12-31T00:00:00Z</td>\n",
       "      <td>2024-03-06T00:00:00Z</td>\n",
       "      <td>52010;</td>\n",
       "      <td>Food assistance;</td>\n",
       "      <td>520;</td>\n",
       "      <td>Development Food Assistance;</td>\n",
       "      <td>['https://www.bmz.de/de/laender/kenia', 'https...</td>\n",
       "      <td>Kenya Protected Relief and Recovery Programme ...</td>\n",
       "      <td>2</td>\n",
       "      <td>1    2. End hunger, achieve food security and ...</td>\n",
       "    </tr>\n",
       "    <tr>\n",
       "      <th>3</th>\n",
       "      <td>DE-1-201732049-0</td>\n",
       "      <td>DE-1</td>\n",
       "      <td>bmz</td>\n",
       "      <td>Bundesministerium für wirtschaftliche Zusammen...</td>\n",
       "      <td>BMZ</td>\n",
       "      <td>Psychosocial support of violent crime victims ...</td>\n",
       "      <td>Psychosoziale Begleitung von Gewaltopfern und ...</td>\n",
       "      <td>Psychosocial support of violent crime victims ...</td>\n",
       "      <td>Bundesministerium für wirtschaftliche Zusammen...</td>\n",
       "      <td>['CO']</td>\n",
       "      <td>...</td>\n",
       "      <td>2019-12-31T00:00:00Z</td>\n",
       "      <td>2024-03-06T00:00:00Z</td>\n",
       "      <td>15220;</td>\n",
       "      <td>Civilian peace-building, conflict prevention a...</td>\n",
       "      <td>152;</td>\n",
       "      <td>Conflict, Peace &amp; Security;</td>\n",
       "      <td>['https://www.bmz.de/de/laender/kolumbien', 'h...</td>\n",
       "      <td>Psychosocial support of violent crime victims ...</td>\n",
       "      <td>3</td>\n",
       "      <td>2    3. Ensure healthy lives and promote well-...</td>\n",
       "    </tr>\n",
       "    <tr>\n",
       "      <th>4</th>\n",
       "      <td>DE-1-201732064-0</td>\n",
       "      <td>DE-1</td>\n",
       "      <td>bmz</td>\n",
       "      <td>Bundesministerium für wirtschaftliche Zusammen...</td>\n",
       "      <td>BMZ</td>\n",
       "      <td>Technical and methodological consultancy for p...</td>\n",
       "      <td>Fachliche und methodische Beratung ausgewählte...</td>\n",
       "      <td>Technical and methodological consultancy for p...</td>\n",
       "      <td>Bundesministerium für wirtschaftliche Zusammen...</td>\n",
       "      <td>['CO']</td>\n",
       "      <td>...</td>\n",
       "      <td>2019-12-31T00:00:00Z</td>\n",
       "      <td>2024-03-06T00:00:00Z</td>\n",
       "      <td>43010;</td>\n",
       "      <td>Multisector aid;</td>\n",
       "      <td>430;</td>\n",
       "      <td>Other Multisector;</td>\n",
       "      <td>['https://www.bmz.de/de/laender/kolumbien', 'h...</td>\n",
       "      <td>Technical and methodological consultancy for p...</td>\n",
       "      <td>11</td>\n",
       "      <td>10    11. Make cities and human settlements in...</td>\n",
       "    </tr>\n",
       "  </tbody>\n",
       "</table>\n",
       "<p>5 rows × 30 columns</p>\n",
       "</div>"
      ],
      "text/plain": [
       "            iati_id iati_orga_id orga_abbreviation  \\\n",
       "0  DE-1-201401124-0         DE-1               bmz   \n",
       "1  DE-1-201732015-0         DE-1               bmz   \n",
       "2  DE-1-201401181-0         DE-1               bmz   \n",
       "3  DE-1-201732049-0         DE-1               bmz   \n",
       "4  DE-1-201732064-0         DE-1               bmz   \n",
       "\n",
       "                                      orga_full_name client  \\\n",
       "0  Bundesministerium für wirtschaftliche Zusammen...    BMZ   \n",
       "1  Bundesministerium für wirtschaftliche Zusammen...    BMZ   \n",
       "2  Bundesministerium für wirtschaftliche Zusammen...    BMZ   \n",
       "3  Bundesministerium für wirtschaftliche Zusammen...    BMZ   \n",
       "4  Bundesministerium für wirtschaftliche Zusammen...    BMZ   \n",
       "\n",
       "                                            title_en  \\\n",
       "0  Kenia Protected Relief and Recovery Programme ...   \n",
       "1  Education and support of peace promoters and i...   \n",
       "2  Kenya Protected Relief and Recovery Programme ...   \n",
       "3  Psychosocial support of violent crime victims ...   \n",
       "4  Technical and methodological consultancy for p...   \n",
       "\n",
       "                                         title_other  \\\n",
       "0  Kenia Protected Relief and Recovery Programme ...   \n",
       "1  Ausbildung und Begleitung von Friedenspromotor...   \n",
       "2  Kenia Protected Relief and Recovery Programme ...   \n",
       "3  Psychosoziale Begleitung von Gewaltopfern und ...   \n",
       "4  Fachliche und methodische Beratung ausgewählte...   \n",
       "\n",
       "                                          title_main  \\\n",
       "0  Kenia Protected Relief and Recovery Programme ...   \n",
       "1  Education and support of peace promoters and i...   \n",
       "2  Kenya Protected Relief and Recovery Programme ...   \n",
       "3  Psychosocial support of violent crime victims ...   \n",
       "4  Technical and methodological consultancy for p...   \n",
       "\n",
       "                                        organization country_code  ...  \\\n",
       "0  Bundesministerium für wirtschaftliche Zusammen...       ['KE']  ...   \n",
       "1  Bundesministerium für wirtschaftliche Zusammen...       ['CO']  ...   \n",
       "2  Bundesministerium für wirtschaftliche Zusammen...       ['KE']  ...   \n",
       "3  Bundesministerium für wirtschaftliche Zusammen...       ['CO']  ...   \n",
       "4  Bundesministerium für wirtschaftliche Zusammen...       ['CO']  ...   \n",
       "\n",
       "             actual_end           last_update crs_5_code  \\\n",
       "0  2019-12-31T00:00:00Z  2024-03-06T00:00:00Z    52010;    \n",
       "1  2019-12-31T00:00:00Z  2024-03-06T00:00:00Z    15220;    \n",
       "2  2019-12-31T00:00:00Z  2024-03-06T00:00:00Z    52010;    \n",
       "3  2019-12-31T00:00:00Z  2024-03-06T00:00:00Z    15220;    \n",
       "4  2019-12-31T00:00:00Z  2024-03-06T00:00:00Z    43010;    \n",
       "\n",
       "                                          crs_5_name crs_3_code  \\\n",
       "0                                  Food assistance;       520;    \n",
       "1  Civilian peace-building, conflict prevention a...      152;    \n",
       "2                                  Food assistance;       520;    \n",
       "3  Civilian peace-building, conflict prevention a...      152;    \n",
       "4                                  Multisector aid;       430;    \n",
       "\n",
       "                      crs_3_name  \\\n",
       "0  Development Food Assistance;    \n",
       "1   Conflict, Peace & Security;    \n",
       "2  Development Food Assistance;    \n",
       "3   Conflict, Peace & Security;    \n",
       "4            Other Multisector;    \n",
       "\n",
       "                                                docs  \\\n",
       "0  ['https://www.bmz.de/de/laender/kenia', 'https...   \n",
       "1  ['https://www.bmz.de/de/laender/kolumbien', 'h...   \n",
       "2  ['https://www.bmz.de/de/laender/kenia', 'https...   \n",
       "3  ['https://www.bmz.de/de/laender/kolumbien', 'h...   \n",
       "4  ['https://www.bmz.de/de/laender/kolumbien', 'h...   \n",
       "\n",
       "                               title_and_description sgd_pred_code  \\\n",
       "0  Kenia Protected Relief and Recovery Programme ...             2   \n",
       "1  Education and support of peace promoters and i...             4   \n",
       "2  Kenya Protected Relief and Recovery Programme ...             2   \n",
       "3  Psychosocial support of violent crime victims ...             3   \n",
       "4  Technical and methodological consultancy for p...            11   \n",
       "\n",
       "                                        sgd_pred_str  \n",
       "0  1    2. End hunger, achieve food security and ...  \n",
       "1  3    4. Ensure inclusive and equitable quality...  \n",
       "2  1    2. End hunger, achieve food security and ...  \n",
       "3  2    3. Ensure healthy lives and promote well-...  \n",
       "4  10    11. Make cities and human settlements in...  \n",
       "\n",
       "[5 rows x 30 columns]"
      ]
     },
     "execution_count": 40,
     "metadata": {},
     "output_type": "execute_result"
    }
   ],
   "source": [
    "df = pd.read_csv(\"../../src/merged_orgas.csv\")\n",
    "df.head()"
   ]
  },
  {
   "cell_type": "code",
   "execution_count": 41,
   "metadata": {},
   "outputs": [
    {
     "data": {
      "text/plain": [
       "Index(['iati_id', 'iati_orga_id', 'orga_abbreviation', 'orga_full_name',\n",
       "       'client', 'title_en', 'title_other', 'title_main', 'organization',\n",
       "       'country_code', 'country', 'region', 'location', 'description_en',\n",
       "       'description_other', 'description_main', 'status', 'planned_start',\n",
       "       'actual_start', 'planned_end', 'actual_end', 'last_update',\n",
       "       'crs_5_code', 'crs_5_name', 'crs_3_code', 'crs_3_name', 'docs',\n",
       "       'title_and_description', 'sgd_pred_code', 'sgd_pred_str'],\n",
       "      dtype='object')"
      ]
     },
     "execution_count": 41,
     "metadata": {},
     "output_type": "execute_result"
    }
   ],
   "source": [
    "df.columns"
   ]
  },
  {
   "cell_type": "markdown",
   "metadata": {},
   "source": [
    "## **Number Of All Projects**"
   ]
  },
  {
   "cell_type": "code",
   "execution_count": 45,
   "metadata": {},
   "outputs": [
    {
     "name": "stdout",
     "output_type": "stream",
     "text": [
      "32778\n"
     ]
    }
   ],
   "source": [
    "print(len(df))"
   ]
  },
  {
   "cell_type": "markdown",
   "metadata": {},
   "source": [
    "## **Projects Per Organization**"
   ]
  },
  {
   "cell_type": "code",
   "execution_count": 46,
   "metadata": {},
   "outputs": [],
   "source": [
    "orga_pjs = df[\"orga_abbreviation\"].value_counts().to_dict()\n",
    "\n",
    "orga_pjs_df = pd.DataFrame(list(orga_pjs.items()), columns=['Organization', 'Projects'])\n",
    "df_sorted = orga_pjs_df.sort_values('Projects', ascending=False)"
   ]
  },
  {
   "cell_type": "code",
   "execution_count": 47,
   "metadata": {},
   "outputs": [
    {
     "data": {
      "image/png": "[encoded data removed]",
      "text/plain": [
       "<Figure size 1000x600 with 1 Axes>"
      ]
     },
     "metadata": {},
     "output_type": "display_data"
    }
   ],
   "source": [
    "plt.figure(figsize=(10, 6))\n",
    "sns.barplot(x='Projects', y='Organization', data=df_sorted, palette='coolwarm')\n",
    "plt.title('Number of Projects by Organization')\n",
    "plt.xlabel('Number of Projects')\n",
    "plt.ylabel('Organization')\n",
    "plt.tight_layout()\n",
    "plt.show()"
   ]
  },
  {
   "cell_type": "markdown",
   "metadata": {},
   "source": [
    "## **GIZ Project By Client**"
   ]
  },
  {
   "cell_type": "code",
   "execution_count": 48,
   "metadata": {},
   "outputs": [
    {
     "data": {
      "text/html": [
       "<div>\n",
       "<style scoped>\n",
       "    .dataframe tbody tr th:only-of-type {\n",
       "        vertical-align: middle;\n",
       "    }\n",
       "\n",
       "    .dataframe tbody tr th {\n",
       "        vertical-align: top;\n",
       "    }\n",
       "\n",
       "    .dataframe thead th {\n",
       "        text-align: right;\n",
       "    }\n",
       "</style>\n",
       "<table border=\"1\" class=\"dataframe\">\n",
       "  <thead>\n",
       "    <tr style=\"text-align: right;\">\n",
       "      <th></th>\n",
       "      <th>Organization</th>\n",
       "      <th>Projects</th>\n",
       "    </tr>\n",
       "  </thead>\n",
       "  <tbody>\n",
       "    <tr>\n",
       "      <th>0</th>\n",
       "      <td>BMZ</td>\n",
       "      <td>977</td>\n",
       "    </tr>\n",
       "    <tr>\n",
       "      <th>1</th>\n",
       "      <td>GIZ-NON-BMZ</td>\n",
       "      <td>44</td>\n",
       "    </tr>\n",
       "    <tr>\n",
       "      <th>2</th>\n",
       "      <td>AA</td>\n",
       "      <td>11</td>\n",
       "    </tr>\n",
       "  </tbody>\n",
       "</table>\n",
       "</div>"
      ],
      "text/plain": [
       "  Organization  Projects\n",
       "0          BMZ       977\n",
       "1  GIZ-NON-BMZ        44\n",
       "2           AA        11"
      ]
     },
     "execution_count": 48,
     "metadata": {},
     "output_type": "execute_result"
    }
   ],
   "source": [
    "giz_clients = df[df[\"orga_abbreviation\"]== \"giz\"][\"client\"].value_counts().to_dict()\n",
    "\n",
    "giz_clients_df = pd.DataFrame(list(giz_clients.items()), columns=['Organization', 'Projects'])\n",
    "df_sorted = giz_clients_df.sort_values('Projects', ascending=False)\n",
    "df_sorted"
   ]
  },
  {
   "cell_type": "code",
   "execution_count": 49,
   "metadata": {},
   "outputs": [
    {
     "data": {
      "image/png": "[encoded data removed]",
      "text/plain": [
       "<Figure size 1000x600 with 1 Axes>"
      ]
     },
     "metadata": {},
     "output_type": "display_data"
    }
   ],
   "source": [
    "plt.figure(figsize=(10, 6))\n",
    "sns.barplot(x='Projects', y='Organization', data=df_sorted, palette='coolwarm')\n",
    "plt.title('Clients OF GIZ Projects')\n",
    "plt.xlabel('Number of Projects')\n",
    "plt.ylabel('Organization')\n",
    "plt.tight_layout()\n",
    "plt.show()"
   ]
  },
  {
   "cell_type": "markdown",
   "metadata": {},
   "source": [
    "## **KfW Projects By Client**"
   ]
  },
  {
   "cell_type": "code",
   "execution_count": 50,
   "metadata": {},
   "outputs": [],
   "source": [
    "kfw_clients = df[df[\"orga_abbreviation\"]== \"kfw\"][\"client\"].value_counts().to_dict()\n",
    "\n",
    "kfw_clients_df = pd.DataFrame(list(kfw_clients.items()), columns=['Organization', 'Projects'])\n",
    "df_sorted = kfw_clients_df.sort_values('Projects', ascending=False)"
   ]
  },
  {
   "cell_type": "code",
   "execution_count": 51,
   "metadata": {},
   "outputs": [
    {
     "data": {
      "image/png": "[encoded data removed]",
      "text/plain": [
       "<Figure size 1000x600 with 1 Axes>"
      ]
     },
     "metadata": {},
     "output_type": "display_data"
    }
   ],
   "source": [
    "plt.figure(figsize=(10, 6))\n",
    "sns.barplot(x='Projects', y='Organization', data=df_sorted, palette='coolwarm')\n",
    "plt.title('Clients OF GIZ Projects')\n",
    "plt.xlabel('Number of Projects')\n",
    "plt.ylabel('Organization')\n",
    "plt.tight_layout()\n",
    "plt.show()"
   ]
  }
 ],
 "metadata": {
  "kernelspec": {
   "display_name": "pamb",
   "language": "python",
   "name": "python3"
  },
  "language_info": {
   "codemirror_mode": {
    "name": "ipython",
    "version": 3
   },
   "file_extension": ".py",
   "mimetype": "text/x-python",
   "name": "python",
   "nbconvert_exporter": "python",
   "pygments_lexer": "ipython3",
   "version": "3.10.13"
  }
 },
 "nbformat": 4,
 "nbformat_minor": 2
}
