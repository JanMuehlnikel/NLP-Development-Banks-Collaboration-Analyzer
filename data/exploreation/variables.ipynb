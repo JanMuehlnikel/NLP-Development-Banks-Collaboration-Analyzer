{
 "cells": [
  {
   "cell_type": "code",
   "execution_count": 1,
   "metadata": {},
   "outputs": [],
   "source": [
    "import pandas as pd"
   ]
  },
  {
   "cell_type": "code",
   "execution_count": 3,
   "metadata": {},
   "outputs": [
    {
     "name": "stdout",
     "output_type": "stream",
     "text": [
      "<class 'pandas.core.frame.DataFrame'>\n",
      "RangeIndex: 54081 entries, 0 to 54080\n",
      "Data columns (total 30 columns):\n",
      " #   Column                 Non-Null Count  Dtype \n",
      "---  ------                 --------------  ----- \n",
      " 0   iati_id                54081 non-null  object\n",
      " 1   iati_orga_id           54081 non-null  object\n",
      " 2   orga_abbreviation      54081 non-null  object\n",
      " 3   orga_full_name         54081 non-null  object\n",
      " 4   client                 54081 non-null  object\n",
      " 5   title_en               52929 non-null  object\n",
      " 6   title_other            44505 non-null  object\n",
      " 7   title_main             54081 non-null  object\n",
      " 8   organization           54081 non-null  object\n",
      " 9   country_code           43060 non-null  object\n",
      " 10  country                43060 non-null  object\n",
      " 11  region                 11051 non-null  object\n",
      " 12  location               34513 non-null  object\n",
      " 13  description_en         52062 non-null  object\n",
      " 14  description_other      44281 non-null  object\n",
      " 15  description_main       53977 non-null  object\n",
      " 16  status                 54081 non-null  object\n",
      " 17  planned_start          53361 non-null  object\n",
      " 18  actual_start           46734 non-null  object\n",
      " 19  planned_end            54081 non-null  object\n",
      " 20  actual_end             46734 non-null  object\n",
      " 21  last_update            54081 non-null  object\n",
      " 22  crs_5_code             52648 non-null  object\n",
      " 23  crs_5_name             52648 non-null  object\n",
      " 24  crs_3_code             52648 non-null  object\n",
      " 25  crs_3_name             52648 non-null  object\n",
      " 26  docs                   36096 non-null  object\n",
      " 27  title_and_description  54081 non-null  object\n",
      " 28  sgd_pred_code          54081 non-null  int64 \n",
      " 29  sgd_pred_str           54081 non-null  object\n",
      "dtypes: int64(1), object(29)\n",
      "memory usage: 12.4+ MB\n"
     ]
    }
   ],
   "source": [
    "df = pd.read_csv(\"../../src/merged_orgas.csv\")\n",
    "df.info()"
   ]
  },
  {
   "cell_type": "code",
   "execution_count": 12,
   "metadata": {},
   "outputs": [
    {
     "data": {
      "text/plain": [
       "status\n",
       "Finalisation               25821\n",
       "Implementation             13939\n",
       "Closed                     13558\n",
       "Pipeline/identification      443\n",
       "Cancelled                    312\n",
       "Suspended                      8\n",
       "Name: count, dtype: int64"
      ]
     },
     "execution_count": 12,
     "metadata": {},
     "output_type": "execute_result"
    }
   ],
   "source": [
    "status_list = df[\"status\"].value_counts()\n",
    "status_list"
   ]
  },
  {
   "cell_type": "code",
   "execution_count": 14,
   "metadata": {},
   "outputs": [
    {
     "data": {
      "text/plain": [
       "orga_abbreviation\n",
       "bmz         23662\n",
       "aa-other     7254\n",
       "afdb         4604\n",
       "kfw          4529\n",
       "wb           4389\n",
       "giz          3530\n",
       "adb          2638\n",
       "iad          1762\n",
       "wbtf          993\n",
       "eib           720\n",
       "Name: count, dtype: int64"
      ]
     },
     "execution_count": 14,
     "metadata": {},
     "output_type": "execute_result"
    }
   ],
   "source": [
    "orga_list = df[\"orga_abbreviation\"].value_counts()\n",
    "orga_list"
   ]
  },
  {
   "cell_type": "code",
   "execution_count": 29,
   "metadata": {},
   "outputs": [],
   "source": [
    "df_non_closed = df[~((df['status'] == 'Closed') | (df['status'] == 'Cancelled') | (df['status'] == 'Suspended'))]\n",
    "df_non_closed = df_non_closed.drop_duplicates(keep=\"first\")"
   ]
  },
  {
   "cell_type": "code",
   "execution_count": 30,
   "metadata": {},
   "outputs": [
    {
     "data": {
      "text/plain": [
       "34523"
      ]
     },
     "execution_count": 30,
     "metadata": {},
     "output_type": "execute_result"
    }
   ],
   "source": [
    "len(df_non_closed)"
   ]
  },
  {
   "cell_type": "code",
   "execution_count": 31,
   "metadata": {},
   "outputs": [
    {
     "data": {
      "text/plain": [
       "status\n",
       "Finalisation               22307\n",
       "Implementation             11798\n",
       "Pipeline/identification      418\n",
       "Name: count, dtype: int64"
      ]
     },
     "execution_count": 31,
     "metadata": {},
     "output_type": "execute_result"
    }
   ],
   "source": [
    "df_non_closed[\"status\"].value_counts()"
   ]
  },
  {
   "cell_type": "code",
   "execution_count": 32,
   "metadata": {},
   "outputs": [
    {
     "data": {
      "text/plain": [
       "orga_abbreviation\n",
       "bmz         15393\n",
       "afdb         3750\n",
       "aa-other     3616\n",
       "wb           3495\n",
       "adb          2601\n",
       "kfw          2035\n",
       "giz          1475\n",
       "wbtf          993\n",
       "eib           674\n",
       "iad           491\n",
       "Name: count, dtype: int64"
      ]
     },
     "execution_count": 32,
     "metadata": {},
     "output_type": "execute_result"
    }
   ],
   "source": [
    "df_non_closed[\"orga_abbreviation\"].value_counts()"
   ]
  },
  {
   "cell_type": "code",
   "execution_count": 33,
   "metadata": {},
   "outputs": [],
   "source": [
    "df_non_closed.to_csv(\"../../src/non_closed.csv\")"
   ]
  }
 ],
 "metadata": {
  "kernelspec": {
   "display_name": "pamb",
   "language": "python",
   "name": "python3"
  },
  "language_info": {
   "codemirror_mode": {
    "name": "ipython",
    "version": 3
   },
   "file_extension": ".py",
   "mimetype": "text/x-python",
   "name": "python",
   "nbconvert_exporter": "python",
   "pygments_lexer": "ipython3",
   "version": "3.10.13"
  }
 },
 "nbformat": 4,
 "nbformat_minor": 2
}
