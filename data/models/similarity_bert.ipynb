{
 "cells": [
  {
   "cell_type": "markdown",
   "metadata": {},
   "source": [
    "## **Dependencies**"
   ]
  },
  {
   "cell_type": "code",
   "execution_count": 22,
   "metadata": {},
   "outputs": [],
   "source": [
    "from transformers import BertTokenizer, BertModel\n",
    "from tqdm import tqdm\n",
    "from scipy.spatial.distance import cosine\n",
    "import pandas as pd\n",
    "import numpy as np"
   ]
  },
  {
   "cell_type": "markdown",
   "metadata": {},
   "source": [
    "## **Load Data**"
   ]
  },
  {
   "cell_type": "code",
   "execution_count": 23,
   "metadata": {},
   "outputs": [
    {
     "data": {
      "text/html": [
       "<div>\n",
       "<style scoped>\n",
       "    .dataframe tbody tr th:only-of-type {\n",
       "        vertical-align: middle;\n",
       "    }\n",
       "\n",
       "    .dataframe tbody tr th {\n",
       "        vertical-align: top;\n",
       "    }\n",
       "\n",
       "    .dataframe thead th {\n",
       "        text-align: right;\n",
       "    }\n",
       "</style>\n",
       "<table border=\"1\" class=\"dataframe\">\n",
       "  <thead>\n",
       "    <tr style=\"text-align: right;\">\n",
       "      <th></th>\n",
       "      <th>iati_id</th>\n",
       "      <th>iati_orga_id</th>\n",
       "      <th>orga_abbreviation</th>\n",
       "      <th>orga_full_name</th>\n",
       "      <th>client</th>\n",
       "      <th>title_en</th>\n",
       "      <th>title_other</th>\n",
       "      <th>title_main</th>\n",
       "      <th>organization</th>\n",
       "      <th>country_code</th>\n",
       "      <th>...</th>\n",
       "      <th>actual_end</th>\n",
       "      <th>last_update</th>\n",
       "      <th>crs_5_code</th>\n",
       "      <th>crs_5_name</th>\n",
       "      <th>crs_3_code</th>\n",
       "      <th>crs_3_name</th>\n",
       "      <th>docs</th>\n",
       "      <th>title_and_description</th>\n",
       "      <th>sgd_pred_code</th>\n",
       "      <th>sgd_pred_str</th>\n",
       "    </tr>\n",
       "  </thead>\n",
       "  <tbody>\n",
       "    <tr>\n",
       "      <th>0</th>\n",
       "      <td>DE-1-201420207</td>\n",
       "      <td>DE-1</td>\n",
       "      <td>giz</td>\n",
       "      <td>Deutsche Gesellschaft für Internationale Zusam...</td>\n",
       "      <td>BMZ</td>\n",
       "      <td>Environmental and climate governance</td>\n",
       "      <td>Umwelt- und Klimagovernance</td>\n",
       "      <td>Environmental and climate governance</td>\n",
       "      <td>Bundesministerium für wirtschaftliche Zusammen...</td>\n",
       "      <td>['MA']</td>\n",
       "      <td>...</td>\n",
       "      <td>2022-06-30T00:00:00Z</td>\n",
       "      <td>2024-02-29T00:00:00Z</td>\n",
       "      <td>41010;</td>\n",
       "      <td>Environmental policy and administrative manage...</td>\n",
       "      <td>410;</td>\n",
       "      <td>General Environment Protection;</td>\n",
       "      <td>['https://www.giz.de/projektdaten/projects.act...</td>\n",
       "      <td>Environmental and climate governance. Public, ...</td>\n",
       "      <td>9</td>\n",
       "      <td>8    Goal 9. Build resilient infrastructure, p...</td>\n",
       "    </tr>\n",
       "    <tr>\n",
       "      <th>1</th>\n",
       "      <td>DE-1-201516970-0</td>\n",
       "      <td>DE-1</td>\n",
       "      <td>bmz</td>\n",
       "      <td>Bundesministerium für wirtschaftliche Zusammen...</td>\n",
       "      <td>BMZ</td>\n",
       "      <td>Acquisition of a chateau d´eau for water stock</td>\n",
       "      <td>Anschaffung eines Wasserturms zur Wasserspeich...</td>\n",
       "      <td>Acquisition of a chateau d´eau for water stock</td>\n",
       "      <td>Bundesministerium für wirtschaftliche Zusammen...</td>\n",
       "      <td>['SN']</td>\n",
       "      <td>...</td>\n",
       "      <td>2022-06-30T00:00:00Z</td>\n",
       "      <td>2024-03-06T00:00:00Z</td>\n",
       "      <td>14030;</td>\n",
       "      <td>Basic drinking water supply and basic sanitati...</td>\n",
       "      <td>140;</td>\n",
       "      <td>Water Supply &amp; Sanitation;</td>\n",
       "      <td>['https://www.bmz.de/de/laender/senegal', 'htt...</td>\n",
       "      <td>Acquisition of a chateau d´eau for water stock...</td>\n",
       "      <td>6</td>\n",
       "      <td>5    Goal 6. Ensure availability and sustainab...</td>\n",
       "    </tr>\n",
       "    <tr>\n",
       "      <th>2</th>\n",
       "      <td>DE-1-201601228-1705</td>\n",
       "      <td>DE-1</td>\n",
       "      <td>bmz</td>\n",
       "      <td>Bundesministerium für wirtschaftliche Zusammen...</td>\n",
       "      <td>BMZ</td>\n",
       "      <td>Multisectoral food and nutrition security for ...</td>\n",
       "      <td>Multisektorale Ernährungssicherung für junge K...</td>\n",
       "      <td>Multisectoral food and nutrition security for ...</td>\n",
       "      <td>Bundesministerium für wirtschaftliche Zusammen...</td>\n",
       "      <td>['MW']</td>\n",
       "      <td>...</td>\n",
       "      <td>2022-06-30T00:00:00Z</td>\n",
       "      <td>2024-03-06T00:00:00Z</td>\n",
       "      <td>31120;</td>\n",
       "      <td>Agricultural development;</td>\n",
       "      <td>311;</td>\n",
       "      <td>Agriculture;</td>\n",
       "      <td>['https://www.bmz.de/de/laender/malawi', 'http...</td>\n",
       "      <td>Multisectoral food and nutrition security for ...</td>\n",
       "      <td>2</td>\n",
       "      <td>1    Goal 2. End hunger, achieve food security...</td>\n",
       "    </tr>\n",
       "  </tbody>\n",
       "</table>\n",
       "<p>3 rows × 30 columns</p>\n",
       "</div>"
      ],
      "text/plain": [
       "               iati_id iati_orga_id orga_abbreviation  \\\n",
       "0       DE-1-201420207         DE-1               giz   \n",
       "1     DE-1-201516970-0         DE-1               bmz   \n",
       "2  DE-1-201601228-1705         DE-1               bmz   \n",
       "\n",
       "                                      orga_full_name client  \\\n",
       "0  Deutsche Gesellschaft für Internationale Zusam...    BMZ   \n",
       "1  Bundesministerium für wirtschaftliche Zusammen...    BMZ   \n",
       "2  Bundesministerium für wirtschaftliche Zusammen...    BMZ   \n",
       "\n",
       "                                            title_en  \\\n",
       "0               Environmental and climate governance   \n",
       "1     Acquisition of a chateau d´eau for water stock   \n",
       "2  Multisectoral food and nutrition security for ...   \n",
       "\n",
       "                                         title_other  \\\n",
       "0                        Umwelt- und Klimagovernance   \n",
       "1  Anschaffung eines Wasserturms zur Wasserspeich...   \n",
       "2  Multisektorale Ernährungssicherung für junge K...   \n",
       "\n",
       "                                          title_main  \\\n",
       "0               Environmental and climate governance   \n",
       "1     Acquisition of a chateau d´eau for water stock   \n",
       "2  Multisectoral food and nutrition security for ...   \n",
       "\n",
       "                                        organization country_code  ...  \\\n",
       "0  Bundesministerium für wirtschaftliche Zusammen...       ['MA']  ...   \n",
       "1  Bundesministerium für wirtschaftliche Zusammen...       ['SN']  ...   \n",
       "2  Bundesministerium für wirtschaftliche Zusammen...       ['MW']  ...   \n",
       "\n",
       "             actual_end           last_update crs_5_code  \\\n",
       "0  2022-06-30T00:00:00Z  2024-02-29T00:00:00Z    41010;    \n",
       "1  2022-06-30T00:00:00Z  2024-03-06T00:00:00Z    14030;    \n",
       "2  2022-06-30T00:00:00Z  2024-03-06T00:00:00Z    31120;    \n",
       "\n",
       "                                          crs_5_name crs_3_code  \\\n",
       "0  Environmental policy and administrative manage...      410;    \n",
       "1  Basic drinking water supply and basic sanitati...      140;    \n",
       "2                         Agricultural development;       311;    \n",
       "\n",
       "                         crs_3_name  \\\n",
       "0  General Environment Protection;    \n",
       "1       Water Supply & Sanitation;    \n",
       "2                     Agriculture;    \n",
       "\n",
       "                                                docs  \\\n",
       "0  ['https://www.giz.de/projektdaten/projects.act...   \n",
       "1  ['https://www.bmz.de/de/laender/senegal', 'htt...   \n",
       "2  ['https://www.bmz.de/de/laender/malawi', 'http...   \n",
       "\n",
       "                               title_and_description sgd_pred_code  \\\n",
       "0  Environmental and climate governance. Public, ...             9   \n",
       "1  Acquisition of a chateau d´eau for water stock...             6   \n",
       "2  Multisectoral food and nutrition security for ...             2   \n",
       "\n",
       "                                        sgd_pred_str  \n",
       "0  8    Goal 9. Build resilient infrastructure, p...  \n",
       "1  5    Goal 6. Ensure availability and sustainab...  \n",
       "2  1    Goal 2. End hunger, achieve food security...  \n",
       "\n",
       "[3 rows x 30 columns]"
      ]
     },
     "execution_count": 23,
     "metadata": {},
     "output_type": "execute_result"
    }
   ],
   "source": [
    "df = pd.read_csv(\"../../src/merged_orgas.csv\")\n",
    "df.head(3)"
   ]
  },
  {
   "cell_type": "code",
   "execution_count": 24,
   "metadata": {},
   "outputs": [
    {
     "name": "stdout",
     "output_type": "stream",
     "text": [
      "<class 'pandas.core.frame.DataFrame'>\n",
      "Index: 1000 entries, 17430 to 34964\n",
      "Data columns (total 30 columns):\n",
      " #   Column                 Non-Null Count  Dtype \n",
      "---  ------                 --------------  ----- \n",
      " 0   iati_id                1000 non-null   object\n",
      " 1   iati_orga_id           1000 non-null   object\n",
      " 2   orga_abbreviation      1000 non-null   object\n",
      " 3   orga_full_name         1000 non-null   object\n",
      " 4   client                 1000 non-null   object\n",
      " 5   title_en               980 non-null    object\n",
      " 6   title_other            829 non-null    object\n",
      " 7   title_main             1000 non-null   object\n",
      " 8   organization           1000 non-null   object\n",
      " 9   country_code           809 non-null    object\n",
      " 10  country                809 non-null    object\n",
      " 11  region                 191 non-null    object\n",
      " 12  location               656 non-null    object\n",
      " 13  description_en         962 non-null    object\n",
      " 14  description_other      827 non-null    object\n",
      " 15  description_main       998 non-null    object\n",
      " 16  status                 1000 non-null   object\n",
      " 17  planned_start          988 non-null    object\n",
      " 18  actual_start           867 non-null    object\n",
      " 19  planned_end            1000 non-null   object\n",
      " 20  actual_end             867 non-null    object\n",
      " 21  last_update            1000 non-null   object\n",
      " 22  crs_5_code             975 non-null    object\n",
      " 23  crs_5_name             975 non-null    object\n",
      " 24  crs_3_code             975 non-null    object\n",
      " 25  crs_3_name             975 non-null    object\n",
      " 26  docs                   675 non-null    object\n",
      " 27  title_and_description  1000 non-null   object\n",
      " 28  sgd_pred_code          1000 non-null   int64 \n",
      " 29  sgd_pred_str           1000 non-null   object\n",
      "dtypes: int64(1), object(29)\n",
      "memory usage: 242.2+ KB\n"
     ]
    }
   ],
   "source": [
    "sample_df = df.sample(n=1000)\n",
    "sample_df.info()"
   ]
  },
  {
   "cell_type": "code",
   "execution_count": 25,
   "metadata": {},
   "outputs": [
    {
     "data": {
      "text/plain": [
       "Index(['iati_id', 'iati_orga_id', 'orga_abbreviation', 'orga_full_name',\n",
       "       'client', 'title_en', 'title_other', 'title_main', 'organization',\n",
       "       'country_code', 'country', 'region', 'location', 'description_en',\n",
       "       'description_other', 'description_main', 'status', 'planned_start',\n",
       "       'actual_start', 'planned_end', 'actual_end', 'last_update',\n",
       "       'crs_5_code', 'crs_5_name', 'crs_3_code', 'crs_3_name', 'docs',\n",
       "       'title_and_description', 'sgd_pred_code', 'sgd_pred_str'],\n",
       "      dtype='object')"
      ]
     },
     "execution_count": 25,
     "metadata": {},
     "output_type": "execute_result"
    }
   ],
   "source": [
    "sample_df.columns"
   ]
  },
  {
   "cell_type": "markdown",
   "metadata": {},
   "source": [
    "## **Initiate Model**"
   ]
  },
  {
   "cell_type": "markdown",
   "metadata": {},
   "source": [
    "### Load Model & Tokenizer"
   ]
  },
  {
   "cell_type": "code",
   "execution_count": 26,
   "metadata": {},
   "outputs": [
    {
     "name": "stderr",
     "output_type": "stream",
     "text": [
      "Some weights of the model checkpoint at bert-base-uncased were not used when initializing BertModel: ['cls.seq_relationship.weight', 'cls.predictions.transform.dense.bias', 'cls.seq_relationship.bias', 'cls.predictions.bias', 'cls.predictions.transform.dense.weight', 'cls.predictions.transform.LayerNorm.bias', 'cls.predictions.transform.LayerNorm.weight', 'cls.predictions.decoder.weight']\n",
      "- This IS expected if you are initializing BertModel from the checkpoint of a model trained on another task or with another architecture (e.g. initializing a BertForSequenceClassification model from a BertForPreTraining model).\n",
      "- This IS NOT expected if you are initializing BertModel from the checkpoint of a model that you expect to be exactly identical (initializing a BertForSequenceClassification model from a BertForSequenceClassification model).\n"
     ]
    }
   ],
   "source": [
    "tokenizer = BertTokenizer.from_pretrained('bert-base-uncased')\n",
    "model = BertModel.from_pretrained('bert-base-uncased')"
   ]
  },
  {
   "cell_type": "markdown",
   "metadata": {},
   "source": [
    "## **Calculate Embeddings**"
   ]
  },
  {
   "cell_type": "markdown",
   "metadata": {},
   "source": [
    "### create embeddings data frame"
   ]
  },
  {
   "cell_type": "code",
   "execution_count": 32,
   "metadata": {},
   "outputs": [
    {
     "data": {
      "text/html": [
       "<div>\n",
       "<style scoped>\n",
       "    .dataframe tbody tr th:only-of-type {\n",
       "        vertical-align: middle;\n",
       "    }\n",
       "\n",
       "    .dataframe tbody tr th {\n",
       "        vertical-align: top;\n",
       "    }\n",
       "\n",
       "    .dataframe thead th {\n",
       "        text-align: right;\n",
       "    }\n",
       "</style>\n",
       "<table border=\"1\" class=\"dataframe\">\n",
       "  <thead>\n",
       "    <tr style=\"text-align: right;\">\n",
       "      <th></th>\n",
       "      <th>iati_id</th>\n",
       "      <th>embedding</th>\n",
       "    </tr>\n",
       "  </thead>\n",
       "  <tbody>\n",
       "    <tr>\n",
       "      <th>17430</th>\n",
       "      <td>DE-1-201921238</td>\n",
       "      <td>&lt;class 'list'&gt;</td>\n",
       "    </tr>\n",
       "    <tr>\n",
       "      <th>1862</th>\n",
       "      <td>DE-1-201606003-1415</td>\n",
       "      <td>&lt;class 'list'&gt;</td>\n",
       "    </tr>\n",
       "    <tr>\n",
       "      <th>15509</th>\n",
       "      <td>DE-1-200865113</td>\n",
       "      <td>&lt;class 'list'&gt;</td>\n",
       "    </tr>\n",
       "  </tbody>\n",
       "</table>\n",
       "</div>"
      ],
      "text/plain": [
       "                   iati_id       embedding\n",
       "17430       DE-1-201921238  <class 'list'>\n",
       "1862   DE-1-201606003-1415  <class 'list'>\n",
       "15509       DE-1-200865113  <class 'list'>"
      ]
     },
     "execution_count": 32,
     "metadata": {},
     "output_type": "execute_result"
    }
   ],
   "source": [
    "embedding_df = pd.DataFrame()\n",
    "embedding_df[\"iati_id\"] = sample_df[\"iati_id\"]\n",
    "embedding_df[\"embedding\"] = list\n",
    "\n",
    "embedding_df.head(3)"
   ]
  },
  {
   "cell_type": "markdown",
   "metadata": {},
   "source": [
    "### calculate embeddings for all descriptions"
   ]
  },
  {
   "cell_type": "code",
   "execution_count": 30,
   "metadata": {},
   "outputs": [],
   "source": [
    "# Function to get embeddings\n",
    "def get_embedding(text):\n",
    "    inputs = tokenizer(text, return_tensors=\"pt\", padding=True, truncation=True, max_length=512)\n",
    "    outputs = model(**inputs)\n",
    "\n",
    "    return outputs.pooler_output.squeeze().detach().numpy()"
   ]
  },
  {
   "cell_type": "code",
   "execution_count": 33,
   "metadata": {},
   "outputs": [
    {
     "name": "stderr",
     "output_type": "stream",
     "text": [
      "100%|██████████| 1000/1000 [03:25<00:00,  4.87it/s]\n"
     ]
    }
   ],
   "source": [
    "for index, row in tqdm(sample_df.iterrows(), total=sample_df.shape[0]):\n",
    "    try:\n",
    "        embedding_df.at[index, \"embedding\"] = get_embedding(row[\"title_and_description\"])\n",
    "    except Exception as e:\n",
    "        print(f\"Error processing index {index}: {e}\")\n"
   ]
  },
  {
   "cell_type": "code",
   "execution_count": 34,
   "metadata": {},
   "outputs": [
    {
     "data": {
      "text/html": [
       "<div>\n",
       "<style scoped>\n",
       "    .dataframe tbody tr th:only-of-type {\n",
       "        vertical-align: middle;\n",
       "    }\n",
       "\n",
       "    .dataframe tbody tr th {\n",
       "        vertical-align: top;\n",
       "    }\n",
       "\n",
       "    .dataframe thead th {\n",
       "        text-align: right;\n",
       "    }\n",
       "</style>\n",
       "<table border=\"1\" class=\"dataframe\">\n",
       "  <thead>\n",
       "    <tr style=\"text-align: right;\">\n",
       "      <th></th>\n",
       "      <th>iati_id</th>\n",
       "      <th>embedding</th>\n",
       "    </tr>\n",
       "  </thead>\n",
       "  <tbody>\n",
       "    <tr>\n",
       "      <th>17430</th>\n",
       "      <td>DE-1-201921238</td>\n",
       "      <td>[-0.96990985, -0.7947024, -0.9995594, 0.939018...</td>\n",
       "    </tr>\n",
       "    <tr>\n",
       "      <th>1862</th>\n",
       "      <td>DE-1-201606003-1415</td>\n",
       "      <td>[-0.78278816, -0.66643614, -0.99546945, 0.7873...</td>\n",
       "    </tr>\n",
       "    <tr>\n",
       "      <th>15509</th>\n",
       "      <td>DE-1-200865113</td>\n",
       "      <td>[-0.60512286, -0.63203555, -0.9918106, 0.69386...</td>\n",
       "    </tr>\n",
       "  </tbody>\n",
       "</table>\n",
       "</div>"
      ],
      "text/plain": [
       "                   iati_id                                          embedding\n",
       "17430       DE-1-201921238  [-0.96990985, -0.7947024, -0.9995594, 0.939018...\n",
       "1862   DE-1-201606003-1415  [-0.78278816, -0.66643614, -0.99546945, 0.7873...\n",
       "15509       DE-1-200865113  [-0.60512286, -0.63203555, -0.9918106, 0.69386..."
      ]
     },
     "execution_count": 34,
     "metadata": {},
     "output_type": "execute_result"
    }
   ],
   "source": [
    "embedding_df.head(3)"
   ]
  },
  {
   "cell_type": "markdown",
   "metadata": {},
   "source": [
    "### export embeddings as csv"
   ]
  },
  {
   "cell_type": "code",
   "execution_count": 36,
   "metadata": {},
   "outputs": [],
   "source": [
    "embedding_df.to_csv(\"../../src/transformer/embedding.csv\", index=False) "
   ]
  },
  {
   "cell_type": "markdown",
   "metadata": {},
   "source": [
    "## **Calculate Similarities**"
   ]
  },
  {
   "cell_type": "markdown",
   "metadata": {},
   "source": [
    "### calculate matrix"
   ]
  },
  {
   "cell_type": "code",
   "execution_count": 39,
   "metadata": {},
   "outputs": [
    {
     "name": "stderr",
     "output_type": "stream",
     "text": [
      "Calculating similarities: 100%|██████████| 1000/1000 [02:39<00:00,  6.28it/s]\n"
     ]
    }
   ],
   "source": [
    "n = len(embedding_df)\n",
    "similarity_matrix = np.zeros((n, n))\n",
    "\n",
    "for i in tqdm(range(n), desc=\"Calculating similarities\"):\n",
    "    for j in range(n):\n",
    "        if i != j:\n",
    "            emb_i = embedding_df.iloc[i]['embedding']\n",
    "            emb_j = embedding_df.iloc[j]['embedding']\n",
    "            # Calculate the similarity\n",
    "            similarity_matrix[i, j] = 1 - cosine(emb_i, emb_j)\n",
    "        else:\n",
    "            similarity_matrix[i, j] = 1  # Assuming maximum similarity with itself\n",
    "\n",
    "# Convert the similarity matrix to a DataFrame for better readability\n",
    "similarity_df = pd.DataFrame(similarity_matrix, columns=embedding_df['iati_id'], index=embedding_df['iati_id'])"
   ]
  },
  {
   "cell_type": "code",
   "execution_count": 42,
   "metadata": {},
   "outputs": [
    {
     "name": "stdout",
     "output_type": "stream",
     "text": [
      "<class 'pandas.core.frame.DataFrame'>\n",
      "Index: 1000 entries, DE-1-201921238 to XM-DAC-46004-54430-001-LN8434\n",
      "Columns: 1000 entries, DE-1-201921238 to XM-DAC-46004-54430-001-LN8434\n",
      "dtypes: float64(1000)\n",
      "memory usage: 7.6+ MB\n"
     ]
    }
   ],
   "source": [
    "similarity_df.info()"
   ]
  },
  {
   "cell_type": "markdown",
   "metadata": {},
   "source": [
    "### export similarities as csv"
   ]
  },
  {
   "cell_type": "code",
   "execution_count": 43,
   "metadata": {},
   "outputs": [],
   "source": [
    "similarity_df.to_csv(\"../../src/transformer/similarities.csv\", index=False) "
   ]
  }
 ],
 "metadata": {
  "kernelspec": {
   "display_name": "pamb",
   "language": "python",
   "name": "python3"
  },
  "language_info": {
   "codemirror_mode": {
    "name": "ipython",
    "version": 3
   },
   "file_extension": ".py",
   "mimetype": "text/x-python",
   "name": "python",
   "nbconvert_exporter": "python",
   "pygments_lexer": "ipython3",
   "version": "3.10.13"
  }
 },
 "nbformat": 4,
 "nbformat_minor": 2
}
