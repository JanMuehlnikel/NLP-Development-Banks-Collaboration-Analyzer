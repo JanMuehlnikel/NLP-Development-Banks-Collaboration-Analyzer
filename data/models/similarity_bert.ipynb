{
 "cells": [
  {
   "cell_type": "markdown",
   "metadata": {},
   "source": [
    "## **Dependencies**"
   ]
  },
  {
   "cell_type": "code",
   "execution_count": 1,
   "metadata": {},
   "outputs": [
    {
     "ename": "ModuleNotFoundError",
     "evalue": "No module named 'sentence_transformers'",
     "output_type": "error",
     "traceback": [
      "\u001b[1;31m---------------------------------------------------------------------------\u001b[0m",
      "\u001b[1;31mModuleNotFoundError\u001b[0m                       Traceback (most recent call last)",
      "Cell \u001b[1;32mIn[1], line 2\u001b[0m\n\u001b[0;32m      1\u001b[0m \u001b[38;5;28;01mfrom\u001b[39;00m \u001b[38;5;21;01mtransformers\u001b[39;00m \u001b[38;5;28;01mimport\u001b[39;00m BertTokenizer, BertModel\n\u001b[1;32m----> 2\u001b[0m \u001b[38;5;28;01mfrom\u001b[39;00m \u001b[38;5;21;01msentence_transformers\u001b[39;00m \u001b[38;5;28;01mimport\u001b[39;00m SentenceTransformer\n\u001b[0;32m      3\u001b[0m \u001b[38;5;28;01mfrom\u001b[39;00m \u001b[38;5;21;01msklearn\u001b[39;00m\u001b[38;5;21;01m.\u001b[39;00m\u001b[38;5;21;01mmetrics\u001b[39;00m\u001b[38;5;21;01m.\u001b[39;00m\u001b[38;5;21;01mpairwise\u001b[39;00m \u001b[38;5;28;01mimport\u001b[39;00m cosine_similarity\n\u001b[0;32m      4\u001b[0m \u001b[38;5;28;01mfrom\u001b[39;00m \u001b[38;5;21;01mconcurrent\u001b[39;00m\u001b[38;5;21;01m.\u001b[39;00m\u001b[38;5;21;01mfutures\u001b[39;00m \u001b[38;5;28;01mimport\u001b[39;00m ProcessPoolExecutor\n",
      "\u001b[1;31mModuleNotFoundError\u001b[0m: No module named 'sentence_transformers'"
     ]
    }
   ],
   "source": [
    "from transformers import BertTokenizer, BertModel\n",
    "from sentence_transformers import SentenceTransformer\n",
    "from sklearn.metrics.pairwise import cosine_similarity\n",
    "from concurrent.futures import ProcessPoolExecutor\n",
    "from tqdm import tqdm\n",
    "from tqdm.auto import tqdm\n",
    "import time\n",
    "from scipy.spatial.distance import cosine\n",
    "from scipy.spatial.distance import pdist, squareform\n",
    "import pandas as pd\n",
    "import numpy as np\n",
    "import matplotlib.pyplot as plt\n",
    "from scipy.optimize import curve_fit"
   ]
  },
  {
   "cell_type": "markdown",
   "metadata": {},
   "source": [
    "## **Load Data**"
   ]
  },
  {
   "cell_type": "code",
   "execution_count": 2,
   "metadata": {},
   "outputs": [
    {
     "data": {
      "text/html": [
       "<div>\n",
       "<style scoped>\n",
       "    .dataframe tbody tr th:only-of-type {\n",
       "        vertical-align: middle;\n",
       "    }\n",
       "\n",
       "    .dataframe tbody tr th {\n",
       "        vertical-align: top;\n",
       "    }\n",
       "\n",
       "    .dataframe thead th {\n",
       "        text-align: right;\n",
       "    }\n",
       "</style>\n",
       "<table border=\"1\" class=\"dataframe\">\n",
       "  <thead>\n",
       "    <tr style=\"text-align: right;\">\n",
       "      <th></th>\n",
       "      <th>iati_id</th>\n",
       "      <th>iati_orga_id</th>\n",
       "      <th>orga_abbreviation</th>\n",
       "      <th>orga_full_name</th>\n",
       "      <th>client</th>\n",
       "      <th>title_en</th>\n",
       "      <th>title_other</th>\n",
       "      <th>title_main</th>\n",
       "      <th>organization</th>\n",
       "      <th>country_code</th>\n",
       "      <th>...</th>\n",
       "      <th>actual_end</th>\n",
       "      <th>last_update</th>\n",
       "      <th>crs_5_code</th>\n",
       "      <th>crs_5_name</th>\n",
       "      <th>crs_3_code</th>\n",
       "      <th>crs_3_name</th>\n",
       "      <th>docs</th>\n",
       "      <th>title_and_description</th>\n",
       "      <th>sgd_pred_code</th>\n",
       "      <th>sgd_pred_str</th>\n",
       "    </tr>\n",
       "  </thead>\n",
       "  <tbody>\n",
       "    <tr>\n",
       "      <th>0</th>\n",
       "      <td>DE-1-201420207</td>\n",
       "      <td>DE-1</td>\n",
       "      <td>giz</td>\n",
       "      <td>Deutsche Gesellschaft für Internationale Zusam...</td>\n",
       "      <td>BMZ</td>\n",
       "      <td>Environmental and climate governance</td>\n",
       "      <td>Umwelt- und Klimagovernance</td>\n",
       "      <td>Environmental and climate governance</td>\n",
       "      <td>Bundesministerium für wirtschaftliche Zusammen...</td>\n",
       "      <td>['MA']</td>\n",
       "      <td>...</td>\n",
       "      <td>2022-06-30T00:00:00Z</td>\n",
       "      <td>2024-02-29T00:00:00Z</td>\n",
       "      <td>41010;</td>\n",
       "      <td>Environmental policy and administrative manage...</td>\n",
       "      <td>410;</td>\n",
       "      <td>General Environment Protection;</td>\n",
       "      <td>['https://www.giz.de/projektdaten/projects.act...</td>\n",
       "      <td>Environmental and climate governance. Public, ...</td>\n",
       "      <td>9</td>\n",
       "      <td>8    Goal 9. Build resilient infrastructure, p...</td>\n",
       "    </tr>\n",
       "    <tr>\n",
       "      <th>1</th>\n",
       "      <td>DE-1-201516970-0</td>\n",
       "      <td>DE-1</td>\n",
       "      <td>bmz</td>\n",
       "      <td>Bundesministerium für wirtschaftliche Zusammen...</td>\n",
       "      <td>BMZ</td>\n",
       "      <td>Acquisition of a chateau d´eau for water stock</td>\n",
       "      <td>Anschaffung eines Wasserturms zur Wasserspeich...</td>\n",
       "      <td>Acquisition of a chateau d´eau for water stock</td>\n",
       "      <td>Bundesministerium für wirtschaftliche Zusammen...</td>\n",
       "      <td>['SN']</td>\n",
       "      <td>...</td>\n",
       "      <td>2022-06-30T00:00:00Z</td>\n",
       "      <td>2024-03-06T00:00:00Z</td>\n",
       "      <td>14030;</td>\n",
       "      <td>Basic drinking water supply and basic sanitati...</td>\n",
       "      <td>140;</td>\n",
       "      <td>Water Supply &amp; Sanitation;</td>\n",
       "      <td>['https://www.bmz.de/de/laender/senegal', 'htt...</td>\n",
       "      <td>Acquisition of a chateau d´eau for water stock...</td>\n",
       "      <td>6</td>\n",
       "      <td>5    Goal 6. Ensure availability and sustainab...</td>\n",
       "    </tr>\n",
       "    <tr>\n",
       "      <th>2</th>\n",
       "      <td>DE-1-201601228-1705</td>\n",
       "      <td>DE-1</td>\n",
       "      <td>bmz</td>\n",
       "      <td>Bundesministerium für wirtschaftliche Zusammen...</td>\n",
       "      <td>BMZ</td>\n",
       "      <td>Multisectoral food and nutrition security for ...</td>\n",
       "      <td>Multisektorale Ernährungssicherung für junge K...</td>\n",
       "      <td>Multisectoral food and nutrition security for ...</td>\n",
       "      <td>Bundesministerium für wirtschaftliche Zusammen...</td>\n",
       "      <td>['MW']</td>\n",
       "      <td>...</td>\n",
       "      <td>2022-06-30T00:00:00Z</td>\n",
       "      <td>2024-03-06T00:00:00Z</td>\n",
       "      <td>31120;</td>\n",
       "      <td>Agricultural development;</td>\n",
       "      <td>311;</td>\n",
       "      <td>Agriculture;</td>\n",
       "      <td>['https://www.bmz.de/de/laender/malawi', 'http...</td>\n",
       "      <td>Multisectoral food and nutrition security for ...</td>\n",
       "      <td>2</td>\n",
       "      <td>1    Goal 2. End hunger, achieve food security...</td>\n",
       "    </tr>\n",
       "  </tbody>\n",
       "</table>\n",
       "<p>3 rows × 30 columns</p>\n",
       "</div>"
      ],
      "text/plain": [
       "               iati_id iati_orga_id orga_abbreviation  \\\n",
       "0       DE-1-201420207         DE-1               giz   \n",
       "1     DE-1-201516970-0         DE-1               bmz   \n",
       "2  DE-1-201601228-1705         DE-1               bmz   \n",
       "\n",
       "                                      orga_full_name client  \\\n",
       "0  Deutsche Gesellschaft für Internationale Zusam...    BMZ   \n",
       "1  Bundesministerium für wirtschaftliche Zusammen...    BMZ   \n",
       "2  Bundesministerium für wirtschaftliche Zusammen...    BMZ   \n",
       "\n",
       "                                            title_en  \\\n",
       "0               Environmental and climate governance   \n",
       "1     Acquisition of a chateau d´eau for water stock   \n",
       "2  Multisectoral food and nutrition security for ...   \n",
       "\n",
       "                                         title_other  \\\n",
       "0                        Umwelt- und Klimagovernance   \n",
       "1  Anschaffung eines Wasserturms zur Wasserspeich...   \n",
       "2  Multisektorale Ernährungssicherung für junge K...   \n",
       "\n",
       "                                          title_main  \\\n",
       "0               Environmental and climate governance   \n",
       "1     Acquisition of a chateau d´eau for water stock   \n",
       "2  Multisectoral food and nutrition security for ...   \n",
       "\n",
       "                                        organization country_code  ...  \\\n",
       "0  Bundesministerium für wirtschaftliche Zusammen...       ['MA']  ...   \n",
       "1  Bundesministerium für wirtschaftliche Zusammen...       ['SN']  ...   \n",
       "2  Bundesministerium für wirtschaftliche Zusammen...       ['MW']  ...   \n",
       "\n",
       "             actual_end           last_update crs_5_code  \\\n",
       "0  2022-06-30T00:00:00Z  2024-02-29T00:00:00Z    41010;    \n",
       "1  2022-06-30T00:00:00Z  2024-03-06T00:00:00Z    14030;    \n",
       "2  2022-06-30T00:00:00Z  2024-03-06T00:00:00Z    31120;    \n",
       "\n",
       "                                          crs_5_name crs_3_code  \\\n",
       "0  Environmental policy and administrative manage...      410;    \n",
       "1  Basic drinking water supply and basic sanitati...      140;    \n",
       "2                         Agricultural development;       311;    \n",
       "\n",
       "                         crs_3_name  \\\n",
       "0  General Environment Protection;    \n",
       "1       Water Supply & Sanitation;    \n",
       "2                     Agriculture;    \n",
       "\n",
       "                                                docs  \\\n",
       "0  ['https://www.giz.de/projektdaten/projects.act...   \n",
       "1  ['https://www.bmz.de/de/laender/senegal', 'htt...   \n",
       "2  ['https://www.bmz.de/de/laender/malawi', 'http...   \n",
       "\n",
       "                               title_and_description sgd_pred_code  \\\n",
       "0  Environmental and climate governance. Public, ...             9   \n",
       "1  Acquisition of a chateau d´eau for water stock...             6   \n",
       "2  Multisectoral food and nutrition security for ...             2   \n",
       "\n",
       "                                        sgd_pred_str  \n",
       "0  8    Goal 9. Build resilient infrastructure, p...  \n",
       "1  5    Goal 6. Ensure availability and sustainab...  \n",
       "2  1    Goal 2. End hunger, achieve food security...  \n",
       "\n",
       "[3 rows x 30 columns]"
      ]
     },
     "execution_count": 2,
     "metadata": {},
     "output_type": "execute_result"
    }
   ],
   "source": [
    "df = pd.read_csv(\"../../src/merged_orgas.csv\")\n",
    "df.head(3)"
   ]
  },
  {
   "cell_type": "code",
   "execution_count": 3,
   "metadata": {},
   "outputs": [
    {
     "name": "stdout",
     "output_type": "stream",
     "text": [
      "<class 'pandas.core.frame.DataFrame'>\n",
      "Index: 54081 entries, 45418 to 43097\n",
      "Data columns (total 30 columns):\n",
      " #   Column                 Non-Null Count  Dtype \n",
      "---  ------                 --------------  ----- \n",
      " 0   iati_id                54081 non-null  object\n",
      " 1   iati_orga_id           54081 non-null  object\n",
      " 2   orga_abbreviation      54081 non-null  object\n",
      " 3   orga_full_name         54081 non-null  object\n",
      " 4   client                 54081 non-null  object\n",
      " 5   title_en               52929 non-null  object\n",
      " 6   title_other            44505 non-null  object\n",
      " 7   title_main             54081 non-null  object\n",
      " 8   organization           54081 non-null  object\n",
      " 9   country_code           43060 non-null  object\n",
      " 10  country                43060 non-null  object\n",
      " 11  region                 11051 non-null  object\n",
      " 12  location               34513 non-null  object\n",
      " 13  description_en         52062 non-null  object\n",
      " 14  description_other      44281 non-null  object\n",
      " 15  description_main       53977 non-null  object\n",
      " 16  status                 54081 non-null  object\n",
      " 17  planned_start          53361 non-null  object\n",
      " 18  actual_start           46734 non-null  object\n",
      " 19  planned_end            54081 non-null  object\n",
      " 20  actual_end             46734 non-null  object\n",
      " 21  last_update            54081 non-null  object\n",
      " 22  crs_5_code             52648 non-null  object\n",
      " 23  crs_5_name             52648 non-null  object\n",
      " 24  crs_3_code             52648 non-null  object\n",
      " 25  crs_3_name             52648 non-null  object\n",
      " 26  docs                   36096 non-null  object\n",
      " 27  title_and_description  54081 non-null  object\n",
      " 28  sgd_pred_code          54081 non-null  int64 \n",
      " 29  sgd_pred_str           54081 non-null  object\n",
      "dtypes: int64(1), object(29)\n",
      "memory usage: 12.8+ MB\n"
     ]
    }
   ],
   "source": [
    "# slect number of samples\n",
    "sample_df = df.sample(n=len(df)) #ALL Projects\n",
    "sample_df.info()"
   ]
  },
  {
   "cell_type": "code",
   "execution_count": 4,
   "metadata": {},
   "outputs": [
    {
     "data": {
      "text/plain": [
       "Index(['iati_id', 'iati_orga_id', 'orga_abbreviation', 'orga_full_name',\n",
       "       'client', 'title_en', 'title_other', 'title_main', 'organization',\n",
       "       'country_code', 'country', 'region', 'location', 'description_en',\n",
       "       'description_other', 'description_main', 'status', 'planned_start',\n",
       "       'actual_start', 'planned_end', 'actual_end', 'last_update',\n",
       "       'crs_5_code', 'crs_5_name', 'crs_3_code', 'crs_3_name', 'docs',\n",
       "       'title_and_description', 'sgd_pred_code', 'sgd_pred_str'],\n",
       "      dtype='object')"
      ]
     },
     "execution_count": 4,
     "metadata": {},
     "output_type": "execute_result"
    }
   ],
   "source": [
    "sample_df.columns"
   ]
  },
  {
   "cell_type": "markdown",
   "metadata": {},
   "source": [
    "## **Initiate Model**"
   ]
  },
  {
   "cell_type": "markdown",
   "metadata": {},
   "source": [
    "### Load Model & Tokenizer"
   ]
  },
  {
   "cell_type": "code",
   "execution_count": 5,
   "metadata": {},
   "outputs": [
    {
     "name": "stderr",
     "output_type": "stream",
     "text": [
      "Some weights of the model checkpoint at bert-base-uncased were not used when initializing BertModel: ['cls.seq_relationship.weight', 'cls.predictions.decoder.weight', 'cls.predictions.bias', 'cls.predictions.transform.LayerNorm.weight', 'cls.predictions.transform.LayerNorm.bias', 'cls.seq_relationship.bias', 'cls.predictions.transform.dense.bias', 'cls.predictions.transform.dense.weight']\n",
      "- This IS expected if you are initializing BertModel from the checkpoint of a model trained on another task or with another architecture (e.g. initializing a BertForSequenceClassification model from a BertForPreTraining model).\n",
      "- This IS NOT expected if you are initializing BertModel from the checkpoint of a model that you expect to be exactly identical (initializing a BertForSequenceClassification model from a BertForSequenceClassification model).\n"
     ]
    }
   ],
   "source": [
    "tokenizer = BertTokenizer.from_pretrained('bert-base-uncased')\n",
    "model = BertModel.from_pretrained('bert-base-uncased')"
   ]
  },
  {
   "cell_type": "markdown",
   "metadata": {},
   "source": [
    "## **Calculate Embeddings**"
   ]
  },
  {
   "cell_type": "markdown",
   "metadata": {},
   "source": [
    "### create embeddings data frame"
   ]
  },
  {
   "cell_type": "code",
   "execution_count": 6,
   "metadata": {},
   "outputs": [
    {
     "data": {
      "text/html": [
       "<div>\n",
       "<style scoped>\n",
       "    .dataframe tbody tr th:only-of-type {\n",
       "        vertical-align: middle;\n",
       "    }\n",
       "\n",
       "    .dataframe tbody tr th {\n",
       "        vertical-align: top;\n",
       "    }\n",
       "\n",
       "    .dataframe thead th {\n",
       "        text-align: right;\n",
       "    }\n",
       "</style>\n",
       "<table border=\"1\" class=\"dataframe\">\n",
       "  <thead>\n",
       "    <tr style=\"text-align: right;\">\n",
       "      <th></th>\n",
       "      <th>iati_id</th>\n",
       "      <th>embedding</th>\n",
       "    </tr>\n",
       "  </thead>\n",
       "  <tbody>\n",
       "    <tr>\n",
       "      <th>34612</th>\n",
       "      <td>XM-DAC-46004-49227-003-LN3362</td>\n",
       "      <td>&lt;class 'list'&gt;</td>\n",
       "    </tr>\n",
       "    <tr>\n",
       "      <th>7490</th>\n",
       "      <td>DE-1-201134063-0</td>\n",
       "      <td>&lt;class 'list'&gt;</td>\n",
       "    </tr>\n",
       "    <tr>\n",
       "      <th>30888</th>\n",
       "      <td>DE-1-201576701-0</td>\n",
       "      <td>&lt;class 'list'&gt;</td>\n",
       "    </tr>\n",
       "  </tbody>\n",
       "</table>\n",
       "</div>"
      ],
      "text/plain": [
       "                             iati_id       embedding\n",
       "34612  XM-DAC-46004-49227-003-LN3362  <class 'list'>\n",
       "7490                DE-1-201134063-0  <class 'list'>\n",
       "30888               DE-1-201576701-0  <class 'list'>"
      ]
     },
     "execution_count": 6,
     "metadata": {},
     "output_type": "execute_result"
    }
   ],
   "source": [
    "embedding_df = pd.DataFrame()\n",
    "embedding_df[\"iati_id\"] = sample_df[\"iati_id\"]\n",
    "embedding_df[\"embedding\"] = list\n",
    "\n",
    "embedding_df.head(3)"
   ]
  },
  {
   "cell_type": "markdown",
   "metadata": {},
   "source": [
    "### calculate embeddings for all descriptions"
   ]
  },
  {
   "cell_type": "code",
   "execution_count": 7,
   "metadata": {},
   "outputs": [],
   "source": [
    "# Function to get embeddings\n",
    "def get_embedding(text):\n",
    "    inputs = tokenizer(text, return_tensors=\"pt\", padding=True, truncation=True, max_length=512)\n",
    "    outputs = model(**inputs)\n",
    "\n",
    "    return outputs.pooler_output.squeeze().detach().numpy()"
   ]
  },
  {
   "cell_type": "code",
   "execution_count": 8,
   "metadata": {},
   "outputs": [
    {
     "name": "stderr",
     "output_type": "stream",
     "text": [
      "100%|██████████| 54081/54081 [3:33:37<00:00,  4.22it/s]  \n"
     ]
    }
   ],
   "source": [
    "for index, row in tqdm(sample_df.iterrows(), total=sample_df.shape[0]):\n",
    "    try:\n",
    "        embedding_df.at[index, \"embedding\"] = get_embedding(row[\"title_and_description\"])\n",
    "    except Exception as e:\n",
    "        print(f\"Error processing index {index}: {e}\")\n"
   ]
  },
  {
   "cell_type": "code",
   "execution_count": 9,
   "metadata": {},
   "outputs": [
    {
     "data": {
      "text/html": [
       "<div>\n",
       "<style scoped>\n",
       "    .dataframe tbody tr th:only-of-type {\n",
       "        vertical-align: middle;\n",
       "    }\n",
       "\n",
       "    .dataframe tbody tr th {\n",
       "        vertical-align: top;\n",
       "    }\n",
       "\n",
       "    .dataframe thead th {\n",
       "        text-align: right;\n",
       "    }\n",
       "</style>\n",
       "<table border=\"1\" class=\"dataframe\">\n",
       "  <thead>\n",
       "    <tr style=\"text-align: right;\">\n",
       "      <th></th>\n",
       "      <th>iati_id</th>\n",
       "      <th>embedding</th>\n",
       "    </tr>\n",
       "  </thead>\n",
       "  <tbody>\n",
       "    <tr>\n",
       "      <th>34612</th>\n",
       "      <td>XM-DAC-46004-49227-003-LN3362</td>\n",
       "      <td>[-0.6430101, -0.76168305, -0.9996717, 0.862266...</td>\n",
       "    </tr>\n",
       "    <tr>\n",
       "      <th>7490</th>\n",
       "      <td>DE-1-201134063-0</td>\n",
       "      <td>[-0.745798, -0.72188354, -0.99842364, 0.851809...</td>\n",
       "    </tr>\n",
       "    <tr>\n",
       "      <th>30888</th>\n",
       "      <td>DE-1-201576701-0</td>\n",
       "      <td>[-0.84510195, -0.53723425, -0.9963881, 0.87295...</td>\n",
       "    </tr>\n",
       "  </tbody>\n",
       "</table>\n",
       "</div>"
      ],
      "text/plain": [
       "                             iati_id  \\\n",
       "34612  XM-DAC-46004-49227-003-LN3362   \n",
       "7490                DE-1-201134063-0   \n",
       "30888               DE-1-201576701-0   \n",
       "\n",
       "                                               embedding  \n",
       "34612  [-0.6430101, -0.76168305, -0.9996717, 0.862266...  \n",
       "7490   [-0.745798, -0.72188354, -0.99842364, 0.851809...  \n",
       "30888  [-0.84510195, -0.53723425, -0.9963881, 0.87295...  "
      ]
     },
     "execution_count": 9,
     "metadata": {},
     "output_type": "execute_result"
    }
   ],
   "source": [
    "embedding_df.head(3)"
   ]
  },
  {
   "cell_type": "markdown",
   "metadata": {},
   "source": [
    "### export embeddings as csv"
   ]
  },
  {
   "cell_type": "code",
   "execution_count": 10,
   "metadata": {},
   "outputs": [],
   "source": [
    "embedding_df.to_csv(\"../../src/transformer/embedding.csv\", index=False) "
   ]
  },
  {
   "cell_type": "markdown",
   "metadata": {},
   "source": [
    "## **Calculate Similarities**"
   ]
  },
  {
   "cell_type": "markdown",
   "metadata": {},
   "source": [
    "### read in embeddings if not done all in one step"
   ]
  },
  {
   "cell_type": "code",
   "execution_count": 8,
   "metadata": {},
   "outputs": [
    {
     "name": "stdout",
     "output_type": "stream",
     "text": [
      "<class 'pandas.core.frame.DataFrame'>\n",
      "RangeIndex: 54081 entries, 0 to 54080\n",
      "Data columns (total 2 columns):\n",
      " #   Column     Non-Null Count  Dtype \n",
      "---  ------     --------------  ----- \n",
      " 0   iati_id    54081 non-null  object\n",
      " 1   embedding  54081 non-null  object\n",
      "dtypes: object(2)\n",
      "memory usage: 845.1+ KB\n"
     ]
    }
   ],
   "source": [
    "embedding_df = pd.read_csv(\"../../src/transformer/embedding.csv\")\n",
    "embedding_df.info()"
   ]
  },
  {
   "cell_type": "markdown",
   "metadata": {},
   "source": [
    "### remove duplicates rows"
   ]
  },
  {
   "cell_type": "code",
   "execution_count": 9,
   "metadata": {},
   "outputs": [],
   "source": [
    "embedding_df = embedding_df.drop_duplicates(keep=\"first\")"
   ]
  },
  {
   "cell_type": "code",
   "execution_count": 10,
   "metadata": {},
   "outputs": [
    {
     "data": {
      "text/plain": [
       "47036"
      ]
     },
     "execution_count": 10,
     "metadata": {},
     "output_type": "execute_result"
    }
   ],
   "source": [
    "len(embedding_df)"
   ]
  },
  {
   "cell_type": "markdown",
   "metadata": {},
   "source": [
    "### convert string from csv into np array"
   ]
  },
  {
   "cell_type": "code",
   "execution_count": 11,
   "metadata": {},
   "outputs": [],
   "source": [
    "embedding_df['embedding'] = embedding_df['embedding'].apply(lambda x: np.fromstring(x[1:-1], sep=' '))"
   ]
  },
  {
   "cell_type": "code",
   "execution_count": 13,
   "metadata": {},
   "outputs": [
    {
     "data": {
      "text/html": [
       "<div>\n",
       "<style scoped>\n",
       "    .dataframe tbody tr th:only-of-type {\n",
       "        vertical-align: middle;\n",
       "    }\n",
       "\n",
       "    .dataframe tbody tr th {\n",
       "        vertical-align: top;\n",
       "    }\n",
       "\n",
       "    .dataframe thead th {\n",
       "        text-align: right;\n",
       "    }\n",
       "</style>\n",
       "<table border=\"1\" class=\"dataframe\">\n",
       "  <thead>\n",
       "    <tr style=\"text-align: right;\">\n",
       "      <th></th>\n",
       "      <th>iati_id</th>\n",
       "      <th>embedding</th>\n",
       "    </tr>\n",
       "  </thead>\n",
       "  <tbody>\n",
       "    <tr>\n",
       "      <th>0</th>\n",
       "      <td>XM-DAC-46004-49227-003-LN3362</td>\n",
       "      <td>[-0.6430101, -0.76168305, -0.9996717, 0.862266...</td>\n",
       "    </tr>\n",
       "    <tr>\n",
       "      <th>1</th>\n",
       "      <td>DE-1-201134063-0</td>\n",
       "      <td>[-0.745798, -0.72188354, -0.99842364, 0.851809...</td>\n",
       "    </tr>\n",
       "  </tbody>\n",
       "</table>\n",
       "</div>"
      ],
      "text/plain": [
       "                         iati_id  \\\n",
       "0  XM-DAC-46004-49227-003-LN3362   \n",
       "1               DE-1-201134063-0   \n",
       "\n",
       "                                           embedding  \n",
       "0  [-0.6430101, -0.76168305, -0.9996717, 0.862266...  \n",
       "1  [-0.745798, -0.72188354, -0.99842364, 0.851809...  "
      ]
     },
     "execution_count": 13,
     "metadata": {},
     "output_type": "execute_result"
    }
   ],
   "source": [
    "embedding_df.head(2)"
   ]
  },
  {
   "cell_type": "markdown",
   "metadata": {},
   "source": [
    "### estimate calculation time"
   ]
  },
  {
   "cell_type": "code",
   "execution_count": 14,
   "metadata": {},
   "outputs": [
    {
     "name": "stderr",
     "output_type": "stream",
     "text": [
      "c:\\Users\\UserNA6153\\anaconda3\\envs\\pamb\\lib\\site-packages\\scipy\\optimize\\_minpack_py.py:1010: OptimizeWarning: Covariance of the parameters could not be estimated\n",
      "  warnings.warn('Covariance of the parameters could not be estimated',\n"
     ]
    },
    {
     "name": "stdout",
     "output_type": "stream",
     "text": [
      "Measured times: [0.015554428100585938, 0.10476088523864746, 0.43425846099853516]\n",
      "Estimated time for the full dataset: 1068.56 seconds\n"
     ]
    },
    {
     "data": {
      "image/png": "[encoded data removed]",
      "text/plain": [
       "<Figure size 1000x600 with 1 Axes>"
      ]
     },
     "metadata": {},
     "output_type": "display_data"
    }
   ],
   "source": [
    "embeddings = np.stack(embedding_df['embedding'].values)\n",
    "\n",
    "def quadratic_model(x, a, b, c):\n",
    "    return a * x**2 + b * x + c\n",
    "\n",
    "n_samples = [100, 500, 1000]\n",
    "times = []\n",
    "np.random.seed(42) \n",
    "\n",
    "for n in n_samples:\n",
    "    start_time = time.time()\n",
    "    _ = 1 - squareform(pdist(embeddings[:n], metric='cosine'))\n",
    "    times.append(time.time() - start_time)\n",
    "\n",
    "# Fit the quadratic model to your benchmark data\n",
    "params, _ = curve_fit(quadratic_model, n_samples, times)\n",
    "\n",
    "# Use the model to estimate the time for the full dataset\n",
    "n_full = len(embeddings)\n",
    "estimated_time_full = quadratic_model(n_full, *params)\n",
    "print(f\"Measured times: {times}\")\n",
    "print(f\"Estimated time for the full dataset: {estimated_time_full:.2f} seconds\")\n",
    "\n",
    "# Plotting the estimation curve\n",
    "plt.figure(figsize=(10, 6))\n",
    "plt.scatter(n_samples, times, color='blue', label='Measured Times')\n",
    "plt.plot(range(1, n_full+1), quadratic_model(np.array(range(1, n_full+1)), *params), color='red', label='Estimated Time')\n",
    "plt.xlabel('Number of Embeddings')\n",
    "plt.ylabel('Time (seconds)')\n",
    "plt.legend()\n",
    "plt.show()\n"
   ]
  },
  {
   "cell_type": "markdown",
   "metadata": {},
   "source": [
    "### embeddings as float32 instead of float64 to save storage"
   ]
  },
  {
   "cell_type": "code",
   "execution_count": 15,
   "metadata": {},
   "outputs": [],
   "source": [
    "embeddings = np.stack(embedding_df['embedding'].values).astype(np.float32)"
   ]
  },
  {
   "cell_type": "markdown",
   "metadata": {},
   "source": [
    "### calculate matrix"
   ]
  },
  {
   "cell_type": "code",
   "execution_count": 16,
   "metadata": {},
   "outputs": [],
   "source": [
    "# Calculate pairwise cosine similarities\n",
    "# Note: `pdist` calculates distance, and cosine similarity is 1 - cosine distance (cosine similarity is the complement of cosine distance)\n",
    "similarity_matrix = 1 - squareform(pdist(embeddings, metric='cosine'))\n",
    "print(\"Finished calculating similarity matrix\")\n",
    "\n",
    "np.fill_diagonal(similarity_matrix, 0)\n",
    "print(\"Set diagonal to 0\")\n",
    "\n",
    "similarity_df = pd.DataFrame(similarity_matrix, columns=embedding_df['iati_id'], index=embedding_df['iati_id'])\n",
    "print(\"Saved similarity matrix to df\")"
   ]
  },
  {
   "cell_type": "markdown",
   "metadata": {},
   "source": [
    "### export simiolarity matrix as csv"
   ]
  },
  {
   "cell_type": "code",
   "execution_count": 11,
   "metadata": {},
   "outputs": [],
   "source": [
    "similarity_df.to_csv(\"../../src/transformer/similarities.csv\", index=False) "
   ]
  },
  {
   "cell_type": "code",
   "execution_count": 7,
   "metadata": {},
   "outputs": [
    {
     "ename": "MemoryError",
     "evalue": "",
     "output_type": "error",
     "traceback": [
      "\u001b[1;31m---------------------------------------------------------------------------\u001b[0m",
      "\u001b[1;31mMemoryError\u001b[0m                               Traceback (most recent call last)",
      "Cell \u001b[1;32mIn[7], line 1\u001b[0m\n\u001b[1;32m----> 1\u001b[0m similarity_df \u001b[38;5;241m=\u001b[39m \u001b[43mpd\u001b[49m\u001b[38;5;241;43m.\u001b[39;49m\u001b[43mread_csv\u001b[49m\u001b[43m(\u001b[49m\u001b[38;5;124;43m\"\u001b[39;49m\u001b[38;5;124;43m../../src/transformer/similarities.csv\u001b[39;49m\u001b[38;5;124;43m\"\u001b[39;49m\u001b[43m)\u001b[49m\n",
      "File \u001b[1;32mc:\\Users\\UserNA6153\\anaconda3\\envs\\pamb\\lib\\site-packages\\pandas\\io\\parsers\\readers.py:948\u001b[0m, in \u001b[0;36mread_csv\u001b[1;34m(filepath_or_buffer, sep, delimiter, header, names, index_col, usecols, dtype, engine, converters, true_values, false_values, skipinitialspace, skiprows, skipfooter, nrows, na_values, keep_default_na, na_filter, verbose, skip_blank_lines, parse_dates, infer_datetime_format, keep_date_col, date_parser, date_format, dayfirst, cache_dates, iterator, chunksize, compression, thousands, decimal, lineterminator, quotechar, quoting, doublequote, escapechar, comment, encoding, encoding_errors, dialect, on_bad_lines, delim_whitespace, low_memory, memory_map, float_precision, storage_options, dtype_backend)\u001b[0m\n\u001b[0;32m    935\u001b[0m kwds_defaults \u001b[38;5;241m=\u001b[39m _refine_defaults_read(\n\u001b[0;32m    936\u001b[0m     dialect,\n\u001b[0;32m    937\u001b[0m     delimiter,\n\u001b[1;32m   (...)\u001b[0m\n\u001b[0;32m    944\u001b[0m     dtype_backend\u001b[38;5;241m=\u001b[39mdtype_backend,\n\u001b[0;32m    945\u001b[0m )\n\u001b[0;32m    946\u001b[0m kwds\u001b[38;5;241m.\u001b[39mupdate(kwds_defaults)\n\u001b[1;32m--> 948\u001b[0m \u001b[38;5;28;01mreturn\u001b[39;00m \u001b[43m_read\u001b[49m\u001b[43m(\u001b[49m\u001b[43mfilepath_or_buffer\u001b[49m\u001b[43m,\u001b[49m\u001b[43m \u001b[49m\u001b[43mkwds\u001b[49m\u001b[43m)\u001b[49m\n",
      "File \u001b[1;32mc:\\Users\\UserNA6153\\anaconda3\\envs\\pamb\\lib\\site-packages\\pandas\\io\\parsers\\readers.py:617\u001b[0m, in \u001b[0;36m_read\u001b[1;34m(filepath_or_buffer, kwds)\u001b[0m\n\u001b[0;32m    614\u001b[0m     \u001b[38;5;28;01mreturn\u001b[39;00m parser\n\u001b[0;32m    616\u001b[0m \u001b[38;5;28;01mwith\u001b[39;00m parser:\n\u001b[1;32m--> 617\u001b[0m     \u001b[38;5;28;01mreturn\u001b[39;00m \u001b[43mparser\u001b[49m\u001b[38;5;241;43m.\u001b[39;49m\u001b[43mread\u001b[49m\u001b[43m(\u001b[49m\u001b[43mnrows\u001b[49m\u001b[43m)\u001b[49m\n",
      "File \u001b[1;32mc:\\Users\\UserNA6153\\anaconda3\\envs\\pamb\\lib\\site-packages\\pandas\\io\\parsers\\readers.py:1748\u001b[0m, in \u001b[0;36mTextFileReader.read\u001b[1;34m(self, nrows)\u001b[0m\n\u001b[0;32m   1741\u001b[0m nrows \u001b[38;5;241m=\u001b[39m validate_integer(\u001b[38;5;124m\"\u001b[39m\u001b[38;5;124mnrows\u001b[39m\u001b[38;5;124m\"\u001b[39m, nrows)\n\u001b[0;32m   1742\u001b[0m \u001b[38;5;28;01mtry\u001b[39;00m:\n\u001b[0;32m   1743\u001b[0m     \u001b[38;5;66;03m# error: \"ParserBase\" has no attribute \"read\"\u001b[39;00m\n\u001b[0;32m   1744\u001b[0m     (\n\u001b[0;32m   1745\u001b[0m         index,\n\u001b[0;32m   1746\u001b[0m         columns,\n\u001b[0;32m   1747\u001b[0m         col_dict,\n\u001b[1;32m-> 1748\u001b[0m     ) \u001b[38;5;241m=\u001b[39m \u001b[38;5;28;43mself\u001b[39;49m\u001b[38;5;241;43m.\u001b[39;49m\u001b[43m_engine\u001b[49m\u001b[38;5;241;43m.\u001b[39;49m\u001b[43mread\u001b[49m\u001b[43m(\u001b[49m\u001b[43m  \u001b[49m\u001b[38;5;66;43;03m# type: ignore[attr-defined]\u001b[39;49;00m\n\u001b[0;32m   1749\u001b[0m \u001b[43m        \u001b[49m\u001b[43mnrows\u001b[49m\n\u001b[0;32m   1750\u001b[0m \u001b[43m    \u001b[49m\u001b[43m)\u001b[49m\n\u001b[0;32m   1751\u001b[0m \u001b[38;5;28;01mexcept\u001b[39;00m \u001b[38;5;167;01mException\u001b[39;00m:\n\u001b[0;32m   1752\u001b[0m     \u001b[38;5;28mself\u001b[39m\u001b[38;5;241m.\u001b[39mclose()\n",
      "File \u001b[1;32mc:\\Users\\UserNA6153\\anaconda3\\envs\\pamb\\lib\\site-packages\\pandas\\io\\parsers\\c_parser_wrapper.py:234\u001b[0m, in \u001b[0;36mCParserWrapper.read\u001b[1;34m(self, nrows)\u001b[0m\n\u001b[0;32m    232\u001b[0m \u001b[38;5;28;01mtry\u001b[39;00m:\n\u001b[0;32m    233\u001b[0m     \u001b[38;5;28;01mif\u001b[39;00m \u001b[38;5;28mself\u001b[39m\u001b[38;5;241m.\u001b[39mlow_memory:\n\u001b[1;32m--> 234\u001b[0m         chunks \u001b[38;5;241m=\u001b[39m \u001b[38;5;28;43mself\u001b[39;49m\u001b[38;5;241;43m.\u001b[39;49m\u001b[43m_reader\u001b[49m\u001b[38;5;241;43m.\u001b[39;49m\u001b[43mread_low_memory\u001b[49m\u001b[43m(\u001b[49m\u001b[43mnrows\u001b[49m\u001b[43m)\u001b[49m\n\u001b[0;32m    235\u001b[0m         \u001b[38;5;66;03m# destructive to chunks\u001b[39;00m\n\u001b[0;32m    236\u001b[0m         data \u001b[38;5;241m=\u001b[39m _concatenate_chunks(chunks)\n",
      "File \u001b[1;32mparsers.pyx:843\u001b[0m, in \u001b[0;36mpandas._libs.parsers.TextReader.read_low_memory\u001b[1;34m()\u001b[0m\n",
      "File \u001b[1;32mparsers.pyx:920\u001b[0m, in \u001b[0;36mpandas._libs.parsers.TextReader._read_rows\u001b[1;34m()\u001b[0m\n",
      "File \u001b[1;32mparsers.pyx:1091\u001b[0m, in \u001b[0;36mpandas._libs.parsers.TextReader._convert_column_data\u001b[1;34m()\u001b[0m\n",
      "\u001b[1;31mMemoryError\u001b[0m: "
     ]
    }
   ],
   "source": [
    "similarity_df = pd.read_csv(\"../../src/transformer/similarities.csv\")"
   ]
  },
  {
   "cell_type": "code",
   "execution_count": null,
   "metadata": {},
   "outputs": [
    {
     "data": {
      "text/html": [
       "<div>\n",
       "<style scoped>\n",
       "    .dataframe tbody tr th:only-of-type {\n",
       "        vertical-align: middle;\n",
       "    }\n",
       "\n",
       "    .dataframe tbody tr th {\n",
       "        vertical-align: top;\n",
       "    }\n",
       "\n",
       "    .dataframe thead th {\n",
       "        text-align: right;\n",
       "    }\n",
       "</style>\n",
       "<table border=\"1\" class=\"dataframe\">\n",
       "  <thead>\n",
       "    <tr style=\"text-align: right;\">\n",
       "      <th>iati_id</th>\n",
       "      <th>XM-DAC-46004-49227-003-LN3362</th>\n",
       "      <th>DE-1-201134063-0</th>\n",
       "      <th>DE-1-201576701-0</th>\n",
       "      <th>XI-IATI-IADB-BR-L1539</th>\n",
       "      <th>XM-DAC-918-3-20160453-86438</th>\n",
       "      <th>XM-DAC-5-7-6613628</th>\n",
       "      <th>XM-DAC-5-7-6610400</th>\n",
       "      <th>DE-1-201233402-0</th>\n",
       "      <th>46002-P-TZ-IBD-002</th>\n",
       "      <th>DE-1-201479922-0</th>\n",
       "      <th>...</th>\n",
       "      <th>DE-1-202050904-0</th>\n",
       "      <th>DE-1-201531029-0</th>\n",
       "      <th>DE-1-200970244</th>\n",
       "      <th>XM-DAC-918-3-20160523-86573</th>\n",
       "      <th>DE-1-201640481</th>\n",
       "      <th>DE-1-202134864-0</th>\n",
       "      <th>DE-1-201232503-0</th>\n",
       "      <th>46002-P-MU-DB0-004</th>\n",
       "      <th>44000-P078971</th>\n",
       "      <th>DE-1-200721944</th>\n",
       "    </tr>\n",
       "    <tr>\n",
       "      <th>iati_id</th>\n",
       "      <th></th>\n",
       "      <th></th>\n",
       "      <th></th>\n",
       "      <th></th>\n",
       "      <th></th>\n",
       "      <th></th>\n",
       "      <th></th>\n",
       "      <th></th>\n",
       "      <th></th>\n",
       "      <th></th>\n",
       "      <th></th>\n",
       "      <th></th>\n",
       "      <th></th>\n",
       "      <th></th>\n",
       "      <th></th>\n",
       "      <th></th>\n",
       "      <th></th>\n",
       "      <th></th>\n",
       "      <th></th>\n",
       "      <th></th>\n",
       "      <th></th>\n",
       "    </tr>\n",
       "  </thead>\n",
       "  <tbody>\n",
       "    <tr>\n",
       "      <th>XM-DAC-46004-49227-003-LN3362</th>\n",
       "      <td>1.000000</td>\n",
       "      <td>0.964353</td>\n",
       "      <td>0.961550</td>\n",
       "      <td>0.970175</td>\n",
       "      <td>0.957624</td>\n",
       "      <td>0.986182</td>\n",
       "      <td>0.945390</td>\n",
       "      <td>0.986013</td>\n",
       "      <td>0.935133</td>\n",
       "      <td>0.917294</td>\n",
       "      <td>...</td>\n",
       "      <td>0.969502</td>\n",
       "      <td>0.959010</td>\n",
       "      <td>0.972279</td>\n",
       "      <td>0.929038</td>\n",
       "      <td>0.984730</td>\n",
       "      <td>0.970741</td>\n",
       "      <td>0.825249</td>\n",
       "      <td>0.911028</td>\n",
       "      <td>0.941813</td>\n",
       "      <td>0.980021</td>\n",
       "    </tr>\n",
       "    <tr>\n",
       "      <th>DE-1-201134063-0</th>\n",
       "      <td>0.964353</td>\n",
       "      <td>1.000000</td>\n",
       "      <td>0.977891</td>\n",
       "      <td>0.982261</td>\n",
       "      <td>0.968652</td>\n",
       "      <td>0.982926</td>\n",
       "      <td>0.975701</td>\n",
       "      <td>0.981887</td>\n",
       "      <td>0.958593</td>\n",
       "      <td>0.928527</td>\n",
       "      <td>...</td>\n",
       "      <td>0.979811</td>\n",
       "      <td>0.963516</td>\n",
       "      <td>0.920935</td>\n",
       "      <td>0.965328</td>\n",
       "      <td>0.966178</td>\n",
       "      <td>0.966286</td>\n",
       "      <td>0.871650</td>\n",
       "      <td>0.953155</td>\n",
       "      <td>0.964422</td>\n",
       "      <td>0.986718</td>\n",
       "    </tr>\n",
       "    <tr>\n",
       "      <th>DE-1-201576701-0</th>\n",
       "      <td>0.961550</td>\n",
       "      <td>0.977891</td>\n",
       "      <td>1.000000</td>\n",
       "      <td>0.962109</td>\n",
       "      <td>0.989830</td>\n",
       "      <td>0.981766</td>\n",
       "      <td>0.969966</td>\n",
       "      <td>0.970920</td>\n",
       "      <td>0.922277</td>\n",
       "      <td>0.972192</td>\n",
       "      <td>...</td>\n",
       "      <td>0.970424</td>\n",
       "      <td>0.945317</td>\n",
       "      <td>0.949781</td>\n",
       "      <td>0.960254</td>\n",
       "      <td>0.978683</td>\n",
       "      <td>0.985540</td>\n",
       "      <td>0.833382</td>\n",
       "      <td>0.954760</td>\n",
       "      <td>0.930853</td>\n",
       "      <td>0.965021</td>\n",
       "    </tr>\n",
       "    <tr>\n",
       "      <th>XI-IATI-IADB-BR-L1539</th>\n",
       "      <td>0.970175</td>\n",
       "      <td>0.982261</td>\n",
       "      <td>0.962109</td>\n",
       "      <td>1.000000</td>\n",
       "      <td>0.957768</td>\n",
       "      <td>0.984443</td>\n",
       "      <td>0.971458</td>\n",
       "      <td>0.984518</td>\n",
       "      <td>0.969914</td>\n",
       "      <td>0.918479</td>\n",
       "      <td>...</td>\n",
       "      <td>0.986194</td>\n",
       "      <td>0.976820</td>\n",
       "      <td>0.917929</td>\n",
       "      <td>0.962026</td>\n",
       "      <td>0.959487</td>\n",
       "      <td>0.965674</td>\n",
       "      <td>0.902769</td>\n",
       "      <td>0.956683</td>\n",
       "      <td>0.976605</td>\n",
       "      <td>0.989287</td>\n",
       "    </tr>\n",
       "    <tr>\n",
       "      <th>XM-DAC-918-3-20160453-86438</th>\n",
       "      <td>0.957624</td>\n",
       "      <td>0.968652</td>\n",
       "      <td>0.989830</td>\n",
       "      <td>0.957768</td>\n",
       "      <td>1.000000</td>\n",
       "      <td>0.978422</td>\n",
       "      <td>0.971003</td>\n",
       "      <td>0.966617</td>\n",
       "      <td>0.919254</td>\n",
       "      <td>0.979841</td>\n",
       "      <td>...</td>\n",
       "      <td>0.968028</td>\n",
       "      <td>0.936136</td>\n",
       "      <td>0.944954</td>\n",
       "      <td>0.971494</td>\n",
       "      <td>0.974020</td>\n",
       "      <td>0.984779</td>\n",
       "      <td>0.827645</td>\n",
       "      <td>0.960891</td>\n",
       "      <td>0.924150</td>\n",
       "      <td>0.958227</td>\n",
       "    </tr>\n",
       "    <tr>\n",
       "      <th>...</th>\n",
       "      <td>...</td>\n",
       "      <td>...</td>\n",
       "      <td>...</td>\n",
       "      <td>...</td>\n",
       "      <td>...</td>\n",
       "      <td>...</td>\n",
       "      <td>...</td>\n",
       "      <td>...</td>\n",
       "      <td>...</td>\n",
       "      <td>...</td>\n",
       "      <td>...</td>\n",
       "      <td>...</td>\n",
       "      <td>...</td>\n",
       "      <td>...</td>\n",
       "      <td>...</td>\n",
       "      <td>...</td>\n",
       "      <td>...</td>\n",
       "      <td>...</td>\n",
       "      <td>...</td>\n",
       "      <td>...</td>\n",
       "      <td>...</td>\n",
       "    </tr>\n",
       "    <tr>\n",
       "      <th>46002-P-ET-AAE-008</th>\n",
       "      <td>0.960947</td>\n",
       "      <td>0.974133</td>\n",
       "      <td>0.989848</td>\n",
       "      <td>0.968810</td>\n",
       "      <td>0.994234</td>\n",
       "      <td>0.981141</td>\n",
       "      <td>0.981345</td>\n",
       "      <td>0.970372</td>\n",
       "      <td>0.937795</td>\n",
       "      <td>0.973921</td>\n",
       "      <td>...</td>\n",
       "      <td>0.978639</td>\n",
       "      <td>0.942378</td>\n",
       "      <td>0.936472</td>\n",
       "      <td>0.978252</td>\n",
       "      <td>0.970182</td>\n",
       "      <td>0.987370</td>\n",
       "      <td>0.852662</td>\n",
       "      <td>0.971380</td>\n",
       "      <td>0.941831</td>\n",
       "      <td>0.966716</td>\n",
       "    </tr>\n",
       "    <tr>\n",
       "      <th>46002-P-CV-KA0-009</th>\n",
       "      <td>0.840962</td>\n",
       "      <td>0.872090</td>\n",
       "      <td>0.802151</td>\n",
       "      <td>0.898199</td>\n",
       "      <td>0.795798</td>\n",
       "      <td>0.847441</td>\n",
       "      <td>0.878633</td>\n",
       "      <td>0.866947</td>\n",
       "      <td>0.955013</td>\n",
       "      <td>0.719732</td>\n",
       "      <td>...</td>\n",
       "      <td>0.884535</td>\n",
       "      <td>0.881804</td>\n",
       "      <td>0.723600</td>\n",
       "      <td>0.866811</td>\n",
       "      <td>0.791594</td>\n",
       "      <td>0.804399</td>\n",
       "      <td>0.902570</td>\n",
       "      <td>0.857097</td>\n",
       "      <td>0.947912</td>\n",
       "      <td>0.887463</td>\n",
       "    </tr>\n",
       "    <tr>\n",
       "      <th>DE-1-201970581</th>\n",
       "      <td>0.971538</td>\n",
       "      <td>0.974843</td>\n",
       "      <td>0.991286</td>\n",
       "      <td>0.967261</td>\n",
       "      <td>0.990231</td>\n",
       "      <td>0.985968</td>\n",
       "      <td>0.965099</td>\n",
       "      <td>0.975086</td>\n",
       "      <td>0.926600</td>\n",
       "      <td>0.970085</td>\n",
       "      <td>...</td>\n",
       "      <td>0.971063</td>\n",
       "      <td>0.946986</td>\n",
       "      <td>0.960098</td>\n",
       "      <td>0.959759</td>\n",
       "      <td>0.985318</td>\n",
       "      <td>0.986838</td>\n",
       "      <td>0.835184</td>\n",
       "      <td>0.950556</td>\n",
       "      <td>0.933963</td>\n",
       "      <td>0.969687</td>\n",
       "    </tr>\n",
       "    <tr>\n",
       "      <th>XI-IATI-IADB-PR-L1151</th>\n",
       "      <td>0.905014</td>\n",
       "      <td>0.939108</td>\n",
       "      <td>0.955957</td>\n",
       "      <td>0.931648</td>\n",
       "      <td>0.971080</td>\n",
       "      <td>0.934594</td>\n",
       "      <td>0.966459</td>\n",
       "      <td>0.920699</td>\n",
       "      <td>0.917152</td>\n",
       "      <td>0.956620</td>\n",
       "      <td>...</td>\n",
       "      <td>0.947817</td>\n",
       "      <td>0.893851</td>\n",
       "      <td>0.867623</td>\n",
       "      <td>0.981401</td>\n",
       "      <td>0.914005</td>\n",
       "      <td>0.949818</td>\n",
       "      <td>0.848036</td>\n",
       "      <td>0.973054</td>\n",
       "      <td>0.920542</td>\n",
       "      <td>0.921218</td>\n",
       "    </tr>\n",
       "    <tr>\n",
       "      <th>46002-P-GH-EAZ-001</th>\n",
       "      <td>0.961153</td>\n",
       "      <td>0.978069</td>\n",
       "      <td>0.950878</td>\n",
       "      <td>0.983705</td>\n",
       "      <td>0.949609</td>\n",
       "      <td>0.970637</td>\n",
       "      <td>0.974922</td>\n",
       "      <td>0.973182</td>\n",
       "      <td>0.985913</td>\n",
       "      <td>0.898447</td>\n",
       "      <td>...</td>\n",
       "      <td>0.979067</td>\n",
       "      <td>0.958287</td>\n",
       "      <td>0.895634</td>\n",
       "      <td>0.968225</td>\n",
       "      <td>0.943803</td>\n",
       "      <td>0.947578</td>\n",
       "      <td>0.902314</td>\n",
       "      <td>0.956104</td>\n",
       "      <td>0.986956</td>\n",
       "      <td>0.983104</td>\n",
       "    </tr>\n",
       "  </tbody>\n",
       "</table>\n",
       "<p>40000 rows × 54081 columns</p>\n",
       "</div>"
      ],
      "text/plain": [
       "iati_id                        XM-DAC-46004-49227-003-LN3362  \\\n",
       "iati_id                                                        \n",
       "XM-DAC-46004-49227-003-LN3362                       1.000000   \n",
       "DE-1-201134063-0                                    0.964353   \n",
       "DE-1-201576701-0                                    0.961550   \n",
       "XI-IATI-IADB-BR-L1539                               0.970175   \n",
       "XM-DAC-918-3-20160453-86438                         0.957624   \n",
       "...                                                      ...   \n",
       "46002-P-ET-AAE-008                                  0.960947   \n",
       "46002-P-CV-KA0-009                                  0.840962   \n",
       "DE-1-201970581                                      0.971538   \n",
       "XI-IATI-IADB-PR-L1151                               0.905014   \n",
       "46002-P-GH-EAZ-001                                  0.961153   \n",
       "\n",
       "iati_id                        DE-1-201134063-0  DE-1-201576701-0  \\\n",
       "iati_id                                                             \n",
       "XM-DAC-46004-49227-003-LN3362          0.964353          0.961550   \n",
       "DE-1-201134063-0                       1.000000          0.977891   \n",
       "DE-1-201576701-0                       0.977891          1.000000   \n",
       "XI-IATI-IADB-BR-L1539                  0.982261          0.962109   \n",
       "XM-DAC-918-3-20160453-86438            0.968652          0.989830   \n",
       "...                                         ...               ...   \n",
       "46002-P-ET-AAE-008                     0.974133          0.989848   \n",
       "46002-P-CV-KA0-009                     0.872090          0.802151   \n",
       "DE-1-201970581                         0.974843          0.991286   \n",
       "XI-IATI-IADB-PR-L1151                  0.939108          0.955957   \n",
       "46002-P-GH-EAZ-001                     0.978069          0.950878   \n",
       "\n",
       "iati_id                        XI-IATI-IADB-BR-L1539  \\\n",
       "iati_id                                                \n",
       "XM-DAC-46004-49227-003-LN3362               0.970175   \n",
       "DE-1-201134063-0                            0.982261   \n",
       "DE-1-201576701-0                            0.962109   \n",
       "XI-IATI-IADB-BR-L1539                       1.000000   \n",
       "XM-DAC-918-3-20160453-86438                 0.957768   \n",
       "...                                              ...   \n",
       "46002-P-ET-AAE-008                          0.968810   \n",
       "46002-P-CV-KA0-009                          0.898199   \n",
       "DE-1-201970581                              0.967261   \n",
       "XI-IATI-IADB-PR-L1151                       0.931648   \n",
       "46002-P-GH-EAZ-001                          0.983705   \n",
       "\n",
       "iati_id                        XM-DAC-918-3-20160453-86438  \\\n",
       "iati_id                                                      \n",
       "XM-DAC-46004-49227-003-LN3362                     0.957624   \n",
       "DE-1-201134063-0                                  0.968652   \n",
       "DE-1-201576701-0                                  0.989830   \n",
       "XI-IATI-IADB-BR-L1539                             0.957768   \n",
       "XM-DAC-918-3-20160453-86438                       1.000000   \n",
       "...                                                    ...   \n",
       "46002-P-ET-AAE-008                                0.994234   \n",
       "46002-P-CV-KA0-009                                0.795798   \n",
       "DE-1-201970581                                    0.990231   \n",
       "XI-IATI-IADB-PR-L1151                             0.971080   \n",
       "46002-P-GH-EAZ-001                                0.949609   \n",
       "\n",
       "iati_id                        XM-DAC-5-7-6613628  XM-DAC-5-7-6610400  \\\n",
       "iati_id                                                                 \n",
       "XM-DAC-46004-49227-003-LN3362            0.986182            0.945390   \n",
       "DE-1-201134063-0                         0.982926            0.975701   \n",
       "DE-1-201576701-0                         0.981766            0.969966   \n",
       "XI-IATI-IADB-BR-L1539                    0.984443            0.971458   \n",
       "XM-DAC-918-3-20160453-86438              0.978422            0.971003   \n",
       "...                                           ...                 ...   \n",
       "46002-P-ET-AAE-008                       0.981141            0.981345   \n",
       "46002-P-CV-KA0-009                       0.847441            0.878633   \n",
       "DE-1-201970581                           0.985968            0.965099   \n",
       "XI-IATI-IADB-PR-L1151                    0.934594            0.966459   \n",
       "46002-P-GH-EAZ-001                       0.970637            0.974922   \n",
       "\n",
       "iati_id                        DE-1-201233402-0  46002-P-TZ-IBD-002  \\\n",
       "iati_id                                                               \n",
       "XM-DAC-46004-49227-003-LN3362          0.986013            0.935133   \n",
       "DE-1-201134063-0                       0.981887            0.958593   \n",
       "DE-1-201576701-0                       0.970920            0.922277   \n",
       "XI-IATI-IADB-BR-L1539                  0.984518            0.969914   \n",
       "XM-DAC-918-3-20160453-86438            0.966617            0.919254   \n",
       "...                                         ...                 ...   \n",
       "46002-P-ET-AAE-008                     0.970372            0.937795   \n",
       "46002-P-CV-KA0-009                     0.866947            0.955013   \n",
       "DE-1-201970581                         0.975086            0.926600   \n",
       "XI-IATI-IADB-PR-L1151                  0.920699            0.917152   \n",
       "46002-P-GH-EAZ-001                     0.973182            0.985913   \n",
       "\n",
       "iati_id                        DE-1-201479922-0  ...  DE-1-202050904-0  \\\n",
       "iati_id                                          ...                     \n",
       "XM-DAC-46004-49227-003-LN3362          0.917294  ...          0.969502   \n",
       "DE-1-201134063-0                       0.928527  ...          0.979811   \n",
       "DE-1-201576701-0                       0.972192  ...          0.970424   \n",
       "XI-IATI-IADB-BR-L1539                  0.918479  ...          0.986194   \n",
       "XM-DAC-918-3-20160453-86438            0.979841  ...          0.968028   \n",
       "...                                         ...  ...               ...   \n",
       "46002-P-ET-AAE-008                     0.973921  ...          0.978639   \n",
       "46002-P-CV-KA0-009                     0.719732  ...          0.884535   \n",
       "DE-1-201970581                         0.970085  ...          0.971063   \n",
       "XI-IATI-IADB-PR-L1151                  0.956620  ...          0.947817   \n",
       "46002-P-GH-EAZ-001                     0.898447  ...          0.979067   \n",
       "\n",
       "iati_id                        DE-1-201531029-0  DE-1-200970244  \\\n",
       "iati_id                                                           \n",
       "XM-DAC-46004-49227-003-LN3362          0.959010        0.972279   \n",
       "DE-1-201134063-0                       0.963516        0.920935   \n",
       "DE-1-201576701-0                       0.945317        0.949781   \n",
       "XI-IATI-IADB-BR-L1539                  0.976820        0.917929   \n",
       "XM-DAC-918-3-20160453-86438            0.936136        0.944954   \n",
       "...                                         ...             ...   \n",
       "46002-P-ET-AAE-008                     0.942378        0.936472   \n",
       "46002-P-CV-KA0-009                     0.881804        0.723600   \n",
       "DE-1-201970581                         0.946986        0.960098   \n",
       "XI-IATI-IADB-PR-L1151                  0.893851        0.867623   \n",
       "46002-P-GH-EAZ-001                     0.958287        0.895634   \n",
       "\n",
       "iati_id                        XM-DAC-918-3-20160523-86573  DE-1-201640481  \\\n",
       "iati_id                                                                      \n",
       "XM-DAC-46004-49227-003-LN3362                     0.929038        0.984730   \n",
       "DE-1-201134063-0                                  0.965328        0.966178   \n",
       "DE-1-201576701-0                                  0.960254        0.978683   \n",
       "XI-IATI-IADB-BR-L1539                             0.962026        0.959487   \n",
       "XM-DAC-918-3-20160453-86438                       0.971494        0.974020   \n",
       "...                                                    ...             ...   \n",
       "46002-P-ET-AAE-008                                0.978252        0.970182   \n",
       "46002-P-CV-KA0-009                                0.866811        0.791594   \n",
       "DE-1-201970581                                    0.959759        0.985318   \n",
       "XI-IATI-IADB-PR-L1151                             0.981401        0.914005   \n",
       "46002-P-GH-EAZ-001                                0.968225        0.943803   \n",
       "\n",
       "iati_id                        DE-1-202134864-0  DE-1-201232503-0  \\\n",
       "iati_id                                                             \n",
       "XM-DAC-46004-49227-003-LN3362          0.970741          0.825249   \n",
       "DE-1-201134063-0                       0.966286          0.871650   \n",
       "DE-1-201576701-0                       0.985540          0.833382   \n",
       "XI-IATI-IADB-BR-L1539                  0.965674          0.902769   \n",
       "XM-DAC-918-3-20160453-86438            0.984779          0.827645   \n",
       "...                                         ...               ...   \n",
       "46002-P-ET-AAE-008                     0.987370          0.852662   \n",
       "46002-P-CV-KA0-009                     0.804399          0.902570   \n",
       "DE-1-201970581                         0.986838          0.835184   \n",
       "XI-IATI-IADB-PR-L1151                  0.949818          0.848036   \n",
       "46002-P-GH-EAZ-001                     0.947578          0.902314   \n",
       "\n",
       "iati_id                        46002-P-MU-DB0-004  44000-P078971  \\\n",
       "iati_id                                                            \n",
       "XM-DAC-46004-49227-003-LN3362            0.911028       0.941813   \n",
       "DE-1-201134063-0                         0.953155       0.964422   \n",
       "DE-1-201576701-0                         0.954760       0.930853   \n",
       "XI-IATI-IADB-BR-L1539                    0.956683       0.976605   \n",
       "XM-DAC-918-3-20160453-86438              0.960891       0.924150   \n",
       "...                                           ...            ...   \n",
       "46002-P-ET-AAE-008                       0.971380       0.941831   \n",
       "46002-P-CV-KA0-009                       0.857097       0.947912   \n",
       "DE-1-201970581                           0.950556       0.933963   \n",
       "XI-IATI-IADB-PR-L1151                    0.973054       0.920542   \n",
       "46002-P-GH-EAZ-001                       0.956104       0.986956   \n",
       "\n",
       "iati_id                        DE-1-200721944  \n",
       "iati_id                                        \n",
       "XM-DAC-46004-49227-003-LN3362        0.980021  \n",
       "DE-1-201134063-0                     0.986718  \n",
       "DE-1-201576701-0                     0.965021  \n",
       "XI-IATI-IADB-BR-L1539                0.989287  \n",
       "XM-DAC-918-3-20160453-86438          0.958227  \n",
       "...                                       ...  \n",
       "46002-P-ET-AAE-008                   0.966716  \n",
       "46002-P-CV-KA0-009                   0.887463  \n",
       "DE-1-201970581                       0.969687  \n",
       "XI-IATI-IADB-PR-L1151                0.921218  \n",
       "46002-P-GH-EAZ-001                   0.983104  \n",
       "\n",
       "[40000 rows x 54081 columns]"
      ]
     },
     "execution_count": 14,
     "metadata": {},
     "output_type": "execute_result"
    }
   ],
   "source": [
    "similarity_df.head(40000)"
   ]
  },
  {
   "cell_type": "code",
   "execution_count": null,
   "metadata": {},
   "outputs": [
    {
     "name": "stdout",
     "output_type": "stream",
     "text": [
      "<class 'pandas.core.frame.DataFrame'>\n",
      "Index: 54081 entries, XM-DAC-46004-49227-003-LN3362 to DE-1-200721944\n",
      "Columns: 54081 entries, XM-DAC-46004-49227-003-LN3362 to DE-1-200721944\n",
      "dtypes: float64(54081)\n",
      "memory usage: 21.8+ GB\n"
     ]
    }
   ],
   "source": [
    "similarity_df.info()"
   ]
  },
  {
   "cell_type": "markdown",
   "metadata": {},
   "source": [
    "### change to float 32"
   ]
  },
  {
   "cell_type": "code",
   "execution_count": null,
   "metadata": {},
   "outputs": [],
   "source": [
    "similarity_float32_df = similarity_df.astype('float32')"
   ]
  },
  {
   "cell_type": "code",
   "execution_count": null,
   "metadata": {},
   "outputs": [
    {
     "name": "stdout",
     "output_type": "stream",
     "text": [
      "<class 'pandas.core.frame.DataFrame'>\n",
      "Index: 54081 entries, XM-DAC-46004-49227-003-LN3362 to DE-1-200721944\n",
      "Columns: 54081 entries, XM-DAC-46004-49227-003-LN3362 to DE-1-200721944\n",
      "dtypes: float32(54081)\n",
      "memory usage: 10.9+ GB\n"
     ]
    }
   ],
   "source": [
    "similarity_float32_df.info()"
   ]
  },
  {
   "cell_type": "code",
   "execution_count": null,
   "metadata": {},
   "outputs": [
    {
     "data": {
      "text/html": [
       "<div>\n",
       "<style scoped>\n",
       "    .dataframe tbody tr th:only-of-type {\n",
       "        vertical-align: middle;\n",
       "    }\n",
       "\n",
       "    .dataframe tbody tr th {\n",
       "        vertical-align: top;\n",
       "    }\n",
       "\n",
       "    .dataframe thead th {\n",
       "        text-align: right;\n",
       "    }\n",
       "</style>\n",
       "<table border=\"1\" class=\"dataframe\">\n",
       "  <thead>\n",
       "    <tr style=\"text-align: right;\">\n",
       "      <th>iati_id</th>\n",
       "      <th>XM-DAC-46004-49227-003-LN3362</th>\n",
       "      <th>DE-1-201134063-0</th>\n",
       "      <th>DE-1-201576701-0</th>\n",
       "      <th>XI-IATI-IADB-BR-L1539</th>\n",
       "      <th>XM-DAC-918-3-20160453-86438</th>\n",
       "      <th>XM-DAC-5-7-6613628</th>\n",
       "      <th>XM-DAC-5-7-6610400</th>\n",
       "      <th>DE-1-201233402-0</th>\n",
       "      <th>46002-P-TZ-IBD-002</th>\n",
       "      <th>DE-1-201479922-0</th>\n",
       "      <th>...</th>\n",
       "      <th>DE-1-202050904-0</th>\n",
       "      <th>DE-1-201531029-0</th>\n",
       "      <th>DE-1-200970244</th>\n",
       "      <th>XM-DAC-918-3-20160523-86573</th>\n",
       "      <th>DE-1-201640481</th>\n",
       "      <th>DE-1-202134864-0</th>\n",
       "      <th>DE-1-201232503-0</th>\n",
       "      <th>46002-P-MU-DB0-004</th>\n",
       "      <th>44000-P078971</th>\n",
       "      <th>DE-1-200721944</th>\n",
       "    </tr>\n",
       "    <tr>\n",
       "      <th>iati_id</th>\n",
       "      <th></th>\n",
       "      <th></th>\n",
       "      <th></th>\n",
       "      <th></th>\n",
       "      <th></th>\n",
       "      <th></th>\n",
       "      <th></th>\n",
       "      <th></th>\n",
       "      <th></th>\n",
       "      <th></th>\n",
       "      <th></th>\n",
       "      <th></th>\n",
       "      <th></th>\n",
       "      <th></th>\n",
       "      <th></th>\n",
       "      <th></th>\n",
       "      <th></th>\n",
       "      <th></th>\n",
       "      <th></th>\n",
       "      <th></th>\n",
       "      <th></th>\n",
       "    </tr>\n",
       "  </thead>\n",
       "  <tbody>\n",
       "    <tr>\n",
       "      <th>XM-DAC-46004-49227-003-LN3362</th>\n",
       "      <td>1.000000</td>\n",
       "      <td>0.964353</td>\n",
       "      <td>0.961550</td>\n",
       "      <td>0.970175</td>\n",
       "      <td>0.957624</td>\n",
       "      <td>0.986182</td>\n",
       "      <td>0.945390</td>\n",
       "      <td>0.986013</td>\n",
       "      <td>0.935133</td>\n",
       "      <td>0.917294</td>\n",
       "      <td>...</td>\n",
       "      <td>0.969502</td>\n",
       "      <td>0.959010</td>\n",
       "      <td>0.972279</td>\n",
       "      <td>0.929038</td>\n",
       "      <td>0.984730</td>\n",
       "      <td>0.970741</td>\n",
       "      <td>0.825249</td>\n",
       "      <td>0.911028</td>\n",
       "      <td>0.941813</td>\n",
       "      <td>0.980021</td>\n",
       "    </tr>\n",
       "    <tr>\n",
       "      <th>DE-1-201134063-0</th>\n",
       "      <td>0.964353</td>\n",
       "      <td>1.000000</td>\n",
       "      <td>0.977891</td>\n",
       "      <td>0.982261</td>\n",
       "      <td>0.968652</td>\n",
       "      <td>0.982926</td>\n",
       "      <td>0.975701</td>\n",
       "      <td>0.981887</td>\n",
       "      <td>0.958593</td>\n",
       "      <td>0.928527</td>\n",
       "      <td>...</td>\n",
       "      <td>0.979811</td>\n",
       "      <td>0.963516</td>\n",
       "      <td>0.920935</td>\n",
       "      <td>0.965328</td>\n",
       "      <td>0.966178</td>\n",
       "      <td>0.966286</td>\n",
       "      <td>0.871650</td>\n",
       "      <td>0.953155</td>\n",
       "      <td>0.964422</td>\n",
       "      <td>0.986718</td>\n",
       "    </tr>\n",
       "  </tbody>\n",
       "</table>\n",
       "<p>2 rows × 54081 columns</p>\n",
       "</div>"
      ],
      "text/plain": [
       "iati_id                        XM-DAC-46004-49227-003-LN3362  \\\n",
       "iati_id                                                        \n",
       "XM-DAC-46004-49227-003-LN3362                       1.000000   \n",
       "DE-1-201134063-0                                    0.964353   \n",
       "\n",
       "iati_id                        DE-1-201134063-0  DE-1-201576701-0  \\\n",
       "iati_id                                                             \n",
       "XM-DAC-46004-49227-003-LN3362          0.964353          0.961550   \n",
       "DE-1-201134063-0                       1.000000          0.977891   \n",
       "\n",
       "iati_id                        XI-IATI-IADB-BR-L1539  \\\n",
       "iati_id                                                \n",
       "XM-DAC-46004-49227-003-LN3362               0.970175   \n",
       "DE-1-201134063-0                            0.982261   \n",
       "\n",
       "iati_id                        XM-DAC-918-3-20160453-86438  \\\n",
       "iati_id                                                      \n",
       "XM-DAC-46004-49227-003-LN3362                     0.957624   \n",
       "DE-1-201134063-0                                  0.968652   \n",
       "\n",
       "iati_id                        XM-DAC-5-7-6613628  XM-DAC-5-7-6610400  \\\n",
       "iati_id                                                                 \n",
       "XM-DAC-46004-49227-003-LN3362            0.986182            0.945390   \n",
       "DE-1-201134063-0                         0.982926            0.975701   \n",
       "\n",
       "iati_id                        DE-1-201233402-0  46002-P-TZ-IBD-002  \\\n",
       "iati_id                                                               \n",
       "XM-DAC-46004-49227-003-LN3362          0.986013            0.935133   \n",
       "DE-1-201134063-0                       0.981887            0.958593   \n",
       "\n",
       "iati_id                        DE-1-201479922-0  ...  DE-1-202050904-0  \\\n",
       "iati_id                                          ...                     \n",
       "XM-DAC-46004-49227-003-LN3362          0.917294  ...          0.969502   \n",
       "DE-1-201134063-0                       0.928527  ...          0.979811   \n",
       "\n",
       "iati_id                        DE-1-201531029-0  DE-1-200970244  \\\n",
       "iati_id                                                           \n",
       "XM-DAC-46004-49227-003-LN3362          0.959010        0.972279   \n",
       "DE-1-201134063-0                       0.963516        0.920935   \n",
       "\n",
       "iati_id                        XM-DAC-918-3-20160523-86573  DE-1-201640481  \\\n",
       "iati_id                                                                      \n",
       "XM-DAC-46004-49227-003-LN3362                     0.929038        0.984730   \n",
       "DE-1-201134063-0                                  0.965328        0.966178   \n",
       "\n",
       "iati_id                        DE-1-202134864-0  DE-1-201232503-0  \\\n",
       "iati_id                                                             \n",
       "XM-DAC-46004-49227-003-LN3362          0.970741          0.825249   \n",
       "DE-1-201134063-0                       0.966286          0.871650   \n",
       "\n",
       "iati_id                        46002-P-MU-DB0-004  44000-P078971  \\\n",
       "iati_id                                                            \n",
       "XM-DAC-46004-49227-003-LN3362            0.911028       0.941813   \n",
       "DE-1-201134063-0                         0.953155       0.964422   \n",
       "\n",
       "iati_id                        DE-1-200721944  \n",
       "iati_id                                        \n",
       "XM-DAC-46004-49227-003-LN3362        0.980021  \n",
       "DE-1-201134063-0                     0.986718  \n",
       "\n",
       "[2 rows x 54081 columns]"
      ]
     },
     "execution_count": 30,
     "metadata": {},
     "output_type": "execute_result"
    }
   ],
   "source": [
    "similarity_float32_df.head(2)"
   ]
  },
  {
   "cell_type": "markdown",
   "metadata": {},
   "source": [
    "### change to sparse matrix"
   ]
  },
  {
   "cell_type": "code",
   "execution_count": null,
   "metadata": {},
   "outputs": [],
   "source": [
    "#similarity_sparse_df = similarity_float32_df.astype(pd.SparseDtype(\"float\", 0))"
   ]
  },
  {
   "cell_type": "code",
   "execution_count": null,
   "metadata": {},
   "outputs": [],
   "source": [
    "#similarity_sparse_df.info()"
   ]
  },
  {
   "cell_type": "code",
   "execution_count": null,
   "metadata": {},
   "outputs": [],
   "source": [
    "#similarity_sparse_df.head(2)"
   ]
  },
  {
   "cell_type": "markdown",
   "metadata": {},
   "source": [
    "### remove duplicates"
   ]
  },
  {
   "cell_type": "code",
   "execution_count": null,
   "metadata": {},
   "outputs": [
    {
     "ename": "NameError",
     "evalue": "name 'similarity_float32_df' is not defined",
     "output_type": "error",
     "traceback": [
      "\u001b[1;31m---------------------------------------------------------------------------\u001b[0m",
      "\u001b[1;31mNameError\u001b[0m                                 Traceback (most recent call last)",
      "Cell \u001b[1;32mIn[2], line 1\u001b[0m\n\u001b[1;32m----> 1\u001b[0m duplicate_rows \u001b[38;5;241m=\u001b[39m \u001b[43msimilarity_float32_df\u001b[49m\u001b[38;5;241m.\u001b[39mduplicated()\n\u001b[0;32m      2\u001b[0m duplicate_cols \u001b[38;5;241m=\u001b[39m similarity_float32_df\u001b[38;5;241m.\u001b[39mT\u001b[38;5;241m.\u001b[39mduplicated()\n\u001b[0;32m      4\u001b[0m \u001b[38;5;66;03m# Remove duplicates\u001b[39;00m\n",
      "\u001b[1;31mNameError\u001b[0m: name 'similarity_float32_df' is not defined"
     ]
    }
   ],
   "source": [
    "duplicate_rows = similarity_float32_df.duplicated()\n",
    "duplicate_cols = similarity_float32_df.T.duplicated()\n",
    "\n",
    "# Remove duplicates\n",
    "filtered_matrix = similarity_float32_df.loc[~duplicate_rows, ~duplicate_cols]"
   ]
  },
  {
   "cell_type": "code",
   "execution_count": null,
   "metadata": {},
   "outputs": [
    {
     "name": "stdout",
     "output_type": "stream",
     "text": [
      "<class 'pandas.core.frame.DataFrame'>\n",
      "Index: 41892 entries, XM-DAC-46004-49227-003-LN3362 to DE-1-200721944\n",
      "Columns: 41892 entries, XM-DAC-46004-49227-003-LN3362 to DE-1-200721944\n",
      "dtypes: float16(41892)\n",
      "memory usage: 3.3+ GB\n"
     ]
    }
   ],
   "source": [
    "filtered_matrix.info()"
   ]
  },
  {
   "cell_type": "markdown",
   "metadata": {},
   "source": [
    "### save in parquet format"
   ]
  },
  {
   "cell_type": "code",
   "execution_count": null,
   "metadata": {},
   "outputs": [
    {
     "ename": "ArrowNotImplementedError",
     "evalue": "Unhandled type for Arrow to Parquet schema conversion: halffloat",
     "output_type": "error",
     "traceback": [
      "\u001b[1;31m---------------------------------------------------------------------------\u001b[0m",
      "\u001b[1;31mArrowNotImplementedError\u001b[0m                  Traceback (most recent call last)",
      "Cell \u001b[1;32mIn[27], line 1\u001b[0m\n\u001b[1;32m----> 1\u001b[0m \u001b[43mfiltered_matrix\u001b[49m\u001b[38;5;241;43m.\u001b[39;49m\u001b[43mto_parquet\u001b[49m\u001b[43m(\u001b[49m\u001b[38;5;124;43m'\u001b[39;49m\u001b[38;5;124;43m../../src/transformer/similarities.parquet\u001b[39;49m\u001b[38;5;124;43m'\u001b[39;49m\u001b[43m,\u001b[49m\u001b[43m \u001b[49m\u001b[43mcompression\u001b[49m\u001b[38;5;241;43m=\u001b[39;49m\u001b[38;5;124;43m'\u001b[39;49m\u001b[38;5;124;43mgzip\u001b[39;49m\u001b[38;5;124;43m'\u001b[39;49m\u001b[43m)\u001b[49m\n",
      "File \u001b[1;32mc:\\Users\\UserNA6153\\anaconda3\\envs\\pamb\\lib\\site-packages\\pandas\\core\\frame.py:2970\u001b[0m, in \u001b[0;36mDataFrame.to_parquet\u001b[1;34m(self, path, engine, compression, index, partition_cols, storage_options, **kwargs)\u001b[0m\n\u001b[0;32m   2882\u001b[0m \u001b[38;5;250m\u001b[39m\u001b[38;5;124;03m\"\"\"\u001b[39;00m\n\u001b[0;32m   2883\u001b[0m \u001b[38;5;124;03mWrite a DataFrame to the binary parquet format.\u001b[39;00m\n\u001b[0;32m   2884\u001b[0m \n\u001b[1;32m   (...)\u001b[0m\n\u001b[0;32m   2966\u001b[0m \u001b[38;5;124;03m>>> content = f.read()\u001b[39;00m\n\u001b[0;32m   2967\u001b[0m \u001b[38;5;124;03m\"\"\"\u001b[39;00m\n\u001b[0;32m   2968\u001b[0m \u001b[38;5;28;01mfrom\u001b[39;00m \u001b[38;5;21;01mpandas\u001b[39;00m\u001b[38;5;21;01m.\u001b[39;00m\u001b[38;5;21;01mio\u001b[39;00m\u001b[38;5;21;01m.\u001b[39;00m\u001b[38;5;21;01mparquet\u001b[39;00m \u001b[38;5;28;01mimport\u001b[39;00m to_parquet\n\u001b[1;32m-> 2970\u001b[0m \u001b[38;5;28;01mreturn\u001b[39;00m to_parquet(\n\u001b[0;32m   2971\u001b[0m     \u001b[38;5;28mself\u001b[39m,\n\u001b[0;32m   2972\u001b[0m     path,\n\u001b[0;32m   2973\u001b[0m     engine,\n\u001b[0;32m   2974\u001b[0m     compression\u001b[38;5;241m=\u001b[39mcompression,\n\u001b[0;32m   2975\u001b[0m     index\u001b[38;5;241m=\u001b[39mindex,\n\u001b[0;32m   2976\u001b[0m     partition_cols\u001b[38;5;241m=\u001b[39mpartition_cols,\n\u001b[0;32m   2977\u001b[0m     storage_options\u001b[38;5;241m=\u001b[39mstorage_options,\n\u001b[0;32m   2978\u001b[0m     \u001b[38;5;241m*\u001b[39m\u001b[38;5;241m*\u001b[39mkwargs,\n\u001b[0;32m   2979\u001b[0m )\n",
      "File \u001b[1;32mc:\\Users\\UserNA6153\\anaconda3\\envs\\pamb\\lib\\site-packages\\pandas\\io\\parquet.py:483\u001b[0m, in \u001b[0;36mto_parquet\u001b[1;34m(df, path, engine, compression, index, storage_options, partition_cols, filesystem, **kwargs)\u001b[0m\n\u001b[0;32m    479\u001b[0m impl \u001b[38;5;241m=\u001b[39m get_engine(engine)\n\u001b[0;32m    481\u001b[0m path_or_buf: FilePath \u001b[38;5;241m|\u001b[39m WriteBuffer[\u001b[38;5;28mbytes\u001b[39m] \u001b[38;5;241m=\u001b[39m io\u001b[38;5;241m.\u001b[39mBytesIO() \u001b[38;5;28;01mif\u001b[39;00m path \u001b[38;5;129;01mis\u001b[39;00m \u001b[38;5;28;01mNone\u001b[39;00m \u001b[38;5;28;01melse\u001b[39;00m path\n\u001b[1;32m--> 483\u001b[0m impl\u001b[38;5;241m.\u001b[39mwrite(\n\u001b[0;32m    484\u001b[0m     df,\n\u001b[0;32m    485\u001b[0m     path_or_buf,\n\u001b[0;32m    486\u001b[0m     compression\u001b[38;5;241m=\u001b[39mcompression,\n\u001b[0;32m    487\u001b[0m     index\u001b[38;5;241m=\u001b[39mindex,\n\u001b[0;32m    488\u001b[0m     partition_cols\u001b[38;5;241m=\u001b[39mpartition_cols,\n\u001b[0;32m    489\u001b[0m     storage_options\u001b[38;5;241m=\u001b[39mstorage_options,\n\u001b[0;32m    490\u001b[0m     filesystem\u001b[38;5;241m=\u001b[39mfilesystem,\n\u001b[0;32m    491\u001b[0m     \u001b[38;5;241m*\u001b[39m\u001b[38;5;241m*\u001b[39mkwargs,\n\u001b[0;32m    492\u001b[0m )\n\u001b[0;32m    494\u001b[0m \u001b[38;5;28;01mif\u001b[39;00m path \u001b[38;5;129;01mis\u001b[39;00m \u001b[38;5;28;01mNone\u001b[39;00m:\n\u001b[0;32m    495\u001b[0m     \u001b[38;5;28;01massert\u001b[39;00m \u001b[38;5;28misinstance\u001b[39m(path_or_buf, io\u001b[38;5;241m.\u001b[39mBytesIO)\n",
      "File \u001b[1;32mc:\\Users\\UserNA6153\\anaconda3\\envs\\pamb\\lib\\site-packages\\pandas\\io\\parquet.py:226\u001b[0m, in \u001b[0;36mPyArrowImpl.write\u001b[1;34m(self, df, path, compression, index, storage_options, partition_cols, filesystem, **kwargs)\u001b[0m\n\u001b[0;32m    216\u001b[0m         \u001b[38;5;28mself\u001b[39m\u001b[38;5;241m.\u001b[39mapi\u001b[38;5;241m.\u001b[39mparquet\u001b[38;5;241m.\u001b[39mwrite_to_dataset(\n\u001b[0;32m    217\u001b[0m             table,\n\u001b[0;32m    218\u001b[0m             path_or_handle,\n\u001b[1;32m   (...)\u001b[0m\n\u001b[0;32m    222\u001b[0m             \u001b[38;5;241m*\u001b[39m\u001b[38;5;241m*\u001b[39mkwargs,\n\u001b[0;32m    223\u001b[0m         )\n\u001b[0;32m    224\u001b[0m     \u001b[38;5;28;01melse\u001b[39;00m:\n\u001b[0;32m    225\u001b[0m         \u001b[38;5;66;03m# write to single output file\u001b[39;00m\n\u001b[1;32m--> 226\u001b[0m         \u001b[38;5;28mself\u001b[39m\u001b[38;5;241m.\u001b[39mapi\u001b[38;5;241m.\u001b[39mparquet\u001b[38;5;241m.\u001b[39mwrite_table(\n\u001b[0;32m    227\u001b[0m             table,\n\u001b[0;32m    228\u001b[0m             path_or_handle,\n\u001b[0;32m    229\u001b[0m             compression\u001b[38;5;241m=\u001b[39mcompression,\n\u001b[0;32m    230\u001b[0m             filesystem\u001b[38;5;241m=\u001b[39mfilesystem,\n\u001b[0;32m    231\u001b[0m             \u001b[38;5;241m*\u001b[39m\u001b[38;5;241m*\u001b[39mkwargs,\n\u001b[0;32m    232\u001b[0m         )\n\u001b[0;32m    233\u001b[0m \u001b[38;5;28;01mfinally\u001b[39;00m:\n\u001b[0;32m    234\u001b[0m     \u001b[38;5;28;01mif\u001b[39;00m handles \u001b[38;5;129;01mis\u001b[39;00m \u001b[38;5;129;01mnot\u001b[39;00m \u001b[38;5;28;01mNone\u001b[39;00m:\n",
      "File \u001b[1;32mc:\\Users\\UserNA6153\\anaconda3\\envs\\pamb\\lib\\site-packages\\pyarrow\\parquet\\core.py:3104\u001b[0m, in \u001b[0;36mwrite_table\u001b[1;34m(table, where, row_group_size, version, use_dictionary, compression, write_statistics, use_deprecated_int96_timestamps, coerce_timestamps, allow_truncated_timestamps, data_page_size, flavor, filesystem, compression_level, use_byte_stream_split, column_encoding, data_page_version, use_compliant_nested_type, encryption_properties, write_batch_size, dictionary_pagesize_limit, store_schema, write_page_index, **kwargs)\u001b[0m\n\u001b[0;32m   3102\u001b[0m use_int96 \u001b[38;5;241m=\u001b[39m use_deprecated_int96_timestamps\n\u001b[0;32m   3103\u001b[0m \u001b[38;5;28;01mtry\u001b[39;00m:\n\u001b[1;32m-> 3104\u001b[0m     \u001b[38;5;28;01mwith\u001b[39;00m ParquetWriter(\n\u001b[0;32m   3105\u001b[0m             where, table\u001b[38;5;241m.\u001b[39mschema,\n\u001b[0;32m   3106\u001b[0m             filesystem\u001b[38;5;241m=\u001b[39mfilesystem,\n\u001b[0;32m   3107\u001b[0m             version\u001b[38;5;241m=\u001b[39mversion,\n\u001b[0;32m   3108\u001b[0m             flavor\u001b[38;5;241m=\u001b[39mflavor,\n\u001b[0;32m   3109\u001b[0m             use_dictionary\u001b[38;5;241m=\u001b[39muse_dictionary,\n\u001b[0;32m   3110\u001b[0m             write_statistics\u001b[38;5;241m=\u001b[39mwrite_statistics,\n\u001b[0;32m   3111\u001b[0m             coerce_timestamps\u001b[38;5;241m=\u001b[39mcoerce_timestamps,\n\u001b[0;32m   3112\u001b[0m             data_page_size\u001b[38;5;241m=\u001b[39mdata_page_size,\n\u001b[0;32m   3113\u001b[0m             allow_truncated_timestamps\u001b[38;5;241m=\u001b[39mallow_truncated_timestamps,\n\u001b[0;32m   3114\u001b[0m             compression\u001b[38;5;241m=\u001b[39mcompression,\n\u001b[0;32m   3115\u001b[0m             use_deprecated_int96_timestamps\u001b[38;5;241m=\u001b[39muse_int96,\n\u001b[0;32m   3116\u001b[0m             compression_level\u001b[38;5;241m=\u001b[39mcompression_level,\n\u001b[0;32m   3117\u001b[0m             use_byte_stream_split\u001b[38;5;241m=\u001b[39muse_byte_stream_split,\n\u001b[0;32m   3118\u001b[0m             column_encoding\u001b[38;5;241m=\u001b[39mcolumn_encoding,\n\u001b[0;32m   3119\u001b[0m             data_page_version\u001b[38;5;241m=\u001b[39mdata_page_version,\n\u001b[0;32m   3120\u001b[0m             use_compliant_nested_type\u001b[38;5;241m=\u001b[39muse_compliant_nested_type,\n\u001b[0;32m   3121\u001b[0m             encryption_properties\u001b[38;5;241m=\u001b[39mencryption_properties,\n\u001b[0;32m   3122\u001b[0m             write_batch_size\u001b[38;5;241m=\u001b[39mwrite_batch_size,\n\u001b[0;32m   3123\u001b[0m             dictionary_pagesize_limit\u001b[38;5;241m=\u001b[39mdictionary_pagesize_limit,\n\u001b[0;32m   3124\u001b[0m             store_schema\u001b[38;5;241m=\u001b[39mstore_schema,\n\u001b[0;32m   3125\u001b[0m             write_page_index\u001b[38;5;241m=\u001b[39mwrite_page_index,\n\u001b[0;32m   3126\u001b[0m             \u001b[38;5;241m*\u001b[39m\u001b[38;5;241m*\u001b[39mkwargs) \u001b[38;5;28;01mas\u001b[39;00m writer:\n\u001b[0;32m   3127\u001b[0m         writer\u001b[38;5;241m.\u001b[39mwrite_table(table, row_group_size\u001b[38;5;241m=\u001b[39mrow_group_size)\n\u001b[0;32m   3128\u001b[0m \u001b[38;5;28;01mexcept\u001b[39;00m \u001b[38;5;167;01mException\u001b[39;00m:\n",
      "File \u001b[1;32mc:\\Users\\UserNA6153\\anaconda3\\envs\\pamb\\lib\\site-packages\\pyarrow\\parquet\\core.py:1016\u001b[0m, in \u001b[0;36mParquetWriter.__init__\u001b[1;34m(self, where, schema, filesystem, flavor, version, use_dictionary, compression, write_statistics, use_deprecated_int96_timestamps, compression_level, use_byte_stream_split, column_encoding, writer_engine_version, data_page_version, use_compliant_nested_type, encryption_properties, write_batch_size, dictionary_pagesize_limit, store_schema, write_page_index, **options)\u001b[0m\n\u001b[0;32m   1014\u001b[0m \u001b[38;5;28mself\u001b[39m\u001b[38;5;241m.\u001b[39m_metadata_collector \u001b[38;5;241m=\u001b[39m options\u001b[38;5;241m.\u001b[39mpop(\u001b[38;5;124m'\u001b[39m\u001b[38;5;124mmetadata_collector\u001b[39m\u001b[38;5;124m'\u001b[39m, \u001b[38;5;28;01mNone\u001b[39;00m)\n\u001b[0;32m   1015\u001b[0m engine_version \u001b[38;5;241m=\u001b[39m \u001b[38;5;124m'\u001b[39m\u001b[38;5;124mV2\u001b[39m\u001b[38;5;124m'\u001b[39m\n\u001b[1;32m-> 1016\u001b[0m \u001b[38;5;28mself\u001b[39m\u001b[38;5;241m.\u001b[39mwriter \u001b[38;5;241m=\u001b[39m _parquet\u001b[38;5;241m.\u001b[39mParquetWriter(\n\u001b[0;32m   1017\u001b[0m     sink, schema,\n\u001b[0;32m   1018\u001b[0m     version\u001b[38;5;241m=\u001b[39mversion,\n\u001b[0;32m   1019\u001b[0m     compression\u001b[38;5;241m=\u001b[39mcompression,\n\u001b[0;32m   1020\u001b[0m     use_dictionary\u001b[38;5;241m=\u001b[39muse_dictionary,\n\u001b[0;32m   1021\u001b[0m     write_statistics\u001b[38;5;241m=\u001b[39mwrite_statistics,\n\u001b[0;32m   1022\u001b[0m     use_deprecated_int96_timestamps\u001b[38;5;241m=\u001b[39muse_deprecated_int96_timestamps,\n\u001b[0;32m   1023\u001b[0m     compression_level\u001b[38;5;241m=\u001b[39mcompression_level,\n\u001b[0;32m   1024\u001b[0m     use_byte_stream_split\u001b[38;5;241m=\u001b[39muse_byte_stream_split,\n\u001b[0;32m   1025\u001b[0m     column_encoding\u001b[38;5;241m=\u001b[39mcolumn_encoding,\n\u001b[0;32m   1026\u001b[0m     writer_engine_version\u001b[38;5;241m=\u001b[39mengine_version,\n\u001b[0;32m   1027\u001b[0m     data_page_version\u001b[38;5;241m=\u001b[39mdata_page_version,\n\u001b[0;32m   1028\u001b[0m     use_compliant_nested_type\u001b[38;5;241m=\u001b[39muse_compliant_nested_type,\n\u001b[0;32m   1029\u001b[0m     encryption_properties\u001b[38;5;241m=\u001b[39mencryption_properties,\n\u001b[0;32m   1030\u001b[0m     write_batch_size\u001b[38;5;241m=\u001b[39mwrite_batch_size,\n\u001b[0;32m   1031\u001b[0m     dictionary_pagesize_limit\u001b[38;5;241m=\u001b[39mdictionary_pagesize_limit,\n\u001b[0;32m   1032\u001b[0m     store_schema\u001b[38;5;241m=\u001b[39mstore_schema,\n\u001b[0;32m   1033\u001b[0m     write_page_index\u001b[38;5;241m=\u001b[39mwrite_page_index,\n\u001b[0;32m   1034\u001b[0m     \u001b[38;5;241m*\u001b[39m\u001b[38;5;241m*\u001b[39moptions)\n\u001b[0;32m   1035\u001b[0m \u001b[38;5;28mself\u001b[39m\u001b[38;5;241m.\u001b[39mis_open \u001b[38;5;241m=\u001b[39m \u001b[38;5;28;01mTrue\u001b[39;00m\n",
      "File \u001b[1;32mc:\\Users\\UserNA6153\\anaconda3\\envs\\pamb\\lib\\site-packages\\pyarrow\\_parquet.pyx:1869\u001b[0m, in \u001b[0;36mpyarrow._parquet.ParquetWriter.__cinit__\u001b[1;34m()\u001b[0m\n",
      "File \u001b[1;32mc:\\Users\\UserNA6153\\anaconda3\\envs\\pamb\\lib\\site-packages\\pyarrow\\error.pxi:154\u001b[0m, in \u001b[0;36mpyarrow.lib.pyarrow_internal_check_status\u001b[1;34m()\u001b[0m\n",
      "File \u001b[1;32mc:\\Users\\UserNA6153\\anaconda3\\envs\\pamb\\lib\\site-packages\\pyarrow\\error.pxi:91\u001b[0m, in \u001b[0;36mpyarrow.lib.check_status\u001b[1;34m()\u001b[0m\n",
      "\u001b[1;31mArrowNotImplementedError\u001b[0m: Unhandled type for Arrow to Parquet schema conversion: halffloat"
     ]
    }
   ],
   "source": [
    "filtered_matrix.to_parquet('../../src/transformer/similarities.parquet', compression='gzip')"
   ]
  },
  {
   "cell_type": "markdown",
   "metadata": {},
   "source": [
    "### export similarities as csv"
   ]
  },
  {
   "cell_type": "code",
   "execution_count": null,
   "metadata": {},
   "outputs": [],
   "source": [
    "similarity_df.to_csv(\"../../src/transformer/similarities.csv\", index=False) "
   ]
  }
 ],
 "metadata": {
  "kernelspec": {
   "display_name": "pamb",
   "language": "python",
   "name": "python3"
  },
  "language_info": {
   "codemirror_mode": {
    "name": "ipython",
    "version": 3
   },
   "file_extension": ".py",
   "mimetype": "text/x-python",
   "name": "python",
   "nbconvert_exporter": "python",
   "pygments_lexer": "ipython3",
   "version": "3.10.13"
  }
 },
 "nbformat": 4,
 "nbformat_minor": 2
}
