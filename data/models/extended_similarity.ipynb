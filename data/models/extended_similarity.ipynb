{
 "cells": [
  {
   "cell_type": "code",
   "execution_count": 1,
   "metadata": {},
   "outputs": [],
   "source": [
    "import numpy as np\n",
    "import pandas as pd\n",
    "from scipy.sparse import save_npz\n",
    "from scipy.sparse import load_npz\n",
    "import scipy.sparse as sps\n",
    "from tqdm import tqdm \n",
    "import gc\n"
   ]
  },
  {
   "cell_type": "markdown",
   "metadata": {},
   "source": [
    "## **Load Similarity Matrix**"
   ]
  },
  {
   "cell_type": "code",
   "execution_count": 2,
   "metadata": {},
   "outputs": [],
   "source": [
    "loaded_sparse_matrix = load_npz(\"../../src/similarities.npz\")"
   ]
  },
  {
   "cell_type": "code",
   "execution_count": 3,
   "metadata": {},
   "outputs": [
    {
     "data": {
      "text/plain": [
       "(27397, 27397)"
      ]
     },
     "execution_count": 3,
     "metadata": {},
     "output_type": "execute_result"
    }
   ],
   "source": [
    "sim_matrix = loaded_sparse_matrix.toarray()\n",
    "sim_matrix.shape"
   ]
  },
  {
   "cell_type": "markdown",
   "metadata": {},
   "source": [
    "## **Load Project DF**"
   ]
  },
  {
   "cell_type": "code",
   "execution_count": 4,
   "metadata": {},
   "outputs": [
    {
     "data": {
      "text/plain": [
       "(27397, 32)"
      ]
     },
     "execution_count": 4,
     "metadata": {},
     "output_type": "execute_result"
    }
   ],
   "source": [
    "project_df = pd.read_csv(\"../../src/merged_orgas.csv\")\n",
    "project_df.shape"
   ]
  },
  {
   "cell_type": "code",
   "execution_count": 5,
   "metadata": {},
   "outputs": [
    {
     "data": {
      "text/html": [
       "<div>\n",
       "<style scoped>\n",
       "    .dataframe tbody tr th:only-of-type {\n",
       "        vertical-align: middle;\n",
       "    }\n",
       "\n",
       "    .dataframe tbody tr th {\n",
       "        vertical-align: top;\n",
       "    }\n",
       "\n",
       "    .dataframe thead th {\n",
       "        text-align: right;\n",
       "    }\n",
       "</style>\n",
       "<table border=\"1\" class=\"dataframe\">\n",
       "  <thead>\n",
       "    <tr style=\"text-align: right;\">\n",
       "      <th></th>\n",
       "      <th>iati_id</th>\n",
       "      <th>iati_orga_id</th>\n",
       "      <th>orga_abbreviation</th>\n",
       "      <th>orga_full_name</th>\n",
       "      <th>client</th>\n",
       "      <th>title_en</th>\n",
       "      <th>title_other</th>\n",
       "      <th>title_main</th>\n",
       "      <th>organization</th>\n",
       "      <th>country_code_list</th>\n",
       "      <th>...</th>\n",
       "      <th>actual_end</th>\n",
       "      <th>last_update</th>\n",
       "      <th>crs_5_code</th>\n",
       "      <th>crs_5_name</th>\n",
       "      <th>crs_3_code</th>\n",
       "      <th>crs_3_name</th>\n",
       "      <th>docs</th>\n",
       "      <th>title_and_description</th>\n",
       "      <th>sgd_pred_code</th>\n",
       "      <th>sgd_pred_str</th>\n",
       "    </tr>\n",
       "  </thead>\n",
       "  <tbody>\n",
       "    <tr>\n",
       "      <th>0</th>\n",
       "      <td>DE-1-201822287-0</td>\n",
       "      <td>DE-1</td>\n",
       "      <td>bmz</td>\n",
       "      <td>Bundesministerium für wirtschaftliche Zusammen...</td>\n",
       "      <td>BMZ</td>\n",
       "      <td>Strengthening quality infrastructure for trade...</td>\n",
       "      <td>Stärkung der Qualitätsinfrastruktur für den Ha...</td>\n",
       "      <td>Strengthening quality infrastructure for trade...</td>\n",
       "      <td>Bundesministerium für wirtschaftliche Zusammen...</td>\n",
       "      <td>NaN</td>\n",
       "      <td>...</td>\n",
       "      <td>2016-03-14T00:00:00Z</td>\n",
       "      <td>2024-02-29T00:00:00Z</td>\n",
       "      <td>33130;</td>\n",
       "      <td>Regional trade agreements (RTAs);</td>\n",
       "      <td>331;</td>\n",
       "      <td>Trade Policies &amp; Regulations;</td>\n",
       "      <td>NaN</td>\n",
       "      <td>Strengthening quality infrastructure for trade...</td>\n",
       "      <td>9</td>\n",
       "      <td>8    9. Build resilient infrastructure, promot...</td>\n",
       "    </tr>\n",
       "    <tr>\n",
       "      <th>1</th>\n",
       "      <td>DE-1-201920016-0</td>\n",
       "      <td>DE-1</td>\n",
       "      <td>bmz</td>\n",
       "      <td>Bundesministerium für wirtschaftliche Zusammen...</td>\n",
       "      <td>BMZ</td>\n",
       "      <td>Strengthening of Metrology for the Improvement...</td>\n",
       "      <td>Stärkung des Messwesens in Ägypten zur Verbess...</td>\n",
       "      <td>Strengthening of Metrology for the Improvement...</td>\n",
       "      <td>Bundesministerium für wirtschaftliche Zusammen...</td>\n",
       "      <td>['AG']</td>\n",
       "      <td>...</td>\n",
       "      <td>2016-03-14T00:00:00Z</td>\n",
       "      <td>2024-02-29T00:00:00Z</td>\n",
       "      <td>14010;</td>\n",
       "      <td>Water sector policy and administrative managem...</td>\n",
       "      <td>140;</td>\n",
       "      <td>Water Supply &amp; Sanitation;</td>\n",
       "      <td>NaN</td>\n",
       "      <td>Strengthening of Metrology for the Improvement...</td>\n",
       "      <td>8</td>\n",
       "      <td>7    8. Promote sustained, inclusive and susta...</td>\n",
       "    </tr>\n",
       "    <tr>\n",
       "      <th>2</th>\n",
       "      <td>DE-1-201721877-0</td>\n",
       "      <td>DE-1</td>\n",
       "      <td>bmz</td>\n",
       "      <td>Bundesministerium für wirtschaftliche Zusammen...</td>\n",
       "      <td>BMZ</td>\n",
       "      <td>Strengthening regional integration and coopera...</td>\n",
       "      <td>Stärkung der regionalen Integration und Zusamm...</td>\n",
       "      <td>Strengthening regional integration and coopera...</td>\n",
       "      <td>Bundesministerium für wirtschaftliche Zusammen...</td>\n",
       "      <td>NaN</td>\n",
       "      <td>...</td>\n",
       "      <td>2016-03-14T00:00:00Z</td>\n",
       "      <td>2024-02-29T00:00:00Z</td>\n",
       "      <td>33130;</td>\n",
       "      <td>Regional trade agreements (RTAs);</td>\n",
       "      <td>331;</td>\n",
       "      <td>Trade Policies &amp; Regulations;</td>\n",
       "      <td>NaN</td>\n",
       "      <td>Strengthening regional integration and coopera...</td>\n",
       "      <td>9</td>\n",
       "      <td>8    9. Build resilient infrastructure, promot...</td>\n",
       "    </tr>\n",
       "    <tr>\n",
       "      <th>3</th>\n",
       "      <td>DE-1-201276351-0</td>\n",
       "      <td>DE-1</td>\n",
       "      <td>bmz</td>\n",
       "      <td>Bundesministerium für wirtschaftliche Zusammen...</td>\n",
       "      <td>BMZ</td>\n",
       "      <td>Strengthening Non-Violent Popular Movements in...</td>\n",
       "      <td>Kapazitätsentwicklung für gewaltfreie Basisbew...</td>\n",
       "      <td>Strengthening Non-Violent Popular Movements in...</td>\n",
       "      <td>Bundesministerium für wirtschaftliche Zusammen...</td>\n",
       "      <td>['VU']</td>\n",
       "      <td>...</td>\n",
       "      <td>2016-03-14T00:00:00Z</td>\n",
       "      <td>2024-03-20T00:00:00Z</td>\n",
       "      <td>15160;</td>\n",
       "      <td>Human rights;</td>\n",
       "      <td>151;</td>\n",
       "      <td>Government &amp; Civil Society-general;</td>\n",
       "      <td>NaN</td>\n",
       "      <td>Strengthening Non-Violent Popular Movements in...</td>\n",
       "      <td>10</td>\n",
       "      <td>9    10. Reduce inequality within and among co...</td>\n",
       "    </tr>\n",
       "    <tr>\n",
       "      <th>4</th>\n",
       "      <td>DE-1-201676584-0</td>\n",
       "      <td>DE-1</td>\n",
       "      <td>bmz</td>\n",
       "      <td>Bundesministerium für wirtschaftliche Zusammen...</td>\n",
       "      <td>BMZ</td>\n",
       "      <td>Rebuilding Further Arts after cyclone</td>\n",
       "      <td>Wiederaufbau von Further Arts nach Wirbelsturm</td>\n",
       "      <td>Rebuilding Further Arts after cyclone</td>\n",
       "      <td>Bundesministerium für wirtschaftliche Zusammen...</td>\n",
       "      <td>['VU']</td>\n",
       "      <td>...</td>\n",
       "      <td>2016-03-14T00:00:00Z</td>\n",
       "      <td>2024-03-20T00:00:00Z</td>\n",
       "      <td>73010;</td>\n",
       "      <td>Immediate post-emergency reconstruction and re...</td>\n",
       "      <td>730;</td>\n",
       "      <td>Reconstruction Relief &amp; Rehabilitation;</td>\n",
       "      <td>NaN</td>\n",
       "      <td>Rebuilding Further Arts after cyclone. Rebuild...</td>\n",
       "      <td>15</td>\n",
       "      <td>14    15. Protect, restore and promote sustain...</td>\n",
       "    </tr>\n",
       "  </tbody>\n",
       "</table>\n",
       "<p>5 rows × 32 columns</p>\n",
       "</div>"
      ],
      "text/plain": [
       "            iati_id iati_orga_id orga_abbreviation  \\\n",
       "0  DE-1-201822287-0         DE-1               bmz   \n",
       "1  DE-1-201920016-0         DE-1               bmz   \n",
       "2  DE-1-201721877-0         DE-1               bmz   \n",
       "3  DE-1-201276351-0         DE-1               bmz   \n",
       "4  DE-1-201676584-0         DE-1               bmz   \n",
       "\n",
       "                                      orga_full_name client  \\\n",
       "0  Bundesministerium für wirtschaftliche Zusammen...    BMZ   \n",
       "1  Bundesministerium für wirtschaftliche Zusammen...    BMZ   \n",
       "2  Bundesministerium für wirtschaftliche Zusammen...    BMZ   \n",
       "3  Bundesministerium für wirtschaftliche Zusammen...    BMZ   \n",
       "4  Bundesministerium für wirtschaftliche Zusammen...    BMZ   \n",
       "\n",
       "                                            title_en  \\\n",
       "0  Strengthening quality infrastructure for trade...   \n",
       "1  Strengthening of Metrology for the Improvement...   \n",
       "2  Strengthening regional integration and coopera...   \n",
       "3  Strengthening Non-Violent Popular Movements in...   \n",
       "4              Rebuilding Further Arts after cyclone   \n",
       "\n",
       "                                         title_other  \\\n",
       "0  Stärkung der Qualitätsinfrastruktur für den Ha...   \n",
       "1  Stärkung des Messwesens in Ägypten zur Verbess...   \n",
       "2  Stärkung der regionalen Integration und Zusamm...   \n",
       "3  Kapazitätsentwicklung für gewaltfreie Basisbew...   \n",
       "4     Wiederaufbau von Further Arts nach Wirbelsturm   \n",
       "\n",
       "                                          title_main  \\\n",
       "0  Strengthening quality infrastructure for trade...   \n",
       "1  Strengthening of Metrology for the Improvement...   \n",
       "2  Strengthening regional integration and coopera...   \n",
       "3  Strengthening Non-Violent Popular Movements in...   \n",
       "4              Rebuilding Further Arts after cyclone   \n",
       "\n",
       "                                        organization country_code_list  ...  \\\n",
       "0  Bundesministerium für wirtschaftliche Zusammen...               NaN  ...   \n",
       "1  Bundesministerium für wirtschaftliche Zusammen...            ['AG']  ...   \n",
       "2  Bundesministerium für wirtschaftliche Zusammen...               NaN  ...   \n",
       "3  Bundesministerium für wirtschaftliche Zusammen...            ['VU']  ...   \n",
       "4  Bundesministerium für wirtschaftliche Zusammen...            ['VU']  ...   \n",
       "\n",
       "             actual_end           last_update crs_5_code  \\\n",
       "0  2016-03-14T00:00:00Z  2024-02-29T00:00:00Z    33130;    \n",
       "1  2016-03-14T00:00:00Z  2024-02-29T00:00:00Z    14010;    \n",
       "2  2016-03-14T00:00:00Z  2024-02-29T00:00:00Z    33130;    \n",
       "3  2016-03-14T00:00:00Z  2024-03-20T00:00:00Z    15160;    \n",
       "4  2016-03-14T00:00:00Z  2024-03-20T00:00:00Z    73010;    \n",
       "\n",
       "                                          crs_5_name crs_3_code  \\\n",
       "0                 Regional trade agreements (RTAs);       331;    \n",
       "1  Water sector policy and administrative managem...      140;    \n",
       "2                 Regional trade agreements (RTAs);       331;    \n",
       "3                                     Human rights;       151;    \n",
       "4  Immediate post-emergency reconstruction and re...      730;    \n",
       "\n",
       "                                 crs_3_name docs  \\\n",
       "0            Trade Policies & Regulations;   NaN   \n",
       "1               Water Supply & Sanitation;   NaN   \n",
       "2            Trade Policies & Regulations;   NaN   \n",
       "3      Government & Civil Society-general;   NaN   \n",
       "4  Reconstruction Relief & Rehabilitation;   NaN   \n",
       "\n",
       "                               title_and_description sgd_pred_code  \\\n",
       "0  Strengthening quality infrastructure for trade...             9   \n",
       "1  Strengthening of Metrology for the Improvement...             8   \n",
       "2  Strengthening regional integration and coopera...             9   \n",
       "3  Strengthening Non-Violent Popular Movements in...            10   \n",
       "4  Rebuilding Further Arts after cyclone. Rebuild...            15   \n",
       "\n",
       "                                        sgd_pred_str  \n",
       "0  8    9. Build resilient infrastructure, promot...  \n",
       "1  7    8. Promote sustained, inclusive and susta...  \n",
       "2  8    9. Build resilient infrastructure, promot...  \n",
       "3  9    10. Reduce inequality within and among co...  \n",
       "4  14    15. Protect, restore and promote sustain...  \n",
       "\n",
       "[5 rows x 32 columns]"
      ]
     },
     "execution_count": 5,
     "metadata": {},
     "output_type": "execute_result"
    }
   ],
   "source": [
    "project_df.head()"
   ]
  },
  {
   "cell_type": "markdown",
   "metadata": {},
   "source": [
    "### Create crs3 and crs5 list columns\n",
    "\n",
    "SHOULD BE INTEGRATED IN TRANSFORMATION PROCESS"
   ]
  },
  {
   "cell_type": "code",
   "execution_count": 6,
   "metadata": {},
   "outputs": [
    {
     "data": {
      "text/plain": [
       "0    [331]\n",
       "1    [140]\n",
       "2    [331]\n",
       "3    [151]\n",
       "4    [730]\n",
       "Name: crs_3_list, dtype: object"
      ]
     },
     "execution_count": 6,
     "metadata": {},
     "output_type": "execute_result"
    }
   ],
   "source": [
    "project_df['crs_3_list'] = project_df['crs_3_code'].apply(\n",
    "    lambda x: [element.strip() for element in x.split(';') if element.strip()] if pd.notna(x) else []\n",
    ")\n",
    "project_df['crs_3_list'].head()\n"
   ]
  },
  {
   "cell_type": "code",
   "execution_count": 7,
   "metadata": {},
   "outputs": [
    {
     "name": "stdout",
     "output_type": "stream",
     "text": [
      "23                      [140, 140, 140]\n",
      "36                      [250, 113, 430]\n",
      "37                      [231, 231, 321]\n",
      "38                           [140, 140]\n",
      "44                           [121, 231]\n",
      "                      ...              \n",
      "24242                        [130, 160]\n",
      "24243                        [232, 250]\n",
      "24244    [111, 121, 140, 151, 151, 160]\n",
      "24245                   [121, 122, 130]\n",
      "24246              [111, 121, 140, 160]\n",
      "Name: crs_3_list, Length: 4365, dtype: object\n"
     ]
    }
   ],
   "source": [
    "filtered_df = project_df[project_df['crs_3_list'].apply(lambda x: len(x) > 1)]\n",
    "\n",
    "print(filtered_df[\"crs_3_list\"])"
   ]
  },
  {
   "cell_type": "code",
   "execution_count": 8,
   "metadata": {},
   "outputs": [
    {
     "data": {
      "text/plain": [
       "0    [33130]\n",
       "1    [14010]\n",
       "2    [33130]\n",
       "3    [15160]\n",
       "4    [73010]\n",
       "Name: crs_5_list, dtype: object"
      ]
     },
     "execution_count": 8,
     "metadata": {},
     "output_type": "execute_result"
    }
   ],
   "source": [
    "project_df['crs_5_list'] = project_df['crs_5_code'].apply(\n",
    "    lambda x: [element.strip() for element in x.split(';') if element.strip()] if pd.notna(x) else []\n",
    ")\n",
    "project_df['crs_5_list'].head()"
   ]
  },
  {
   "cell_type": "code",
   "execution_count": 9,
   "metadata": {},
   "outputs": [
    {
     "name": "stdout",
     "output_type": "stream",
     "text": [
      "23                            [14015, 14021, 14010]\n",
      "36                            [25010, 11330, 43040]\n",
      "37                            [23110, 23181, 32130]\n",
      "38                                   [14021, 14015]\n",
      "44                                   [12191, 23183]\n",
      "                            ...                    \n",
      "24242                                [13010, 16062]\n",
      "24243                                [23220, 25010]\n",
      "24244    [11110, 12110, 14010, 15112, 15130, 16010]\n",
      "24245                         [12110, 12240, 13020]\n",
      "24246                  [11110, 12110, 14010, 16010]\n",
      "Name: crs_5_list, Length: 4365, dtype: object\n"
     ]
    }
   ],
   "source": [
    "filtered_df = project_df[project_df['crs_5_list'].apply(lambda x: len(x) > 1)]\n",
    "\n",
    "print(filtered_df[\"crs_5_list\"])"
   ]
  },
  {
   "cell_type": "code",
   "execution_count": 10,
   "metadata": {},
   "outputs": [
    {
     "data": {
      "text/plain": [
       "Index(['iati_id', 'iati_orga_id', 'orga_abbreviation', 'orga_full_name',\n",
       "       'client', 'title_en', 'title_other', 'title_main', 'organization',\n",
       "       'country_code_list', 'country', 'country_name', 'country_flag',\n",
       "       'region', 'location', 'description_en', 'description_other',\n",
       "       'description_main', 'status', 'planned_start', 'actual_start',\n",
       "       'planned_end', 'actual_end', 'last_update', 'crs_5_code', 'crs_5_name',\n",
       "       'crs_3_code', 'crs_3_name', 'docs', 'title_and_description',\n",
       "       'sgd_pred_code', 'sgd_pred_str', 'crs_3_list', 'crs_5_list'],\n",
       "      dtype='object')"
      ]
     },
     "execution_count": 10,
     "metadata": {},
     "output_type": "execute_result"
    }
   ],
   "source": [
    "project_df.columns"
   ]
  },
  {
   "cell_type": "markdown",
   "metadata": {},
   "source": [
    "## **Extend Similarity Matrix**"
   ]
  },
  {
   "cell_type": "code",
   "execution_count": 11,
   "metadata": {},
   "outputs": [],
   "source": [
    "n = len(project_df)\n",
    "final_similarity_matrix = np.zeros((n, n)) "
   ]
  },
  {
   "cell_type": "markdown",
   "metadata": {},
   "source": [
    "### **CRS 3**"
   ]
  },
  {
   "cell_type": "code",
   "execution_count": 12,
   "metadata": {},
   "outputs": [
    {
     "name": "stdout",
     "output_type": "stream",
     "text": [
      "[[0.1 0.  0.1 ... 0.  0.  0. ]\n",
      " [0.  0.1 0.  ... 0.  0.  0. ]\n",
      " [0.1 0.  0.1 ... 0.  0.  0. ]\n",
      " ...\n",
      " [0.  0.  0.  ... 0.1 0.1 0.1]\n",
      " [0.  0.  0.  ... 0.1 0.1 0.1]\n",
      " [0.  0.  0.  ... 0.1 0.1 0.1]]\n"
     ]
    }
   ],
   "source": [
    "n = len(project_df)\n",
    "crs3_sim_matrix = np.zeros((n, n)) \n",
    "\n",
    "# search for matches \n",
    "matches = project_df[\"crs_3_code\"].values[:, None] == project_df[\"crs_3_code\"].values\n",
    "crs3_sim_matrix += matches.astype(int) * 0.1\n",
    "\n",
    "print(crs3_sim_matrix)"
   ]
  },
  {
   "cell_type": "code",
   "execution_count": 13,
   "metadata": {},
   "outputs": [],
   "source": [
    "final_similarity_matrix += crs3_sim_matrix"
   ]
  },
  {
   "cell_type": "code",
   "execution_count": 14,
   "metadata": {},
   "outputs": [
    {
     "name": "stderr",
     "output_type": "stream",
     "text": [
      "Processing: 100%|██████████| 4365/4365 [01:12<00:00, 59.93it/s]"
     ]
    },
    {
     "name": "stdout",
     "output_type": "stream",
     "text": [
      "[[0. 0. 0. ... 0. 0. 0.]\n",
      " [0. 0. 0. ... 0. 0. 0.]\n",
      " [0. 0. 0. ... 0. 0. 0.]\n",
      " ...\n",
      " [0. 0. 0. ... 0. 0. 0.]\n",
      " [0. 0. 0. ... 0. 0. 0.]\n",
      " [0. 0. 0. ... 0. 0. 0.]]\n"
     ]
    },
    {
     "name": "stderr",
     "output_type": "stream",
     "text": [
      "\n"
     ]
    }
   ],
   "source": [
    "# extract all indexes where multiple crs codes appear\n",
    "multi_code_df = project_df[project_df['crs_3_list'].apply(lambda x: len(x) > 1)]\n",
    "\n",
    "multi_code_indices = multi_code_df.index.to_list()\n",
    "\n",
    "n = len(project_df)  \n",
    "crs3_mc_sim_matrix = np.zeros((n, n))  \n",
    "\n",
    "list_sets_multi = [set(project_df['crs_3_list'].iloc[idx]) for idx in multi_code_indices]\n",
    "list_sets_all = project_df['crs_3_list'].apply(set).tolist()\n",
    "\n",
    "def is_match(set1, set2):\n",
    "    return not set1.isdisjoint(set2)\n",
    "\n",
    "for idx, i in enumerate(tqdm(multi_code_indices, desc='Processing')):\n",
    "    for j in range(n):\n",
    "        if list_sets_multi[idx] != list_sets_all[j]: \n",
    "            if is_match(list_sets_multi[idx], list_sets_all[j]):\n",
    "                crs3_mc_sim_matrix[i, j] += 0.1\n",
    "\n",
    "print(crs3_mc_sim_matrix)"
   ]
  },
  {
   "cell_type": "code",
   "execution_count": 15,
   "metadata": {},
   "outputs": [],
   "source": [
    "final_similarity_matrix += crs3_mc_sim_matrix"
   ]
  },
  {
   "cell_type": "markdown",
   "metadata": {},
   "source": [
    "### **CRS5**"
   ]
  },
  {
   "cell_type": "code",
   "execution_count": 16,
   "metadata": {},
   "outputs": [
    {
     "name": "stdout",
     "output_type": "stream",
     "text": [
      "[[0.15 0.   0.15 ... 0.   0.   0.  ]\n",
      " [0.   0.15 0.   ... 0.   0.   0.  ]\n",
      " [0.15 0.   0.15 ... 0.   0.   0.  ]\n",
      " ...\n",
      " [0.   0.   0.   ... 0.15 0.15 0.15]\n",
      " [0.   0.   0.   ... 0.15 0.15 0.15]\n",
      " [0.   0.   0.   ... 0.15 0.15 0.15]]\n"
     ]
    }
   ],
   "source": [
    "n = len(project_df)\n",
    "crs5_sim_matrix = np.zeros((n, n)) \n",
    "\n",
    "# search for matches \n",
    "matches = project_df[\"crs_5_code\"].values[:, None] == project_df[\"crs_5_code\"].values\n",
    "crs5_sim_matrix += matches.astype(int) * 0.15\n",
    "\n",
    "print(crs5_sim_matrix)"
   ]
  },
  {
   "cell_type": "code",
   "execution_count": 17,
   "metadata": {},
   "outputs": [],
   "source": [
    "final_similarity_matrix += crs5_sim_matrix"
   ]
  },
  {
   "cell_type": "code",
   "execution_count": 18,
   "metadata": {},
   "outputs": [
    {
     "name": "stderr",
     "output_type": "stream",
     "text": [
      "Processing: 100%|██████████| 4365/4365 [01:13<00:00, 59.60it/s]"
     ]
    },
    {
     "name": "stdout",
     "output_type": "stream",
     "text": [
      "[[0. 0. 0. ... 0. 0. 0.]\n",
      " [0. 0. 0. ... 0. 0. 0.]\n",
      " [0. 0. 0. ... 0. 0. 0.]\n",
      " ...\n",
      " [0. 0. 0. ... 0. 0. 0.]\n",
      " [0. 0. 0. ... 0. 0. 0.]\n",
      " [0. 0. 0. ... 0. 0. 0.]]\n"
     ]
    },
    {
     "name": "stderr",
     "output_type": "stream",
     "text": [
      "\n"
     ]
    }
   ],
   "source": [
    "# extract all indexes where multiple crs codes appear\n",
    "multi_code_df = project_df[project_df['crs_5_list'].apply(lambda x: len(x) > 1)]\n",
    "\n",
    "multi_code_indices = multi_code_df.index.to_list()\n",
    "\n",
    "n = len(project_df)  \n",
    "crs5_mc_sim_matrix = np.zeros((n, n))  \n",
    "\n",
    "list_sets_multi = [set(project_df['crs_5_list'].iloc[idx]) for idx in multi_code_indices]\n",
    "list_sets_all = project_df['crs_5_list'].apply(set).tolist()\n",
    "\n",
    "def is_match(set1, set2):\n",
    "    return not set1.isdisjoint(set2)\n",
    "\n",
    "for idx, i in enumerate(tqdm(multi_code_indices, desc='Processing')):\n",
    "    for j in range(n):\n",
    "        if list_sets_multi[idx] != list_sets_all[j]: \n",
    "            if is_match(list_sets_multi[idx], list_sets_all[j]):\n",
    "                crs5_mc_sim_matrix[i, j] += 0.15  \n",
    "\n",
    "print(crs5_mc_sim_matrix)"
   ]
  },
  {
   "cell_type": "code",
   "execution_count": 19,
   "metadata": {},
   "outputs": [],
   "source": [
    "final_similarity_matrix += crs5_mc_sim_matrix"
   ]
  },
  {
   "cell_type": "markdown",
   "metadata": {},
   "source": [
    "### **SDG**"
   ]
  },
  {
   "cell_type": "code",
   "execution_count": 20,
   "metadata": {},
   "outputs": [
    {
     "name": "stdout",
     "output_type": "stream",
     "text": [
      "[[0.2 0.  0.2 ... 0.  0.  0. ]\n",
      " [0.  0.2 0.  ... 0.  0.  0. ]\n",
      " [0.2 0.  0.2 ... 0.  0.  0. ]\n",
      " ...\n",
      " [0.  0.  0.  ... 0.2 0.  0. ]\n",
      " [0.  0.  0.  ... 0.  0.2 0. ]\n",
      " [0.  0.  0.  ... 0.  0.  0.2]]\n"
     ]
    }
   ],
   "source": [
    "n = len(project_df)\n",
    "sdg_sim_matrix = np.zeros((n, n)) \n",
    "\n",
    "# search for matches \n",
    "matches = project_df[\"sgd_pred_code\"].values[:, None] == project_df[\"sgd_pred_code\"].values\n",
    "sdg_sim_matrix += matches.astype(int) * 0.2 \n",
    "\n",
    "print(sdg_sim_matrix)"
   ]
  },
  {
   "cell_type": "code",
   "execution_count": 21,
   "metadata": {},
   "outputs": [],
   "source": [
    "final_similarity_matrix += sdg_sim_matrix"
   ]
  },
  {
   "cell_type": "markdown",
   "metadata": {},
   "source": [
    "### **Add text similarity to final matrix**"
   ]
  },
  {
   "cell_type": "code",
   "execution_count": 22,
   "metadata": {},
   "outputs": [
    {
     "data": {
      "text/plain": [
       "9"
      ]
     },
     "execution_count": 22,
     "metadata": {},
     "output_type": "execute_result"
    }
   ],
   "source": [
    "del sdg_sim_matrix, crs3_sim_matrix, crs3_mc_sim_matrix, crs5_mc_sim_matrix, crs5_sim_matrix\n",
    "gc.collect()"
   ]
  },
  {
   "cell_type": "code",
   "execution_count": 23,
   "metadata": {},
   "outputs": [],
   "source": [
    "final_similarity_matrix += sim_matrix"
   ]
  },
  {
   "cell_type": "code",
   "execution_count": 24,
   "metadata": {},
   "outputs": [
    {
     "name": "stdout",
     "output_type": "stream",
     "text": [
      "[[1.45000012 0.         1.05729301 ... 0.         0.         0.        ]\n",
      " [0.         1.45       0.         ... 0.         0.         0.        ]\n",
      " [1.05729301 0.         1.45000024 ... 0.         0.         0.        ]\n",
      " ...\n",
      " [0.         0.         0.         ... 1.45       0.81515884 0.25      ]\n",
      " [0.         0.         0.         ... 0.81515902 1.45000012 0.25      ]\n",
      " [0.         0.         0.         ... 0.25       0.25       1.45000036]]\n"
     ]
    }
   ],
   "source": [
    "print(final_similarity_matrix)"
   ]
  },
  {
   "cell_type": "code",
   "execution_count": 25,
   "metadata": {},
   "outputs": [
    {
     "data": {
      "text/plain": [
       "1.4500007152557373"
      ]
     },
     "execution_count": 25,
     "metadata": {},
     "output_type": "execute_result"
    }
   ],
   "source": [
    "np.amax(final_similarity_matrix)"
   ]
  },
  {
   "cell_type": "markdown",
   "metadata": {},
   "source": [
    "## **Normalize new matrix**"
   ]
  },
  {
   "cell_type": "code",
   "execution_count": 26,
   "metadata": {},
   "outputs": [
    {
     "name": "stdout",
     "output_type": "stream",
     "text": [
      "1.4500007152557373\n",
      "[[1.     0.     0.7292 ... 0.     0.     0.    ]\n",
      " [0.     1.     0.     ... 0.     0.     0.    ]\n",
      " [0.7292 0.     1.     ... 0.     0.     0.    ]\n",
      " ...\n",
      " [0.     0.     0.     ... 1.     0.5622 0.1724]\n",
      " [0.     0.     0.     ... 0.5622 1.     0.1724]\n",
      " [0.     0.     0.     ... 0.1724 0.1724 1.    ]]\n"
     ]
    }
   ],
   "source": [
    "max_value = final_similarity_matrix.max()\n",
    "print(max_value)\n",
    "\n",
    "# Normalize the matrix to scale values between 0 and 1\n",
    "normalized_matrix = np.round(final_similarity_matrix / max_value, 4)\n",
    "\n",
    "print(normalized_matrix)\n"
   ]
  },
  {
   "cell_type": "markdown",
   "metadata": {},
   "source": [
    "## **Drop 1 values**"
   ]
  },
  {
   "cell_type": "code",
   "execution_count": 27,
   "metadata": {},
   "outputs": [],
   "source": [
    "# Drop 1 values because there is no perfect match and its most likely a doublicate\n",
    "normalized_matrix[normalized_matrix >= 1] = 0"
   ]
  },
  {
   "cell_type": "markdown",
   "metadata": {},
   "source": [
    "## **Create Sparse Matrix**"
   ]
  },
  {
   "cell_type": "code",
   "execution_count": 28,
   "metadata": {},
   "outputs": [],
   "source": [
    "threshold = 0.3\n",
    "mask = normalized_matrix > threshold"
   ]
  },
  {
   "cell_type": "code",
   "execution_count": 29,
   "metadata": {},
   "outputs": [
    {
     "data": {
      "text/plain": [
       "array([[0.    , 0.    , 0.7292, ..., 0.    , 0.    , 0.    ],\n",
       "       [0.    , 0.    , 0.    , ..., 0.    , 0.    , 0.    ],\n",
       "       [0.7292, 0.    , 0.    , ..., 0.    , 0.    , 0.    ],\n",
       "       ...,\n",
       "       [0.    , 0.    , 0.    , ..., 0.    , 0.5622, 0.1724],\n",
       "       [0.    , 0.    , 0.    , ..., 0.5622, 0.    , 0.1724],\n",
       "       [0.    , 0.    , 0.    , ..., 0.1724, 0.1724, 0.    ]])"
      ]
     },
     "execution_count": 29,
     "metadata": {},
     "output_type": "execute_result"
    }
   ],
   "source": [
    "normalized_matrix"
   ]
  },
  {
   "cell_type": "code",
   "execution_count": 30,
   "metadata": {},
   "outputs": [],
   "source": [
    "sparse_matrix = sps.coo_matrix(normalized_matrix * mask)"
   ]
  },
  {
   "cell_type": "markdown",
   "metadata": {},
   "source": [
    "## **Export Extended Matrix**"
   ]
  },
  {
   "cell_type": "code",
   "execution_count": 31,
   "metadata": {},
   "outputs": [],
   "source": [
    "save_npz(\"../../synergy-app/src/extended_similarities.npz\", sparse_matrix)"
   ]
  },
  {
   "cell_type": "markdown",
   "metadata": {},
   "source": [
    "## **Create sim matrix for mateches between only different orgas**"
   ]
  },
  {
   "cell_type": "code",
   "execution_count": 32,
   "metadata": {},
   "outputs": [
    {
     "data": {
      "text/plain": [
       "array([[1.45000012, 0.        , 1.05729301, ..., 0.        , 0.        ,\n",
       "        0.        ],\n",
       "       [0.        , 1.45      , 0.        , ..., 0.        , 0.        ,\n",
       "        0.        ],\n",
       "       [1.05729301, 0.        , 1.45000024, ..., 0.        , 0.        ,\n",
       "        0.        ],\n",
       "       ...,\n",
       "       [0.        , 0.        , 0.        , ..., 1.45      , 0.81515884,\n",
       "        0.25      ],\n",
       "       [0.        , 0.        , 0.        , ..., 0.81515902, 1.45000012,\n",
       "        0.25      ],\n",
       "       [0.        , 0.        , 0.        , ..., 0.25      , 0.25      ,\n",
       "        1.45000036]])"
      ]
     },
     "execution_count": 32,
     "metadata": {},
     "output_type": "execute_result"
    }
   ],
   "source": [
    "non_org_sim_matrix = final_similarity_matrix.copy()\n",
    "non_org_sim_matrix"
   ]
  },
  {
   "cell_type": "markdown",
   "metadata": {},
   "source": [
    "### **Remove similarities if projects with similar orga**"
   ]
  },
  {
   "cell_type": "code",
   "execution_count": 33,
   "metadata": {},
   "outputs": [
    {
     "name": "stdout",
     "output_type": "stream",
     "text": [
      "[[0. 0. 0. ... 0. 0. 0.]\n",
      " [0. 0. 0. ... 0. 0. 0.]\n",
      " [0. 0. 0. ... 0. 0. 0.]\n",
      " ...\n",
      " [0. 0. 0. ... 0. 0. 0.]\n",
      " [0. 0. 0. ... 0. 0. 0.]\n",
      " [0. 0. 0. ... 0. 0. 0.]]\n"
     ]
    }
   ],
   "source": [
    "# search for matches \n",
    "matches = project_df[\"orga_abbreviation\"].values[:, None] == project_df[\"orga_abbreviation\"].values\n",
    "non_org_sim_matrix[matches] = 0 # Set all orga matches similarity to 0\n",
    "\n",
    "print(non_org_sim_matrix)"
   ]
  },
  {
   "cell_type": "code",
   "execution_count": 34,
   "metadata": {},
   "outputs": [
    {
     "data": {
      "text/plain": [
       "1.4500003576278686"
      ]
     },
     "execution_count": 34,
     "metadata": {},
     "output_type": "execute_result"
    }
   ],
   "source": [
    "max_value = non_org_sim_matrix.max()\n",
    "max_value"
   ]
  },
  {
   "cell_type": "markdown",
   "metadata": {},
   "source": [
    "### **Normalize**"
   ]
  },
  {
   "cell_type": "code",
   "execution_count": 35,
   "metadata": {},
   "outputs": [
    {
     "name": "stdout",
     "output_type": "stream",
     "text": [
      "1.4500003576278686\n",
      "[[0. 0. 0. ... 0. 0. 0.]\n",
      " [0. 0. 0. ... 0. 0. 0.]\n",
      " [0. 0. 0. ... 0. 0. 0.]\n",
      " ...\n",
      " [0. 0. 0. ... 0. 0. 0.]\n",
      " [0. 0. 0. ... 0. 0. 0.]\n",
      " [0. 0. 0. ... 0. 0. 0.]]\n"
     ]
    }
   ],
   "source": [
    "max_value = non_org_sim_matrix.max()\n",
    "print(max_value)\n",
    "\n",
    "# Normalize the matrix to scale values between 0 and 1\n",
    "norm_non_orga_matrix = np.round(non_org_sim_matrix / max_value, 4)\n",
    "\n",
    "print(norm_non_orga_matrix)"
   ]
  },
  {
   "cell_type": "markdown",
   "metadata": {},
   "source": [
    "### **Drop 1 values**"
   ]
  },
  {
   "cell_type": "code",
   "execution_count": 36,
   "metadata": {},
   "outputs": [],
   "source": [
    "# Drop 1 values because there is no perfect match and its most likely a doublicate\n",
    "norm_non_orga_matrix[norm_non_orga_matrix >= 1] = 0"
   ]
  },
  {
   "cell_type": "markdown",
   "metadata": {},
   "source": [
    "### **Create sparse**"
   ]
  },
  {
   "cell_type": "code",
   "execution_count": 37,
   "metadata": {},
   "outputs": [],
   "source": [
    "threshold = 0.2\n",
    "mask = norm_non_orga_matrix > threshold"
   ]
  },
  {
   "cell_type": "code",
   "execution_count": 38,
   "metadata": {},
   "outputs": [],
   "source": [
    "sparse_non_orga_matrix = sps.coo_matrix(norm_non_orga_matrix * mask)"
   ]
  },
  {
   "cell_type": "markdown",
   "metadata": {},
   "source": [
    "### **Export**"
   ]
  },
  {
   "cell_type": "code",
   "execution_count": 39,
   "metadata": {},
   "outputs": [],
   "source": [
    "save_npz(\"../../synergy-app/src/extended_similarities_nonsimorga.npz\", sparse_non_orga_matrix)"
   ]
  }
 ],
 "metadata": {
  "kernelspec": {
   "display_name": "pamb2",
   "language": "python",
   "name": "python3"
  },
  "language_info": {
   "codemirror_mode": {
    "name": "ipython",
    "version": 3
   },
   "file_extension": ".py",
   "mimetype": "text/x-python",
   "name": "python",
   "nbconvert_exporter": "python",
   "pygments_lexer": "ipython3",
   "version": "3.10.13"
  }
 },
 "nbformat": 4,
 "nbformat_minor": 2
}
