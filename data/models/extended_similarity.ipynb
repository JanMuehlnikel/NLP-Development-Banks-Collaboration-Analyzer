{
 "cells": [
  {
   "cell_type": "code",
   "execution_count": 2,
   "metadata": {},
   "outputs": [],
   "source": [
    "import numpy as np\n",
    "import pandas as pd\n",
    "from scipy.sparse import save_npz\n",
    "from scipy.sparse import load_npz\n",
    "import scipy.sparse as sps\n",
    "import tqdm"
   ]
  },
  {
   "cell_type": "markdown",
   "metadata": {},
   "source": [
    "## **Load Similarity Matrix**"
   ]
  },
  {
   "cell_type": "code",
   "execution_count": 3,
   "metadata": {},
   "outputs": [],
   "source": [
    "loaded_sparse_matrix = load_npz(\"../../app/src/similarities.npz\")"
   ]
  },
  {
   "cell_type": "code",
   "execution_count": 4,
   "metadata": {},
   "outputs": [
    {
     "data": {
      "text/plain": [
       "(31700, 31700)"
      ]
     },
     "execution_count": 4,
     "metadata": {},
     "output_type": "execute_result"
    }
   ],
   "source": [
    "sim_matrix = loaded_sparse_matrix.toarray()\n",
    "sim_matrix.shape"
   ]
  },
  {
   "cell_type": "markdown",
   "metadata": {},
   "source": [
    "## **Load Project DF**"
   ]
  },
  {
   "cell_type": "code",
   "execution_count": 5,
   "metadata": {},
   "outputs": [
    {
     "data": {
      "text/plain": [
       "(31700, 30)"
      ]
     },
     "execution_count": 5,
     "metadata": {},
     "output_type": "execute_result"
    }
   ],
   "source": [
    "project_df = pd.read_csv(\"../../src/merged_orgas.csv\")\n",
    "project_df.shape"
   ]
  },
  {
   "cell_type": "code",
   "execution_count": 6,
   "metadata": {},
   "outputs": [
    {
     "data": {
      "text/plain": [
       "Index(['iati_id', 'iati_orga_id', 'orga_abbreviation', 'orga_full_name',\n",
       "       'client', 'title_en', 'title_other', 'title_main', 'organization',\n",
       "       'country_code', 'country', 'region', 'location', 'description_en',\n",
       "       'description_other', 'description_main', 'status', 'planned_start',\n",
       "       'actual_start', 'planned_end', 'actual_end', 'last_update',\n",
       "       'crs_5_code', 'crs_5_name', 'crs_3_code', 'crs_3_name', 'docs',\n",
       "       'title_and_description', 'sgd_pred_code', 'sgd_pred_str'],\n",
       "      dtype='object')"
      ]
     },
     "execution_count": 6,
     "metadata": {},
     "output_type": "execute_result"
    }
   ],
   "source": [
    "project_df.columns"
   ]
  },
  {
   "cell_type": "markdown",
   "metadata": {},
   "source": [
    "## **Extend Similarity Matrix**"
   ]
  },
  {
   "cell_type": "markdown",
   "metadata": {},
   "source": [
    "### **CRS 3**"
   ]
  },
  {
   "cell_type": "code",
   "execution_count": 7,
   "metadata": {},
   "outputs": [
    {
     "name": "stdout",
     "output_type": "stream",
     "text": [
      "[[1.1499999 0.        0.9288637 ... 0.        0.        0.       ]\n",
      " [0.        1.1500002 0.        ... 0.        0.        0.       ]\n",
      " [0.9288637 0.        1.1500001 ... 0.        0.        0.       ]\n",
      " ...\n",
      " [0.        0.        0.        ... 1.1500002 0.7151588 0.15     ]\n",
      " [0.        0.        0.        ... 0.7151588 1.1500001 0.15     ]\n",
      " [0.        0.        0.        ... 0.15      0.15      1.1500002]]\n"
     ]
    }
   ],
   "source": [
    "# search for matches \n",
    "matches = project_df[\"crs_3_code\"].values[:, None] == project_df[\"crs_3_code\"].values\n",
    "sim_matrix += matches.astype(int) * 0.15 #Number to be added\n",
    "\n",
    "print(sim_matrix)"
   ]
  },
  {
   "cell_type": "markdown",
   "metadata": {},
   "source": [
    "### **CRS5**"
   ]
  },
  {
   "cell_type": "code",
   "execution_count": 8,
   "metadata": {},
   "outputs": [
    {
     "name": "stdout",
     "output_type": "stream",
     "text": [
      "[[1.3999999 0.        1.1788638 ... 0.        0.        0.       ]\n",
      " [0.        1.4000002 0.        ... 0.        0.        0.       ]\n",
      " [1.1788638 0.        1.4000001 ... 0.        0.        0.       ]\n",
      " ...\n",
      " [0.        0.        0.        ... 1.4000002 0.9651588 0.4      ]\n",
      " [0.        0.        0.        ... 0.9651588 1.4000001 0.4      ]\n",
      " [0.        0.        0.        ... 0.4       0.4       1.4000002]]\n"
     ]
    }
   ],
   "source": [
    "# search for matches \n",
    "matches = project_df[\"crs_5_code\"].values[:, None] == project_df[\"crs_5_code\"].values\n",
    "sim_matrix += matches.astype(int) * 0.25 #Number to be added\n",
    "\n",
    "print(sim_matrix)"
   ]
  },
  {
   "cell_type": "markdown",
   "metadata": {},
   "source": [
    "### **SDG**"
   ]
  },
  {
   "cell_type": "code",
   "execution_count": 9,
   "metadata": {},
   "outputs": [
    {
     "name": "stdout",
     "output_type": "stream",
     "text": [
      "[[1.6499999 0.        1.4288638 ... 0.        0.        0.       ]\n",
      " [0.        1.6500002 0.        ... 0.        0.        0.       ]\n",
      " [1.4288638 0.        1.6500001 ... 0.        0.        0.       ]\n",
      " ...\n",
      " [0.        0.        0.        ... 1.6500002 0.9651588 0.4      ]\n",
      " [0.        0.        0.        ... 0.9651588 1.6500001 0.4      ]\n",
      " [0.        0.        0.        ... 0.4       0.4       1.6500002]]\n"
     ]
    }
   ],
   "source": [
    "# search for matches \n",
    "matches = project_df[\"sgd_pred_code\"].values[:, None] == project_df[\"sgd_pred_code\"].values\n",
    "sim_matrix += matches.astype(int) * 0.25 #Number to be added\n",
    "\n",
    "print(sim_matrix)"
   ]
  },
  {
   "cell_type": "markdown",
   "metadata": {},
   "source": [
    "## **Normalize new matrix**"
   ]
  },
  {
   "cell_type": "code",
   "execution_count": 10,
   "metadata": {},
   "outputs": [
    {
     "name": "stdout",
     "output_type": "stream",
     "text": [
      "1.6500007\n",
      "[[1.     0.     0.866  ... 0.     0.     0.    ]\n",
      " [0.     1.     0.     ... 0.     0.     0.    ]\n",
      " [0.866  0.     1.     ... 0.     0.     0.    ]\n",
      " ...\n",
      " [0.     0.     0.     ... 1.     0.5849 0.2424]\n",
      " [0.     0.     0.     ... 0.5849 1.     0.2424]\n",
      " [0.     0.     0.     ... 0.2424 0.2424 1.    ]]\n"
     ]
    }
   ],
   "source": [
    "max_value = sim_matrix.max()\n",
    "print(max_value)\n",
    "\n",
    "# Normalize the matrix to scale values between 0 and 1\n",
    "normalized_matrix = np.round(sim_matrix / max_value, 4)\n",
    "\n",
    "print(normalized_matrix)\n"
   ]
  },
  {
   "cell_type": "markdown",
   "metadata": {},
   "source": [
    "## **Drop 1 values**"
   ]
  },
  {
   "cell_type": "code",
   "execution_count": 11,
   "metadata": {},
   "outputs": [],
   "source": [
    "# Drop 1 values because there is no perfect match and its most likely a doublicate\n",
    "normalized_matrix[normalized_matrix >= 1] = 0"
   ]
  },
  {
   "cell_type": "markdown",
   "metadata": {},
   "source": [
    "## **Create Sparse Matrix**"
   ]
  },
  {
   "cell_type": "code",
   "execution_count": 12,
   "metadata": {},
   "outputs": [],
   "source": [
    "threshold = 0.3\n",
    "mask = normalized_matrix > threshold"
   ]
  },
  {
   "cell_type": "code",
   "execution_count": 13,
   "metadata": {},
   "outputs": [
    {
     "data": {
      "text/plain": [
       "array([[0.    , 0.    , 0.866 , ..., 0.    , 0.    , 0.    ],\n",
       "       [0.    , 0.    , 0.    , ..., 0.    , 0.    , 0.    ],\n",
       "       [0.866 , 0.    , 0.    , ..., 0.    , 0.    , 0.    ],\n",
       "       ...,\n",
       "       [0.    , 0.    , 0.    , ..., 0.    , 0.5849, 0.2424],\n",
       "       [0.    , 0.    , 0.    , ..., 0.5849, 0.    , 0.2424],\n",
       "       [0.    , 0.    , 0.    , ..., 0.2424, 0.2424, 0.    ]],\n",
       "      dtype=float32)"
      ]
     },
     "execution_count": 13,
     "metadata": {},
     "output_type": "execute_result"
    }
   ],
   "source": [
    "normalized_matrix"
   ]
  },
  {
   "cell_type": "code",
   "execution_count": 14,
   "metadata": {},
   "outputs": [],
   "source": [
    "sparse_matrix = sps.coo_matrix(normalized_matrix * mask)"
   ]
  },
  {
   "cell_type": "markdown",
   "metadata": {},
   "source": [
    "## **Export Extended Matrix**"
   ]
  },
  {
   "cell_type": "code",
   "execution_count": 15,
   "metadata": {},
   "outputs": [],
   "source": [
    "save_npz(\"../../synergy-app/src/extended_similarities.npz\", sparse_matrix)"
   ]
  },
  {
   "cell_type": "markdown",
   "metadata": {},
   "source": [
    "## **Create sim matrix for mateches between only different orgas**"
   ]
  },
  {
   "cell_type": "code",
   "execution_count": 16,
   "metadata": {},
   "outputs": [
    {
     "data": {
      "text/plain": [
       "array([[1.6499999, 0.       , 1.4288638, ..., 0.       , 0.       ,\n",
       "        0.       ],\n",
       "       [0.       , 1.6500002, 0.       , ..., 0.       , 0.       ,\n",
       "        0.       ],\n",
       "       [1.4288638, 0.       , 1.6500001, ..., 0.       , 0.       ,\n",
       "        0.       ],\n",
       "       ...,\n",
       "       [0.       , 0.       , 0.       , ..., 1.6500002, 0.9651588,\n",
       "        0.4      ],\n",
       "       [0.       , 0.       , 0.       , ..., 0.9651588, 1.6500001,\n",
       "        0.4      ],\n",
       "       [0.       , 0.       , 0.       , ..., 0.4      , 0.4      ,\n",
       "        1.6500002]], dtype=float32)"
      ]
     },
     "execution_count": 16,
     "metadata": {},
     "output_type": "execute_result"
    }
   ],
   "source": [
    "non_org_sim_matrix = sim_matrix.copy()\n",
    "non_org_sim_matrix"
   ]
  },
  {
   "cell_type": "markdown",
   "metadata": {},
   "source": [
    "### **Remove similarities if projects with similar orga**"
   ]
  },
  {
   "cell_type": "code",
   "execution_count": 17,
   "metadata": {},
   "outputs": [
    {
     "name": "stdout",
     "output_type": "stream",
     "text": [
      "[[0. 0. 0. ... 0. 0. 0.]\n",
      " [0. 0. 0. ... 0. 0. 0.]\n",
      " [0. 0. 0. ... 0. 0. 0.]\n",
      " ...\n",
      " [0. 0. 0. ... 0. 0. 0.]\n",
      " [0. 0. 0. ... 0. 0. 0.]\n",
      " [0. 0. 0. ... 0. 0. 0.]]\n"
     ]
    }
   ],
   "source": [
    "# search for matches \n",
    "matches = project_df[\"orga_abbreviation\"].values[:, None] == project_df[\"orga_abbreviation\"].values\n",
    "non_org_sim_matrix[matches] = 0 # Set all orga matches similarity to 0\n",
    "\n",
    "print(non_org_sim_matrix)"
   ]
  },
  {
   "cell_type": "code",
   "execution_count": 18,
   "metadata": {},
   "outputs": [
    {
     "data": {
      "text/plain": [
       "1.6500006"
      ]
     },
     "execution_count": 18,
     "metadata": {},
     "output_type": "execute_result"
    }
   ],
   "source": [
    "max_value = non_org_sim_matrix.max()\n",
    "max_value"
   ]
  },
  {
   "cell_type": "markdown",
   "metadata": {},
   "source": [
    "### **Normalize**"
   ]
  },
  {
   "cell_type": "code",
   "execution_count": 19,
   "metadata": {},
   "outputs": [
    {
     "name": "stdout",
     "output_type": "stream",
     "text": [
      "1.6500006\n",
      "[[0. 0. 0. ... 0. 0. 0.]\n",
      " [0. 0. 0. ... 0. 0. 0.]\n",
      " [0. 0. 0. ... 0. 0. 0.]\n",
      " ...\n",
      " [0. 0. 0. ... 0. 0. 0.]\n",
      " [0. 0. 0. ... 0. 0. 0.]\n",
      " [0. 0. 0. ... 0. 0. 0.]]\n"
     ]
    }
   ],
   "source": [
    "max_value = non_org_sim_matrix.max()\n",
    "print(max_value)\n",
    "\n",
    "# Normalize the matrix to scale values between 0 and 1\n",
    "norm_non_orga_matrix = np.round(non_org_sim_matrix / max_value, 4)\n",
    "\n",
    "print(norm_non_orga_matrix)"
   ]
  },
  {
   "cell_type": "markdown",
   "metadata": {},
   "source": [
    "### **Drop 1 values**"
   ]
  },
  {
   "cell_type": "code",
   "execution_count": 20,
   "metadata": {},
   "outputs": [],
   "source": [
    "# Drop 1 values because there is no perfect match and its most likely a doublicate\n",
    "norm_non_orga_matrix[norm_non_orga_matrix >= 1] = 0"
   ]
  },
  {
   "cell_type": "markdown",
   "metadata": {},
   "source": [
    "### **Create sparse**"
   ]
  },
  {
   "cell_type": "code",
   "execution_count": 21,
   "metadata": {},
   "outputs": [],
   "source": [
    "threshold = 0.2\n",
    "mask = norm_non_orga_matrix > threshold"
   ]
  },
  {
   "cell_type": "code",
   "execution_count": 22,
   "metadata": {},
   "outputs": [],
   "source": [
    "sparse_non_orga_matrix = sps.coo_matrix(norm_non_orga_matrix * mask)"
   ]
  },
  {
   "cell_type": "markdown",
   "metadata": {},
   "source": [
    "### **Export**"
   ]
  },
  {
   "cell_type": "code",
   "execution_count": 23,
   "metadata": {},
   "outputs": [],
   "source": [
    "save_npz(\"../../synergy-app/src/extended_similarities_nonsimorga.npz\", sparse_non_orga_matrix)"
   ]
  }
 ],
 "metadata": {
  "kernelspec": {
   "display_name": "pamb2",
   "language": "python",
   "name": "python3"
  },
  "language_info": {
   "codemirror_mode": {
    "name": "ipython",
    "version": 3
   },
   "file_extension": ".py",
   "mimetype": "text/x-python",
   "name": "python",
   "nbconvert_exporter": "python",
   "pygments_lexer": "ipython3",
   "version": "3.10.13"
  }
 },
 "nbformat": 4,
 "nbformat_minor": 2
}
