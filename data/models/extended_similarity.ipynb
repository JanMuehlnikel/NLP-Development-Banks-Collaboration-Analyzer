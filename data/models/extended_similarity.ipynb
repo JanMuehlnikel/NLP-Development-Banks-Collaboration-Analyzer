{
 "cells": [
  {
   "cell_type": "code",
   "execution_count": 1,
   "metadata": {},
   "outputs": [],
   "source": [
    "import numpy as np\n",
    "import pandas as pd\n",
    "from scipy.sparse import save_npz\n",
    "from scipy.sparse import load_npz\n",
    "import scipy.sparse as sps\n",
    "from tqdm import tqdm \n",
    "import gc\n"
   ]
  },
  {
   "cell_type": "markdown",
   "metadata": {},
   "source": [
    "## **Load Similarity Matrix**"
   ]
  },
  {
   "cell_type": "code",
   "execution_count": 2,
   "metadata": {},
   "outputs": [],
   "source": [
    "loaded_sparse_matrix = load_npz(\"../../src/similarities.npz\")"
   ]
  },
  {
   "cell_type": "code",
   "execution_count": 3,
   "metadata": {},
   "outputs": [
    {
     "data": {
      "text/plain": [
       "(35575, 35575)"
      ]
     },
     "execution_count": 3,
     "metadata": {},
     "output_type": "execute_result"
    }
   ],
   "source": [
    "sim_matrix = loaded_sparse_matrix.toarray()\n",
    "sim_matrix.shape"
   ]
  },
  {
   "cell_type": "markdown",
   "metadata": {},
   "source": [
    "## **Load Project DF**"
   ]
  },
  {
   "cell_type": "code",
   "execution_count": 4,
   "metadata": {},
   "outputs": [
    {
     "data": {
      "text/plain": [
       "(35575, 23)"
      ]
     },
     "execution_count": 4,
     "metadata": {},
     "output_type": "execute_result"
    }
   ],
   "source": [
    "project_df = pd.read_csv(\"../../src/merged_orgas.csv\")\n",
    "project_df.shape"
   ]
  },
  {
   "cell_type": "code",
   "execution_count": 5,
   "metadata": {},
   "outputs": [
    {
     "data": {
      "text/html": [
       "<div>\n",
       "<style scoped>\n",
       "    .dataframe tbody tr th:only-of-type {\n",
       "        vertical-align: middle;\n",
       "    }\n",
       "\n",
       "    .dataframe tbody tr th {\n",
       "        vertical-align: top;\n",
       "    }\n",
       "\n",
       "    .dataframe thead th {\n",
       "        text-align: right;\n",
       "    }\n",
       "</style>\n",
       "<table border=\"1\" class=\"dataframe\">\n",
       "  <thead>\n",
       "    <tr style=\"text-align: right;\">\n",
       "      <th></th>\n",
       "      <th>iati_id</th>\n",
       "      <th>iati_orga_id</th>\n",
       "      <th>orga_abbreviation</th>\n",
       "      <th>orga_full_name</th>\n",
       "      <th>title_en</th>\n",
       "      <th>title_other</th>\n",
       "      <th>title_main</th>\n",
       "      <th>country_code_list</th>\n",
       "      <th>country</th>\n",
       "      <th>country_name</th>\n",
       "      <th>...</th>\n",
       "      <th>description_main</th>\n",
       "      <th>status</th>\n",
       "      <th>crs_5_code</th>\n",
       "      <th>crs_5_name</th>\n",
       "      <th>crs_3_code</th>\n",
       "      <th>crs_3_name</th>\n",
       "      <th>title_and_description</th>\n",
       "      <th>sgd_pred_code</th>\n",
       "      <th>sgd_pred_str</th>\n",
       "      <th>client</th>\n",
       "    </tr>\n",
       "  </thead>\n",
       "  <tbody>\n",
       "    <tr>\n",
       "      <th>0</th>\n",
       "      <td>DE-1-201920016-0</td>\n",
       "      <td>DE-1</td>\n",
       "      <td>bmz</td>\n",
       "      <td>Bundesministerium für wirtschaftliche Zusammen...</td>\n",
       "      <td>Strengthening of Metrology for the Improvement...</td>\n",
       "      <td>Stärkung des Messwesens in Ägypten zur Verbess...</td>\n",
       "      <td>Strengthening of Metrology for the Improvement...</td>\n",
       "      <td>['AG']</td>\n",
       "      <td>AG;</td>\n",
       "      <td>Antigua and Barbuda</td>\n",
       "      <td>...</td>\n",
       "      <td>With a rapidly growing population and a promis...</td>\n",
       "      <td>Implementation</td>\n",
       "      <td>14010;</td>\n",
       "      <td>Water sector policy and administrative managem...</td>\n",
       "      <td>140;</td>\n",
       "      <td>Water Supply &amp; Sanitation;</td>\n",
       "      <td>Strengthening of Metrology for the Improvement...</td>\n",
       "      <td>9</td>\n",
       "      <td>8    9. Build resilient infrastructure, promot...</td>\n",
       "      <td>bmz</td>\n",
       "    </tr>\n",
       "    <tr>\n",
       "      <th>1</th>\n",
       "      <td>DE-1-201721877-0</td>\n",
       "      <td>DE-1</td>\n",
       "      <td>bmz</td>\n",
       "      <td>Bundesministerium für wirtschaftliche Zusammen...</td>\n",
       "      <td>Strengthening regional integration and coopera...</td>\n",
       "      <td>Stärkung der regionalen Integration und Zusamm...</td>\n",
       "      <td>Strengthening regional integration and coopera...</td>\n",
       "      <td>NaN</td>\n",
       "      <td>NaN</td>\n",
       "      <td>NaN</td>\n",
       "      <td>...</td>\n",
       "      <td>The module supports intra-regional partnership...</td>\n",
       "      <td>Finalisation</td>\n",
       "      <td>33130;</td>\n",
       "      <td>Regional trade agreements (RTAs);</td>\n",
       "      <td>331;</td>\n",
       "      <td>Trade Policies &amp; Regulations;</td>\n",
       "      <td>Strengthening regional integration and coopera...</td>\n",
       "      <td>9</td>\n",
       "      <td>8    9. Build resilient infrastructure, promot...</td>\n",
       "      <td>bmz</td>\n",
       "    </tr>\n",
       "    <tr>\n",
       "      <th>2</th>\n",
       "      <td>DE-1-201822287-0</td>\n",
       "      <td>DE-1</td>\n",
       "      <td>bmz</td>\n",
       "      <td>Bundesministerium für wirtschaftliche Zusammen...</td>\n",
       "      <td>Strengthening quality infrastructure for trade...</td>\n",
       "      <td>Stärkung der Qualitätsinfrastruktur für den Ha...</td>\n",
       "      <td>Strengthening quality infrastructure for trade...</td>\n",
       "      <td>NaN</td>\n",
       "      <td>NaN</td>\n",
       "      <td>NaN</td>\n",
       "      <td>...</td>\n",
       "      <td>Enhances the efficiency of the SADC Directorat...</td>\n",
       "      <td>Implementation</td>\n",
       "      <td>33130;</td>\n",
       "      <td>Regional trade agreements (RTAs);</td>\n",
       "      <td>331;</td>\n",
       "      <td>Trade Policies &amp; Regulations;</td>\n",
       "      <td>Strengthening quality infrastructure for trade...</td>\n",
       "      <td>9</td>\n",
       "      <td>8    9. Build resilient infrastructure, promot...</td>\n",
       "      <td>bmz</td>\n",
       "    </tr>\n",
       "    <tr>\n",
       "      <th>3</th>\n",
       "      <td>DE-1-197966252</td>\n",
       "      <td>DE-1</td>\n",
       "      <td>bmz</td>\n",
       "      <td>Bundesministerium für wirtschaftliche Zusammen...</td>\n",
       "      <td>NaN</td>\n",
       "      <td>Programm zur Förderung erneuerbarer Energien</td>\n",
       "      <td>Programm zur Förderung erneuerbarer Energien</td>\n",
       "      <td>NaN</td>\n",
       "      <td>NaN</td>\n",
       "      <td>NaN</td>\n",
       "      <td>...</td>\n",
       "      <td>Ziel der FZ-Maßnahme ist es, die BOAD bei der ...</td>\n",
       "      <td>Finalisation</td>\n",
       "      <td>24030;</td>\n",
       "      <td>Formal sector financial intermediaries;</td>\n",
       "      <td>240;</td>\n",
       "      <td>Banking &amp; Financial Services;</td>\n",
       "      <td>Programm zur Förderung erneuerbarer Energien. ...</td>\n",
       "      <td>4</td>\n",
       "      <td>3    4. Ensure inclusive and equitable quality...</td>\n",
       "      <td>bmz</td>\n",
       "    </tr>\n",
       "    <tr>\n",
       "      <th>4</th>\n",
       "      <td>DE-1-199535527</td>\n",
       "      <td>DE-1</td>\n",
       "      <td>bmz</td>\n",
       "      <td>Bundesministerium für wirtschaftliche Zusammen...</td>\n",
       "      <td>Studies and Experts Fund</td>\n",
       "      <td>Studien- und Fachkräftefonds</td>\n",
       "      <td>Studies and Experts Fund</td>\n",
       "      <td>NaN</td>\n",
       "      <td>NaN</td>\n",
       "      <td>NaN</td>\n",
       "      <td>...</td>\n",
       "      <td>Preparation and appraisal of technical coopera...</td>\n",
       "      <td>Finalisation</td>\n",
       "      <td>43010;</td>\n",
       "      <td>Multisector aid;</td>\n",
       "      <td>430;</td>\n",
       "      <td>Other Multisector;</td>\n",
       "      <td>Studies and Experts Fund. Preparation and appr...</td>\n",
       "      <td>9</td>\n",
       "      <td>8    9. Build resilient infrastructure, promot...</td>\n",
       "      <td>bmz</td>\n",
       "    </tr>\n",
       "  </tbody>\n",
       "</table>\n",
       "<p>5 rows × 23 columns</p>\n",
       "</div>"
      ],
      "text/plain": [
       "            iati_id iati_orga_id orga_abbreviation  \\\n",
       "0  DE-1-201920016-0         DE-1               bmz   \n",
       "1  DE-1-201721877-0         DE-1               bmz   \n",
       "2  DE-1-201822287-0         DE-1               bmz   \n",
       "3    DE-1-197966252         DE-1               bmz   \n",
       "4    DE-1-199535527         DE-1               bmz   \n",
       "\n",
       "                                      orga_full_name  \\\n",
       "0  Bundesministerium für wirtschaftliche Zusammen...   \n",
       "1  Bundesministerium für wirtschaftliche Zusammen...   \n",
       "2  Bundesministerium für wirtschaftliche Zusammen...   \n",
       "3  Bundesministerium für wirtschaftliche Zusammen...   \n",
       "4  Bundesministerium für wirtschaftliche Zusammen...   \n",
       "\n",
       "                                            title_en  \\\n",
       "0  Strengthening of Metrology for the Improvement...   \n",
       "1  Strengthening regional integration and coopera...   \n",
       "2  Strengthening quality infrastructure for trade...   \n",
       "3                                                NaN   \n",
       "4                           Studies and Experts Fund   \n",
       "\n",
       "                                         title_other  \\\n",
       "0  Stärkung des Messwesens in Ägypten zur Verbess...   \n",
       "1  Stärkung der regionalen Integration und Zusamm...   \n",
       "2  Stärkung der Qualitätsinfrastruktur für den Ha...   \n",
       "3       Programm zur Förderung erneuerbarer Energien   \n",
       "4                       Studien- und Fachkräftefonds   \n",
       "\n",
       "                                          title_main country_code_list  \\\n",
       "0  Strengthening of Metrology for the Improvement...            ['AG']   \n",
       "1  Strengthening regional integration and coopera...               NaN   \n",
       "2  Strengthening quality infrastructure for trade...               NaN   \n",
       "3       Programm zur Förderung erneuerbarer Energien               NaN   \n",
       "4                           Studies and Experts Fund               NaN   \n",
       "\n",
       "  country         country_name  ...  \\\n",
       "0    AG;   Antigua and Barbuda  ...   \n",
       "1     NaN                  NaN  ...   \n",
       "2     NaN                  NaN  ...   \n",
       "3     NaN                  NaN  ...   \n",
       "4     NaN                  NaN  ...   \n",
       "\n",
       "                                    description_main          status  \\\n",
       "0  With a rapidly growing population and a promis...  Implementation   \n",
       "1  The module supports intra-regional partnership...    Finalisation   \n",
       "2  Enhances the efficiency of the SADC Directorat...  Implementation   \n",
       "3  Ziel der FZ-Maßnahme ist es, die BOAD bei der ...    Finalisation   \n",
       "4  Preparation and appraisal of technical coopera...    Finalisation   \n",
       "\n",
       "  crs_5_code                                         crs_5_name crs_3_code  \\\n",
       "0    14010;   Water sector policy and administrative managem...      140;    \n",
       "1    33130;                  Regional trade agreements (RTAs);       331;    \n",
       "2    33130;                  Regional trade agreements (RTAs);       331;    \n",
       "3    24030;            Formal sector financial intermediaries;       240;    \n",
       "4    43010;                                   Multisector aid;       430;    \n",
       "\n",
       "                       crs_3_name  \\\n",
       "0     Water Supply & Sanitation;    \n",
       "1  Trade Policies & Regulations;    \n",
       "2  Trade Policies & Regulations;    \n",
       "3  Banking & Financial Services;    \n",
       "4             Other Multisector;    \n",
       "\n",
       "                               title_and_description sgd_pred_code  \\\n",
       "0  Strengthening of Metrology for the Improvement...             9   \n",
       "1  Strengthening regional integration and coopera...             9   \n",
       "2  Strengthening quality infrastructure for trade...             9   \n",
       "3  Programm zur Förderung erneuerbarer Energien. ...             4   \n",
       "4  Studies and Experts Fund. Preparation and appr...             9   \n",
       "\n",
       "                                        sgd_pred_str client  \n",
       "0  8    9. Build resilient infrastructure, promot...    bmz  \n",
       "1  8    9. Build resilient infrastructure, promot...    bmz  \n",
       "2  8    9. Build resilient infrastructure, promot...    bmz  \n",
       "3  3    4. Ensure inclusive and equitable quality...    bmz  \n",
       "4  8    9. Build resilient infrastructure, promot...    bmz  \n",
       "\n",
       "[5 rows x 23 columns]"
      ]
     },
     "execution_count": 5,
     "metadata": {},
     "output_type": "execute_result"
    }
   ],
   "source": [
    "project_df.head()"
   ]
  },
  {
   "cell_type": "markdown",
   "metadata": {},
   "source": [
    "### Create crs3 and crs5 list columns\n",
    "\n",
    "SHOULD BE INTEGRATED IN TRANSFORMATION PROCESS"
   ]
  },
  {
   "cell_type": "code",
   "execution_count": 6,
   "metadata": {},
   "outputs": [
    {
     "data": {
      "text/plain": [
       "0    [140]\n",
       "1    [331]\n",
       "2    [331]\n",
       "3    [240]\n",
       "4    [430]\n",
       "Name: crs_3_list, dtype: object"
      ]
     },
     "execution_count": 6,
     "metadata": {},
     "output_type": "execute_result"
    }
   ],
   "source": [
    "project_df['crs_3_list'] = project_df['crs_3_code'].apply(\n",
    "    lambda x: [element.strip() for element in x.split(';') if element.strip()] if pd.notna(x) else []\n",
    ")\n",
    "project_df['crs_3_list'].head()\n"
   ]
  },
  {
   "cell_type": "code",
   "execution_count": 7,
   "metadata": {},
   "outputs": [
    {
     "name": "stdout",
     "output_type": "stream",
     "text": [
      "55            [140, 430]\n",
      "87            [140, 430]\n",
      "88            [240, 311]\n",
      "93            [140, 430]\n",
      "118           [152, 430]\n",
      "              ...       \n",
      "31939    [151, 230, 230]\n",
      "31940         [121, 160]\n",
      "31941         [151, 151]\n",
      "31942    [111, 121, 160]\n",
      "31943         [160, 160]\n",
      "Name: crs_3_list, Length: 5475, dtype: object\n"
     ]
    }
   ],
   "source": [
    "filtered_df = project_df[project_df['crs_3_list'].apply(lambda x: len(x) > 1)]\n",
    "\n",
    "print(filtered_df[\"crs_3_list\"])"
   ]
  },
  {
   "cell_type": "code",
   "execution_count": 8,
   "metadata": {},
   "outputs": [
    {
     "data": {
      "text/plain": [
       "0    [14010]\n",
       "1    [33130]\n",
       "2    [33130]\n",
       "3    [24030]\n",
       "4    [43010]\n",
       "Name: crs_5_list, dtype: object"
      ]
     },
     "execution_count": 8,
     "metadata": {},
     "output_type": "execute_result"
    }
   ],
   "source": [
    "project_df['crs_5_list'] = project_df['crs_5_code'].apply(\n",
    "    lambda x: [element.strip() for element in x.split(';') if element.strip()] if pd.notna(x) else []\n",
    ")\n",
    "project_df['crs_5_list'].head()"
   ]
  },
  {
   "cell_type": "code",
   "execution_count": 9,
   "metadata": {},
   "outputs": [
    {
     "name": "stdout",
     "output_type": "stream",
     "text": [
      "55              [14020, 43030]\n",
      "87              [14020, 43030]\n",
      "88              [24030, 31193]\n",
      "93              [14020, 43030]\n",
      "118             [15220, 43040]\n",
      "                 ...          \n",
      "31939    [15110, 23020, 23040]\n",
      "31940           [12110, 16010]\n",
      "31941           [15110, 15111]\n",
      "31942    [11110, 12110, 16010]\n",
      "31943           [16010, 16010]\n",
      "Name: crs_5_list, Length: 5475, dtype: object\n"
     ]
    }
   ],
   "source": [
    "filtered_df = project_df[project_df['crs_5_list'].apply(lambda x: len(x) > 1)]\n",
    "\n",
    "print(filtered_df[\"crs_5_list\"])"
   ]
  },
  {
   "cell_type": "code",
   "execution_count": 10,
   "metadata": {},
   "outputs": [
    {
     "data": {
      "text/plain": [
       "Index(['iati_id', 'iati_orga_id', 'orga_abbreviation', 'orga_full_name',\n",
       "       'title_en', 'title_other', 'title_main', 'country_code_list', 'country',\n",
       "       'country_name', 'country_flag', 'description_en', 'description_other',\n",
       "       'description_main', 'status', 'crs_5_code', 'crs_5_name', 'crs_3_code',\n",
       "       'crs_3_name', 'title_and_description', 'sgd_pred_code', 'sgd_pred_str',\n",
       "       'client', 'crs_3_list', 'crs_5_list'],\n",
       "      dtype='object')"
      ]
     },
     "execution_count": 10,
     "metadata": {},
     "output_type": "execute_result"
    }
   ],
   "source": [
    "project_df.columns"
   ]
  },
  {
   "cell_type": "markdown",
   "metadata": {},
   "source": [
    "## **Extend Similarity Matrix**"
   ]
  },
  {
   "cell_type": "code",
   "execution_count": 11,
   "metadata": {},
   "outputs": [],
   "source": [
    "n = len(project_df)\n",
    "final_similarity_matrix = np.zeros((n, n)) "
   ]
  },
  {
   "cell_type": "markdown",
   "metadata": {},
   "source": [
    "### **CRS 3**"
   ]
  },
  {
   "cell_type": "code",
   "execution_count": 12,
   "metadata": {},
   "outputs": [
    {
     "name": "stdout",
     "output_type": "stream",
     "text": [
      "[[0.1 0.  0.  ... 0.  0.  0. ]\n",
      " [0.  0.1 0.1 ... 0.  0.  0. ]\n",
      " [0.  0.1 0.1 ... 0.  0.  0. ]\n",
      " ...\n",
      " [0.  0.  0.  ... 0.1 0.1 0.1]\n",
      " [0.  0.  0.  ... 0.1 0.1 0.1]\n",
      " [0.  0.  0.  ... 0.1 0.1 0.1]]\n"
     ]
    }
   ],
   "source": [
    "n = len(project_df)\n",
    "crs3_sim_matrix = np.zeros((n, n)) \n",
    "\n",
    "# search for matches \n",
    "matches = project_df[\"crs_3_code\"].values[:, None] == project_df[\"crs_3_code\"].values\n",
    "crs3_sim_matrix += matches.astype(int) * 0.1\n",
    "\n",
    "print(crs3_sim_matrix)"
   ]
  },
  {
   "cell_type": "code",
   "execution_count": 13,
   "metadata": {},
   "outputs": [],
   "source": [
    "final_similarity_matrix += crs3_sim_matrix"
   ]
  },
  {
   "cell_type": "code",
   "execution_count": 14,
   "metadata": {},
   "outputs": [
    {
     "name": "stderr",
     "output_type": "stream",
     "text": [
      "Processing: 100%|██████████| 5475/5475 [02:10<00:00, 41.94it/s]"
     ]
    },
    {
     "name": "stdout",
     "output_type": "stream",
     "text": [
      "[[0. 0. 0. ... 0. 0. 0.]\n",
      " [0. 0. 0. ... 0. 0. 0.]\n",
      " [0. 0. 0. ... 0. 0. 0.]\n",
      " ...\n",
      " [0. 0. 0. ... 0. 0. 0.]\n",
      " [0. 0. 0. ... 0. 0. 0.]\n",
      " [0. 0. 0. ... 0. 0. 0.]]\n"
     ]
    },
    {
     "name": "stderr",
     "output_type": "stream",
     "text": [
      "\n"
     ]
    }
   ],
   "source": [
    "# extract all indexes where multiple crs codes appear\n",
    "multi_code_df = project_df[project_df['crs_3_list'].apply(lambda x: len(x) > 1)]\n",
    "\n",
    "multi_code_indices = multi_code_df.index.to_list()\n",
    "\n",
    "n = len(project_df)  \n",
    "crs3_mc_sim_matrix = np.zeros((n, n))  \n",
    "\n",
    "list_sets_multi = [set(project_df['crs_3_list'].iloc[idx]) for idx in multi_code_indices]\n",
    "list_sets_all = project_df['crs_3_list'].apply(set).tolist()\n",
    "\n",
    "def is_match(set1, set2):\n",
    "    return not set1.isdisjoint(set2)\n",
    "\n",
    "for idx, i in enumerate(tqdm(multi_code_indices, desc='Processing')):\n",
    "    for j in range(n):\n",
    "        if list_sets_multi[idx] != list_sets_all[j]: \n",
    "            if is_match(list_sets_multi[idx], list_sets_all[j]):\n",
    "                crs3_mc_sim_matrix[i, j] += 0.1\n",
    "\n",
    "print(crs3_mc_sim_matrix)"
   ]
  },
  {
   "cell_type": "code",
   "execution_count": 15,
   "metadata": {},
   "outputs": [],
   "source": [
    "final_similarity_matrix += crs3_mc_sim_matrix"
   ]
  },
  {
   "cell_type": "code",
   "execution_count": 16,
   "metadata": {},
   "outputs": [
    {
     "data": {
      "text/plain": [
       "9"
      ]
     },
     "execution_count": 16,
     "metadata": {},
     "output_type": "execute_result"
    }
   ],
   "source": [
    "del crs3_sim_matrix, crs3_mc_sim_matrix\n",
    "gc.collect()"
   ]
  },
  {
   "cell_type": "markdown",
   "metadata": {},
   "source": [
    "### **CRS5**"
   ]
  },
  {
   "cell_type": "code",
   "execution_count": 17,
   "metadata": {},
   "outputs": [
    {
     "name": "stdout",
     "output_type": "stream",
     "text": [
      "[[0.15 0.   0.   ... 0.   0.   0.  ]\n",
      " [0.   0.15 0.15 ... 0.   0.   0.  ]\n",
      " [0.   0.15 0.15 ... 0.   0.   0.  ]\n",
      " ...\n",
      " [0.   0.   0.   ... 0.15 0.15 0.15]\n",
      " [0.   0.   0.   ... 0.15 0.15 0.15]\n",
      " [0.   0.   0.   ... 0.15 0.15 0.15]]\n"
     ]
    }
   ],
   "source": [
    "n = len(project_df)\n",
    "crs5_sim_matrix = np.zeros((n, n)) \n",
    "\n",
    "# search for matches \n",
    "matches = project_df[\"crs_5_code\"].values[:, None] == project_df[\"crs_5_code\"].values\n",
    "crs5_sim_matrix += matches.astype(int) * 0.15\n",
    "\n",
    "print(crs5_sim_matrix)"
   ]
  },
  {
   "cell_type": "code",
   "execution_count": 18,
   "metadata": {},
   "outputs": [],
   "source": [
    "final_similarity_matrix += crs5_sim_matrix"
   ]
  },
  {
   "cell_type": "code",
   "execution_count": 19,
   "metadata": {},
   "outputs": [
    {
     "name": "stderr",
     "output_type": "stream",
     "text": [
      "Processing: 100%|██████████| 5475/5475 [01:48<00:00, 50.26it/s]"
     ]
    },
    {
     "name": "stdout",
     "output_type": "stream",
     "text": [
      "[[0. 0. 0. ... 0. 0. 0.]\n",
      " [0. 0. 0. ... 0. 0. 0.]\n",
      " [0. 0. 0. ... 0. 0. 0.]\n",
      " ...\n",
      " [0. 0. 0. ... 0. 0. 0.]\n",
      " [0. 0. 0. ... 0. 0. 0.]\n",
      " [0. 0. 0. ... 0. 0. 0.]]\n"
     ]
    },
    {
     "name": "stderr",
     "output_type": "stream",
     "text": [
      "\n"
     ]
    }
   ],
   "source": [
    "# extract all indexes where multiple crs codes appear\n",
    "multi_code_df = project_df[project_df['crs_5_list'].apply(lambda x: len(x) > 1)]\n",
    "\n",
    "multi_code_indices = multi_code_df.index.to_list()\n",
    "\n",
    "n = len(project_df)  \n",
    "crs5_mc_sim_matrix = np.zeros((n, n))  \n",
    "\n",
    "list_sets_multi = [set(project_df['crs_5_list'].iloc[idx]) for idx in multi_code_indices]\n",
    "list_sets_all = project_df['crs_5_list'].apply(set).tolist()\n",
    "\n",
    "def is_match(set1, set2):\n",
    "    return not set1.isdisjoint(set2)\n",
    "\n",
    "for idx, i in enumerate(tqdm(multi_code_indices, desc='Processing')):\n",
    "    for j in range(n):\n",
    "        if list_sets_multi[idx] != list_sets_all[j]: \n",
    "            if is_match(list_sets_multi[idx], list_sets_all[j]):\n",
    "                crs5_mc_sim_matrix[i, j] += 0.15  \n",
    "\n",
    "print(crs5_mc_sim_matrix)"
   ]
  },
  {
   "cell_type": "code",
   "execution_count": 20,
   "metadata": {},
   "outputs": [],
   "source": [
    "final_similarity_matrix += crs5_mc_sim_matrix"
   ]
  },
  {
   "cell_type": "code",
   "execution_count": 21,
   "metadata": {},
   "outputs": [
    {
     "data": {
      "text/plain": [
       "9"
      ]
     },
     "execution_count": 21,
     "metadata": {},
     "output_type": "execute_result"
    }
   ],
   "source": [
    "del crs5_mc_sim_matrix, crs5_sim_matrix\n",
    "gc.collect()"
   ]
  },
  {
   "cell_type": "markdown",
   "metadata": {},
   "source": [
    "### **SDG**"
   ]
  },
  {
   "cell_type": "code",
   "execution_count": 22,
   "metadata": {},
   "outputs": [
    {
     "name": "stdout",
     "output_type": "stream",
     "text": [
      "[[0.2 0.2 0.2 ... 0.  0.  0. ]\n",
      " [0.2 0.2 0.2 ... 0.  0.  0. ]\n",
      " [0.2 0.2 0.2 ... 0.  0.  0. ]\n",
      " ...\n",
      " [0.  0.  0.  ... 0.2 0.  0. ]\n",
      " [0.  0.  0.  ... 0.  0.2 0. ]\n",
      " [0.  0.  0.  ... 0.  0.  0.2]]\n"
     ]
    }
   ],
   "source": [
    "n = len(project_df)\n",
    "sdg_sim_matrix = np.zeros((n, n)) \n",
    "\n",
    "# search for matches \n",
    "matches = project_df[\"sgd_pred_code\"].values[:, None] == project_df[\"sgd_pred_code\"].values\n",
    "sdg_sim_matrix += matches.astype(int) * 0.2 \n",
    "\n",
    "print(sdg_sim_matrix)"
   ]
  },
  {
   "cell_type": "code",
   "execution_count": 23,
   "metadata": {},
   "outputs": [],
   "source": [
    "final_similarity_matrix += sdg_sim_matrix"
   ]
  },
  {
   "cell_type": "markdown",
   "metadata": {},
   "source": [
    "### **Add text similarity to final matrix**"
   ]
  },
  {
   "cell_type": "code",
   "execution_count": 24,
   "metadata": {},
   "outputs": [
    {
     "data": {
      "text/plain": [
       "0"
      ]
     },
     "execution_count": 24,
     "metadata": {},
     "output_type": "execute_result"
    }
   ],
   "source": [
    "del sdg_sim_matrix\n",
    "gc.collect()"
   ]
  },
  {
   "cell_type": "code",
   "execution_count": 25,
   "metadata": {},
   "outputs": [],
   "source": [
    "final_similarity_matrix += sim_matrix"
   ]
  },
  {
   "cell_type": "code",
   "execution_count": 26,
   "metadata": {},
   "outputs": [
    {
     "name": "stdout",
     "output_type": "stream",
     "text": [
      "[[1.45       0.60987325 0.2        ... 0.         0.         0.        ]\n",
      " [0.60987325 1.45000024 1.05729301 ... 0.         0.         0.        ]\n",
      " [0.2        1.05729301 1.45000012 ... 0.         0.         0.        ]\n",
      " ...\n",
      " [0.         0.         0.         ... 1.45       0.81515884 0.25      ]\n",
      " [0.         0.         0.         ... 0.81515884 1.45       0.25      ]\n",
      " [0.         0.         0.         ... 0.25       0.25       1.45000012]]\n"
     ]
    }
   ],
   "source": [
    "print(final_similarity_matrix)"
   ]
  },
  {
   "cell_type": "code",
   "execution_count": 27,
   "metadata": {},
   "outputs": [
    {
     "data": {
      "text/plain": [
       "1.4500007152557373"
      ]
     },
     "execution_count": 27,
     "metadata": {},
     "output_type": "execute_result"
    }
   ],
   "source": [
    "np.amax(final_similarity_matrix)"
   ]
  },
  {
   "cell_type": "markdown",
   "metadata": {},
   "source": [
    "## **Normalize new matrix**"
   ]
  },
  {
   "cell_type": "code",
   "execution_count": 28,
   "metadata": {},
   "outputs": [
    {
     "name": "stdout",
     "output_type": "stream",
     "text": [
      "1.4500007152557373\n",
      "[[1.     0.4206 0.1379 ... 0.     0.     0.    ]\n",
      " [0.4206 1.     0.7292 ... 0.     0.     0.    ]\n",
      " [0.1379 0.7292 1.     ... 0.     0.     0.    ]\n",
      " ...\n",
      " [0.     0.     0.     ... 1.     0.5622 0.1724]\n",
      " [0.     0.     0.     ... 0.5622 1.     0.1724]\n",
      " [0.     0.     0.     ... 0.1724 0.1724 1.    ]]\n"
     ]
    }
   ],
   "source": [
    "max_value = final_similarity_matrix.max()\n",
    "print(max_value)\n",
    "\n",
    "# Normalize the matrix to scale values between 0 and 1\n",
    "normalized_matrix = np.round(final_similarity_matrix / max_value, 4)\n",
    "\n",
    "print(normalized_matrix)\n"
   ]
  },
  {
   "cell_type": "markdown",
   "metadata": {},
   "source": [
    "## **Drop 1 values**"
   ]
  },
  {
   "cell_type": "code",
   "execution_count": 29,
   "metadata": {},
   "outputs": [],
   "source": [
    "# Drop 1 values because there is no perfect match and its most likely a doublicate\n",
    "normalized_matrix[normalized_matrix >= 1] = 0"
   ]
  },
  {
   "cell_type": "markdown",
   "metadata": {},
   "source": [
    "## **Create Sparse Matrix**"
   ]
  },
  {
   "cell_type": "code",
   "execution_count": 30,
   "metadata": {},
   "outputs": [],
   "source": [
    "threshold = 0.35\n",
    "mask = normalized_matrix > threshold"
   ]
  },
  {
   "cell_type": "code",
   "execution_count": 31,
   "metadata": {},
   "outputs": [
    {
     "data": {
      "text/plain": [
       "array([[0.    , 0.4206, 0.1379, ..., 0.    , 0.    , 0.    ],\n",
       "       [0.4206, 0.    , 0.7292, ..., 0.    , 0.    , 0.    ],\n",
       "       [0.1379, 0.7292, 0.    , ..., 0.    , 0.    , 0.    ],\n",
       "       ...,\n",
       "       [0.    , 0.    , 0.    , ..., 0.    , 0.5622, 0.1724],\n",
       "       [0.    , 0.    , 0.    , ..., 0.5622, 0.    , 0.1724],\n",
       "       [0.    , 0.    , 0.    , ..., 0.1724, 0.1724, 0.    ]])"
      ]
     },
     "execution_count": 31,
     "metadata": {},
     "output_type": "execute_result"
    }
   ],
   "source": [
    "normalized_matrix"
   ]
  },
  {
   "cell_type": "code",
   "execution_count": 32,
   "metadata": {},
   "outputs": [],
   "source": [
    "sparse_matrix = sps.coo_matrix(normalized_matrix * mask)"
   ]
  },
  {
   "cell_type": "markdown",
   "metadata": {},
   "source": [
    "## **Export Extended Matrix**"
   ]
  },
  {
   "cell_type": "code",
   "execution_count": 33,
   "metadata": {},
   "outputs": [],
   "source": [
    "save_npz(\"../../synergy-app/src/extended_similarities.npz\", sparse_matrix)"
   ]
  },
  {
   "cell_type": "markdown",
   "metadata": {},
   "source": [
    "## **Create sim matrix for mateches between only different orgas**"
   ]
  },
  {
   "cell_type": "code",
   "execution_count": 34,
   "metadata": {},
   "outputs": [
    {
     "data": {
      "text/plain": [
       "array([[1.45      , 0.60987325, 0.2       , ..., 0.        , 0.        ,\n",
       "        0.        ],\n",
       "       [0.60987325, 1.45000024, 1.05729301, ..., 0.        , 0.        ,\n",
       "        0.        ],\n",
       "       [0.2       , 1.05729301, 1.45000012, ..., 0.        , 0.        ,\n",
       "        0.        ],\n",
       "       ...,\n",
       "       [0.        , 0.        , 0.        , ..., 1.45      , 0.81515884,\n",
       "        0.25      ],\n",
       "       [0.        , 0.        , 0.        , ..., 0.81515884, 1.45      ,\n",
       "        0.25      ],\n",
       "       [0.        , 0.        , 0.        , ..., 0.25      , 0.25      ,\n",
       "        1.45000012]])"
      ]
     },
     "execution_count": 34,
     "metadata": {},
     "output_type": "execute_result"
    }
   ],
   "source": [
    "non_org_sim_matrix = final_similarity_matrix.copy()\n",
    "non_org_sim_matrix"
   ]
  },
  {
   "cell_type": "markdown",
   "metadata": {},
   "source": [
    "### **Remove similarities if projects with similar orga**"
   ]
  },
  {
   "cell_type": "code",
   "execution_count": 35,
   "metadata": {},
   "outputs": [
    {
     "name": "stdout",
     "output_type": "stream",
     "text": [
      "[[0. 0. 0. ... 0. 0. 0.]\n",
      " [0. 0. 0. ... 0. 0. 0.]\n",
      " [0. 0. 0. ... 0. 0. 0.]\n",
      " ...\n",
      " [0. 0. 0. ... 0. 0. 0.]\n",
      " [0. 0. 0. ... 0. 0. 0.]\n",
      " [0. 0. 0. ... 0. 0. 0.]]\n"
     ]
    }
   ],
   "source": [
    "# search for matches \n",
    "matches = project_df[\"orga_abbreviation\"].values[:, None] == project_df[\"orga_abbreviation\"].values\n",
    "non_org_sim_matrix[matches] = 0 # Set all orga matches similarity to 0\n",
    "\n",
    "print(non_org_sim_matrix)"
   ]
  },
  {
   "cell_type": "code",
   "execution_count": 36,
   "metadata": {},
   "outputs": [
    {
     "data": {
      "text/plain": [
       "1.4500003576278686"
      ]
     },
     "execution_count": 36,
     "metadata": {},
     "output_type": "execute_result"
    }
   ],
   "source": [
    "max_value = non_org_sim_matrix.max()\n",
    "max_value"
   ]
  },
  {
   "cell_type": "markdown",
   "metadata": {},
   "source": [
    "### **Normalize**"
   ]
  },
  {
   "cell_type": "code",
   "execution_count": 37,
   "metadata": {},
   "outputs": [
    {
     "data": {
      "text/plain": [
       "0"
      ]
     },
     "execution_count": 37,
     "metadata": {},
     "output_type": "execute_result"
    }
   ],
   "source": [
    "del final_similarity_matrix, max_value, sparse_matrix, normalized_matrix\n",
    "gc.collect()"
   ]
  },
  {
   "cell_type": "code",
   "execution_count": 38,
   "metadata": {},
   "outputs": [
    {
     "name": "stdout",
     "output_type": "stream",
     "text": [
      "1.4500003576278686\n",
      "[[0. 0. 0. ... 0. 0. 0.]\n",
      " [0. 0. 0. ... 0. 0. 0.]\n",
      " [0. 0. 0. ... 0. 0. 0.]\n",
      " ...\n",
      " [0. 0. 0. ... 0. 0. 0.]\n",
      " [0. 0. 0. ... 0. 0. 0.]\n",
      " [0. 0. 0. ... 0. 0. 0.]]\n"
     ]
    }
   ],
   "source": [
    "max_value = non_org_sim_matrix.max()\n",
    "print(max_value)\n",
    "\n",
    "# Normalize the matrix to scale values between 0 and 1\n",
    "norm_non_orga_matrix = np.round(non_org_sim_matrix / max_value, 4)\n",
    "\n",
    "print(norm_non_orga_matrix)"
   ]
  },
  {
   "cell_type": "markdown",
   "metadata": {},
   "source": [
    "### **Drop 1 values**"
   ]
  },
  {
   "cell_type": "code",
   "execution_count": 39,
   "metadata": {},
   "outputs": [],
   "source": [
    "# Drop 1 values because there is no perfect match and its most likely a doublicate\n",
    "norm_non_orga_matrix[norm_non_orga_matrix >= 1] = 0"
   ]
  },
  {
   "cell_type": "markdown",
   "metadata": {},
   "source": [
    "### **Create sparse**"
   ]
  },
  {
   "cell_type": "code",
   "execution_count": 40,
   "metadata": {},
   "outputs": [],
   "source": [
    "threshold = 0.3\n",
    "mask = norm_non_orga_matrix > threshold"
   ]
  },
  {
   "cell_type": "code",
   "execution_count": 41,
   "metadata": {},
   "outputs": [],
   "source": [
    "sparse_non_orga_matrix = sps.coo_matrix(norm_non_orga_matrix * mask)"
   ]
  },
  {
   "cell_type": "markdown",
   "metadata": {},
   "source": [
    "### **Export**"
   ]
  },
  {
   "cell_type": "code",
   "execution_count": 42,
   "metadata": {},
   "outputs": [],
   "source": [
    "save_npz(\"../../synergy-app/src/extended_similarities_nonsimorga.npz\", sparse_non_orga_matrix)"
   ]
  }
 ],
 "metadata": {
  "kernelspec": {
   "display_name": "pamb2",
   "language": "python",
   "name": "python3"
  },
  "language_info": {
   "codemirror_mode": {
    "name": "ipython",
    "version": 3
   },
   "file_extension": ".py",
   "mimetype": "text/x-python",
   "name": "python",
   "nbconvert_exporter": "python",
   "pygments_lexer": "ipython3",
   "version": "3.10.14"
  }
 },
 "nbformat": 4,
 "nbformat_minor": 2
}
