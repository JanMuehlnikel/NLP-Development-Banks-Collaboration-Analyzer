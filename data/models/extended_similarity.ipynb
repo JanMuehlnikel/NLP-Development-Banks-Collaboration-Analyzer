{
 "cells": [
  {
   "cell_type": "code",
   "execution_count": null,
   "metadata": {},
   "outputs": [],
   "source": [
    "import numpy as np\n",
    "import pandas as pd\n",
    "from scipy.sparse import save_npz\n",
    "from scipy.sparse import load_npz\n",
    "import scipy.sparse as sps\n",
    "from tqdm import tqdm \n",
    "import gc\n"
   ]
  },
  {
   "cell_type": "markdown",
   "metadata": {},
   "source": [
    "## **Load Similarity Matrix**"
   ]
  },
  {
   "cell_type": "code",
   "execution_count": null,
   "metadata": {},
   "outputs": [],
   "source": [
    "loaded_sparse_matrix = load_npz(\"../../src/similarities.npz\")"
   ]
  },
  {
   "cell_type": "code",
   "execution_count": null,
   "metadata": {},
   "outputs": [],
   "source": [
    "sim_matrix = loaded_sparse_matrix.toarray()\n",
    "sim_matrix.shape"
   ]
  },
  {
   "cell_type": "markdown",
   "metadata": {},
   "source": [
    "## **Load Project DF**"
   ]
  },
  {
   "cell_type": "code",
   "execution_count": null,
   "metadata": {},
   "outputs": [],
   "source": [
    "project_df = pd.read_csv(\"../../src/merged_orgas.csv\")\n",
    "project_df.shape"
   ]
  },
  {
   "cell_type": "code",
   "execution_count": null,
   "metadata": {},
   "outputs": [],
   "source": [
    "project_df.head()"
   ]
  },
  {
   "cell_type": "markdown",
   "metadata": {},
   "source": [
    "### Create crs3 and crs5 list columns\n",
    "\n",
    "SHOULD BE INTEGRATED IN TRANSFORMATION PROCESS"
   ]
  },
  {
   "cell_type": "code",
   "execution_count": 49,
   "metadata": {},
   "outputs": [
    {
     "data": {
      "text/plain": [
       "0    [140]\n",
       "1    [331]\n",
       "2    [331]\n",
       "3    [240]\n",
       "4    [430]\n",
       "Name: crs_3_list, dtype: object"
      ]
     },
     "execution_count": 49,
     "metadata": {},
     "output_type": "execute_result"
    }
   ],
   "source": [
    "project_df['crs_3_list'] = project_df['crs_3_code'].apply(\n",
    "    lambda x: [element.strip() for element in x.split(';') if element.strip()] if pd.notna(x) else []\n",
    ")\n",
    "project_df['crs_3_list'].head()\n"
   ]
  },
  {
   "cell_type": "code",
   "execution_count": 50,
   "metadata": {},
   "outputs": [
    {
     "name": "stdout",
     "output_type": "stream",
     "text": [
      "55            [140, 430]\n",
      "87            [140, 430]\n",
      "88            [240, 311]\n",
      "93            [140, 430]\n",
      "118           [152, 430]\n",
      "              ...       \n",
      "31939    [151, 230, 230]\n",
      "31940         [121, 160]\n",
      "31941         [151, 151]\n",
      "31942    [111, 121, 160]\n",
      "31943         [160, 160]\n",
      "Name: crs_3_list, Length: 5475, dtype: object\n"
     ]
    }
   ],
   "source": [
    "filtered_df = project_df[project_df['crs_3_list'].apply(lambda x: len(x) > 1)]\n",
    "\n",
    "print(filtered_df[\"crs_3_list\"])"
   ]
  },
  {
   "cell_type": "code",
   "execution_count": 51,
   "metadata": {},
   "outputs": [
    {
     "data": {
      "text/plain": [
       "0    [14010]\n",
       "1    [33130]\n",
       "2    [33130]\n",
       "3    [24030]\n",
       "4    [43010]\n",
       "Name: crs_5_list, dtype: object"
      ]
     },
     "execution_count": 51,
     "metadata": {},
     "output_type": "execute_result"
    }
   ],
   "source": [
    "project_df['crs_5_list'] = project_df['crs_5_code'].apply(\n",
    "    lambda x: [element.strip() for element in x.split(';') if element.strip()] if pd.notna(x) else []\n",
    ")\n",
    "project_df['crs_5_list'].head()"
   ]
  },
  {
   "cell_type": "code",
   "execution_count": 52,
   "metadata": {},
   "outputs": [
    {
     "name": "stdout",
     "output_type": "stream",
     "text": [
      "55              [14020, 43030]\n",
      "87              [14020, 43030]\n",
      "88              [24030, 31193]\n",
      "93              [14020, 43030]\n",
      "118             [15220, 43040]\n",
      "                 ...          \n",
      "31939    [15110, 23020, 23040]\n",
      "31940           [12110, 16010]\n",
      "31941           [15110, 15111]\n",
      "31942    [11110, 12110, 16010]\n",
      "31943           [16010, 16010]\n",
      "Name: crs_5_list, Length: 5475, dtype: object\n"
     ]
    }
   ],
   "source": [
    "filtered_df = project_df[project_df['crs_5_list'].apply(lambda x: len(x) > 1)]\n",
    "\n",
    "print(filtered_df[\"crs_5_list\"])"
   ]
  },
  {
   "cell_type": "code",
   "execution_count": 53,
   "metadata": {},
   "outputs": [
    {
     "data": {
      "text/plain": [
       "Index(['iati_id', 'iati_orga_id', 'orga_abbreviation', 'orga_full_name',\n",
       "       'title_en', 'title_other', 'title_main', 'country_code_list', 'country',\n",
       "       'country_name', 'country_flag', 'description_en', 'description_other',\n",
       "       'description_main', 'status', 'crs_5_code', 'crs_5_name', 'crs_3_code',\n",
       "       'crs_3_name', 'title_and_description', 'sgd_pred_code', 'sgd_pred_str',\n",
       "       'client', 'crs_3_list', 'crs_5_list'],\n",
       "      dtype='object')"
      ]
     },
     "execution_count": 53,
     "metadata": {},
     "output_type": "execute_result"
    }
   ],
   "source": [
    "project_df.columns"
   ]
  },
  {
   "cell_type": "markdown",
   "metadata": {},
   "source": [
    "## **Extend Similarity Matrix**"
   ]
  },
  {
   "cell_type": "code",
   "execution_count": 55,
   "metadata": {},
   "outputs": [
    {
     "ename": "MemoryError",
     "evalue": "Unable to allocate 9.43 GiB for an array with shape (35575, 35575) and data type float64",
     "output_type": "error",
     "traceback": [
      "\u001b[1;31m---------------------------------------------------------------------------\u001b[0m",
      "\u001b[1;31mMemoryError\u001b[0m                               Traceback (most recent call last)",
      "Cell \u001b[1;32mIn[55], line 2\u001b[0m\n\u001b[0;32m      1\u001b[0m n \u001b[38;5;241m=\u001b[39m \u001b[38;5;28mlen\u001b[39m(project_df)\n\u001b[1;32m----> 2\u001b[0m final_similarity_matrix \u001b[38;5;241m=\u001b[39m \u001b[43mnp\u001b[49m\u001b[38;5;241;43m.\u001b[39;49m\u001b[43mzeros\u001b[49m\u001b[43m(\u001b[49m\u001b[43m(\u001b[49m\u001b[43mn\u001b[49m\u001b[43m,\u001b[49m\u001b[43m \u001b[49m\u001b[43mn\u001b[49m\u001b[43m)\u001b[49m\u001b[43m)\u001b[49m \n\u001b[0;32m      3\u001b[0m final_similarity_matrix\n",
      "\u001b[1;31mMemoryError\u001b[0m: Unable to allocate 9.43 GiB for an array with shape (35575, 35575) and data type float64"
     ]
    }
   ],
   "source": [
    "n = len(project_df)\n",
    "final_similarity_matrix = np.zeros((n, n)) \n",
    "final_similarity_matrix"
   ]
  },
  {
   "cell_type": "markdown",
   "metadata": {},
   "source": [
    "### **CRS 3**"
   ]
  },
  {
   "cell_type": "code",
   "execution_count": null,
   "metadata": {},
   "outputs": [],
   "source": [
    "n = len(project_df)\n",
    "crs3_sim_matrix = np.zeros((n, n)) \n",
    "\n",
    "# search for matches \n",
    "matches = project_df[\"crs_3_code\"].values[:, None] == project_df[\"crs_3_code\"].values\n",
    "crs3_sim_matrix += matches.astype(int) * 0.1\n",
    "\n",
    "print(crs3_sim_matrix)"
   ]
  },
  {
   "cell_type": "code",
   "execution_count": null,
   "metadata": {},
   "outputs": [],
   "source": [
    "final_similarity_matrix += crs3_sim_matrix"
   ]
  },
  {
   "cell_type": "code",
   "execution_count": null,
   "metadata": {},
   "outputs": [],
   "source": [
    "multi_code_df = project_df[project_df['crs_3_list'].apply(lambda x: len(x) > 1)]\n",
    "\n",
    "multi_code_indices = multi_code_df.index.to_list()\n",
    "\n",
    "n = len(project_df)  \n",
    "crs3_mc_sim_matrix = np.zeros((n, n))  \n",
    "\n",
    "list_sets_multi = [set(project_df['crs_3_list'].iloc[idx]) for idx in multi_code_indices]\n",
    "list_sets_all = project_df['crs_3_list'].apply(set).tolist()\n",
    "\n",
    "def is_match(set1, set2):\n",
    "    return not set1.isdisjoint(set2)\n",
    "\n",
    "for idx, i in enumerate(tqdm(multi_code_indices, desc='Processing')):\n",
    "    for j in range(n):\n",
    "        if list_sets_multi[idx] != list_sets_all[j]: \n",
    "            if is_match(list_sets_multi[idx], list_sets_all[j]):\n",
    "                crs3_mc_sim_matrix[i, j] += 0.1\n",
    "\n",
    "print(crs3_mc_sim_matrix)"
   ]
  },
  {
   "cell_type": "code",
   "execution_count": null,
   "metadata": {},
   "outputs": [],
   "source": [
    "final_similarity_matrix += crs3_mc_sim_matrix"
   ]
  },
  {
   "cell_type": "code",
   "execution_count": null,
   "metadata": {},
   "outputs": [],
   "source": [
    "del crs3_sim_matrix, crs3_mc_sim_matrix\n",
    "gc.collect()"
   ]
  },
  {
   "cell_type": "markdown",
   "metadata": {},
   "source": [
    "### **CRS5**"
   ]
  },
  {
   "cell_type": "code",
   "execution_count": null,
   "metadata": {},
   "outputs": [],
   "source": [
    "n = len(project_df)\n",
    "crs5_sim_matrix = np.zeros((n, n)) \n",
    "\n",
    "# search for matches \n",
    "matches = project_df[\"crs_5_code\"].values[:, None] == project_df[\"crs_5_code\"].values\n",
    "crs5_sim_matrix += matches.astype(int) * 0.15\n",
    "\n",
    "print(crs5_sim_matrix)"
   ]
  },
  {
   "cell_type": "code",
   "execution_count": null,
   "metadata": {},
   "outputs": [],
   "source": [
    "final_similarity_matrix += crs5_sim_matrix"
   ]
  },
  {
   "cell_type": "code",
   "execution_count": null,
   "metadata": {},
   "outputs": [],
   "source": [
    "multi_code_df = project_df[project_df['crs_5_list'].apply(lambda x: len(x) > 1)]\n",
    "\n",
    "multi_code_indices = multi_code_df.index.to_list()\n",
    "\n",
    "n = len(project_df)  \n",
    "crs5_mc_sim_matrix = np.zeros((n, n))  \n",
    "\n",
    "list_sets_multi = [set(project_df['crs_5_list'].iloc[idx]) for idx in multi_code_indices]\n",
    "list_sets_all = project_df['crs_5_list'].apply(set).tolist()\n",
    "\n",
    "def is_match(set1, set2):\n",
    "    return not set1.isdisjoint(set2)\n",
    "\n",
    "for idx, i in enumerate(tqdm(multi_code_indices, desc='Processing')):\n",
    "    for j in range(n):\n",
    "        if list_sets_multi[idx] != list_sets_all[j]: \n",
    "            if is_match(list_sets_multi[idx], list_sets_all[j]):\n",
    "                crs5_mc_sim_matrix[i, j] += 0.15  \n",
    "\n",
    "print(crs5_mc_sim_matrix)"
   ]
  },
  {
   "cell_type": "code",
   "execution_count": null,
   "metadata": {},
   "outputs": [],
   "source": [
    "final_similarity_matrix += crs5_mc_sim_matrix"
   ]
  },
  {
   "cell_type": "code",
   "execution_count": null,
   "metadata": {},
   "outputs": [],
   "source": [
    "del crs5_mc_sim_matrix, crs5_sim_matrix\n",
    "gc.collect()"
   ]
  },
  {
   "cell_type": "markdown",
   "metadata": {},
   "source": [
    "### **SDG**"
   ]
  },
  {
   "cell_type": "code",
   "execution_count": null,
   "metadata": {},
   "outputs": [],
   "source": [
    "n = len(project_df)\n",
    "sdg_sim_matrix = np.zeros((n, n)) \n",
    "\n",
    "# search for matches \n",
    "matches = project_df[\"sgd_pred_code\"].values[:, None] == project_df[\"sgd_pred_code\"].values\n",
    "sdg_sim_matrix += matches.astype(int) * 0.2 \n",
    "\n",
    "print(sdg_sim_matrix)"
   ]
  },
  {
   "cell_type": "code",
   "execution_count": null,
   "metadata": {},
   "outputs": [],
   "source": [
    "final_similarity_matrix += sdg_sim_matrix"
   ]
  },
  {
   "cell_type": "markdown",
   "metadata": {},
   "source": [
    "### **Add text similarity to final matrix**"
   ]
  },
  {
   "cell_type": "code",
   "execution_count": null,
   "metadata": {},
   "outputs": [],
   "source": [
    "del sdg_sim_matrix\n",
    "gc.collect()"
   ]
  },
  {
   "cell_type": "code",
   "execution_count": null,
   "metadata": {},
   "outputs": [],
   "source": [
    "final_similarity_matrix += sim_matrix"
   ]
  },
  {
   "cell_type": "code",
   "execution_count": null,
   "metadata": {},
   "outputs": [],
   "source": [
    "print(final_similarity_matrix)"
   ]
  },
  {
   "cell_type": "code",
   "execution_count": null,
   "metadata": {},
   "outputs": [],
   "source": [
    "np.amax(final_similarity_matrix)"
   ]
  },
  {
   "cell_type": "markdown",
   "metadata": {},
   "source": [
    "## **Normalize new matrix**"
   ]
  },
  {
   "cell_type": "code",
   "execution_count": null,
   "metadata": {},
   "outputs": [],
   "source": [
    "max_value = final_similarity_matrix.max()\n",
    "print(max_value)\n",
    "\n",
    "# Normalize the matrix to scale values between 0 and 1\n",
    "normalized_matrix = np.round(final_similarity_matrix / max_value, 4)\n",
    "\n",
    "print(normalized_matrix)\n"
   ]
  },
  {
   "cell_type": "markdown",
   "metadata": {},
   "source": [
    "## **Drop 1 values**"
   ]
  },
  {
   "cell_type": "code",
   "execution_count": null,
   "metadata": {},
   "outputs": [],
   "source": [
    "# Drop 1 values because there is no perfect match and its most likely a doublicate\n",
    "normalized_matrix[normalized_matrix >= 1] = 0"
   ]
  },
  {
   "cell_type": "markdown",
   "metadata": {},
   "source": [
    "## **Create Sparse Matrix**"
   ]
  },
  {
   "cell_type": "code",
   "execution_count": null,
   "metadata": {},
   "outputs": [],
   "source": [
    "threshold = 0.35\n",
    "mask = normalized_matrix > threshold"
   ]
  },
  {
   "cell_type": "code",
   "execution_count": null,
   "metadata": {},
   "outputs": [],
   "source": [
    "normalized_matrix"
   ]
  },
  {
   "cell_type": "code",
   "execution_count": null,
   "metadata": {},
   "outputs": [],
   "source": [
    "sparse_matrix = sps.coo_matrix(normalized_matrix * mask)"
   ]
  },
  {
   "cell_type": "markdown",
   "metadata": {},
   "source": [
    "## **Export Extended Matrix**"
   ]
  },
  {
   "cell_type": "code",
   "execution_count": null,
   "metadata": {},
   "outputs": [],
   "source": [
    "save_npz(\"../../synergy-app/src/extended_similarities.npz\", sparse_matrix)"
   ]
  },
  {
   "cell_type": "markdown",
   "metadata": {},
   "source": [
    "## **Create sim matrix for mateches between only different orgas**"
   ]
  },
  {
   "cell_type": "code",
   "execution_count": null,
   "metadata": {},
   "outputs": [],
   "source": [
    "non_org_sim_matrix = final_similarity_matrix.copy()\n",
    "non_org_sim_matrix"
   ]
  },
  {
   "cell_type": "markdown",
   "metadata": {},
   "source": [
    "### **Remove similarities if projects with similar orga**"
   ]
  },
  {
   "cell_type": "code",
   "execution_count": null,
   "metadata": {},
   "outputs": [],
   "source": [
    "# search for matches \n",
    "matches = project_df[\"orga_abbreviation\"].values[:, None] == project_df[\"orga_abbreviation\"].values\n",
    "non_org_sim_matrix[matches] = 0 # Set all orga matches similarity to 0\n",
    "\n",
    "print(non_org_sim_matrix)"
   ]
  },
  {
   "cell_type": "code",
   "execution_count": null,
   "metadata": {},
   "outputs": [],
   "source": [
    "max_value = non_org_sim_matrix.max()\n",
    "max_value"
   ]
  },
  {
   "cell_type": "markdown",
   "metadata": {},
   "source": [
    "### **Normalize**"
   ]
  },
  {
   "cell_type": "code",
   "execution_count": null,
   "metadata": {},
   "outputs": [],
   "source": [
    "del final_similarity_matrix, max_value, sparse_matrix, normalized_matrix\n",
    "gc.collect()"
   ]
  },
  {
   "cell_type": "code",
   "execution_count": null,
   "metadata": {},
   "outputs": [],
   "source": [
    "max_value = non_org_sim_matrix.max()\n",
    "print(max_value)\n",
    "\n",
    "# Normalize the matrix to scale values between 0 and 1\n",
    "norm_non_orga_matrix = np.round(non_org_sim_matrix / max_value, 4)\n",
    "\n",
    "print(norm_non_orga_matrix)"
   ]
  },
  {
   "cell_type": "markdown",
   "metadata": {},
   "source": [
    "### **Drop 1 values**"
   ]
  },
  {
   "cell_type": "code",
   "execution_count": null,
   "metadata": {},
   "outputs": [],
   "source": [
    "# Drop 1 values because there is no perfect match and its most likely a doublicate\n",
    "norm_non_orga_matrix[norm_non_orga_matrix >= 1] = 0"
   ]
  },
  {
   "cell_type": "markdown",
   "metadata": {},
   "source": [
    "### **Create sparse**"
   ]
  },
  {
   "cell_type": "code",
   "execution_count": null,
   "metadata": {},
   "outputs": [],
   "source": [
    "threshold = 0.3\n",
    "mask = norm_non_orga_matrix > threshold"
   ]
  },
  {
   "cell_type": "code",
   "execution_count": null,
   "metadata": {},
   "outputs": [],
   "source": [
    "sparse_non_orga_matrix = sps.coo_matrix(norm_non_orga_matrix * mask)"
   ]
  },
  {
   "cell_type": "markdown",
   "metadata": {},
   "source": [
    "### **Export**"
   ]
  },
  {
   "cell_type": "code",
   "execution_count": null,
   "metadata": {},
   "outputs": [],
   "source": [
    "save_npz(\"../../synergy-app/src/extended_similarities_nonsimorga.npz\", sparse_non_orga_matrix)"
   ]
  }
 ],
 "metadata": {
  "kernelspec": {
   "display_name": "pamb2",
   "language": "python",
   "name": "python3"
  },
  "language_info": {
   "codemirror_mode": {
    "name": "ipython",
    "version": 3
   },
   "file_extension": ".py",
   "mimetype": "text/x-python",
   "name": "python",
   "nbconvert_exporter": "python",
   "pygments_lexer": "ipython3",
   "version": "3.10.14"
  }
 },
 "nbformat": 4,
 "nbformat_minor": 2
}
