{
 "cells": [
  {
   "cell_type": "markdown",
   "metadata": {},
   "source": [
    "# **MiniLM Similarity Model**"
   ]
  },
  {
   "cell_type": "markdown",
   "metadata": {},
   "source": [
    "## **Dependecies**"
   ]
  },
  {
   "cell_type": "code",
   "execution_count": 1,
   "metadata": {},
   "outputs": [],
   "source": [
    "import pandas as pd\n",
    "from sentence_transformers import SentenceTransformer, util\n",
    "import pickle\n",
    "import numpy as np\n",
    "import scipy.sparse as sps\n",
    "from scipy.sparse import save_npz\n",
    "import gc\n",
    "from scipy.sparse import load_npz\n"
   ]
  },
  {
   "cell_type": "markdown",
   "metadata": {},
   "source": [
    "## **Load Model**\n",
    "\n",
    "MiniLM was specifically designed to maintain the performance of the large language models while reducing the model dimensions and thus the required computational resources. This is achieved through various techniques such as knowledge distillation, where a smaller model (the \"student\") is trained to mimic the behaviour of a larger, pre-trained model (the \"teacher\").\n",
    "\n",
    "https://huggingface.co/sentence-transformers/all-MiniLM-L6-v2"
   ]
  },
  {
   "cell_type": "markdown",
   "metadata": {},
   "source": [
    "### Load all-MiniLM Model"
   ]
  },
  {
   "cell_type": "code",
   "execution_count": 2,
   "metadata": {},
   "outputs": [],
   "source": [
    "model = SentenceTransformer('all-MiniLM-L6-v2')"
   ]
  },
  {
   "cell_type": "markdown",
   "metadata": {},
   "source": [
    "## **Read Data**"
   ]
  },
  {
   "cell_type": "markdown",
   "metadata": {},
   "source": [
    "### Load csv"
   ]
  },
  {
   "cell_type": "code",
   "execution_count": 3,
   "metadata": {},
   "outputs": [
    {
     "name": "stdout",
     "output_type": "stream",
     "text": [
      "<class 'pandas.core.frame.DataFrame'>\n",
      "RangeIndex: 35575 entries, 0 to 35574\n",
      "Data columns (total 23 columns):\n",
      " #   Column                 Non-Null Count  Dtype \n",
      "---  ------                 --------------  ----- \n",
      " 0   iati_id                35575 non-null  object\n",
      " 1   iati_orga_id           35575 non-null  object\n",
      " 2   orga_abbreviation      35575 non-null  object\n",
      " 3   orga_full_name         35575 non-null  object\n",
      " 4   title_en               35116 non-null  object\n",
      " 5   title_other            26789 non-null  object\n",
      " 6   title_main             35575 non-null  object\n",
      " 7   country_code_list      30493 non-null  object\n",
      " 8   country                30493 non-null  object\n",
      " 9   country_name           30473 non-null  object\n",
      " 10  country_flag           35575 non-null  object\n",
      " 11  description_en         34488 non-null  object\n",
      " 12  description_other      26712 non-null  object\n",
      " 13  description_main       35477 non-null  object\n",
      " 14  status                 35575 non-null  object\n",
      " 15  crs_5_code             34212 non-null  object\n",
      " 16  crs_5_name             34212 non-null  object\n",
      " 17  crs_3_code             34212 non-null  object\n",
      " 18  crs_3_name             34212 non-null  object\n",
      " 19  title_and_description  35575 non-null  object\n",
      " 20  sgd_pred_code          35575 non-null  int64 \n",
      " 21  sgd_pred_str           35575 non-null  object\n",
      " 22  client                 35575 non-null  object\n",
      "dtypes: int64(1), object(22)\n",
      "memory usage: 6.2+ MB\n"
     ]
    }
   ],
   "source": [
    "df = pd.read_csv(\"../../src/merged_orgas.csv\")\n",
    "df.info()"
   ]
  },
  {
   "cell_type": "code",
   "execution_count": 4,
   "metadata": {},
   "outputs": [
    {
     "data": {
      "text/plain": [
       "Index(['iati_id', 'iati_orga_id', 'orga_abbreviation', 'orga_full_name',\n",
       "       'title_en', 'title_other', 'title_main', 'country_code_list', 'country',\n",
       "       'country_name', 'country_flag', 'description_en', 'description_other',\n",
       "       'description_main', 'status', 'crs_5_code', 'crs_5_name', 'crs_3_code',\n",
       "       'crs_3_name', 'title_and_description', 'sgd_pred_code', 'sgd_pred_str',\n",
       "       'client'],\n",
       "      dtype='object')"
      ]
     },
     "execution_count": 4,
     "metadata": {},
     "output_type": "execute_result"
    }
   ],
   "source": [
    "df.columns"
   ]
  },
  {
   "cell_type": "code",
   "execution_count": 5,
   "metadata": {},
   "outputs": [
    {
     "data": {
      "text/html": [
       "<div>\n",
       "<style scoped>\n",
       "    .dataframe tbody tr th:only-of-type {\n",
       "        vertical-align: middle;\n",
       "    }\n",
       "\n",
       "    .dataframe tbody tr th {\n",
       "        vertical-align: top;\n",
       "    }\n",
       "\n",
       "    .dataframe thead th {\n",
       "        text-align: right;\n",
       "    }\n",
       "</style>\n",
       "<table border=\"1\" class=\"dataframe\">\n",
       "  <thead>\n",
       "    <tr style=\"text-align: right;\">\n",
       "      <th></th>\n",
       "      <th>iati_id</th>\n",
       "      <th>iati_orga_id</th>\n",
       "      <th>orga_abbreviation</th>\n",
       "      <th>orga_full_name</th>\n",
       "      <th>title_en</th>\n",
       "      <th>title_other</th>\n",
       "      <th>title_main</th>\n",
       "      <th>country_code_list</th>\n",
       "      <th>country</th>\n",
       "      <th>country_name</th>\n",
       "      <th>...</th>\n",
       "      <th>description_main</th>\n",
       "      <th>status</th>\n",
       "      <th>crs_5_code</th>\n",
       "      <th>crs_5_name</th>\n",
       "      <th>crs_3_code</th>\n",
       "      <th>crs_3_name</th>\n",
       "      <th>title_and_description</th>\n",
       "      <th>sgd_pred_code</th>\n",
       "      <th>sgd_pred_str</th>\n",
       "      <th>client</th>\n",
       "    </tr>\n",
       "  </thead>\n",
       "  <tbody>\n",
       "    <tr>\n",
       "      <th>0</th>\n",
       "      <td>DE-1-201920016-0</td>\n",
       "      <td>DE-1</td>\n",
       "      <td>bmz</td>\n",
       "      <td>Bundesministerium für wirtschaftliche Zusammen...</td>\n",
       "      <td>Strengthening of Metrology for the Improvement...</td>\n",
       "      <td>Stärkung des Messwesens in Ägypten zur Verbess...</td>\n",
       "      <td>Strengthening of Metrology for the Improvement...</td>\n",
       "      <td>['AG']</td>\n",
       "      <td>AG;</td>\n",
       "      <td>Antigua and Barbuda</td>\n",
       "      <td>...</td>\n",
       "      <td>With a rapidly growing population and a promis...</td>\n",
       "      <td>Implementation</td>\n",
       "      <td>14010;</td>\n",
       "      <td>Water sector policy and administrative managem...</td>\n",
       "      <td>140;</td>\n",
       "      <td>Water Supply &amp; Sanitation;</td>\n",
       "      <td>Strengthening of Metrology for the Improvement...</td>\n",
       "      <td>9</td>\n",
       "      <td>8    9. Build resilient infrastructure, promot...</td>\n",
       "      <td>bmz</td>\n",
       "    </tr>\n",
       "  </tbody>\n",
       "</table>\n",
       "<p>1 rows × 23 columns</p>\n",
       "</div>"
      ],
      "text/plain": [
       "            iati_id iati_orga_id orga_abbreviation  \\\n",
       "0  DE-1-201920016-0         DE-1               bmz   \n",
       "\n",
       "                                      orga_full_name  \\\n",
       "0  Bundesministerium für wirtschaftliche Zusammen...   \n",
       "\n",
       "                                            title_en  \\\n",
       "0  Strengthening of Metrology for the Improvement...   \n",
       "\n",
       "                                         title_other  \\\n",
       "0  Stärkung des Messwesens in Ägypten zur Verbess...   \n",
       "\n",
       "                                          title_main country_code_list  \\\n",
       "0  Strengthening of Metrology for the Improvement...            ['AG']   \n",
       "\n",
       "  country         country_name  ...  \\\n",
       "0    AG;   Antigua and Barbuda  ...   \n",
       "\n",
       "                                    description_main          status  \\\n",
       "0  With a rapidly growing population and a promis...  Implementation   \n",
       "\n",
       "  crs_5_code                                         crs_5_name crs_3_code  \\\n",
       "0    14010;   Water sector policy and administrative managem...      140;    \n",
       "\n",
       "                    crs_3_name  \\\n",
       "0  Water Supply & Sanitation;    \n",
       "\n",
       "                               title_and_description sgd_pred_code  \\\n",
       "0  Strengthening of Metrology for the Improvement...             9   \n",
       "\n",
       "                                        sgd_pred_str client  \n",
       "0  8    9. Build resilient infrastructure, promot...    bmz  \n",
       "\n",
       "[1 rows x 23 columns]"
      ]
     },
     "execution_count": 5,
     "metadata": {},
     "output_type": "execute_result"
    }
   ],
   "source": [
    "df.head(1)"
   ]
  },
  {
   "cell_type": "markdown",
   "metadata": {},
   "source": [
    "## **Embeddings**"
   ]
  },
  {
   "cell_type": "markdown",
   "metadata": {},
   "source": [
    "### calculate embeddings (last run: 31:23 min)"
   ]
  },
  {
   "cell_type": "code",
   "execution_count": 8,
   "metadata": {},
   "outputs": [],
   "source": [
    "# for test purposes select just 100 random samples\n",
    "#test_df = df.sample(10000)"
   ]
  },
  {
   "cell_type": "code",
   "execution_count": 4,
   "metadata": {},
   "outputs": [],
   "source": [
    "sentences = df['title_and_description'].tolist()"
   ]
  },
  {
   "cell_type": "code",
   "execution_count": 5,
   "metadata": {},
   "outputs": [
    {
     "data": {
      "application/vnd.jupyter.widget-view+json": {
       "model_id": "3f376456e40148d29fb1951ba8af9f0d",
       "version_major": 2,
       "version_minor": 0
      },
      "text/plain": [
       "Batches:   0%|          | 0/1112 [00:00<?, ?it/s]"
      ]
     },
     "metadata": {},
     "output_type": "display_data"
    }
   ],
   "source": [
    "embeddings = model.encode(sentences, show_progress_bar=True)"
   ]
  },
  {
   "cell_type": "code",
   "execution_count": 11,
   "metadata": {},
   "outputs": [
    {
     "data": {
      "text/plain": [
       "array([[-0.05611133, -0.02287832, -0.01245939, ..., -0.01833626,\n",
       "         0.01593846,  0.00362427],\n",
       "       [ 0.01444224, -0.0499334 , -0.00599655, ..., -0.02526089,\n",
       "         0.00581959, -0.06996275],\n",
       "       [-0.04930571, -0.02229353, -0.01424212, ..., -0.05813498,\n",
       "         0.05638228,  0.01333214],\n",
       "       ...,\n",
       "       [-0.01351141,  0.08917006,  0.02691877, ...,  0.07068525,\n",
       "        -0.01035911, -0.02006389],\n",
       "       [ 0.01089143,  0.04269382,  0.06354749, ..., -0.01490738,\n",
       "        -0.0214653 ,  0.0100944 ],\n",
       "       [ 0.00055788,  0.07568505,  0.01871078, ..., -0.10134395,\n",
       "        -0.08061433, -0.03309683]], dtype=float32)"
      ]
     },
     "execution_count": 11,
     "metadata": {},
     "output_type": "execute_result"
    }
   ],
   "source": [
    "embeddings"
   ]
  },
  {
   "cell_type": "markdown",
   "metadata": {},
   "source": [
    "### save embeddings as pickle"
   ]
  },
  {
   "cell_type": "code",
   "execution_count": 12,
   "metadata": {},
   "outputs": [],
   "source": [
    "with open(\"../../src/transformer/embeddings.pkl\", \"wb\") as fOut:\n",
    "    pickle.dump({\"sentences\": sentences, \"embeddings\": embeddings}, fOut, protocol=pickle.HIGHEST_PROTOCOL)"
   ]
  },
  {
   "cell_type": "markdown",
   "metadata": {},
   "source": [
    "### load embeddings from local storage if needed"
   ]
  },
  {
   "cell_type": "code",
   "execution_count": 13,
   "metadata": {},
   "outputs": [],
   "source": [
    "with open(\"../../src/transformer/embeddings.pkl\", \"rb\") as fIn:\n",
    "    stored_data = pickle.load(fIn)\n",
    "    sentences = stored_data[\"sentences\"]\n",
    "    embeddings = stored_data[\"embeddings\"]"
   ]
  },
  {
   "cell_type": "code",
   "execution_count": 14,
   "metadata": {},
   "outputs": [
    {
     "data": {
      "text/plain": [
       "array([[-0.05611133, -0.02287832, -0.01245939, ..., -0.01833626,\n",
       "         0.01593846,  0.00362427],\n",
       "       [ 0.01444224, -0.0499334 , -0.00599655, ..., -0.02526089,\n",
       "         0.00581959, -0.06996275],\n",
       "       [-0.04930571, -0.02229353, -0.01424212, ..., -0.05813498,\n",
       "         0.05638228,  0.01333214],\n",
       "       ...,\n",
       "       [-0.01351141,  0.08917006,  0.02691877, ...,  0.07068525,\n",
       "        -0.01035911, -0.02006389],\n",
       "       [ 0.01089143,  0.04269382,  0.06354749, ..., -0.01490738,\n",
       "        -0.0214653 ,  0.0100944 ],\n",
       "       [ 0.00055788,  0.07568505,  0.01871078, ..., -0.10134395,\n",
       "        -0.08061433, -0.03309683]], dtype=float32)"
      ]
     },
     "execution_count": 14,
     "metadata": {},
     "output_type": "execute_result"
    }
   ],
   "source": [
    "embeddings"
   ]
  },
  {
   "cell_type": "markdown",
   "metadata": {},
   "source": [
    "## **Cosine Similarity**"
   ]
  },
  {
   "cell_type": "markdown",
   "metadata": {},
   "source": [
    "### calculate similarity matrix"
   ]
  },
  {
   "cell_type": "code",
   "execution_count": 15,
   "metadata": {},
   "outputs": [],
   "source": [
    "similarity_matrix = util.cos_sim(embeddings, embeddings)"
   ]
  },
  {
   "cell_type": "code",
   "execution_count": 16,
   "metadata": {},
   "outputs": [
    {
     "data": {
      "text/plain": [
       "torch.Size([35575, 35575])"
      ]
     },
     "execution_count": 16,
     "metadata": {},
     "output_type": "execute_result"
    }
   ],
   "source": [
    "similarity_matrix.shape"
   ]
  },
  {
   "cell_type": "markdown",
   "metadata": {},
   "source": [
    "### create sparse matrix"
   ]
  },
  {
   "cell_type": "code",
   "execution_count": 17,
   "metadata": {},
   "outputs": [
    {
     "data": {
      "text/plain": [
       "0"
      ]
     },
     "execution_count": 17,
     "metadata": {},
     "output_type": "execute_result"
    }
   ],
   "source": [
    "# collect garbage variables and delete to clear memory\n",
    "del embeddings\n",
    "gc.collect()"
   ]
  },
  {
   "cell_type": "code",
   "execution_count": 18,
   "metadata": {},
   "outputs": [],
   "source": [
    "threshold = 0.35\n",
    "mask = similarity_matrix > threshold"
   ]
  },
  {
   "cell_type": "code",
   "execution_count": 19,
   "metadata": {},
   "outputs": [],
   "source": [
    "sparse_matrix = sps.coo_matrix(similarity_matrix.numpy() * mask.numpy())"
   ]
  },
  {
   "cell_type": "markdown",
   "metadata": {},
   "source": [
    "### save matrix"
   ]
  },
  {
   "cell_type": "code",
   "execution_count": 20,
   "metadata": {},
   "outputs": [],
   "source": [
    "save_npz(\"../../src/similarities.npz\", sparse_matrix)"
   ]
  },
  {
   "cell_type": "markdown",
   "metadata": {},
   "source": [
    "### load matrix"
   ]
  },
  {
   "cell_type": "code",
   "execution_count": 21,
   "metadata": {},
   "outputs": [],
   "source": [
    "loaded_sparse_matrix = load_npz(\"../../src/similarities.npz\")"
   ]
  },
  {
   "cell_type": "code",
   "execution_count": 22,
   "metadata": {},
   "outputs": [
    {
     "name": "stdout",
     "output_type": "stream",
     "text": [
      "  (0, 0)\t1.0\n",
      "  (0, 1)\t0.40987324714660645\n",
      "  (0, 9)\t0.4692996144294739\n",
      "  (0, 87)\t0.4334986209869385\n",
      "  (0, 212)\t0.5124557614326477\n",
      "  (0, 580)\t0.5096009969711304\n",
      "  (0, 655)\t0.5890508890151978\n",
      "  (0, 773)\t0.47568202018737793\n",
      "  (0, 782)\t0.4000920057296753\n",
      "  (0, 985)\t0.5248297452926636\n",
      "  (0, 1366)\t0.4316326379776001\n",
      "  (0, 1411)\t0.45594102144241333\n",
      "  (0, 1445)\t0.40196606516838074\n",
      "  (0, 1447)\t0.42272526025772095\n",
      "  (0, 1676)\t0.49519771337509155\n",
      "  (0, 1851)\t0.4958919882774353\n",
      "  (0, 1916)\t0.4569401741027832\n",
      "  (0, 1957)\t0.4001171588897705\n",
      "  (0, 2489)\t0.5611311197280884\n",
      "  (0, 2814)\t0.41348257660865784\n",
      "  (0, 2889)\t0.4781516492366791\n",
      "  (0, 3654)\t0.5267900228500366\n",
      "  (0, 3914)\t0.409831166267395\n",
      "  (0, 4046)\t0.4335138201713562\n",
      "  (0, 4140)\t0.4178239405155182\n",
      "  :\t:\n",
      "  (35574, 35451)\t0.4346131682395935\n",
      "  (35574, 35453)\t0.5107957124710083\n",
      "  (35574, 35454)\t0.47138547897338867\n",
      "  (35574, 35460)\t0.5328255295753479\n",
      "  (35574, 35461)\t0.4587545096874237\n",
      "  (35574, 35463)\t0.49336934089660645\n",
      "  (35574, 35467)\t0.5345877408981323\n",
      "  (35574, 35477)\t0.4288131296634674\n",
      "  (35574, 35487)\t0.6100449562072754\n",
      "  (35574, 35493)\t0.40366220474243164\n",
      "  (35574, 35501)\t0.5686572790145874\n",
      "  (35574, 35502)\t0.4379270672798157\n",
      "  (35574, 35504)\t0.49990981817245483\n",
      "  (35574, 35505)\t0.4588901400566101\n",
      "  (35574, 35526)\t0.4582052528858185\n",
      "  (35574, 35533)\t0.4999973773956299\n",
      "  (35574, 35538)\t0.4002563953399658\n",
      "  (35574, 35542)\t0.5258971452713013\n",
      "  (35574, 35547)\t0.40738093852996826\n",
      "  (35574, 35551)\t0.4920516610145569\n",
      "  (35574, 35567)\t0.6037911772727966\n",
      "  (35574, 35568)\t0.4332926869392395\n",
      "  (35574, 35570)\t0.40803834795951843\n",
      "  (35574, 35571)\t0.44223374128341675\n",
      "  (35574, 35574)\t1.0000001192092896\n"
     ]
    }
   ],
   "source": [
    "print(loaded_sparse_matrix)"
   ]
  },
  {
   "cell_type": "code",
   "execution_count": 23,
   "metadata": {},
   "outputs": [
    {
     "data": {
      "text/plain": [
       "array([[1.        , 0.40987325, 0.        , ..., 0.        , 0.        ,\n",
       "        0.        ],\n",
       "       [0.40987325, 1.0000002 , 0.607293  , ..., 0.        , 0.        ,\n",
       "        0.        ],\n",
       "       [0.        , 0.607293  , 1.0000001 , ..., 0.        , 0.        ,\n",
       "        0.        ],\n",
       "       ...,\n",
       "       [0.        , 0.        , 0.        , ..., 1.        , 0.56515884,\n",
       "        0.        ],\n",
       "       [0.        , 0.        , 0.        , ..., 0.56515884, 1.        ,\n",
       "        0.        ],\n",
       "       [0.        , 0.        , 0.        , ..., 0.        , 0.        ,\n",
       "        1.0000001 ]], dtype=float32)"
      ]
     },
     "execution_count": 23,
     "metadata": {},
     "output_type": "execute_result"
    }
   ],
   "source": [
    "dense_matrix = loaded_sparse_matrix.toarray()\n",
    "dense_matrix"
   ]
  }
 ],
 "metadata": {
  "kernelspec": {
   "display_name": "pamb",
   "language": "python",
   "name": "python3"
  },
  "language_info": {
   "codemirror_mode": {
    "name": "ipython",
    "version": 3
   },
   "file_extension": ".py",
   "mimetype": "text/x-python",
   "name": "python",
   "nbconvert_exporter": "python",
   "pygments_lexer": "ipython3",
   "version": "3.10.14"
  }
 },
 "nbformat": 4,
 "nbformat_minor": 2
}
