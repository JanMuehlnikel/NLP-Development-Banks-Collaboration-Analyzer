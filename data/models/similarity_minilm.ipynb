{
 "cells": [
  {
   "cell_type": "markdown",
   "metadata": {},
   "source": [
    "# **MiniLM Similarity Model**"
   ]
  },
  {
   "cell_type": "markdown",
   "metadata": {},
   "source": [
    "## **Dependecies**"
   ]
  },
  {
   "cell_type": "code",
   "execution_count": 3,
   "metadata": {},
   "outputs": [],
   "source": [
    "import pandas as pd\n",
    "from sentence_transformers import SentenceTransformer, util\n",
    "import pickle\n",
    "import numpy as np\n",
    "import scipy.sparse as sps\n",
    "from scipy.sparse import save_npz\n",
    "import gc\n",
    "from scipy.sparse import load_npz\n"
   ]
  },
  {
   "cell_type": "markdown",
   "metadata": {},
   "source": [
    "## **Load Model**\n",
    "\n",
    "MiniLM was specifically designed to maintain the performance of the large language models while reducing the model dimensions and thus the required computational resources. This is achieved through various techniques such as knowledge distillation, where a smaller model (the \"student\") is trained to mimic the behaviour of a larger, pre-trained model (the \"teacher\").\n",
    "\n",
    "https://huggingface.co/sentence-transformers/all-MiniLM-L6-v2"
   ]
  },
  {
   "cell_type": "markdown",
   "metadata": {},
   "source": [
    "### Load all-MiniLM Model"
   ]
  },
  {
   "cell_type": "code",
   "execution_count": 2,
   "metadata": {},
   "outputs": [],
   "source": [
    "model = SentenceTransformer('all-MiniLM-L6-v2')"
   ]
  },
  {
   "cell_type": "markdown",
   "metadata": {},
   "source": [
    "## **Read Data**"
   ]
  },
  {
   "cell_type": "markdown",
   "metadata": {},
   "source": [
    "### Load csv"
   ]
  },
  {
   "cell_type": "code",
   "execution_count": 3,
   "metadata": {},
   "outputs": [
    {
     "name": "stdout",
     "output_type": "stream",
     "text": [
      "<class 'pandas.core.frame.DataFrame'>\n",
      "RangeIndex: 34523 entries, 0 to 34522\n",
      "Data columns (total 31 columns):\n",
      " #   Column                 Non-Null Count  Dtype \n",
      "---  ------                 --------------  ----- \n",
      " 0   Unnamed: 0             34523 non-null  int64 \n",
      " 1   iati_id                34523 non-null  object\n",
      " 2   iati_orga_id           34523 non-null  object\n",
      " 3   orga_abbreviation      34523 non-null  object\n",
      " 4   orga_full_name         34523 non-null  object\n",
      " 5   client                 34523 non-null  object\n",
      " 6   title_en               34083 non-null  object\n",
      " 7   title_other            26056 non-null  object\n",
      " 8   title_main             34523 non-null  object\n",
      " 9   organization           34523 non-null  object\n",
      " 10  country_code           28454 non-null  object\n",
      " 11  country                28454 non-null  object\n",
      " 12  region                 6079 non-null   object\n",
      " 13  location               21264 non-null  object\n",
      " 14  description_en         33449 non-null  object\n",
      " 15  description_other      25998 non-null  object\n",
      " 16  description_main       34430 non-null  object\n",
      " 17  status                 34523 non-null  object\n",
      " 18  planned_start          33849 non-null  object\n",
      " 19  actual_start           30846 non-null  object\n",
      " 20  planned_end            34523 non-null  object\n",
      " 21  actual_end             30846 non-null  object\n",
      " 22  last_update            34523 non-null  object\n",
      " 23  crs_5_code             33289 non-null  object\n",
      " 24  crs_5_name             33289 non-null  object\n",
      " 25  crs_3_code             33289 non-null  object\n",
      " 26  crs_3_name             33289 non-null  object\n",
      " 27  docs                   24726 non-null  object\n",
      " 28  title_and_description  34523 non-null  object\n",
      " 29  sgd_pred_code          34523 non-null  int64 \n",
      " 30  sgd_pred_str           34523 non-null  object\n",
      "dtypes: int64(2), object(29)\n",
      "memory usage: 8.2+ MB\n"
     ]
    },
    {
     "name": "stderr",
     "output_type": "stream",
     "text": [
      "C:\\Users\\UserNA6153\\AppData\\Local\\Temp\\ipykernel_9968\\4283288801.py:1: DtypeWarning: Columns (19,21,27) have mixed types. Specify dtype option on import or set low_memory=False.\n",
      "  df =pd.read_csv(\"../../src/non_closed.csv\")\n"
     ]
    }
   ],
   "source": [
    "df =pd.read_csv(\"../../src/non_closed.csv\")\n",
    "df.info()"
   ]
  },
  {
   "cell_type": "code",
   "execution_count": 4,
   "metadata": {},
   "outputs": [
    {
     "data": {
      "text/plain": [
       "Index(['Unnamed: 0', 'iati_id', 'iati_orga_id', 'orga_abbreviation',\n",
       "       'orga_full_name', 'client', 'title_en', 'title_other', 'title_main',\n",
       "       'organization', 'country_code', 'country', 'region', 'location',\n",
       "       'description_en', 'description_other', 'description_main', 'status',\n",
       "       'planned_start', 'actual_start', 'planned_end', 'actual_end',\n",
       "       'last_update', 'crs_5_code', 'crs_5_name', 'crs_3_code', 'crs_3_name',\n",
       "       'docs', 'title_and_description', 'sgd_pred_code', 'sgd_pred_str'],\n",
       "      dtype='object')"
      ]
     },
     "execution_count": 4,
     "metadata": {},
     "output_type": "execute_result"
    }
   ],
   "source": [
    "df.columns"
   ]
  },
  {
   "cell_type": "code",
   "execution_count": 5,
   "metadata": {},
   "outputs": [
    {
     "data": {
      "text/html": [
       "<div>\n",
       "<style scoped>\n",
       "    .dataframe tbody tr th:only-of-type {\n",
       "        vertical-align: middle;\n",
       "    }\n",
       "\n",
       "    .dataframe tbody tr th {\n",
       "        vertical-align: top;\n",
       "    }\n",
       "\n",
       "    .dataframe thead th {\n",
       "        text-align: right;\n",
       "    }\n",
       "</style>\n",
       "<table border=\"1\" class=\"dataframe\">\n",
       "  <thead>\n",
       "    <tr style=\"text-align: right;\">\n",
       "      <th></th>\n",
       "      <th>Unnamed: 0</th>\n",
       "      <th>iati_id</th>\n",
       "      <th>iati_orga_id</th>\n",
       "      <th>orga_abbreviation</th>\n",
       "      <th>orga_full_name</th>\n",
       "      <th>client</th>\n",
       "      <th>title_en</th>\n",
       "      <th>title_other</th>\n",
       "      <th>title_main</th>\n",
       "      <th>organization</th>\n",
       "      <th>...</th>\n",
       "      <th>actual_end</th>\n",
       "      <th>last_update</th>\n",
       "      <th>crs_5_code</th>\n",
       "      <th>crs_5_name</th>\n",
       "      <th>crs_3_code</th>\n",
       "      <th>crs_3_name</th>\n",
       "      <th>docs</th>\n",
       "      <th>title_and_description</th>\n",
       "      <th>sgd_pred_code</th>\n",
       "      <th>sgd_pred_str</th>\n",
       "    </tr>\n",
       "  </thead>\n",
       "  <tbody>\n",
       "    <tr>\n",
       "      <th>0</th>\n",
       "      <td>0</td>\n",
       "      <td>DE-1-201420207</td>\n",
       "      <td>DE-1</td>\n",
       "      <td>giz</td>\n",
       "      <td>Deutsche Gesellschaft für Internationale Zusam...</td>\n",
       "      <td>BMZ</td>\n",
       "      <td>Environmental and climate governance</td>\n",
       "      <td>Umwelt- und Klimagovernance</td>\n",
       "      <td>Environmental and climate governance</td>\n",
       "      <td>Bundesministerium für wirtschaftliche Zusammen...</td>\n",
       "      <td>...</td>\n",
       "      <td>2022-06-30T00:00:00Z</td>\n",
       "      <td>2024-02-29T00:00:00Z</td>\n",
       "      <td>41010;</td>\n",
       "      <td>Environmental policy and administrative manage...</td>\n",
       "      <td>410;</td>\n",
       "      <td>General Environment Protection;</td>\n",
       "      <td>['https://www.giz.de/projektdaten/projects.act...</td>\n",
       "      <td>Environmental and climate governance. Public, ...</td>\n",
       "      <td>9</td>\n",
       "      <td>8    Goal 9. Build resilient infrastructure, p...</td>\n",
       "    </tr>\n",
       "  </tbody>\n",
       "</table>\n",
       "<p>1 rows × 31 columns</p>\n",
       "</div>"
      ],
      "text/plain": [
       "   Unnamed: 0         iati_id iati_orga_id orga_abbreviation  \\\n",
       "0           0  DE-1-201420207         DE-1               giz   \n",
       "\n",
       "                                      orga_full_name client  \\\n",
       "0  Deutsche Gesellschaft für Internationale Zusam...    BMZ   \n",
       "\n",
       "                               title_en                  title_other  \\\n",
       "0  Environmental and climate governance  Umwelt- und Klimagovernance   \n",
       "\n",
       "                             title_main  \\\n",
       "0  Environmental and climate governance   \n",
       "\n",
       "                                        organization  ...  \\\n",
       "0  Bundesministerium für wirtschaftliche Zusammen...  ...   \n",
       "\n",
       "             actual_end           last_update crs_5_code  \\\n",
       "0  2022-06-30T00:00:00Z  2024-02-29T00:00:00Z    41010;    \n",
       "\n",
       "                                          crs_5_name crs_3_code  \\\n",
       "0  Environmental policy and administrative manage...      410;    \n",
       "\n",
       "                         crs_3_name  \\\n",
       "0  General Environment Protection;    \n",
       "\n",
       "                                                docs  \\\n",
       "0  ['https://www.giz.de/projektdaten/projects.act...   \n",
       "\n",
       "                               title_and_description sgd_pred_code  \\\n",
       "0  Environmental and climate governance. Public, ...             9   \n",
       "\n",
       "                                        sgd_pred_str  \n",
       "0  8    Goal 9. Build resilient infrastructure, p...  \n",
       "\n",
       "[1 rows x 31 columns]"
      ]
     },
     "execution_count": 5,
     "metadata": {},
     "output_type": "execute_result"
    }
   ],
   "source": [
    "df.head(1)"
   ]
  },
  {
   "cell_type": "markdown",
   "metadata": {},
   "source": [
    "### remove duplicates from df"
   ]
  },
  {
   "cell_type": "code",
   "execution_count": 6,
   "metadata": {},
   "outputs": [
    {
     "data": {
      "text/plain": [
       "34523"
      ]
     },
     "execution_count": 6,
     "metadata": {},
     "output_type": "execute_result"
    }
   ],
   "source": [
    "len(df)"
   ]
  },
  {
   "cell_type": "code",
   "execution_count": 7,
   "metadata": {},
   "outputs": [
    {
     "data": {
      "text/plain": [
       "34523"
      ]
     },
     "execution_count": 7,
     "metadata": {},
     "output_type": "execute_result"
    }
   ],
   "source": [
    "df = df.drop_duplicates(keep=\"first\")\n",
    "len(df)"
   ]
  },
  {
   "cell_type": "markdown",
   "metadata": {},
   "source": [
    "## **Embeddings**"
   ]
  },
  {
   "cell_type": "markdown",
   "metadata": {},
   "source": [
    "### calculate embeddings (last run: 31:23 min)"
   ]
  },
  {
   "cell_type": "code",
   "execution_count": 8,
   "metadata": {},
   "outputs": [],
   "source": [
    "# for test purposes select just 100 random samples\n",
    "#test_df = df.sample(10000)"
   ]
  },
  {
   "cell_type": "code",
   "execution_count": 9,
   "metadata": {},
   "outputs": [],
   "source": [
    "sentences = df['title_and_description'].tolist()"
   ]
  },
  {
   "cell_type": "code",
   "execution_count": 10,
   "metadata": {},
   "outputs": [
    {
     "data": {
      "application/vnd.jupyter.widget-view+json": {
       "model_id": "2d55e992bbf54c8fa0633e5867071651",
       "version_major": 2,
       "version_minor": 0
      },
      "text/plain": [
       "Batches:   0%|          | 0/1079 [00:00<?, ?it/s]"
      ]
     },
     "metadata": {},
     "output_type": "display_data"
    }
   ],
   "source": [
    "embeddings = model.encode(sentences, show_progress_bar=True)"
   ]
  },
  {
   "cell_type": "code",
   "execution_count": 11,
   "metadata": {},
   "outputs": [
    {
     "data": {
      "text/plain": [
       "array([[ 0.04446795,  0.06397948, -0.00366975, ...,  0.04417085,\n",
       "        -0.01882802,  0.0103603 ],\n",
       "       [ 0.08771117,  0.05170955,  0.05286624, ...,  0.10659182,\n",
       "        -0.01310572,  0.10529935],\n",
       "       [ 0.00639981,  0.05616608, -0.04642351, ...,  0.05253979,\n",
       "         0.03234456, -0.01128971],\n",
       "       ...,\n",
       "       [ 0.05137816,  0.08635731,  0.04291049, ...,  0.02325561,\n",
       "         0.00975689,  0.04211039],\n",
       "       [ 0.06849658,  0.06803955, -0.02111158, ..., -0.02403513,\n",
       "        -0.02469418, -0.0532915 ],\n",
       "       [-0.04827396,  0.01469501,  0.03287731, ...,  0.03966878,\n",
       "         0.02058095,  0.07663082]], dtype=float32)"
      ]
     },
     "execution_count": 11,
     "metadata": {},
     "output_type": "execute_result"
    }
   ],
   "source": [
    "embeddings"
   ]
  },
  {
   "cell_type": "markdown",
   "metadata": {},
   "source": [
    "### save embeddings as pickle"
   ]
  },
  {
   "cell_type": "code",
   "execution_count": 12,
   "metadata": {},
   "outputs": [],
   "source": [
    "with open(\"../../src/transformer/non_closed_embeddings.pkl\", \"wb\") as fOut:\n",
    "    pickle.dump({\"sentences\": sentences, \"embeddings\": embeddings}, fOut, protocol=pickle.HIGHEST_PROTOCOL)"
   ]
  },
  {
   "cell_type": "markdown",
   "metadata": {},
   "source": [
    "### load embeddings from local storage if needed"
   ]
  },
  {
   "cell_type": "code",
   "execution_count": 13,
   "metadata": {},
   "outputs": [],
   "source": [
    "with open(\"../../src/transformer/non_closed_embeddings.pkl\", \"rb\") as fIn:\n",
    "    stored_data = pickle.load(fIn)\n",
    "    sentences = stored_data[\"sentences\"]\n",
    "    embeddings = stored_data[\"embeddings\"]"
   ]
  },
  {
   "cell_type": "code",
   "execution_count": 4,
   "metadata": {},
   "outputs": [
    {
     "data": {
      "text/plain": [
       "array([[ 0.04446795,  0.06397948, -0.00366975, ...,  0.04417085,\n",
       "        -0.01882802,  0.0103603 ],\n",
       "       [ 0.08771117,  0.05170955,  0.05286624, ...,  0.10659182,\n",
       "        -0.01310572,  0.10529935],\n",
       "       [ 0.00639981,  0.05616608, -0.04642351, ...,  0.05253979,\n",
       "         0.03234456, -0.01128971],\n",
       "       ...,\n",
       "       [ 0.05137816,  0.08635731,  0.04291049, ...,  0.02325561,\n",
       "         0.00975689,  0.04211039],\n",
       "       [ 0.06849658,  0.06803955, -0.02111158, ..., -0.02403513,\n",
       "        -0.02469418, -0.0532915 ],\n",
       "       [-0.04827396,  0.01469501,  0.03287731, ...,  0.03966878,\n",
       "         0.02058095,  0.07663082]], dtype=float32)"
      ]
     },
     "execution_count": 4,
     "metadata": {},
     "output_type": "execute_result"
    }
   ],
   "source": [
    "embeddings"
   ]
  },
  {
   "cell_type": "markdown",
   "metadata": {},
   "source": [
    "## **Cosine Similarity**"
   ]
  },
  {
   "cell_type": "markdown",
   "metadata": {},
   "source": [
    "### calculate similarity matrix"
   ]
  },
  {
   "cell_type": "code",
   "execution_count": 14,
   "metadata": {},
   "outputs": [],
   "source": [
    "similarity_matrix = util.cos_sim(embeddings, embeddings)"
   ]
  },
  {
   "cell_type": "code",
   "execution_count": 6,
   "metadata": {},
   "outputs": [
    {
     "data": {
      "text/plain": [
       "torch.Size([34523, 34523])"
      ]
     },
     "execution_count": 6,
     "metadata": {},
     "output_type": "execute_result"
    }
   ],
   "source": [
    "similarity_matrix.shape"
   ]
  },
  {
   "cell_type": "markdown",
   "metadata": {},
   "source": [
    "### create sparse matrix"
   ]
  },
  {
   "cell_type": "code",
   "execution_count": 15,
   "metadata": {},
   "outputs": [
    {
     "data": {
      "text/plain": [
       "1006"
      ]
     },
     "execution_count": 15,
     "metadata": {},
     "output_type": "execute_result"
    }
   ],
   "source": [
    "# collect garbage variables and delete to clear memory\n",
    "gc.collect()"
   ]
  },
  {
   "cell_type": "code",
   "execution_count": 27,
   "metadata": {},
   "outputs": [],
   "source": [
    "threshold = 0.47\n",
    "mask = similarity_matrix > threshold"
   ]
  },
  {
   "cell_type": "code",
   "execution_count": 28,
   "metadata": {},
   "outputs": [],
   "source": [
    "sparse_matrix = sps.coo_matrix(similarity_matrix.numpy() * mask.numpy())"
   ]
  },
  {
   "cell_type": "markdown",
   "metadata": {},
   "source": [
    "### save matrix"
   ]
  },
  {
   "cell_type": "code",
   "execution_count": 29,
   "metadata": {},
   "outputs": [],
   "source": [
    "save_npz(\"../../app/src/similarities.npz\", sparse_matrix)"
   ]
  },
  {
   "cell_type": "markdown",
   "metadata": {},
   "source": [
    "### load matrix"
   ]
  },
  {
   "cell_type": "code",
   "execution_count": 18,
   "metadata": {},
   "outputs": [],
   "source": [
    "loaded_sparse_matrix = load_npz(\"../../app/src/similarities.npz\")"
   ]
  },
  {
   "cell_type": "code",
   "execution_count": 19,
   "metadata": {},
   "outputs": [
    {
     "name": "stdout",
     "output_type": "stream",
     "text": [
      "  (0, 0)\t1.0\n",
      "  (0, 36)\t0.4761685\n",
      "  (0, 51)\t0.51603603\n",
      "  (0, 70)\t0.45514828\n",
      "  (0, 104)\t0.45296735\n",
      "  (0, 115)\t0.45514226\n",
      "  (0, 123)\t0.41041362\n",
      "  (0, 134)\t0.41039714\n",
      "  (0, 143)\t0.53401893\n",
      "  (0, 144)\t0.414064\n",
      "  (0, 198)\t0.4214546\n",
      "  (0, 204)\t0.41871434\n",
      "  (0, 215)\t0.58279383\n",
      "  (0, 223)\t0.4570006\n",
      "  (0, 224)\t0.49696803\n",
      "  (0, 244)\t0.42374802\n",
      "  (0, 257)\t0.41315815\n",
      "  (0, 278)\t0.4374295\n",
      "  (0, 287)\t0.41041365\n",
      "  (0, 291)\t0.41458076\n",
      "  (0, 322)\t0.45986035\n",
      "  (0, 406)\t0.4420184\n",
      "  (0, 414)\t0.41622907\n",
      "  (0, 419)\t0.43624574\n",
      "  (0, 424)\t0.52522236\n",
      "  :\t:\n",
      "  (34522, 32383)\t0.40193433\n",
      "  (34522, 32538)\t0.46140018\n",
      "  (34522, 32799)\t0.40708384\n",
      "  (34522, 32850)\t0.4127875\n",
      "  (34522, 32871)\t0.42146295\n",
      "  (34522, 32899)\t0.45997784\n",
      "  (34522, 32964)\t0.49078763\n",
      "  (34522, 32968)\t0.40979627\n",
      "  (34522, 32974)\t0.40607744\n",
      "  (34522, 33004)\t0.4160214\n",
      "  (34522, 33062)\t0.4076392\n",
      "  (34522, 33111)\t0.4019813\n",
      "  (34522, 33133)\t0.46026075\n",
      "  (34522, 33197)\t0.4334693\n",
      "  (34522, 33312)\t0.4359737\n",
      "  (34522, 33331)\t0.4110967\n",
      "  (34522, 33530)\t0.41362658\n",
      "  (34522, 33731)\t0.48291168\n",
      "  (34522, 33841)\t0.4304248\n",
      "  (34522, 34064)\t0.4672867\n",
      "  (34522, 34422)\t0.419137\n",
      "  (34522, 34433)\t0.49534047\n",
      "  (34522, 34494)\t0.42799616\n",
      "  (34522, 34511)\t0.4063967\n",
      "  (34522, 34522)\t1.0000002\n"
     ]
    }
   ],
   "source": [
    "print(loaded_sparse_matrix)"
   ]
  },
  {
   "cell_type": "code",
   "execution_count": 6,
   "metadata": {},
   "outputs": [
    {
     "data": {
      "text/plain": [
       "array([[1.        , 0.        , 0.        , ..., 0.        , 0.        ,\n",
       "        0.        ],\n",
       "       [0.        , 1.        , 0.        , ..., 0.45697343, 0.        ,\n",
       "        0.        ],\n",
       "       [0.        , 0.        , 1.0000002 , ..., 0.        , 0.        ,\n",
       "        0.        ],\n",
       "       ...,\n",
       "       [0.        , 0.45697355, 0.        , ..., 1.0000001 , 0.        ,\n",
       "        0.        ],\n",
       "       [0.        , 0.        , 0.        , ..., 0.        , 1.        ,\n",
       "        0.        ],\n",
       "       [0.        , 0.        , 0.        , ..., 0.        , 0.        ,\n",
       "        1.0000002 ]], dtype=float32)"
      ]
     },
     "execution_count": 6,
     "metadata": {},
     "output_type": "execute_result"
    }
   ],
   "source": [
    "dense_matrix = loaded_sparse_matrix.toarray()\n",
    "dense_matrix"
   ]
  }
 ],
 "metadata": {
  "kernelspec": {
   "display_name": "pamb",
   "language": "python",
   "name": "python3"
  },
  "language_info": {
   "codemirror_mode": {
    "name": "ipython",
    "version": 3
   },
   "file_extension": ".py",
   "mimetype": "text/x-python",
   "name": "python",
   "nbconvert_exporter": "python",
   "pygments_lexer": "ipython3",
   "version": "3.10.13"
  }
 },
 "nbformat": 4,
 "nbformat_minor": 2
}
