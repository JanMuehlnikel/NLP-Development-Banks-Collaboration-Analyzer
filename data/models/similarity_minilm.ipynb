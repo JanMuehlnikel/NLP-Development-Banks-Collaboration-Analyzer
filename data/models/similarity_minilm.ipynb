{
 "cells": [
  {
   "cell_type": "markdown",
   "metadata": {},
   "source": [
    "# **MiniLM Similarity Model**"
   ]
  },
  {
   "cell_type": "markdown",
   "metadata": {},
   "source": [
    "## **Dependecies**"
   ]
  },
  {
   "cell_type": "code",
   "execution_count": 2,
   "metadata": {},
   "outputs": [],
   "source": [
    "import pandas as pd\n",
    "from sentence_transformers import SentenceTransformer, util\n",
    "import pickle\n",
    "import numpy as np\n",
    "import scipy.sparse as sps\n",
    "from scipy.sparse import save_npz\n",
    "import gc\n",
    "from scipy.sparse import load_npz\n"
   ]
  },
  {
   "cell_type": "markdown",
   "metadata": {},
   "source": [
    "## **Load Model**\n",
    "\n",
    "MiniLM was specifically designed to maintain the performance of the large language models while reducing the model dimensions and thus the required computational resources. This is achieved through various techniques such as knowledge distillation, where a smaller model (the \"student\") is trained to mimic the behaviour of a larger, pre-trained model (the \"teacher\").\n",
    "\n",
    "https://huggingface.co/sentence-transformers/all-MiniLM-L6-v2"
   ]
  },
  {
   "cell_type": "markdown",
   "metadata": {},
   "source": [
    "### Load all-MiniLM Model"
   ]
  },
  {
   "cell_type": "code",
   "execution_count": 4,
   "metadata": {},
   "outputs": [],
   "source": [
    "model = SentenceTransformer('all-MiniLM-L6-v2')"
   ]
  },
  {
   "cell_type": "markdown",
   "metadata": {},
   "source": [
    "## **Read Data**"
   ]
  },
  {
   "cell_type": "markdown",
   "metadata": {},
   "source": [
    "### Load csv"
   ]
  },
  {
   "cell_type": "code",
   "execution_count": 5,
   "metadata": {},
   "outputs": [
    {
     "name": "stdout",
     "output_type": "stream",
     "text": [
      "<class 'pandas.core.frame.DataFrame'>\n",
      "RangeIndex: 31700 entries, 0 to 31699\n",
      "Data columns (total 30 columns):\n",
      " #   Column                 Non-Null Count  Dtype \n",
      "---  ------                 --------------  ----- \n",
      " 0   iati_id                31700 non-null  object\n",
      " 1   iati_orga_id           31700 non-null  object\n",
      " 2   orga_abbreviation      31700 non-null  object\n",
      " 3   orga_full_name         31700 non-null  object\n",
      " 4   client                 31700 non-null  object\n",
      " 5   title_en               31326 non-null  object\n",
      " 6   title_other            23675 non-null  object\n",
      " 7   title_main             31700 non-null  object\n",
      " 8   organization           31700 non-null  object\n",
      " 9   country_code           26589 non-null  object\n",
      " 10  country                26589 non-null  object\n",
      " 11  region                 5117 non-null   object\n",
      " 12  location               19454 non-null  object\n",
      " 13  description_en         30676 non-null  object\n",
      " 14  description_other      23578 non-null  object\n",
      " 15  description_main       31613 non-null  object\n",
      " 16  status                 31700 non-null  object\n",
      " 17  planned_start          31025 non-null  object\n",
      " 18  actual_start           28513 non-null  object\n",
      " 19  planned_end            31700 non-null  object\n",
      " 20  actual_end             28513 non-null  object\n",
      " 21  last_update            31700 non-null  object\n",
      " 22  crs_5_code             30493 non-null  object\n",
      " 23  crs_5_name             30493 non-null  object\n",
      " 24  crs_3_code             30493 non-null  object\n",
      " 25  crs_3_name             30493 non-null  object\n",
      " 26  docs                   22792 non-null  object\n",
      " 27  title_and_description  31700 non-null  object\n",
      " 28  sgd_pred_code          31700 non-null  int64 \n",
      " 29  sgd_pred_str           31700 non-null  object\n",
      "dtypes: int64(1), object(29)\n",
      "memory usage: 7.3+ MB\n"
     ]
    }
   ],
   "source": [
    "df = pd.read_csv(\"../../src/merged_orgas.csv\")\n",
    "df.info()"
   ]
  },
  {
   "cell_type": "code",
   "execution_count": 6,
   "metadata": {},
   "outputs": [
    {
     "data": {
      "text/plain": [
       "Index(['iati_id', 'iati_orga_id', 'orga_abbreviation', 'orga_full_name',\n",
       "       'client', 'title_en', 'title_other', 'title_main', 'organization',\n",
       "       'country_code', 'country', 'region', 'location', 'description_en',\n",
       "       'description_other', 'description_main', 'status', 'planned_start',\n",
       "       'actual_start', 'planned_end', 'actual_end', 'last_update',\n",
       "       'crs_5_code', 'crs_5_name', 'crs_3_code', 'crs_3_name', 'docs',\n",
       "       'title_and_description', 'sgd_pred_code', 'sgd_pred_str'],\n",
       "      dtype='object')"
      ]
     },
     "execution_count": 6,
     "metadata": {},
     "output_type": "execute_result"
    }
   ],
   "source": [
    "df.columns"
   ]
  },
  {
   "cell_type": "code",
   "execution_count": 7,
   "metadata": {},
   "outputs": [
    {
     "data": {
      "text/html": [
       "<div>\n",
       "<style scoped>\n",
       "    .dataframe tbody tr th:only-of-type {\n",
       "        vertical-align: middle;\n",
       "    }\n",
       "\n",
       "    .dataframe tbody tr th {\n",
       "        vertical-align: top;\n",
       "    }\n",
       "\n",
       "    .dataframe thead th {\n",
       "        text-align: right;\n",
       "    }\n",
       "</style>\n",
       "<table border=\"1\" class=\"dataframe\">\n",
       "  <thead>\n",
       "    <tr style=\"text-align: right;\">\n",
       "      <th></th>\n",
       "      <th>iati_id</th>\n",
       "      <th>iati_orga_id</th>\n",
       "      <th>orga_abbreviation</th>\n",
       "      <th>orga_full_name</th>\n",
       "      <th>client</th>\n",
       "      <th>title_en</th>\n",
       "      <th>title_other</th>\n",
       "      <th>title_main</th>\n",
       "      <th>organization</th>\n",
       "      <th>country_code</th>\n",
       "      <th>...</th>\n",
       "      <th>actual_end</th>\n",
       "      <th>last_update</th>\n",
       "      <th>crs_5_code</th>\n",
       "      <th>crs_5_name</th>\n",
       "      <th>crs_3_code</th>\n",
       "      <th>crs_3_name</th>\n",
       "      <th>docs</th>\n",
       "      <th>title_and_description</th>\n",
       "      <th>sgd_pred_code</th>\n",
       "      <th>sgd_pred_str</th>\n",
       "    </tr>\n",
       "  </thead>\n",
       "  <tbody>\n",
       "    <tr>\n",
       "      <th>0</th>\n",
       "      <td>DE-1-201401124-0</td>\n",
       "      <td>DE-1</td>\n",
       "      <td>bmz</td>\n",
       "      <td>Bundesministerium für wirtschaftliche Zusammen...</td>\n",
       "      <td>BMZ</td>\n",
       "      <td>Kenia Protected Relief and Recovery Programme ...</td>\n",
       "      <td>Kenia Protected Relief and Recovery Programme ...</td>\n",
       "      <td>Kenia Protected Relief and Recovery Programme ...</td>\n",
       "      <td>Bundesministerium für wirtschaftliche Zusammen...</td>\n",
       "      <td>['KE']</td>\n",
       "      <td>...</td>\n",
       "      <td>2019-02-15T00:00:00Z</td>\n",
       "      <td>2024-03-06T00:00:00Z</td>\n",
       "      <td>52010;</td>\n",
       "      <td>Food assistance;</td>\n",
       "      <td>520;</td>\n",
       "      <td>Development Food Assistance;</td>\n",
       "      <td>['https://www.bmz.de/de/laender/kenia', 'https...</td>\n",
       "      <td>Kenia Protected Relief and Recovery Programme ...</td>\n",
       "      <td>2</td>\n",
       "      <td>1    2. End hunger, achieve food security and ...</td>\n",
       "    </tr>\n",
       "  </tbody>\n",
       "</table>\n",
       "<p>1 rows × 30 columns</p>\n",
       "</div>"
      ],
      "text/plain": [
       "            iati_id iati_orga_id orga_abbreviation  \\\n",
       "0  DE-1-201401124-0         DE-1               bmz   \n",
       "\n",
       "                                      orga_full_name client  \\\n",
       "0  Bundesministerium für wirtschaftliche Zusammen...    BMZ   \n",
       "\n",
       "                                            title_en  \\\n",
       "0  Kenia Protected Relief and Recovery Programme ...   \n",
       "\n",
       "                                         title_other  \\\n",
       "0  Kenia Protected Relief and Recovery Programme ...   \n",
       "\n",
       "                                          title_main  \\\n",
       "0  Kenia Protected Relief and Recovery Programme ...   \n",
       "\n",
       "                                        organization country_code  ...  \\\n",
       "0  Bundesministerium für wirtschaftliche Zusammen...       ['KE']  ...   \n",
       "\n",
       "             actual_end           last_update crs_5_code         crs_5_name  \\\n",
       "0  2019-02-15T00:00:00Z  2024-03-06T00:00:00Z    52010;   Food assistance;    \n",
       "\n",
       "  crs_3_code                     crs_3_name  \\\n",
       "0      520;   Development Food Assistance;    \n",
       "\n",
       "                                                docs  \\\n",
       "0  ['https://www.bmz.de/de/laender/kenia', 'https...   \n",
       "\n",
       "                               title_and_description sgd_pred_code  \\\n",
       "0  Kenia Protected Relief and Recovery Programme ...             2   \n",
       "\n",
       "                                        sgd_pred_str  \n",
       "0  1    2. End hunger, achieve food security and ...  \n",
       "\n",
       "[1 rows x 30 columns]"
      ]
     },
     "execution_count": 7,
     "metadata": {},
     "output_type": "execute_result"
    }
   ],
   "source": [
    "df.head(1)"
   ]
  },
  {
   "cell_type": "markdown",
   "metadata": {},
   "source": [
    "### remove duplicates from df"
   ]
  },
  {
   "cell_type": "code",
   "execution_count": 8,
   "metadata": {},
   "outputs": [
    {
     "data": {
      "text/plain": [
       "31700"
      ]
     },
     "execution_count": 8,
     "metadata": {},
     "output_type": "execute_result"
    }
   ],
   "source": [
    "len(df)"
   ]
  },
  {
   "cell_type": "code",
   "execution_count": 9,
   "metadata": {},
   "outputs": [
    {
     "data": {
      "text/plain": [
       "31700"
      ]
     },
     "execution_count": 9,
     "metadata": {},
     "output_type": "execute_result"
    }
   ],
   "source": [
    "df = df.drop_duplicates(keep=\"first\")\n",
    "len(df)"
   ]
  },
  {
   "cell_type": "markdown",
   "metadata": {},
   "source": [
    "## **Embeddings**"
   ]
  },
  {
   "cell_type": "markdown",
   "metadata": {},
   "source": [
    "### calculate embeddings (last run: 31:23 min)"
   ]
  },
  {
   "cell_type": "code",
   "execution_count": 10,
   "metadata": {},
   "outputs": [],
   "source": [
    "# for test purposes select just 100 random samples\n",
    "#test_df = df.sample(10000)"
   ]
  },
  {
   "cell_type": "code",
   "execution_count": 11,
   "metadata": {},
   "outputs": [],
   "source": [
    "sentences = df['title_and_description'].tolist()"
   ]
  },
  {
   "cell_type": "code",
   "execution_count": 12,
   "metadata": {},
   "outputs": [
    {
     "data": {
      "application/vnd.jupyter.widget-view+json": {
       "model_id": "4a3aa23f1b314582af30b0139d3ea277",
       "version_major": 2,
       "version_minor": 0
      },
      "text/plain": [
       "Batches:   0%|          | 0/991 [00:00<?, ?it/s]"
      ]
     },
     "metadata": {},
     "output_type": "display_data"
    }
   ],
   "source": [
    "embeddings = model.encode(sentences, show_progress_bar=True)"
   ]
  },
  {
   "cell_type": "code",
   "execution_count": 13,
   "metadata": {},
   "outputs": [
    {
     "data": {
      "text/plain": [
       "array([[-0.00542458,  0.07612374, -0.01190117, ..., -0.01088327,\n",
       "        -0.08634929, -0.0527638 ],\n",
       "       [ 0.00396193,  0.05668392, -0.02865329, ...,  0.01807695,\n",
       "         0.01017955, -0.02630395],\n",
       "       [-0.05679462,  0.04753661,  0.0053708 , ..., -0.05990424,\n",
       "        -0.08364748, -0.0485591 ],\n",
       "       ...,\n",
       "       [-0.01351139,  0.08917006,  0.02691875, ...,  0.07068525,\n",
       "        -0.0103591 , -0.0200639 ],\n",
       "       [ 0.01089143,  0.04269382,  0.0635475 , ..., -0.01490735,\n",
       "        -0.0214653 ,  0.01009444],\n",
       "       [ 0.00055788,  0.07568503,  0.0187108 , ..., -0.10134399,\n",
       "        -0.08061431, -0.03309685]], dtype=float32)"
      ]
     },
     "execution_count": 13,
     "metadata": {},
     "output_type": "execute_result"
    }
   ],
   "source": [
    "embeddings"
   ]
  },
  {
   "cell_type": "markdown",
   "metadata": {},
   "source": [
    "### save embeddings as pickle"
   ]
  },
  {
   "cell_type": "code",
   "execution_count": 14,
   "metadata": {},
   "outputs": [],
   "source": [
    "with open(\"../../src/transformer/embeddings.pkl\", \"wb\") as fOut:\n",
    "    pickle.dump({\"sentences\": sentences, \"embeddings\": embeddings}, fOut, protocol=pickle.HIGHEST_PROTOCOL)"
   ]
  },
  {
   "cell_type": "markdown",
   "metadata": {},
   "source": [
    "### load embeddings from local storage if needed"
   ]
  },
  {
   "cell_type": "code",
   "execution_count": 3,
   "metadata": {},
   "outputs": [],
   "source": [
    "with open(\"../../src/transformer/embeddings.pkl\", \"rb\") as fIn:\n",
    "    stored_data = pickle.load(fIn)\n",
    "    sentences = stored_data[\"sentences\"]\n",
    "    embeddings = stored_data[\"embeddings\"]"
   ]
  },
  {
   "cell_type": "code",
   "execution_count": 4,
   "metadata": {},
   "outputs": [
    {
     "data": {
      "text/plain": [
       "array([[-0.00542458,  0.07612374, -0.01190117, ..., -0.01088327,\n",
       "        -0.08634929, -0.0527638 ],\n",
       "       [ 0.00396193,  0.05668392, -0.02865329, ...,  0.01807695,\n",
       "         0.01017955, -0.02630395],\n",
       "       [-0.05679462,  0.04753661,  0.0053708 , ..., -0.05990424,\n",
       "        -0.08364748, -0.0485591 ],\n",
       "       ...,\n",
       "       [-0.01351139,  0.08917006,  0.02691875, ...,  0.07068525,\n",
       "        -0.0103591 , -0.0200639 ],\n",
       "       [ 0.01089143,  0.04269382,  0.0635475 , ..., -0.01490735,\n",
       "        -0.0214653 ,  0.01009444],\n",
       "       [ 0.00055788,  0.07568503,  0.0187108 , ..., -0.10134399,\n",
       "        -0.08061431, -0.03309685]], dtype=float32)"
      ]
     },
     "execution_count": 4,
     "metadata": {},
     "output_type": "execute_result"
    }
   ],
   "source": [
    "embeddings"
   ]
  },
  {
   "cell_type": "markdown",
   "metadata": {},
   "source": [
    "## **Cosine Similarity**"
   ]
  },
  {
   "cell_type": "markdown",
   "metadata": {},
   "source": [
    "### calculate similarity matrix"
   ]
  },
  {
   "cell_type": "code",
   "execution_count": 5,
   "metadata": {},
   "outputs": [],
   "source": [
    "similarity_matrix = util.cos_sim(embeddings, embeddings)"
   ]
  },
  {
   "cell_type": "code",
   "execution_count": 18,
   "metadata": {},
   "outputs": [
    {
     "data": {
      "text/plain": [
       "torch.Size([31700, 31700])"
      ]
     },
     "execution_count": 18,
     "metadata": {},
     "output_type": "execute_result"
    }
   ],
   "source": [
    "similarity_matrix.shape"
   ]
  },
  {
   "cell_type": "markdown",
   "metadata": {},
   "source": [
    "### create sparse matrix"
   ]
  },
  {
   "cell_type": "code",
   "execution_count": 6,
   "metadata": {},
   "outputs": [
    {
     "data": {
      "text/plain": [
       "40"
      ]
     },
     "execution_count": 6,
     "metadata": {},
     "output_type": "execute_result"
    }
   ],
   "source": [
    "# collect garbage variables and delete to clear memory\n",
    "gc.collect()"
   ]
  },
  {
   "cell_type": "code",
   "execution_count": 7,
   "metadata": {},
   "outputs": [],
   "source": [
    "threshold = 0.5\n",
    "mask = similarity_matrix > threshold"
   ]
  },
  {
   "cell_type": "code",
   "execution_count": 8,
   "metadata": {},
   "outputs": [],
   "source": [
    "sparse_matrix = sps.coo_matrix(similarity_matrix.numpy() * mask.numpy())"
   ]
  },
  {
   "cell_type": "markdown",
   "metadata": {},
   "source": [
    "### save matrix"
   ]
  },
  {
   "cell_type": "code",
   "execution_count": 9,
   "metadata": {},
   "outputs": [],
   "source": [
    "save_npz(\"../../app/src/similarities.npz\", sparse_matrix)"
   ]
  },
  {
   "cell_type": "markdown",
   "metadata": {},
   "source": [
    "### load matrix"
   ]
  },
  {
   "cell_type": "code",
   "execution_count": 23,
   "metadata": {},
   "outputs": [],
   "source": [
    "loaded_sparse_matrix = load_npz(\"../../app/src/similarities.npz\")"
   ]
  },
  {
   "cell_type": "code",
   "execution_count": 24,
   "metadata": {},
   "outputs": [
    {
     "name": "stdout",
     "output_type": "stream",
     "text": [
      "  (0, 0)\t0.9999999\n",
      "  (0, 2)\t0.7788637\n",
      "  (0, 10)\t0.47926852\n",
      "  (0, 33)\t0.47682035\n",
      "  (0, 45)\t0.5269123\n",
      "  (0, 48)\t0.5594749\n",
      "  (0, 61)\t0.5211487\n",
      "  (0, 68)\t0.48016948\n",
      "  (0, 95)\t0.5202849\n",
      "  (0, 97)\t0.5202849\n",
      "  (0, 108)\t0.5770738\n",
      "  (0, 112)\t0.5399726\n",
      "  (0, 134)\t0.49919048\n",
      "  (0, 138)\t0.5660058\n",
      "  (0, 156)\t0.5028298\n",
      "  (0, 159)\t0.53406537\n",
      "  (0, 188)\t0.5956906\n",
      "  (0, 189)\t0.61039144\n",
      "  (0, 191)\t0.6847315\n",
      "  (0, 198)\t0.5413348\n",
      "  (0, 205)\t0.52982235\n",
      "  (0, 208)\t0.5719239\n",
      "  (0, 236)\t0.61851823\n",
      "  (0, 252)\t0.5134039\n",
      "  (0, 261)\t0.5660058\n",
      "  :\t:\n",
      "  (31699, 30996)\t0.50494766\n",
      "  (31699, 30998)\t0.63078773\n",
      "  (31699, 31000)\t0.48562074\n",
      "  (31699, 31003)\t0.53423905\n",
      "  (31699, 31052)\t0.52794164\n",
      "  (31699, 31053)\t0.5302916\n",
      "  (31699, 31067)\t0.5296182\n",
      "  (31699, 31081)\t0.5550677\n",
      "  (31699, 31085)\t0.6148765\n",
      "  (31699, 31096)\t0.6461128\n",
      "  (31699, 31136)\t0.49704528\n",
      "  (31699, 31137)\t0.6598016\n",
      "  (31699, 31268)\t0.5693135\n",
      "  (31699, 31421)\t0.58891875\n",
      "  (31699, 31426)\t0.4885249\n",
      "  (31699, 31553)\t0.56600904\n",
      "  (31699, 31608)\t0.5368564\n",
      "  (31699, 31620)\t0.61004496\n",
      "  (31699, 31626)\t0.5686573\n",
      "  (31699, 31629)\t0.4999099\n",
      "  (31699, 31658)\t0.49999747\n",
      "  (31699, 31667)\t0.525897\n",
      "  (31699, 31676)\t0.49205163\n",
      "  (31699, 31692)\t0.6037911\n",
      "  (31699, 31699)\t1.0000002\n"
     ]
    }
   ],
   "source": [
    "print(loaded_sparse_matrix)"
   ]
  },
  {
   "cell_type": "code",
   "execution_count": 25,
   "metadata": {},
   "outputs": [
    {
     "data": {
      "text/plain": [
       "array([[0.9999999 , 0.        , 0.7788637 , ..., 0.        , 0.4758543 ,\n",
       "        0.        ],\n",
       "       [0.        , 1.0000002 , 0.        , ..., 0.        , 0.        ,\n",
       "        0.        ],\n",
       "       [0.7788637 , 0.        , 1.0000001 , ..., 0.        , 0.        ,\n",
       "        0.        ],\n",
       "       ...,\n",
       "       [0.        , 0.        , 0.        , ..., 1.0000002 , 0.56515884,\n",
       "        0.        ],\n",
       "       [0.47585428, 0.        , 0.        , ..., 0.56515884, 1.0000001 ,\n",
       "        0.        ],\n",
       "       [0.        , 0.        , 0.        , ..., 0.        , 0.        ,\n",
       "        1.0000002 ]], dtype=float32)"
      ]
     },
     "execution_count": 25,
     "metadata": {},
     "output_type": "execute_result"
    }
   ],
   "source": [
    "dense_matrix = loaded_sparse_matrix.toarray()\n",
    "dense_matrix"
   ]
  }
 ],
 "metadata": {
  "kernelspec": {
   "display_name": "pamb",
   "language": "python",
   "name": "python3"
  },
  "language_info": {
   "codemirror_mode": {
    "name": "ipython",
    "version": 3
   },
   "file_extension": ".py",
   "mimetype": "text/x-python",
   "name": "python",
   "nbconvert_exporter": "python",
   "pygments_lexer": "ipython3",
   "version": "3.10.13"
  }
 },
 "nbformat": 4,
 "nbformat_minor": 2
}
