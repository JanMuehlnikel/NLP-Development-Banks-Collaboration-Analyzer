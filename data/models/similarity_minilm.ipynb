{
 "cells": [
  {
   "cell_type": "markdown",
   "metadata": {},
   "source": [
    "# **MiniLM Similarity Model**"
   ]
  },
  {
   "cell_type": "markdown",
   "metadata": {},
   "source": [
    "## **Dependecies**"
   ]
  },
  {
   "cell_type": "code",
   "execution_count": 1,
   "metadata": {},
   "outputs": [],
   "source": [
    "import pandas as pd\n",
    "from sentence_transformers import SentenceTransformer, util\n",
    "import pickle\n",
    "import numpy as np\n",
    "import scipy.sparse as sps\n",
    "from scipy.sparse import save_npz\n",
    "import gc\n",
    "from scipy.sparse import load_npz\n"
   ]
  },
  {
   "cell_type": "markdown",
   "metadata": {},
   "source": [
    "## **Load Model**\n",
    "\n",
    "MiniLM was specifically designed to maintain the performance of the large language models while reducing the model dimensions and thus the required computational resources. This is achieved through various techniques such as knowledge distillation, where a smaller model (the \"student\") is trained to mimic the behaviour of a larger, pre-trained model (the \"teacher\").\n",
    "\n",
    "https://huggingface.co/sentence-transformers/all-MiniLM-L6-v2"
   ]
  },
  {
   "cell_type": "markdown",
   "metadata": {},
   "source": [
    "### Load all-MiniLM Model"
   ]
  },
  {
   "cell_type": "code",
   "execution_count": 2,
   "metadata": {},
   "outputs": [
    {
     "data": {
      "application/vnd.jupyter.widget-view+json": {
       "model_id": "21fc7aad0f184ce6880b4183408d4111",
       "version_major": 2,
       "version_minor": 0
      },
      "text/plain": [
       "modules.json:   0%|          | 0.00/349 [00:00<?, ?B/s]"
      ]
     },
     "metadata": {},
     "output_type": "display_data"
    },
    {
     "name": "stderr",
     "output_type": "stream",
     "text": [
      "c:\\Users\\UserNA6153\\anaconda3\\envs\\pamb2\\lib\\site-packages\\huggingface_hub\\file_download.py:149: UserWarning: `huggingface_hub` cache-system uses symlinks by default to efficiently store duplicated files but your machine does not support them in C:\\Users\\UserNA6153\\.cache\\huggingface\\hub\\models--sentence-transformers--all-MiniLM-L6-v2. Caching files will still work but in a degraded version that might require more space on your disk. This warning can be disabled by setting the `HF_HUB_DISABLE_SYMLINKS_WARNING` environment variable. For more details, see https://huggingface.co/docs/huggingface_hub/how-to-cache#limitations.\n",
      "To support symlinks on Windows, you either need to activate Developer Mode or to run Python as an administrator. In order to see activate developer mode, see this article: https://docs.microsoft.com/en-us/windows/apps/get-started/enable-your-device-for-development\n",
      "  warnings.warn(message)\n"
     ]
    },
    {
     "data": {
      "application/vnd.jupyter.widget-view+json": {
       "model_id": "be2c0d40189b4190b2e181e5dbaf6ffd",
       "version_major": 2,
       "version_minor": 0
      },
      "text/plain": [
       "config_sentence_transformers.json:   0%|          | 0.00/116 [00:00<?, ?B/s]"
      ]
     },
     "metadata": {},
     "output_type": "display_data"
    },
    {
     "data": {
      "application/vnd.jupyter.widget-view+json": {
       "model_id": "bebc2a129fc74c3898fb63897532a31e",
       "version_major": 2,
       "version_minor": 0
      },
      "text/plain": [
       "README.md:   0%|          | 0.00/10.7k [00:00<?, ?B/s]"
      ]
     },
     "metadata": {},
     "output_type": "display_data"
    },
    {
     "data": {
      "application/vnd.jupyter.widget-view+json": {
       "model_id": "9fa02dceeb9741e1a038b49d149e9603",
       "version_major": 2,
       "version_minor": 0
      },
      "text/plain": [
       "sentence_bert_config.json:   0%|          | 0.00/53.0 [00:00<?, ?B/s]"
      ]
     },
     "metadata": {},
     "output_type": "display_data"
    },
    {
     "data": {
      "application/vnd.jupyter.widget-view+json": {
       "model_id": "98692d6722bf49b788896867a99d7304",
       "version_major": 2,
       "version_minor": 0
      },
      "text/plain": [
       "config.json:   0%|          | 0.00/612 [00:00<?, ?B/s]"
      ]
     },
     "metadata": {},
     "output_type": "display_data"
    },
    {
     "data": {
      "application/vnd.jupyter.widget-view+json": {
       "model_id": "ffce2d5db08a458a8404c7c44797577b",
       "version_major": 2,
       "version_minor": 0
      },
      "text/plain": [
       "model.safetensors:   0%|          | 0.00/90.9M [00:00<?, ?B/s]"
      ]
     },
     "metadata": {},
     "output_type": "display_data"
    },
    {
     "data": {
      "application/vnd.jupyter.widget-view+json": {
       "model_id": "c32258c6c3f64f41ba5d8ceafefba994",
       "version_major": 2,
       "version_minor": 0
      },
      "text/plain": [
       "tokenizer_config.json:   0%|          | 0.00/350 [00:00<?, ?B/s]"
      ]
     },
     "metadata": {},
     "output_type": "display_data"
    },
    {
     "data": {
      "application/vnd.jupyter.widget-view+json": {
       "model_id": "583bc366e89d4cd88b1cfe78ff2fc194",
       "version_major": 2,
       "version_minor": 0
      },
      "text/plain": [
       "vocab.txt:   0%|          | 0.00/232k [00:00<?, ?B/s]"
      ]
     },
     "metadata": {},
     "output_type": "display_data"
    },
    {
     "data": {
      "application/vnd.jupyter.widget-view+json": {
       "model_id": "f863e9bad80a4b3596882b96be02bccf",
       "version_major": 2,
       "version_minor": 0
      },
      "text/plain": [
       "tokenizer.json:   0%|          | 0.00/466k [00:00<?, ?B/s]"
      ]
     },
     "metadata": {},
     "output_type": "display_data"
    },
    {
     "data": {
      "application/vnd.jupyter.widget-view+json": {
       "model_id": "b71795c79d6a4e53b8e91fb30a61c0cd",
       "version_major": 2,
       "version_minor": 0
      },
      "text/plain": [
       "special_tokens_map.json:   0%|          | 0.00/112 [00:00<?, ?B/s]"
      ]
     },
     "metadata": {},
     "output_type": "display_data"
    },
    {
     "data": {
      "application/vnd.jupyter.widget-view+json": {
       "model_id": "42694ff219a54615a5b16c09b018cc0f",
       "version_major": 2,
       "version_minor": 0
      },
      "text/plain": [
       "1_Pooling/config.json:   0%|          | 0.00/190 [00:00<?, ?B/s]"
      ]
     },
     "metadata": {},
     "output_type": "display_data"
    }
   ],
   "source": [
    "model = SentenceTransformer('all-MiniLM-L6-v2')"
   ]
  },
  {
   "cell_type": "markdown",
   "metadata": {},
   "source": [
    "## **Read Data**"
   ]
  },
  {
   "cell_type": "markdown",
   "metadata": {},
   "source": [
    "### Load csv"
   ]
  },
  {
   "cell_type": "code",
   "execution_count": 3,
   "metadata": {},
   "outputs": [
    {
     "name": "stdout",
     "output_type": "stream",
     "text": [
      "<class 'pandas.core.frame.DataFrame'>\n",
      "RangeIndex: 27397 entries, 0 to 27396\n",
      "Data columns (total 32 columns):\n",
      " #   Column                 Non-Null Count  Dtype \n",
      "---  ------                 --------------  ----- \n",
      " 0   iati_id                27397 non-null  object\n",
      " 1   iati_orga_id           27397 non-null  object\n",
      " 2   orga_abbreviation      27397 non-null  object\n",
      " 3   orga_full_name         27397 non-null  object\n",
      " 4   client                 27397 non-null  object\n",
      " 5   title_en               27101 non-null  object\n",
      " 6   title_other            20113 non-null  object\n",
      " 7   title_main             27397 non-null  object\n",
      " 8   organization           27397 non-null  object\n",
      " 9   country_code_list      23273 non-null  object\n",
      " 10  country                23273 non-null  object\n",
      " 11  country_name           23252 non-null  object\n",
      " 12  country_flag           27397 non-null  object\n",
      " 13  region                 4130 non-null   object\n",
      " 14  location               16883 non-null  object\n",
      " 15  description_en         26479 non-null  object\n",
      " 16  description_other      20009 non-null  object\n",
      " 17  description_main       27312 non-null  object\n",
      " 18  status                 27397 non-null  object\n",
      " 19  planned_start          26724 non-null  object\n",
      " 20  actual_start           24248 non-null  object\n",
      " 21  planned_end            27397 non-null  object\n",
      " 22  actual_end             24248 non-null  object\n",
      " 23  last_update            27397 non-null  object\n",
      " 24  crs_5_code             26157 non-null  object\n",
      " 25  crs_5_name             26157 non-null  object\n",
      " 26  crs_3_code             26157 non-null  object\n",
      " 27  crs_3_name             26157 non-null  object\n",
      " 28  docs                   19916 non-null  object\n",
      " 29  title_and_description  27397 non-null  object\n",
      " 30  sgd_pred_code          27397 non-null  int64 \n",
      " 31  sgd_pred_str           27397 non-null  object\n",
      "dtypes: int64(1), object(31)\n",
      "memory usage: 6.7+ MB\n"
     ]
    }
   ],
   "source": [
    "df = pd.read_csv(\"../../src/merged_orgas.csv\")\n",
    "df.info()"
   ]
  },
  {
   "cell_type": "code",
   "execution_count": 4,
   "metadata": {},
   "outputs": [
    {
     "data": {
      "text/plain": [
       "Index(['iati_id', 'iati_orga_id', 'orga_abbreviation', 'orga_full_name',\n",
       "       'client', 'title_en', 'title_other', 'title_main', 'organization',\n",
       "       'country_code_list', 'country', 'country_name', 'country_flag',\n",
       "       'region', 'location', 'description_en', 'description_other',\n",
       "       'description_main', 'status', 'planned_start', 'actual_start',\n",
       "       'planned_end', 'actual_end', 'last_update', 'crs_5_code', 'crs_5_name',\n",
       "       'crs_3_code', 'crs_3_name', 'docs', 'title_and_description',\n",
       "       'sgd_pred_code', 'sgd_pred_str'],\n",
       "      dtype='object')"
      ]
     },
     "execution_count": 4,
     "metadata": {},
     "output_type": "execute_result"
    }
   ],
   "source": [
    "df.columns"
   ]
  },
  {
   "cell_type": "code",
   "execution_count": 5,
   "metadata": {},
   "outputs": [
    {
     "data": {
      "text/html": [
       "<div>\n",
       "<style scoped>\n",
       "    .dataframe tbody tr th:only-of-type {\n",
       "        vertical-align: middle;\n",
       "    }\n",
       "\n",
       "    .dataframe tbody tr th {\n",
       "        vertical-align: top;\n",
       "    }\n",
       "\n",
       "    .dataframe thead th {\n",
       "        text-align: right;\n",
       "    }\n",
       "</style>\n",
       "<table border=\"1\" class=\"dataframe\">\n",
       "  <thead>\n",
       "    <tr style=\"text-align: right;\">\n",
       "      <th></th>\n",
       "      <th>iati_id</th>\n",
       "      <th>iati_orga_id</th>\n",
       "      <th>orga_abbreviation</th>\n",
       "      <th>orga_full_name</th>\n",
       "      <th>client</th>\n",
       "      <th>title_en</th>\n",
       "      <th>title_other</th>\n",
       "      <th>title_main</th>\n",
       "      <th>organization</th>\n",
       "      <th>country_code_list</th>\n",
       "      <th>...</th>\n",
       "      <th>actual_end</th>\n",
       "      <th>last_update</th>\n",
       "      <th>crs_5_code</th>\n",
       "      <th>crs_5_name</th>\n",
       "      <th>crs_3_code</th>\n",
       "      <th>crs_3_name</th>\n",
       "      <th>docs</th>\n",
       "      <th>title_and_description</th>\n",
       "      <th>sgd_pred_code</th>\n",
       "      <th>sgd_pred_str</th>\n",
       "    </tr>\n",
       "  </thead>\n",
       "  <tbody>\n",
       "    <tr>\n",
       "      <th>0</th>\n",
       "      <td>DE-1-201822287-0</td>\n",
       "      <td>DE-1</td>\n",
       "      <td>bmz</td>\n",
       "      <td>Bundesministerium für wirtschaftliche Zusammen...</td>\n",
       "      <td>BMZ</td>\n",
       "      <td>Strengthening quality infrastructure for trade...</td>\n",
       "      <td>Stärkung der Qualitätsinfrastruktur für den Ha...</td>\n",
       "      <td>Strengthening quality infrastructure for trade...</td>\n",
       "      <td>Bundesministerium für wirtschaftliche Zusammen...</td>\n",
       "      <td>NaN</td>\n",
       "      <td>...</td>\n",
       "      <td>2016-03-14T00:00:00Z</td>\n",
       "      <td>2024-02-29T00:00:00Z</td>\n",
       "      <td>33130;</td>\n",
       "      <td>Regional trade agreements (RTAs);</td>\n",
       "      <td>331;</td>\n",
       "      <td>Trade Policies &amp; Regulations;</td>\n",
       "      <td>NaN</td>\n",
       "      <td>Strengthening quality infrastructure for trade...</td>\n",
       "      <td>9</td>\n",
       "      <td>8    9. Build resilient infrastructure, promot...</td>\n",
       "    </tr>\n",
       "  </tbody>\n",
       "</table>\n",
       "<p>1 rows × 32 columns</p>\n",
       "</div>"
      ],
      "text/plain": [
       "            iati_id iati_orga_id orga_abbreviation  \\\n",
       "0  DE-1-201822287-0         DE-1               bmz   \n",
       "\n",
       "                                      orga_full_name client  \\\n",
       "0  Bundesministerium für wirtschaftliche Zusammen...    BMZ   \n",
       "\n",
       "                                            title_en  \\\n",
       "0  Strengthening quality infrastructure for trade...   \n",
       "\n",
       "                                         title_other  \\\n",
       "0  Stärkung der Qualitätsinfrastruktur für den Ha...   \n",
       "\n",
       "                                          title_main  \\\n",
       "0  Strengthening quality infrastructure for trade...   \n",
       "\n",
       "                                        organization country_code_list  ...  \\\n",
       "0  Bundesministerium für wirtschaftliche Zusammen...               NaN  ...   \n",
       "\n",
       "             actual_end           last_update crs_5_code  \\\n",
       "0  2016-03-14T00:00:00Z  2024-02-29T00:00:00Z    33130;    \n",
       "\n",
       "                           crs_5_name crs_3_code  \\\n",
       "0  Regional trade agreements (RTAs);       331;    \n",
       "\n",
       "                       crs_3_name docs  \\\n",
       "0  Trade Policies & Regulations;   NaN   \n",
       "\n",
       "                               title_and_description sgd_pred_code  \\\n",
       "0  Strengthening quality infrastructure for trade...             9   \n",
       "\n",
       "                                        sgd_pred_str  \n",
       "0  8    9. Build resilient infrastructure, promot...  \n",
       "\n",
       "[1 rows x 32 columns]"
      ]
     },
     "execution_count": 5,
     "metadata": {},
     "output_type": "execute_result"
    }
   ],
   "source": [
    "df.head(1)"
   ]
  },
  {
   "cell_type": "markdown",
   "metadata": {},
   "source": [
    "### remove duplicates from df"
   ]
  },
  {
   "cell_type": "code",
   "execution_count": 6,
   "metadata": {},
   "outputs": [
    {
     "data": {
      "text/plain": [
       "27397"
      ]
     },
     "execution_count": 6,
     "metadata": {},
     "output_type": "execute_result"
    }
   ],
   "source": [
    "len(df)"
   ]
  },
  {
   "cell_type": "code",
   "execution_count": 7,
   "metadata": {},
   "outputs": [
    {
     "data": {
      "text/plain": [
       "27397"
      ]
     },
     "execution_count": 7,
     "metadata": {},
     "output_type": "execute_result"
    }
   ],
   "source": [
    "df = df.drop_duplicates(keep=\"first\")\n",
    "len(df)"
   ]
  },
  {
   "cell_type": "markdown",
   "metadata": {},
   "source": [
    "## **Embeddings**"
   ]
  },
  {
   "cell_type": "markdown",
   "metadata": {},
   "source": [
    "### calculate embeddings (last run: 31:23 min)"
   ]
  },
  {
   "cell_type": "code",
   "execution_count": 8,
   "metadata": {},
   "outputs": [],
   "source": [
    "# for test purposes select just 100 random samples\n",
    "#test_df = df.sample(10000)"
   ]
  },
  {
   "cell_type": "code",
   "execution_count": 9,
   "metadata": {},
   "outputs": [],
   "source": [
    "sentences = df['title_and_description'].tolist()"
   ]
  },
  {
   "cell_type": "code",
   "execution_count": 10,
   "metadata": {},
   "outputs": [
    {
     "data": {
      "application/vnd.jupyter.widget-view+json": {
       "model_id": "4699506c88c14835a01c79c55a078dbe",
       "version_major": 2,
       "version_minor": 0
      },
      "text/plain": [
       "Batches:   0%|          | 0/857 [00:00<?, ?it/s]"
      ]
     },
     "metadata": {},
     "output_type": "display_data"
    }
   ],
   "source": [
    "embeddings = model.encode(sentences, show_progress_bar=True)"
   ]
  },
  {
   "cell_type": "code",
   "execution_count": 11,
   "metadata": {},
   "outputs": [
    {
     "data": {
      "text/plain": [
       "array([[-0.04930571, -0.02229353, -0.01424212, ..., -0.05813498,\n",
       "         0.05638228,  0.01333214],\n",
       "       [-0.05611133, -0.02287832, -0.01245939, ..., -0.01833626,\n",
       "         0.01593846,  0.00362427],\n",
       "       [ 0.01444224, -0.0499334 , -0.00599655, ..., -0.02526089,\n",
       "         0.00581959, -0.06996275],\n",
       "       ...,\n",
       "       [-0.01351143,  0.08917006,  0.02691879, ...,  0.07068525,\n",
       "        -0.01035912, -0.02006389],\n",
       "       [ 0.01089144,  0.04269383,  0.0635475 , ..., -0.01490737,\n",
       "        -0.02146529,  0.0100944 ],\n",
       "       [ 0.00055788,  0.07568505,  0.01871078, ..., -0.10134395,\n",
       "        -0.08061433, -0.03309683]], dtype=float32)"
      ]
     },
     "execution_count": 11,
     "metadata": {},
     "output_type": "execute_result"
    }
   ],
   "source": [
    "embeddings"
   ]
  },
  {
   "cell_type": "markdown",
   "metadata": {},
   "source": [
    "### save embeddings as pickle"
   ]
  },
  {
   "cell_type": "code",
   "execution_count": 12,
   "metadata": {},
   "outputs": [],
   "source": [
    "with open(\"../../src/transformer/embeddings.pkl\", \"wb\") as fOut:\n",
    "    pickle.dump({\"sentences\": sentences, \"embeddings\": embeddings}, fOut, protocol=pickle.HIGHEST_PROTOCOL)"
   ]
  },
  {
   "cell_type": "markdown",
   "metadata": {},
   "source": [
    "### load embeddings from local storage if needed"
   ]
  },
  {
   "cell_type": "code",
   "execution_count": 13,
   "metadata": {},
   "outputs": [],
   "source": [
    "with open(\"../../src/transformer/embeddings.pkl\", \"rb\") as fIn:\n",
    "    stored_data = pickle.load(fIn)\n",
    "    sentences = stored_data[\"sentences\"]\n",
    "    embeddings = stored_data[\"embeddings\"]"
   ]
  },
  {
   "cell_type": "code",
   "execution_count": 14,
   "metadata": {},
   "outputs": [
    {
     "data": {
      "text/plain": [
       "array([[-0.04930571, -0.02229353, -0.01424212, ..., -0.05813498,\n",
       "         0.05638228,  0.01333214],\n",
       "       [-0.05611133, -0.02287832, -0.01245939, ..., -0.01833626,\n",
       "         0.01593846,  0.00362427],\n",
       "       [ 0.01444224, -0.0499334 , -0.00599655, ..., -0.02526089,\n",
       "         0.00581959, -0.06996275],\n",
       "       ...,\n",
       "       [-0.01351143,  0.08917006,  0.02691879, ...,  0.07068525,\n",
       "        -0.01035912, -0.02006389],\n",
       "       [ 0.01089144,  0.04269383,  0.0635475 , ..., -0.01490737,\n",
       "        -0.02146529,  0.0100944 ],\n",
       "       [ 0.00055788,  0.07568505,  0.01871078, ..., -0.10134395,\n",
       "        -0.08061433, -0.03309683]], dtype=float32)"
      ]
     },
     "execution_count": 14,
     "metadata": {},
     "output_type": "execute_result"
    }
   ],
   "source": [
    "embeddings"
   ]
  },
  {
   "cell_type": "markdown",
   "metadata": {},
   "source": [
    "## **Cosine Similarity**"
   ]
  },
  {
   "cell_type": "markdown",
   "metadata": {},
   "source": [
    "### calculate similarity matrix"
   ]
  },
  {
   "cell_type": "code",
   "execution_count": 15,
   "metadata": {},
   "outputs": [],
   "source": [
    "similarity_matrix = util.cos_sim(embeddings, embeddings)"
   ]
  },
  {
   "cell_type": "code",
   "execution_count": 16,
   "metadata": {},
   "outputs": [
    {
     "data": {
      "text/plain": [
       "torch.Size([27397, 27397])"
      ]
     },
     "execution_count": 16,
     "metadata": {},
     "output_type": "execute_result"
    }
   ],
   "source": [
    "similarity_matrix.shape"
   ]
  },
  {
   "cell_type": "markdown",
   "metadata": {},
   "source": [
    "### create sparse matrix"
   ]
  },
  {
   "cell_type": "code",
   "execution_count": 17,
   "metadata": {},
   "outputs": [
    {
     "data": {
      "text/plain": [
       "18"
      ]
     },
     "execution_count": 17,
     "metadata": {},
     "output_type": "execute_result"
    }
   ],
   "source": [
    "# collect garbage variables and delete to clear memory\n",
    "gc.collect()"
   ]
  },
  {
   "cell_type": "code",
   "execution_count": 18,
   "metadata": {},
   "outputs": [],
   "source": [
    "threshold = 0.5\n",
    "mask = similarity_matrix > threshold"
   ]
  },
  {
   "cell_type": "code",
   "execution_count": 19,
   "metadata": {},
   "outputs": [],
   "source": [
    "sparse_matrix = sps.coo_matrix(similarity_matrix.numpy() * mask.numpy())"
   ]
  },
  {
   "cell_type": "markdown",
   "metadata": {},
   "source": [
    "### save matrix"
   ]
  },
  {
   "cell_type": "code",
   "execution_count": 20,
   "metadata": {},
   "outputs": [],
   "source": [
    "save_npz(\"../../src/similarities.npz\", sparse_matrix)"
   ]
  },
  {
   "cell_type": "markdown",
   "metadata": {},
   "source": [
    "### load matrix"
   ]
  },
  {
   "cell_type": "code",
   "execution_count": 21,
   "metadata": {},
   "outputs": [],
   "source": [
    "loaded_sparse_matrix = load_npz(\"../../app/src/similarities.npz\")"
   ]
  },
  {
   "cell_type": "code",
   "execution_count": 22,
   "metadata": {},
   "outputs": [
    {
     "name": "stdout",
     "output_type": "stream",
     "text": [
      "  (0, 0)\t0.9999998807907104\n",
      "  (0, 2)\t0.7788637280464172\n",
      "  (0, 45)\t0.526912271976471\n",
      "  (0, 48)\t0.5594748854637146\n",
      "  (0, 61)\t0.521148681640625\n",
      "  (0, 95)\t0.52028489112854\n",
      "  (0, 97)\t0.52028489112854\n",
      "  (0, 108)\t0.5770738124847412\n",
      "  (0, 112)\t0.5399726033210754\n",
      "  (0, 138)\t0.5660058259963989\n",
      "  (0, 156)\t0.5028297901153564\n",
      "  (0, 159)\t0.5340653657913208\n",
      "  (0, 188)\t0.5956906080245972\n",
      "  (0, 189)\t0.6103914380073547\n",
      "  (0, 191)\t0.6847314834594727\n",
      "  (0, 198)\t0.5413348078727722\n",
      "  (0, 205)\t0.5298223495483398\n",
      "  (0, 208)\t0.5719239115715027\n",
      "  (0, 236)\t0.6185182332992554\n",
      "  (0, 252)\t0.5134038925170898\n",
      "  (0, 261)\t0.5660058259963989\n",
      "  (0, 276)\t0.5863873958587646\n",
      "  (0, 278)\t0.5632790923118591\n",
      "  (0, 290)\t0.6717886924743652\n",
      "  (0, 294)\t0.5548366904258728\n",
      "  :\t:\n",
      "  (31699, 30904)\t0.5664306282997131\n",
      "  (31699, 30913)\t0.5089055299758911\n",
      "  (31699, 30914)\t0.6269343495368958\n",
      "  (31699, 30967)\t0.5254554748535156\n",
      "  (31699, 30969)\t0.518643856048584\n",
      "  (31699, 30974)\t0.516819953918457\n",
      "  (31699, 30996)\t0.5049476623535156\n",
      "  (31699, 30998)\t0.63078773021698\n",
      "  (31699, 31003)\t0.5342390537261963\n",
      "  (31699, 31052)\t0.5279416441917419\n",
      "  (31699, 31053)\t0.5302916169166565\n",
      "  (31699, 31067)\t0.5296182036399841\n",
      "  (31699, 31081)\t0.5550677180290222\n",
      "  (31699, 31085)\t0.6148765087127686\n",
      "  (31699, 31096)\t0.6461127996444702\n",
      "  (31699, 31137)\t0.6598016023635864\n",
      "  (31699, 31268)\t0.5693135261535645\n",
      "  (31699, 31421)\t0.5889187455177307\n",
      "  (31699, 31553)\t0.5660090446472168\n",
      "  (31699, 31608)\t0.5368564128875732\n",
      "  (31699, 31620)\t0.6100449562072754\n",
      "  (31699, 31626)\t0.5686572790145874\n",
      "  (31699, 31667)\t0.5258970260620117\n",
      "  (31699, 31692)\t0.6037911176681519\n",
      "  (31699, 31699)\t1.000000238418579\n"
     ]
    }
   ],
   "source": [
    "print(loaded_sparse_matrix)"
   ]
  },
  {
   "cell_type": "code",
   "execution_count": 23,
   "metadata": {},
   "outputs": [
    {
     "data": {
      "text/plain": [
       "array([[0.9999999 , 0.        , 0.7788637 , ..., 0.        , 0.        ,\n",
       "        0.        ],\n",
       "       [0.        , 1.0000002 , 0.        , ..., 0.        , 0.        ,\n",
       "        0.        ],\n",
       "       [0.7788637 , 0.        , 1.0000001 , ..., 0.        , 0.        ,\n",
       "        0.        ],\n",
       "       ...,\n",
       "       [0.        , 0.        , 0.        , ..., 1.0000002 , 0.56515884,\n",
       "        0.        ],\n",
       "       [0.        , 0.        , 0.        , ..., 0.56515884, 1.0000001 ,\n",
       "        0.        ],\n",
       "       [0.        , 0.        , 0.        , ..., 0.        , 0.        ,\n",
       "        1.0000002 ]], dtype=float32)"
      ]
     },
     "execution_count": 23,
     "metadata": {},
     "output_type": "execute_result"
    }
   ],
   "source": [
    "dense_matrix = loaded_sparse_matrix.toarray()\n",
    "dense_matrix"
   ]
  }
 ],
 "metadata": {
  "kernelspec": {
   "display_name": "pamb",
   "language": "python",
   "name": "python3"
  },
  "language_info": {
   "codemirror_mode": {
    "name": "ipython",
    "version": 3
   },
   "file_extension": ".py",
   "mimetype": "text/x-python",
   "name": "python",
   "nbconvert_exporter": "python",
   "pygments_lexer": "ipython3",
   "version": "3.10.13"
  }
 },
 "nbformat": 4,
 "nbformat_minor": 2
}
