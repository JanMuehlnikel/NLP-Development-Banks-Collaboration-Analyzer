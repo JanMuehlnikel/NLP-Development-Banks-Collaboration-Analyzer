{
 "cells": [
  {
   "cell_type": "markdown",
   "metadata": {},
   "source": [
    "# **Predict CRS Codes**"
   ]
  },
  {
   "cell_type": "markdown",
   "metadata": {},
   "source": [
    "## **Dependencies**"
   ]
  },
  {
   "cell_type": "code",
   "execution_count": 24,
   "metadata": {},
   "outputs": [],
   "source": [
    "import pandas as pd\n",
    "from sklearn.model_selection import train_test_split\n",
    "from transformers import BertTokenizer, BertModel"
   ]
  },
  {
   "cell_type": "markdown",
   "metadata": {},
   "source": [
    "## **Data**"
   ]
  },
  {
   "cell_type": "code",
   "execution_count": 4,
   "metadata": {},
   "outputs": [
    {
     "data": {
      "text/html": [
       "<div>\n",
       "<style scoped>\n",
       "    .dataframe tbody tr th:only-of-type {\n",
       "        vertical-align: middle;\n",
       "    }\n",
       "\n",
       "    .dataframe tbody tr th {\n",
       "        vertical-align: top;\n",
       "    }\n",
       "\n",
       "    .dataframe thead th {\n",
       "        text-align: right;\n",
       "    }\n",
       "</style>\n",
       "<table border=\"1\" class=\"dataframe\">\n",
       "  <thead>\n",
       "    <tr style=\"text-align: right;\">\n",
       "      <th></th>\n",
       "      <th>iati_id</th>\n",
       "      <th>iati_orga_id</th>\n",
       "      <th>orga_abbreviation</th>\n",
       "      <th>orga_full_name</th>\n",
       "      <th>client</th>\n",
       "      <th>title_en</th>\n",
       "      <th>title_other</th>\n",
       "      <th>title_main</th>\n",
       "      <th>organization</th>\n",
       "      <th>country_code</th>\n",
       "      <th>...</th>\n",
       "      <th>actual_end</th>\n",
       "      <th>last_update</th>\n",
       "      <th>crs_5_code</th>\n",
       "      <th>crs_5_name</th>\n",
       "      <th>crs_3_code</th>\n",
       "      <th>crs_3_name</th>\n",
       "      <th>docs</th>\n",
       "      <th>title_and_description</th>\n",
       "      <th>sgd_pred_code</th>\n",
       "      <th>sgd_pred_str</th>\n",
       "    </tr>\n",
       "  </thead>\n",
       "  <tbody>\n",
       "    <tr>\n",
       "      <th>0</th>\n",
       "      <td>DE-1-201420207</td>\n",
       "      <td>DE-1</td>\n",
       "      <td>giz</td>\n",
       "      <td>Deutsche Gesellschaft für Internationale Zusam...</td>\n",
       "      <td>BMZ</td>\n",
       "      <td>Environmental and climate governance</td>\n",
       "      <td>Umwelt- und Klimagovernance</td>\n",
       "      <td>Environmental and climate governance</td>\n",
       "      <td>Bundesministerium für wirtschaftliche Zusammen...</td>\n",
       "      <td>['MA']</td>\n",
       "      <td>...</td>\n",
       "      <td>2022-06-30T00:00:00Z</td>\n",
       "      <td>2024-02-29T00:00:00Z</td>\n",
       "      <td>41010;</td>\n",
       "      <td>Environmental policy and administrative manage...</td>\n",
       "      <td>410;</td>\n",
       "      <td>General Environment Protection;</td>\n",
       "      <td>['https://www.giz.de/projektdaten/projects.act...</td>\n",
       "      <td>Environmental and climate governance. Public, ...</td>\n",
       "      <td>9</td>\n",
       "      <td>8    Goal 9. Build resilient infrastructure, p...</td>\n",
       "    </tr>\n",
       "    <tr>\n",
       "      <th>1</th>\n",
       "      <td>DE-1-201516970-0</td>\n",
       "      <td>DE-1</td>\n",
       "      <td>bmz</td>\n",
       "      <td>Bundesministerium für wirtschaftliche Zusammen...</td>\n",
       "      <td>BMZ</td>\n",
       "      <td>Acquisition of a chateau d´eau for water stock</td>\n",
       "      <td>Anschaffung eines Wasserturms zur Wasserspeich...</td>\n",
       "      <td>Acquisition of a chateau d´eau for water stock</td>\n",
       "      <td>Bundesministerium für wirtschaftliche Zusammen...</td>\n",
       "      <td>['SN']</td>\n",
       "      <td>...</td>\n",
       "      <td>2022-06-30T00:00:00Z</td>\n",
       "      <td>2024-03-06T00:00:00Z</td>\n",
       "      <td>14030;</td>\n",
       "      <td>Basic drinking water supply and basic sanitati...</td>\n",
       "      <td>140;</td>\n",
       "      <td>Water Supply &amp; Sanitation;</td>\n",
       "      <td>['https://www.bmz.de/de/laender/senegal', 'htt...</td>\n",
       "      <td>Acquisition of a chateau d´eau for water stock...</td>\n",
       "      <td>6</td>\n",
       "      <td>5    Goal 6. Ensure availability and sustainab...</td>\n",
       "    </tr>\n",
       "    <tr>\n",
       "      <th>2</th>\n",
       "      <td>DE-1-201601228-1705</td>\n",
       "      <td>DE-1</td>\n",
       "      <td>bmz</td>\n",
       "      <td>Bundesministerium für wirtschaftliche Zusammen...</td>\n",
       "      <td>BMZ</td>\n",
       "      <td>Multisectoral food and nutrition security for ...</td>\n",
       "      <td>Multisektorale Ernährungssicherung für junge K...</td>\n",
       "      <td>Multisectoral food and nutrition security for ...</td>\n",
       "      <td>Bundesministerium für wirtschaftliche Zusammen...</td>\n",
       "      <td>['MW']</td>\n",
       "      <td>...</td>\n",
       "      <td>2022-06-30T00:00:00Z</td>\n",
       "      <td>2024-03-06T00:00:00Z</td>\n",
       "      <td>31120;</td>\n",
       "      <td>Agricultural development;</td>\n",
       "      <td>311;</td>\n",
       "      <td>Agriculture;</td>\n",
       "      <td>['https://www.bmz.de/de/laender/malawi', 'http...</td>\n",
       "      <td>Multisectoral food and nutrition security for ...</td>\n",
       "      <td>2</td>\n",
       "      <td>1    Goal 2. End hunger, achieve food security...</td>\n",
       "    </tr>\n",
       "  </tbody>\n",
       "</table>\n",
       "<p>3 rows × 30 columns</p>\n",
       "</div>"
      ],
      "text/plain": [
       "               iati_id iati_orga_id orga_abbreviation  \\\n",
       "0       DE-1-201420207         DE-1               giz   \n",
       "1     DE-1-201516970-0         DE-1               bmz   \n",
       "2  DE-1-201601228-1705         DE-1               bmz   \n",
       "\n",
       "                                      orga_full_name client  \\\n",
       "0  Deutsche Gesellschaft für Internationale Zusam...    BMZ   \n",
       "1  Bundesministerium für wirtschaftliche Zusammen...    BMZ   \n",
       "2  Bundesministerium für wirtschaftliche Zusammen...    BMZ   \n",
       "\n",
       "                                            title_en  \\\n",
       "0               Environmental and climate governance   \n",
       "1     Acquisition of a chateau d´eau for water stock   \n",
       "2  Multisectoral food and nutrition security for ...   \n",
       "\n",
       "                                         title_other  \\\n",
       "0                        Umwelt- und Klimagovernance   \n",
       "1  Anschaffung eines Wasserturms zur Wasserspeich...   \n",
       "2  Multisektorale Ernährungssicherung für junge K...   \n",
       "\n",
       "                                          title_main  \\\n",
       "0               Environmental and climate governance   \n",
       "1     Acquisition of a chateau d´eau for water stock   \n",
       "2  Multisectoral food and nutrition security for ...   \n",
       "\n",
       "                                        organization country_code  ...  \\\n",
       "0  Bundesministerium für wirtschaftliche Zusammen...       ['MA']  ...   \n",
       "1  Bundesministerium für wirtschaftliche Zusammen...       ['SN']  ...   \n",
       "2  Bundesministerium für wirtschaftliche Zusammen...       ['MW']  ...   \n",
       "\n",
       "             actual_end           last_update crs_5_code  \\\n",
       "0  2022-06-30T00:00:00Z  2024-02-29T00:00:00Z    41010;    \n",
       "1  2022-06-30T00:00:00Z  2024-03-06T00:00:00Z    14030;    \n",
       "2  2022-06-30T00:00:00Z  2024-03-06T00:00:00Z    31120;    \n",
       "\n",
       "                                          crs_5_name crs_3_code  \\\n",
       "0  Environmental policy and administrative manage...      410;    \n",
       "1  Basic drinking water supply and basic sanitati...      140;    \n",
       "2                         Agricultural development;       311;    \n",
       "\n",
       "                         crs_3_name  \\\n",
       "0  General Environment Protection;    \n",
       "1       Water Supply & Sanitation;    \n",
       "2                     Agriculture;    \n",
       "\n",
       "                                                docs  \\\n",
       "0  ['https://www.giz.de/projektdaten/projects.act...   \n",
       "1  ['https://www.bmz.de/de/laender/senegal', 'htt...   \n",
       "2  ['https://www.bmz.de/de/laender/malawi', 'http...   \n",
       "\n",
       "                               title_and_description sgd_pred_code  \\\n",
       "0  Environmental and climate governance. Public, ...             9   \n",
       "1  Acquisition of a chateau d´eau for water stock...             6   \n",
       "2  Multisectoral food and nutrition security for ...             2   \n",
       "\n",
       "                                        sgd_pred_str  \n",
       "0  8    Goal 9. Build resilient infrastructure, p...  \n",
       "1  5    Goal 6. Ensure availability and sustainab...  \n",
       "2  1    Goal 2. End hunger, achieve food security...  \n",
       "\n",
       "[3 rows x 30 columns]"
      ]
     },
     "execution_count": 4,
     "metadata": {},
     "output_type": "execute_result"
    }
   ],
   "source": [
    "df = pd.read_csv(\"../../src/merged_orgas.csv\")\n",
    "df.head(3)"
   ]
  },
  {
   "cell_type": "code",
   "execution_count": 12,
   "metadata": {},
   "outputs": [
    {
     "data": {
      "text/plain": [
       "Index(['iati_id', 'iati_orga_id', 'orga_abbreviation', 'orga_full_name',\n",
       "       'client', 'title_en', 'title_other', 'title_main', 'organization',\n",
       "       'country_code', 'country', 'region', 'location', 'description_en',\n",
       "       'description_other', 'description_main', 'status', 'planned_start',\n",
       "       'actual_start', 'planned_end', 'actual_end', 'last_update',\n",
       "       'crs_5_code', 'crs_5_name', 'crs_3_code', 'crs_3_name', 'docs',\n",
       "       'title_and_description', 'sgd_pred_code', 'sgd_pred_str'],\n",
       "      dtype='object')"
      ]
     },
     "execution_count": 12,
     "metadata": {},
     "output_type": "execute_result"
    }
   ],
   "source": [
    "df.columns"
   ]
  },
  {
   "cell_type": "markdown",
   "metadata": {},
   "source": [
    "### Extract data with annotated crs code"
   ]
  },
  {
   "cell_type": "code",
   "execution_count": 18,
   "metadata": {},
   "outputs": [
    {
     "name": "stdout",
     "output_type": "stream",
     "text": [
      "> 52648 / 54081 project with crs3 code\n"
     ]
    }
   ],
   "source": [
    "crs_df = df[df[\"crs_3_code\"].notnull()]\n",
    "\n",
    "print(f\"> {len(crs_df)} / {len(df)} project with crs3 code\")"
   ]
  },
  {
   "cell_type": "markdown",
   "metadata": {},
   "source": [
    "### Train, test split"
   ]
  },
  {
   "cell_type": "code",
   "execution_count": 19,
   "metadata": {},
   "outputs": [],
   "source": [
    "X = crs_df[\"title_and_description\"]\n",
    "y = crs_df[\"crs_3_code\"]"
   ]
  },
  {
   "cell_type": "code",
   "execution_count": 21,
   "metadata": {},
   "outputs": [],
   "source": [
    "X_train, X_test, y_train, y_test = train_test_split(X, y, test_size=0.3, random_state=42)"
   ]
  },
  {
   "cell_type": "markdown",
   "metadata": {},
   "source": [
    "## **Model**"
   ]
  },
  {
   "cell_type": "code",
   "execution_count": 25,
   "metadata": {},
   "outputs": [
    {
     "name": "stderr",
     "output_type": "stream",
     "text": [
      "Some weights of the model checkpoint at bert-base-uncased were not used when initializing BertModel: ['cls.seq_relationship.weight', 'cls.predictions.decoder.weight', 'cls.predictions.transform.LayerNorm.weight', 'cls.predictions.bias', 'cls.seq_relationship.bias', 'cls.predictions.transform.dense.weight', 'cls.predictions.transform.dense.bias', 'cls.predictions.transform.LayerNorm.bias']\n",
      "- This IS expected if you are initializing BertModel from the checkpoint of a model trained on another task or with another architecture (e.g. initializing a BertForSequenceClassification model from a BertForPreTraining model).\n",
      "- This IS NOT expected if you are initializing BertModel from the checkpoint of a model that you expect to be exactly identical (initializing a BertForSequenceClassification model from a BertForSequenceClassification model).\n"
     ]
    }
   ],
   "source": [
    "model = BertModel.from_pretrained('bert-base-uncased')"
   ]
  },
  {
   "cell_type": "code",
   "execution_count": 26,
   "metadata": {},
   "outputs": [
    {
     "ename": "NameError",
     "evalue": "name 'nn' is not defined",
     "output_type": "error",
     "traceback": [
      "\u001b[1;31m---------------------------------------------------------------------------\u001b[0m",
      "\u001b[1;31mNameError\u001b[0m                                 Traceback (most recent call last)",
      "Cell \u001b[1;32mIn[26], line 1\u001b[0m\n\u001b[1;32m----> 1\u001b[0m classifier \u001b[38;5;241m=\u001b[39m \u001b[43mnn\u001b[49m\u001b[38;5;241m.\u001b[39mLinear(\u001b[38;5;241m768\u001b[39m, num_labels)\n",
      "\u001b[1;31mNameError\u001b[0m: name 'nn' is not defined"
     ]
    }
   ],
   "source": [
    "classifier = nn.Linear(768, num_labels)"
   ]
  }
 ],
 "metadata": {
  "kernelspec": {
   "display_name": "pamb",
   "language": "python",
   "name": "python3"
  },
  "language_info": {
   "codemirror_mode": {
    "name": "ipython",
    "version": 3
   },
   "file_extension": ".py",
   "mimetype": "text/x-python",
   "name": "python",
   "nbconvert_exporter": "python",
   "pygments_lexer": "ipython3",
   "version": "3.10.13"
  }
 },
 "nbformat": 4,
 "nbformat_minor": 2
}
