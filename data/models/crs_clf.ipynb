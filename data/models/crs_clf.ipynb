{
 "cells": [
  {
   "cell_type": "markdown",
   "metadata": {},
   "source": [
    "# **Predict CRS Codes**"
   ]
  },
  {
   "cell_type": "markdown",
   "metadata": {},
   "source": [
    "## **Dependencies**"
   ]
  },
  {
   "cell_type": "code",
   "execution_count": 12,
   "metadata": {},
   "outputs": [],
   "source": [
    "import pandas as pd\n",
    "from sklearn.model_selection import train_test_split\n",
    "from transformers import BertTokenizer, TFBertForSequenceClassification, TFBertModel\n",
    "from transformers import InputExample, InputFeatures\n",
    "import tensorflow as tf"
   ]
  },
  {
   "cell_type": "markdown",
   "metadata": {},
   "source": [
    "## **Data**"
   ]
  },
  {
   "cell_type": "code",
   "execution_count": 2,
   "metadata": {},
   "outputs": [
    {
     "data": {
      "text/html": [
       "<div>\n",
       "<style scoped>\n",
       "    .dataframe tbody tr th:only-of-type {\n",
       "        vertical-align: middle;\n",
       "    }\n",
       "\n",
       "    .dataframe tbody tr th {\n",
       "        vertical-align: top;\n",
       "    }\n",
       "\n",
       "    .dataframe thead th {\n",
       "        text-align: right;\n",
       "    }\n",
       "</style>\n",
       "<table border=\"1\" class=\"dataframe\">\n",
       "  <thead>\n",
       "    <tr style=\"text-align: right;\">\n",
       "      <th></th>\n",
       "      <th>iati_id</th>\n",
       "      <th>iati_orga_id</th>\n",
       "      <th>orga_abbreviation</th>\n",
       "      <th>orga_full_name</th>\n",
       "      <th>client</th>\n",
       "      <th>title_en</th>\n",
       "      <th>title_other</th>\n",
       "      <th>title_main</th>\n",
       "      <th>organization</th>\n",
       "      <th>country_code_list</th>\n",
       "      <th>...</th>\n",
       "      <th>actual_end</th>\n",
       "      <th>last_update</th>\n",
       "      <th>crs_5_code</th>\n",
       "      <th>crs_5_name</th>\n",
       "      <th>crs_3_code</th>\n",
       "      <th>crs_3_name</th>\n",
       "      <th>docs</th>\n",
       "      <th>title_and_description</th>\n",
       "      <th>sgd_pred_code</th>\n",
       "      <th>sgd_pred_str</th>\n",
       "    </tr>\n",
       "  </thead>\n",
       "  <tbody>\n",
       "    <tr>\n",
       "      <th>0</th>\n",
       "      <td>DE-1-201822287-0</td>\n",
       "      <td>DE-1</td>\n",
       "      <td>bmz</td>\n",
       "      <td>Bundesministerium für wirtschaftliche Zusammen...</td>\n",
       "      <td>BMZ</td>\n",
       "      <td>Strengthening quality infrastructure for trade...</td>\n",
       "      <td>Stärkung der Qualitätsinfrastruktur für den Ha...</td>\n",
       "      <td>Strengthening quality infrastructure for trade...</td>\n",
       "      <td>Bundesministerium für wirtschaftliche Zusammen...</td>\n",
       "      <td>NaN</td>\n",
       "      <td>...</td>\n",
       "      <td>2016-03-14T00:00:00Z</td>\n",
       "      <td>2024-02-29T00:00:00Z</td>\n",
       "      <td>33130;</td>\n",
       "      <td>Regional trade agreements (RTAs);</td>\n",
       "      <td>331;</td>\n",
       "      <td>Trade Policies &amp; Regulations;</td>\n",
       "      <td>NaN</td>\n",
       "      <td>Strengthening quality infrastructure for trade...</td>\n",
       "      <td>9</td>\n",
       "      <td>8    9. Build resilient infrastructure, promot...</td>\n",
       "    </tr>\n",
       "    <tr>\n",
       "      <th>1</th>\n",
       "      <td>DE-1-201920016-0</td>\n",
       "      <td>DE-1</td>\n",
       "      <td>bmz</td>\n",
       "      <td>Bundesministerium für wirtschaftliche Zusammen...</td>\n",
       "      <td>BMZ</td>\n",
       "      <td>Strengthening of Metrology for the Improvement...</td>\n",
       "      <td>Stärkung des Messwesens in Ägypten zur Verbess...</td>\n",
       "      <td>Strengthening of Metrology for the Improvement...</td>\n",
       "      <td>Bundesministerium für wirtschaftliche Zusammen...</td>\n",
       "      <td>['AG']</td>\n",
       "      <td>...</td>\n",
       "      <td>2016-03-14T00:00:00Z</td>\n",
       "      <td>2024-02-29T00:00:00Z</td>\n",
       "      <td>14010;</td>\n",
       "      <td>Water sector policy and administrative managem...</td>\n",
       "      <td>140;</td>\n",
       "      <td>Water Supply &amp; Sanitation;</td>\n",
       "      <td>NaN</td>\n",
       "      <td>Strengthening of Metrology for the Improvement...</td>\n",
       "      <td>8</td>\n",
       "      <td>7    8. Promote sustained, inclusive and susta...</td>\n",
       "    </tr>\n",
       "    <tr>\n",
       "      <th>2</th>\n",
       "      <td>DE-1-201721877-0</td>\n",
       "      <td>DE-1</td>\n",
       "      <td>bmz</td>\n",
       "      <td>Bundesministerium für wirtschaftliche Zusammen...</td>\n",
       "      <td>BMZ</td>\n",
       "      <td>Strengthening regional integration and coopera...</td>\n",
       "      <td>Stärkung der regionalen Integration und Zusamm...</td>\n",
       "      <td>Strengthening regional integration and coopera...</td>\n",
       "      <td>Bundesministerium für wirtschaftliche Zusammen...</td>\n",
       "      <td>NaN</td>\n",
       "      <td>...</td>\n",
       "      <td>2016-03-14T00:00:00Z</td>\n",
       "      <td>2024-02-29T00:00:00Z</td>\n",
       "      <td>33130;</td>\n",
       "      <td>Regional trade agreements (RTAs);</td>\n",
       "      <td>331;</td>\n",
       "      <td>Trade Policies &amp; Regulations;</td>\n",
       "      <td>NaN</td>\n",
       "      <td>Strengthening regional integration and coopera...</td>\n",
       "      <td>9</td>\n",
       "      <td>8    9. Build resilient infrastructure, promot...</td>\n",
       "    </tr>\n",
       "  </tbody>\n",
       "</table>\n",
       "<p>3 rows × 32 columns</p>\n",
       "</div>"
      ],
      "text/plain": [
       "            iati_id iati_orga_id orga_abbreviation  \\\n",
       "0  DE-1-201822287-0         DE-1               bmz   \n",
       "1  DE-1-201920016-0         DE-1               bmz   \n",
       "2  DE-1-201721877-0         DE-1               bmz   \n",
       "\n",
       "                                      orga_full_name client  \\\n",
       "0  Bundesministerium für wirtschaftliche Zusammen...    BMZ   \n",
       "1  Bundesministerium für wirtschaftliche Zusammen...    BMZ   \n",
       "2  Bundesministerium für wirtschaftliche Zusammen...    BMZ   \n",
       "\n",
       "                                            title_en  \\\n",
       "0  Strengthening quality infrastructure for trade...   \n",
       "1  Strengthening of Metrology for the Improvement...   \n",
       "2  Strengthening regional integration and coopera...   \n",
       "\n",
       "                                         title_other  \\\n",
       "0  Stärkung der Qualitätsinfrastruktur für den Ha...   \n",
       "1  Stärkung des Messwesens in Ägypten zur Verbess...   \n",
       "2  Stärkung der regionalen Integration und Zusamm...   \n",
       "\n",
       "                                          title_main  \\\n",
       "0  Strengthening quality infrastructure for trade...   \n",
       "1  Strengthening of Metrology for the Improvement...   \n",
       "2  Strengthening regional integration and coopera...   \n",
       "\n",
       "                                        organization country_code_list  ...  \\\n",
       "0  Bundesministerium für wirtschaftliche Zusammen...               NaN  ...   \n",
       "1  Bundesministerium für wirtschaftliche Zusammen...            ['AG']  ...   \n",
       "2  Bundesministerium für wirtschaftliche Zusammen...               NaN  ...   \n",
       "\n",
       "             actual_end           last_update crs_5_code  \\\n",
       "0  2016-03-14T00:00:00Z  2024-02-29T00:00:00Z    33130;    \n",
       "1  2016-03-14T00:00:00Z  2024-02-29T00:00:00Z    14010;    \n",
       "2  2016-03-14T00:00:00Z  2024-02-29T00:00:00Z    33130;    \n",
       "\n",
       "                                          crs_5_name crs_3_code  \\\n",
       "0                 Regional trade agreements (RTAs);       331;    \n",
       "1  Water sector policy and administrative managem...      140;    \n",
       "2                 Regional trade agreements (RTAs);       331;    \n",
       "\n",
       "                       crs_3_name docs  \\\n",
       "0  Trade Policies & Regulations;   NaN   \n",
       "1     Water Supply & Sanitation;   NaN   \n",
       "2  Trade Policies & Regulations;   NaN   \n",
       "\n",
       "                               title_and_description sgd_pred_code  \\\n",
       "0  Strengthening quality infrastructure for trade...             9   \n",
       "1  Strengthening of Metrology for the Improvement...             8   \n",
       "2  Strengthening regional integration and coopera...             9   \n",
       "\n",
       "                                        sgd_pred_str  \n",
       "0  8    9. Build resilient infrastructure, promot...  \n",
       "1  7    8. Promote sustained, inclusive and susta...  \n",
       "2  8    9. Build resilient infrastructure, promot...  \n",
       "\n",
       "[3 rows x 32 columns]"
      ]
     },
     "execution_count": 2,
     "metadata": {},
     "output_type": "execute_result"
    }
   ],
   "source": [
    "df = pd.read_csv(\"../../src/merged_orgas.csv\")\n",
    "df.head(3)"
   ]
  },
  {
   "cell_type": "code",
   "execution_count": 4,
   "metadata": {},
   "outputs": [
    {
     "data": {
      "text/plain": [
       "Index(['iati_id', 'iati_orga_id', 'orga_abbreviation', 'orga_full_name',\n",
       "       'client', 'title_en', 'title_other', 'title_main', 'organization',\n",
       "       'country_code_list', 'country', 'country_name', 'country_flag',\n",
       "       'region', 'location', 'description_en', 'description_other',\n",
       "       'description_main', 'status', 'planned_start', 'actual_start',\n",
       "       'planned_end', 'actual_end', 'last_update', 'crs_5_code', 'crs_5_name',\n",
       "       'crs_3_code', 'crs_3_name', 'docs', 'title_and_description',\n",
       "       'sgd_pred_code', 'sgd_pred_str'],\n",
       "      dtype='object')"
      ]
     },
     "execution_count": 4,
     "metadata": {},
     "output_type": "execute_result"
    }
   ],
   "source": [
    "df.columns"
   ]
  },
  {
   "cell_type": "markdown",
   "metadata": {},
   "source": [
    "### Extract data with annotated crs code"
   ]
  },
  {
   "cell_type": "code",
   "execution_count": 5,
   "metadata": {},
   "outputs": [
    {
     "name": "stdout",
     "output_type": "stream",
     "text": [
      "> 26157 / 27397 project with crs3 code\n"
     ]
    }
   ],
   "source": [
    "crs_df = df[df[\"crs_3_code\"].notnull()]\n",
    "\n",
    "print(f\"> {len(crs_df)} / {len(df)} project with crs3 code\")"
   ]
  },
  {
   "cell_type": "markdown",
   "metadata": {},
   "source": [
    "### Train, test split"
   ]
  },
  {
   "cell_type": "code",
   "execution_count": 6,
   "metadata": {},
   "outputs": [],
   "source": [
    "X = crs_df[\"title_and_description\"]\n",
    "y = crs_df[\"crs_3_code\"]"
   ]
  },
  {
   "cell_type": "code",
   "execution_count": 8,
   "metadata": {},
   "outputs": [],
   "source": [
    "X_train, X_test, y_train, y_test = train_test_split(X, y, test_size=0.3, random_state=42)"
   ]
  },
  {
   "cell_type": "markdown",
   "metadata": {},
   "source": [
    "## **Model**"
   ]
  },
  {
   "cell_type": "code",
   "execution_count": 9,
   "metadata": {},
   "outputs": [
    {
     "data": {
      "application/vnd.jupyter.widget-view+json": {
       "model_id": "c083e73657ac4e58935ee8089834662c",
       "version_major": 2,
       "version_minor": 0
      },
      "text/plain": [
       "config.json:   0%|          | 0.00/570 [00:00<?, ?B/s]"
      ]
     },
     "metadata": {},
     "output_type": "display_data"
    },
    {
     "name": "stderr",
     "output_type": "stream",
     "text": [
      "c:\\Users\\UserNA6153\\anaconda3\\envs\\pamb2\\lib\\site-packages\\huggingface_hub\\file_download.py:149: UserWarning: `huggingface_hub` cache-system uses symlinks by default to efficiently store duplicated files but your machine does not support them in C:\\Users\\UserNA6153\\.cache\\huggingface\\hub\\models--bert-base-uncased. Caching files will still work but in a degraded version that might require more space on your disk. This warning can be disabled by setting the `HF_HUB_DISABLE_SYMLINKS_WARNING` environment variable. For more details, see https://huggingface.co/docs/huggingface_hub/how-to-cache#limitations.\n",
      "To support symlinks on Windows, you either need to activate Developer Mode or to run Python as an administrator. In order to see activate developer mode, see this article: https://docs.microsoft.com/en-us/windows/apps/get-started/enable-your-device-for-development\n",
      "  warnings.warn(message)\n"
     ]
    },
    {
     "data": {
      "application/vnd.jupyter.widget-view+json": {
       "model_id": "116e87757f524144b9394b68fa8c2d85",
       "version_major": 2,
       "version_minor": 0
      },
      "text/plain": [
       "model.safetensors:   0%|          | 0.00/440M [00:00<?, ?B/s]"
      ]
     },
     "metadata": {},
     "output_type": "display_data"
    }
   ],
   "source": [
    "model_name = 'bert-base-uncased'\n",
    "tokenizer = BertTokenizer.from_pretrained(model_name)\n",
    "model = TFBertForSequenceClassification.from_pretrained(model_name, num_labels=2)"
   ]
  },
  {
   "cell_type": "code",
   "execution_count": 13,
   "metadata": {},
   "outputs": [
    {
     "data": {
      "application/vnd.jupyter.widget-view+json": {
       "model_id": "b2418c435991426e913d7da385cad35c",
       "version_major": 2,
       "version_minor": 0
      },
      "text/plain": [
       "tokenizer_config.json:   0%|          | 0.00/48.0 [00:00<?, ?B/s]"
      ]
     },
     "metadata": {},
     "output_type": "display_data"
    },
    {
     "data": {
      "application/vnd.jupyter.widget-view+json": {
       "model_id": "e3e788b4d116472b8abe20f998657df9",
       "version_major": 2,
       "version_minor": 0
      },
      "text/plain": [
       "vocab.txt:   0%|          | 0.00/232k [00:00<?, ?B/s]"
      ]
     },
     "metadata": {},
     "output_type": "display_data"
    },
    {
     "data": {
      "application/vnd.jupyter.widget-view+json": {
       "model_id": "439f8049d183448397e7b93f216c1f21",
       "version_major": 2,
       "version_minor": 0
      },
      "text/plain": [
       "tokenizer.json:   0%|          | 0.00/466k [00:00<?, ?B/s]"
      ]
     },
     "metadata": {},
     "output_type": "display_data"
    },
    {
     "ename": "NameError",
     "evalue": "name 'TFBertModel' is not defined",
     "output_type": "error",
     "traceback": [
      "\u001b[1;31m---------------------------------------------------------------------------\u001b[0m",
      "\u001b[1;31mNameError\u001b[0m                                 Traceback (most recent call last)",
      "Cell \u001b[1;32mIn[13], line 3\u001b[0m\n\u001b[0;32m      1\u001b[0m model_name \u001b[38;5;241m=\u001b[39m \u001b[38;5;124m'\u001b[39m\u001b[38;5;124mbert-base-uncased\u001b[39m\u001b[38;5;124m'\u001b[39m\n\u001b[0;32m      2\u001b[0m tokenizer \u001b[38;5;241m=\u001b[39m BertTokenizer\u001b[38;5;241m.\u001b[39mfrom_pretrained(model_name)\n\u001b[1;32m----> 3\u001b[0m bert_model \u001b[38;5;241m=\u001b[39m \u001b[43mTFBertModel\u001b[49m\u001b[38;5;241m.\u001b[39mfrom_pretrained(model_name)\n",
      "\u001b[1;31mNameError\u001b[0m: name 'TFBertModel' is not defined"
     ]
    }
   ],
   "source": [
    "model_name = 'bert-base-uncased'\n",
    "tokenizer = BertTokenizer.from_pretrained(model_name)\n",
    "bert_model = TFBertModel.from_pretrained(model_name)"
   ]
  },
  {
   "cell_type": "code",
   "execution_count": 26,
   "metadata": {},
   "outputs": [
    {
     "ename": "NameError",
     "evalue": "name 'nn' is not defined",
     "output_type": "error",
     "traceback": [
      "\u001b[1;31m---------------------------------------------------------------------------\u001b[0m",
      "\u001b[1;31mNameError\u001b[0m                                 Traceback (most recent call last)",
      "Cell \u001b[1;32mIn[26], line 1\u001b[0m\n\u001b[1;32m----> 1\u001b[0m classifier \u001b[38;5;241m=\u001b[39m \u001b[43mnn\u001b[49m\u001b[38;5;241m.\u001b[39mLinear(\u001b[38;5;241m768\u001b[39m, num_labels)\n",
      "\u001b[1;31mNameError\u001b[0m: name 'nn' is not defined"
     ]
    }
   ],
   "source": [
    "classifier = nn.Linear(768, num_labels)"
   ]
  }
 ],
 "metadata": {
  "kernelspec": {
   "display_name": "pamb",
   "language": "python",
   "name": "python3"
  },
  "language_info": {
   "codemirror_mode": {
    "name": "ipython",
    "version": 3
   },
   "file_extension": ".py",
   "mimetype": "text/x-python",
   "name": "python",
   "nbconvert_exporter": "python",
   "pygments_lexer": "ipython3",
   "version": "3.10.13"
  }
 },
 "nbformat": 4,
 "nbformat_minor": 2
}
