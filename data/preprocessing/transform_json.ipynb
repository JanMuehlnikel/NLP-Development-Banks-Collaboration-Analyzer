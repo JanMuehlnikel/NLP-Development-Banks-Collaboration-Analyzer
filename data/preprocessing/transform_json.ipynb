{
 "cells": [
  {
   "cell_type": "code",
   "execution_count": 36,
   "metadata": {},
   "outputs": [],
   "source": [
    "import pandas as pd"
   ]
  },
  {
   "cell_type": "code",
   "execution_count": 37,
   "metadata": {},
   "outputs": [
    {
     "data": {
      "text/html": [
       "<div>\n",
       "<style scoped>\n",
       "    .dataframe tbody tr th:only-of-type {\n",
       "        vertical-align: middle;\n",
       "    }\n",
       "\n",
       "    .dataframe tbody tr th {\n",
       "        vertical-align: top;\n",
       "    }\n",
       "\n",
       "    .dataframe thead th {\n",
       "        text-align: right;\n",
       "    }\n",
       "</style>\n",
       "<table border=\"1\" class=\"dataframe\">\n",
       "  <thead>\n",
       "    <tr style=\"text-align: right;\">\n",
       "      <th></th>\n",
       "      <th>iati_identifier</th>\n",
       "      <th>title_narrative</th>\n",
       "      <th>activity_date_type</th>\n",
       "      <th>activity_status_code</th>\n",
       "      <th>default_aid_type_code</th>\n",
       "      <th>description_narrative</th>\n",
       "      <th>last_updated_datetime</th>\n",
       "      <th>activity_date_iso_date</th>\n",
       "      <th>reporting_org_narrative</th>\n",
       "      <th>title_narrative_xml_lang</th>\n",
       "      <th>...</th>\n",
       "      <th>sector_narrative</th>\n",
       "      <th>document_link_url</th>\n",
       "      <th>sector_vocabulary</th>\n",
       "      <th>recipient_country_code</th>\n",
       "      <th>location_name_narrative</th>\n",
       "      <th>policy_marker_code</th>\n",
       "      <th>recipient_region_code</th>\n",
       "      <th>tag_code</th>\n",
       "      <th>tag_narrative</th>\n",
       "      <th>tag_vocabulary</th>\n",
       "    </tr>\n",
       "  </thead>\n",
       "  <tbody>\n",
       "    <tr>\n",
       "      <th>385</th>\n",
       "      <td>44000-P131029</td>\n",
       "      <td>[Social Inclusion TAL]</td>\n",
       "      <td>[1, 2, 3, 4]</td>\n",
       "      <td>3</td>\n",
       "      <td>[C01]</td>\n",
       "      <td>[The project development objective is to stren...</td>\n",
       "      <td>2024-01-28T00:53:37Z</td>\n",
       "      <td>[2012-11-15T00:00:00Z, 2012-12-13T00:00:00Z, 2...</td>\n",
       "      <td>[World Bank]</td>\n",
       "      <td>NaN</td>\n",
       "      <td>...</td>\n",
       "      <td>[Public Administration - Social Protection, So...</td>\n",
       "      <td>[http://documents.worldbank.org/curated/en/172...</td>\n",
       "      <td>[1, 1, 1, 1, 99, 99, 98, 98, 98, 98, 98, 98, 9...</td>\n",
       "      <td>[PE]</td>\n",
       "      <td>[Lambayeque, Tacna, Piura, Ucayali, Tumbes, Re...</td>\n",
       "      <td>NaN</td>\n",
       "      <td>NaN</td>\n",
       "      <td>NaN</td>\n",
       "      <td>NaN</td>\n",
       "      <td>NaN</td>\n",
       "    </tr>\n",
       "    <tr>\n",
       "      <th>386</th>\n",
       "      <td>44000-P132505</td>\n",
       "      <td>[Cusco Transport Improvement Project]</td>\n",
       "      <td>[1, 2, 3, 4]</td>\n",
       "      <td>2</td>\n",
       "      <td>[C01]</td>\n",
       "      <td>[The overall PDO is to improve mobility in the...</td>\n",
       "      <td>2024-01-28T00:53:38Z</td>\n",
       "      <td>[2013-09-19T00:00:00Z, 2014-02-28T00:00:00Z, 2...</td>\n",
       "      <td>[World Bank]</td>\n",
       "      <td>NaN</td>\n",
       "      <td>...</td>\n",
       "      <td>[Sub-National Government, Urban Transport, Pub...</td>\n",
       "      <td>[http://documents.worldbank.org/curated/en/578...</td>\n",
       "      <td>[1, 1, 99, 99, 98, 98, 98, 98, 98]</td>\n",
       "      <td>[PE]</td>\n",
       "      <td>[Provincia de Cusco]</td>\n",
       "      <td>NaN</td>\n",
       "      <td>NaN</td>\n",
       "      <td>NaN</td>\n",
       "      <td>NaN</td>\n",
       "      <td>NaN</td>\n",
       "    </tr>\n",
       "    <tr>\n",
       "      <th>387</th>\n",
       "      <td>44000-P132515</td>\n",
       "      <td>[Support to the Subnational Transport Program ...</td>\n",
       "      <td>[1, 2, 3, 4]</td>\n",
       "      <td>3</td>\n",
       "      <td>[C01]</td>\n",
       "      <td>[The Project development objectives are to (i)...</td>\n",
       "      <td>2024-01-28T00:53:39Z</td>\n",
       "      <td>[2013-12-12T00:00:00Z, 2015-12-11T00:00:00Z, 2...</td>\n",
       "      <td>[World Bank]</td>\n",
       "      <td>NaN</td>\n",
       "      <td>...</td>\n",
       "      <td>[Rural and Inter-Urban Roads, Public Administr...</td>\n",
       "      <td>[http://documents.worldbank.org/curated/en/787...</td>\n",
       "      <td>[1, 1, 1, 1, 99, 99, 98, 98, 98, 98, 98, 98, 9...</td>\n",
       "      <td>[PE]</td>\n",
       "      <td>[Lambayeque, Region de San Martin, Region de H...</td>\n",
       "      <td>NaN</td>\n",
       "      <td>NaN</td>\n",
       "      <td>NaN</td>\n",
       "      <td>NaN</td>\n",
       "      <td>NaN</td>\n",
       "    </tr>\n",
       "  </tbody>\n",
       "</table>\n",
       "<p>3 rows × 23 columns</p>\n",
       "</div>"
      ],
      "text/plain": [
       "    iati_identifier                                    title_narrative  \\\n",
       "385   44000-P131029                             [Social Inclusion TAL]   \n",
       "386   44000-P132505              [Cusco Transport Improvement Project]   \n",
       "387   44000-P132515  [Support to the Subnational Transport Program ...   \n",
       "\n",
       "    activity_date_type  activity_status_code default_aid_type_code  \\\n",
       "385       [1, 2, 3, 4]                     3                 [C01]   \n",
       "386       [1, 2, 3, 4]                     2                 [C01]   \n",
       "387       [1, 2, 3, 4]                     3                 [C01]   \n",
       "\n",
       "                                 description_narrative last_updated_datetime  \\\n",
       "385  [The project development objective is to stren...  2024-01-28T00:53:37Z   \n",
       "386  [The overall PDO is to improve mobility in the...  2024-01-28T00:53:38Z   \n",
       "387  [The Project development objectives are to (i)...  2024-01-28T00:53:39Z   \n",
       "\n",
       "                                activity_date_iso_date  \\\n",
       "385  [2012-11-15T00:00:00Z, 2012-12-13T00:00:00Z, 2...   \n",
       "386  [2013-09-19T00:00:00Z, 2014-02-28T00:00:00Z, 2...   \n",
       "387  [2013-12-12T00:00:00Z, 2015-12-11T00:00:00Z, 2...   \n",
       "\n",
       "    reporting_org_narrative title_narrative_xml_lang  ...  \\\n",
       "385            [World Bank]                      NaN  ...   \n",
       "386            [World Bank]                      NaN  ...   \n",
       "387            [World Bank]                      NaN  ...   \n",
       "\n",
       "                                      sector_narrative  \\\n",
       "385  [Public Administration - Social Protection, So...   \n",
       "386  [Sub-National Government, Urban Transport, Pub...   \n",
       "387  [Rural and Inter-Urban Roads, Public Administr...   \n",
       "\n",
       "                                     document_link_url  \\\n",
       "385  [http://documents.worldbank.org/curated/en/172...   \n",
       "386  [http://documents.worldbank.org/curated/en/578...   \n",
       "387  [http://documents.worldbank.org/curated/en/787...   \n",
       "\n",
       "                                     sector_vocabulary recipient_country_code  \\\n",
       "385  [1, 1, 1, 1, 99, 99, 98, 98, 98, 98, 98, 98, 9...                   [PE]   \n",
       "386                 [1, 1, 99, 99, 98, 98, 98, 98, 98]                   [PE]   \n",
       "387  [1, 1, 1, 1, 99, 99, 98, 98, 98, 98, 98, 98, 9...                   [PE]   \n",
       "\n",
       "                               location_name_narrative policy_marker_code  \\\n",
       "385  [Lambayeque, Tacna, Piura, Ucayali, Tumbes, Re...                NaN   \n",
       "386                               [Provincia de Cusco]                NaN   \n",
       "387  [Lambayeque, Region de San Martin, Region de H...                NaN   \n",
       "\n",
       "    recipient_region_code tag_code tag_narrative tag_vocabulary  \n",
       "385                   NaN      NaN           NaN            NaN  \n",
       "386                   NaN      NaN           NaN            NaN  \n",
       "387                   NaN      NaN           NaN            NaN  \n",
       "\n",
       "[3 rows x 23 columns]"
      ]
     },
     "execution_count": 37,
     "metadata": {},
     "output_type": "execute_result"
    }
   ],
   "source": [
    "#Read in data into df from json\n",
    "df = pd.read_json('../../src/response_iati.json')\n",
    "df.iloc[385:388]"
   ]
  },
  {
   "cell_type": "code",
   "execution_count": 38,
   "metadata": {},
   "outputs": [],
   "source": [
    "# create new empty df to fill with transformed data\n",
    "\n",
    "trans_df = pd.DataFrame()"
   ]
  },
  {
   "cell_type": "markdown",
   "metadata": {},
   "source": [
    "## **Feature Engineering & Transformation**"
   ]
  },
  {
   "cell_type": "markdown",
   "metadata": {},
   "source": [
    "### IATI ID"
   ]
  },
  {
   "cell_type": "code",
   "execution_count": 39,
   "metadata": {},
   "outputs": [
    {
     "data": {
      "text/plain": [
       "count                      1000\n",
       "unique                     1000\n",
       "top       US-GOV-12-CO201491257\n",
       "freq                          1\n",
       "Name: iati_identifier, dtype: object"
      ]
     },
     "execution_count": 39,
     "metadata": {},
     "output_type": "execute_result"
    }
   ],
   "source": [
    "df['iati_identifier'].describe()"
   ]
  },
  {
   "cell_type": "code",
   "execution_count": 40,
   "metadata": {},
   "outputs": [
    {
     "data": {
      "text/html": [
       "<div>\n",
       "<style scoped>\n",
       "    .dataframe tbody tr th:only-of-type {\n",
       "        vertical-align: middle;\n",
       "    }\n",
       "\n",
       "    .dataframe tbody tr th {\n",
       "        vertical-align: top;\n",
       "    }\n",
       "\n",
       "    .dataframe thead th {\n",
       "        text-align: right;\n",
       "    }\n",
       "</style>\n",
       "<table border=\"1\" class=\"dataframe\">\n",
       "  <thead>\n",
       "    <tr style=\"text-align: right;\">\n",
       "      <th></th>\n",
       "      <th>iati_id</th>\n",
       "    </tr>\n",
       "  </thead>\n",
       "  <tbody>\n",
       "    <tr>\n",
       "      <th>0</th>\n",
       "      <td>US-GOV-12-CO201491257</td>\n",
       "    </tr>\n",
       "    <tr>\n",
       "      <th>1</th>\n",
       "      <td>US-GOV-21-CO-579-48525</td>\n",
       "    </tr>\n",
       "  </tbody>\n",
       "</table>\n",
       "</div>"
      ],
      "text/plain": [
       "                  iati_id\n",
       "0   US-GOV-12-CO201491257\n",
       "1  US-GOV-21-CO-579-48525"
      ]
     },
     "execution_count": 40,
     "metadata": {},
     "output_type": "execute_result"
    }
   ],
   "source": [
    "trans_df[\"iati_id\"] = df[\"iati_identifier\"].values\n",
    "\n",
    "trans_df.head(2)"
   ]
  },
  {
   "cell_type": "markdown",
   "metadata": {},
   "source": [
    "### Title"
   ]
  },
  {
   "cell_type": "code",
   "execution_count": 41,
   "metadata": {},
   "outputs": [
    {
     "data": {
      "text/plain": [
       "count                                                  1000\n",
       "unique                                                  646\n",
       "top       [Protecting and Improving Health Globally:Buil...\n",
       "freq                                                     19\n",
       "Name: title_narrative, dtype: object"
      ]
     },
     "execution_count": 41,
     "metadata": {},
     "output_type": "execute_result"
    }
   ],
   "source": [
    "df['title_narrative'].describe()"
   ]
  },
  {
   "cell_type": "code",
   "execution_count": 42,
   "metadata": {},
   "outputs": [
    {
     "data": {
      "text/plain": [
       "count      967\n",
       "unique       1\n",
       "top       [en]\n",
       "freq       967\n",
       "Name: title_narrative_xml_lang, dtype: object"
      ]
     },
     "execution_count": 42,
     "metadata": {},
     "output_type": "execute_result"
    }
   ],
   "source": [
    "df[\"title_narrative_xml_lang\"].describe()"
   ]
  },
  {
   "cell_type": "code",
   "execution_count": 43,
   "metadata": {},
   "outputs": [
    {
     "name": "stdout",
     "output_type": "stream",
     "text": [
      "Errors excepted: Probably no title for 33 sample(s)!\n",
      "count     1000\n",
      "unique     614\n",
      "top        NaN\n",
      "freq        33\n",
      "Name: title_en, dtype: object\n",
      "Error excepted: Probably no title for one sample! \n"
     ]
    },
    {
     "data": {
      "text/html": [
       "<div>\n",
       "<style scoped>\n",
       "    .dataframe tbody tr th:only-of-type {\n",
       "        vertical-align: middle;\n",
       "    }\n",
       "\n",
       "    .dataframe tbody tr th {\n",
       "        vertical-align: top;\n",
       "    }\n",
       "\n",
       "    .dataframe thead th {\n",
       "        text-align: right;\n",
       "    }\n",
       "</style>\n",
       "<table border=\"1\" class=\"dataframe\">\n",
       "  <thead>\n",
       "    <tr style=\"text-align: right;\">\n",
       "      <th></th>\n",
       "      <th>iati_id</th>\n",
       "      <th>title_en</th>\n",
       "    </tr>\n",
       "  </thead>\n",
       "  <tbody>\n",
       "    <tr>\n",
       "      <th>0</th>\n",
       "      <td>US-GOV-12-CO201491257</td>\n",
       "      <td>Technical Assistance - GPI: Energy Procurement...</td>\n",
       "    </tr>\n",
       "    <tr>\n",
       "      <th>1</th>\n",
       "      <td>US-GOV-21-CO-579-48525</td>\n",
       "      <td>Collective memory and perspective of the post-...</td>\n",
       "    </tr>\n",
       "  </tbody>\n",
       "</table>\n",
       "</div>"
      ],
      "text/plain": [
       "                  iati_id                                           title_en\n",
       "0   US-GOV-12-CO201491257  Technical Assistance - GPI: Energy Procurement...\n",
       "1  US-GOV-21-CO-579-48525  Collective memory and perspective of the post-..."
      ]
     },
     "execution_count": 43,
     "metadata": {},
     "output_type": "execute_result"
    }
   ],
   "source": [
    "################\n",
    "# Add en title #\n",
    "################\n",
    "\n",
    "trans_df[\"title_en\"] = \"NaN\"\n",
    "error_count = 0\n",
    "\n",
    "for index, row in df.iterrows():\n",
    "    lang_list = row['title_narrative_xml_lang']\n",
    "    try:\n",
    "        for j in range(0, len(lang_list)):\n",
    "            if \"en\" in lang_list:\n",
    "                if lang_list[j] == \"en\":\n",
    "                    title = row['title_narrative'][j]\n",
    "                    trans_df[\"title_en\"][index] = title\n",
    "            else:\n",
    "                trans_df[\"title_en\"][index] = \"NaN\"\n",
    "            \n",
    "    except:\n",
    "        error_count += 1\n",
    "    \n",
    "print(f\"Errors excepted: Probably no title for {error_count} sample(s)!\")\n",
    "print(trans_df[\"title_en\"].describe())\n",
    "print(\"Error excepted: Probably no title for one sample! \")\n",
    "trans_df.head(2)"
   ]
  },
  {
   "cell_type": "code",
   "execution_count": 44,
   "metadata": {},
   "outputs": [
    {
     "name": "stdout",
     "output_type": "stream",
     "text": [
      "Errors excepted: Probably no title for 33 sample(s)!\n",
      "count     1000\n",
      "unique       1\n",
      "top        NaN\n",
      "freq      1000\n",
      "Name: title_other, dtype: object\n"
     ]
    },
    {
     "data": {
      "text/html": [
       "<div>\n",
       "<style scoped>\n",
       "    .dataframe tbody tr th:only-of-type {\n",
       "        vertical-align: middle;\n",
       "    }\n",
       "\n",
       "    .dataframe tbody tr th {\n",
       "        vertical-align: top;\n",
       "    }\n",
       "\n",
       "    .dataframe thead th {\n",
       "        text-align: right;\n",
       "    }\n",
       "</style>\n",
       "<table border=\"1\" class=\"dataframe\">\n",
       "  <thead>\n",
       "    <tr style=\"text-align: right;\">\n",
       "      <th></th>\n",
       "      <th>iati_id</th>\n",
       "      <th>title_en</th>\n",
       "      <th>title_other</th>\n",
       "    </tr>\n",
       "  </thead>\n",
       "  <tbody>\n",
       "    <tr>\n",
       "      <th>0</th>\n",
       "      <td>US-GOV-12-CO201491257</td>\n",
       "      <td>Technical Assistance - GPI: Energy Procurement...</td>\n",
       "      <td>NaN</td>\n",
       "    </tr>\n",
       "    <tr>\n",
       "      <th>1</th>\n",
       "      <td>US-GOV-21-CO-579-48525</td>\n",
       "      <td>Collective memory and perspective of the post-...</td>\n",
       "      <td>NaN</td>\n",
       "    </tr>\n",
       "  </tbody>\n",
       "</table>\n",
       "</div>"
      ],
      "text/plain": [
       "                  iati_id                                           title_en  \\\n",
       "0   US-GOV-12-CO201491257  Technical Assistance - GPI: Energy Procurement...   \n",
       "1  US-GOV-21-CO-579-48525  Collective memory and perspective of the post-...   \n",
       "\n",
       "  title_other  \n",
       "0         NaN  \n",
       "1         NaN  "
      ]
     },
     "execution_count": 44,
     "metadata": {},
     "output_type": "execute_result"
    }
   ],
   "source": [
    "###################\n",
    "# Add other title #\n",
    "###################\n",
    "\n",
    "trans_df[\"title_other\"] = \"NaN\"\n",
    "\n",
    "error_count = 0\n",
    "\n",
    "for index, row in df.iterrows():\n",
    "    lang_list = row['title_narrative_xml_lang']\n",
    "    try:\n",
    "        for j in range(0, len(lang_list)):\n",
    "            if lang_list[j] != \"en\":\n",
    "                title = row['title_narrative'][j]\n",
    "                if trans_df[\"title_other\"][index] == \"\":\n",
    "                    trans_df[\"title_other\"][index] = title\n",
    "                else:\n",
    "                    trans_df[\"title_other\"][index] = f\"{trans_df['title_other'][index]}, {title}\"\n",
    "            \n",
    "    except:\n",
    "        error_count += 1\n",
    "    \n",
    "print(f\"Errors excepted: Probably no title for {error_count} sample(s)!\")\n",
    "print(trans_df[\"title_other\"].describe())\n",
    "trans_df.head(2)"
   ]
  }
 ],
 "metadata": {
  "kernelspec": {
   "display_name": "Python 3",
   "language": "python",
   "name": "python3"
  },
  "language_info": {
   "codemirror_mode": {
    "name": "ipython",
    "version": 3
   },
   "file_extension": ".py",
   "mimetype": "text/x-python",
   "name": "python",
   "nbconvert_exporter": "python",
   "pygments_lexer": "ipython3",
   "version": "3.10.0"
  }
 },
 "nbformat": 4,
 "nbformat_minor": 2
}
