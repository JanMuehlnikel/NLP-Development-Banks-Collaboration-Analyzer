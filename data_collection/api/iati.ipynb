{
 "cells": [
  {
   "cell_type": "code",
   "execution_count": 36,
   "metadata": {},
   "outputs": [],
   "source": [
    "import requests\n",
    "import json\n",
    "import time\n",
    "from tqdm import tqdm\n",
    "import KEY"
   ]
  },
  {
   "cell_type": "code",
   "execution_count": 43,
   "metadata": {},
   "outputs": [],
   "source": [
    "fl_list = [\n",
    "    \"iati_identifier\",\n",
    "    \"title_narrative\",\n",
    "    \"title_narrative_xml_lang\",\n",
    "    \"reporting_org_narrative\",\n",
    "    \"description_narrative_xml_lang\",\n",
    "    \"description_narrative\",\n",
    "    \"recipient_country_code\",\n",
    "    \"recipient_region_code\",\n",
    "    \"location_name_narrative\",\n",
    "    \"activity_status_code\",\n",
    "    \"document_link_url\",\n",
    "    \"last_updated_datetime\",\n",
    "    \"activity_date_type\",\n",
    "    \"activity_date_iso_date\",\n",
    "    \"activity_date_narrative\",\n",
    "    \"sector_code\",\n",
    "    \"sector_narrative\",\n",
    "    \"sector_vocabulary\",\n",
    "    \"tag_code\",\n",
    "    \"tag_narrative\",\n",
    "    \"tag_vocabulary\",\n",
    "    \"policy_marker_code\",\n",
    "    \"policy_marker_narrative\",\n",
    "    \"policy_marker_code\",\n",
    "    \"default_aid_type_code\"\n",
    "]\n",
    "\n",
    "fl_str = \",\".join(fl_list)"
   ]
  },
  {
   "cell_type": "code",
   "execution_count": 47,
   "metadata": {},
   "outputs": [
    {
     "name": "stdout",
     "output_type": "stream",
     "text": [
      "Data downlaoded and stored as 'response_iati.csv'\n"
     ]
    }
   ],
   "source": [
    "url = \"https://api.iatistandard.org/datastore/activity/select\"\n",
    "query = {\n",
    "    \"q\": \"*:*\",\n",
    "    \"start\": 500000,\n",
    "    \"rows\": 1000,\n",
    "    \"fl\": fl_str\n",
    "}\n",
    "\n",
    "headers = {\n",
    "    \"Ocp-Apim-Subscription-Key\": KEY.IATI_KEY2\n",
    "}\n",
    "\n",
    "try:\n",
    "    response = requests.get(url, params=query, headers=headers)\n",
    "    if response.status_code == 200:\n",
    "        data = response.json()\n",
    "        docs = data.get(\"response\", {}).get(\"docs\", [])\n",
    "        if docs:\n",
    "            with open(\"../data/response_iati.csv\", mode='w', newline='', encoding='utf-8') as file:\n",
    "                writer = csv.DictWriter(file, fieldnames=fl_list)\n",
    "                writer.writeheader()\n",
    "                for doc in docs:\n",
    "                    row = {key: doc.get(key, '') for key in fl_list}\n",
    "                    writer.writerow(row)\n",
    "            print(\"Data downlaoded and stored as 'response_iati.csv'\")\n",
    "        else:\n",
    "            print(\"No data in response!\")\n",
    "    else:\n",
    "        print(\"Error:\", response.status_code)\n",
    "except requests.exceptions.RequestException as e:\n",
    "    print(\"Error:\", e)"
   ]
  }
 ],
 "metadata": {
  "kernelspec": {
   "display_name": "Python 3",
   "language": "python",
   "name": "python3"
  },
  "language_info": {
   "codemirror_mode": {
    "name": "ipython",
    "version": 3
   },
   "file_extension": ".py",
   "mimetype": "text/x-python",
   "name": "python",
   "nbconvert_exporter": "python",
   "pygments_lexer": "ipython3",
   "version": "3.10.0"
  }
 },
 "nbformat": 4,
 "nbformat_minor": 2
}
