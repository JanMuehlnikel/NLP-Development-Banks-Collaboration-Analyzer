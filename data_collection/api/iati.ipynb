{
 "cells": [
  {
   "cell_type": "code",
   "execution_count": 2,
   "metadata": {},
   "outputs": [],
   "source": [
    "import requests\n",
    "import json\n",
    "import time\n",
    "from tqdm import tqdm\n",
    "import KEY"
   ]
  },
  {
   "cell_type": "code",
   "execution_count": 33,
   "metadata": {},
   "outputs": [],
   "source": [
    "fl_list = [\n",
    "    \"iati_identifier\",\n",
    "    \"title_narrative\",\n",
    "    \"reporting_org_narrative\",\n",
    "    \"description_narrative_xml_lang\",\n",
    "    \"description_narrative\",\n",
    "    \"recipient_country_code\",\n",
    "    \"recipient_region_code\",\n",
    "    \"location_name_narrative\",\n",
    "    \"activity_status_code\",\n",
    "    \"document_link_url\",\n",
    "    \"last_updated_datetime\",\n",
    "    \"activity_date_type\",\n",
    "    \"activity_date_iso_date\",\n",
    "    \"activity_date_narrative\",\n",
    "    \"sector_code\",\n",
    "    \"sector_narrative\",\n",
    "    \"sector_vocabulary\",\n",
    "    \"tag_code\",\n",
    "    \"tag_narrative\",\n",
    "    \"tag_vocabulary\",\n",
    "    \"policy_marker_code\",\n",
    "    \"policy_marker_narrative\",\n",
    "    \"policy_marker_code\",\n",
    "    \"default_aid_type_code\"\n",
    "]\n",
    "\n",
    "fl_str = \",\".join(fl_list)"
   ]
  },
  {
   "cell_type": "code",
   "execution_count": null,
   "metadata": {},
   "outputs": [
    {
     "name": "stderr",
     "output_type": "stream",
     "text": [
      "Fetching Data:  53%|█████▎    | 52.94/100 [26:22<23:26, 29.89s/it]   "
     ]
    },
    {
     "name": "stdout",
     "output_type": "stream",
     "text": [
      "Error: 403\n",
      "All data fetched from api\n"
     ]
    },
    {
     "name": "stderr",
     "output_type": "stream",
     "text": [
      "\n"
     ]
    },
    {
     "name": "stdout",
     "output_type": "stream",
     "text": [
      "Data downloaded and saved as 'response_data_all.json'\n"
     ]
    }
   ],
   "source": [
    "url = \"https://api.iatistandard.org/datastore/activity/select\"\n",
    "query = {\n",
    "    \"q\": \"*:*\",\n",
    "    \"start\": 0,\n",
    "    \"rows\": 1000,\n",
    "    \"fl\": \"activity_id,title,description\"\n",
    "}\n",
    "\n",
    "headers = {\n",
    "    \"Ocp-Apim-Subscription-Key\": KEY.IATI_KEY\n",
    "}\n",
    "\n",
    "all_data = []  # Initialize an empty list to accumulate all data\n",
    "\n",
    "try:\n",
    "    total_rows = 0\n",
    "    start_index = query[\"start\"]\n",
    "    rows_per_page = query[\"rows\"]\n",
    "    with tqdm(total=100, desc=\"Fetching Data\") as pbar:\n",
    "        while True:\n",
    "            response = requests.get(url, params=query, headers=headers)\n",
    "            if response.status_code != 200:\n",
    "                print(\"Error:\", response.status_code)\n",
    "                break  # Exit the loop if there's an error\n",
    "            data = response.json()\n",
    "            num_found = data.get(\"response\", {}).get(\"numFound\", 0)\n",
    "            total_rows += len(data.get(\"response\", {}).get(\"docs\", []))\n",
    "            all_data.extend(data.get(\"response\", {}).get(\"docs\", []))  # Append data to the list\n",
    "\n",
    "            if total_rows >= num_found:\n",
    "                pbar.update(100 - pbar.n)  # Update progress bar to completion\n",
    "                break  # Stop pagination if all documents are fetched\n",
    "            else:\n",
    "                progress = round(total_rows / num_found * 100, 2)\n",
    "                pbar.update(progress - pbar.n)  # Update progress bar\n",
    "\n",
    "            start_index += rows_per_page\n",
    "            query[\"start\"] = start_index\n",
    "\n",
    "            # Sleep to respect rate limit\n",
    "            time.sleep(0.1)\n",
    "\n",
    "    print(\"All data fetched from api\")\n",
    "\n",
    "    # Dump all accumulated data to a single JSON file\n",
    "    with open(\"response_data_all.json\", \"w\") as file:\n",
    "        json.dump(all_data, file, indent=4)  # Indent for readability\n",
    "    print(\"Data downloaded and saved as 'response_data_all.json'\")\n",
    "except requests.exceptions.RequestException as e:\n",
    "    print(\"Error:\", e)"
   ]
  },
  {
   "cell_type": "code",
   "execution_count": 34,
   "metadata": {},
   "outputs": [
    {
     "name": "stdout",
     "output_type": "stream",
     "text": [
      "Daten heruntergeladen und als 'response_data.json' gespeichert\n"
     ]
    }
   ],
   "source": [
    "url = \"https://api.iatistandard.org/datastore/activity/select\"\n",
    "query = {\n",
    "    \"q\": \"*:*\",\n",
    "    \"start\": 600,\n",
    "    \"rows\": 2,  \n",
    "    \"fl\": fl_str\n",
    "}\n",
    "\n",
    "headers = {\n",
    "    \"Ocp-Apim-Subscription-Key\": \"3a4048a6ae8a401f8111353112cc6fa5\"\n",
    "}\n",
    "\n",
    "try:\n",
    "    response = requests.get(url, params=query, headers=headers)\n",
    "    if response.status_code == 200:\n",
    "        data = response.json()\n",
    "        # Überprüfen, ob Daten vorhanden sind\n",
    "        docs = data.get(\"response\", {}).get(\"docs\", [])\n",
    "        if docs:\n",
    "            # Daten in Datei speichern\n",
    "            with open(\"response_data.json\", \"w\") as file:\n",
    "                json.dump(docs, file, indent=4)\n",
    "            print(\"Daten heruntergeladen und als 'response_data.json' gespeichert\")\n",
    "        else:\n",
    "            print(\"Keine Daten in der Antwort gefunden.\")\n",
    "    else:\n",
    "        print(\"Fehler:\", response.status_code)\n",
    "except requests.exceptions.RequestException as e:\n",
    "    print(\"Fehler:\", e)\n"
   ]
  },
  {
   "cell_type": "code",
   "execution_count": 35,
   "metadata": {},
   "outputs": [
    {
     "name": "stdout",
     "output_type": "stream",
     "text": [
      "Daten heruntergeladen und als 'response_data.csv' gespeichert\n"
     ]
    }
   ],
   "source": [
    "import requests\n",
    "import json\n",
    "import csv\n",
    "\n",
    "url = \"https://api.iatistandard.org/datastore/activity/select\"\n",
    "query = {\n",
    "    \"q\": \"*:*\",\n",
    "    \"start\": 600,\n",
    "    \"rows\": 2,\n",
    "    \"fl\": fl_str\n",
    "}\n",
    "\n",
    "headers = {\n",
    "    \"Ocp-Apim-Subscription-Key\": \"3a4048a6ae8a401f8111353112cc6fa5\"\n",
    "}\n",
    "\n",
    "fl_list = [\n",
    "    \"iati_identifier\",\n",
    "    \"title_narrative\",\n",
    "    \"reporting_org_narrative\",\n",
    "    \"description_narrative_xml_lang\",\n",
    "    \"description_narrative\",\n",
    "    \"recipient_country_code\",\n",
    "    \"recipient_region_code\",\n",
    "    \"location_name_narrative\",\n",
    "    \"activity_status_code\",\n",
    "    \"document_link_url\",\n",
    "    \"last_updated_datetime\",\n",
    "    \"activity_date_type\",\n",
    "    \"activity_date_iso_date\",\n",
    "    \"sector_code\",\n",
    "    \"sector_narrative\",\n",
    "    \"sector_vocabulary\",\n",
    "    \"tag_code\",\n",
    "    \"tag_narrative\",\n",
    "    \"tag_vocabulary\",\n",
    "    \"policy_marker_code\",\n",
    "    \"policy_marker_narrative\",\n",
    "    \"policy_marker_code\",\n",
    "    \"default_aid_type_code\"\n",
    "]\n",
    "\n",
    "fl_str = \",\".join(fl_list)\n",
    "\n",
    "try:\n",
    "    response = requests.get(url, params=query, headers=headers)\n",
    "    if response.status_code == 200:\n",
    "        data = response.json()\n",
    "        # Überprüfen, ob Daten vorhanden sind\n",
    "        docs = data.get(\"response\", {}).get(\"docs\", [])\n",
    "        if docs:\n",
    "            # Daten in Datei speichern\n",
    "            with open(\"response_data.csv\", mode='w', newline='', encoding='utf-8') as file:\n",
    "                writer = csv.DictWriter(file, fieldnames=fl_list)\n",
    "                writer.writeheader()\n",
    "                for doc in docs:\n",
    "                    # Nur die Felder schreiben, die in fl_list enthalten sind\n",
    "                    row = {key: doc.get(key, '') for key in fl_list}\n",
    "                    writer.writerow(row)\n",
    "            print(\"Daten heruntergeladen und als 'response_data.csv' gespeichert\")\n",
    "        else:\n",
    "            print(\"Keine Daten in der Antwort gefunden.\")\n",
    "    else:\n",
    "        print(\"Fehler:\", response.status_code)\n",
    "except requests.exceptions.RequestException as e:\n",
    "    print(\"Fehler:\", e)"
   ]
  }
 ],
 "metadata": {
  "kernelspec": {
   "display_name": "Python 3",
   "language": "python",
   "name": "python3"
  },
  "language_info": {
   "codemirror_mode": {
    "name": "ipython",
    "version": 3
   },
   "file_extension": ".py",
   "mimetype": "text/x-python",
   "name": "python",
   "nbconvert_exporter": "python",
   "pygments_lexer": "ipython3",
   "version": "3.10.0"
  }
 },
 "nbformat": 4,
 "nbformat_minor": 2
}
